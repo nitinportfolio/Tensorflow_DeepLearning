{
  "nbformat": 4,
  "nbformat_minor": 0,
  "metadata": {
    "colab": {
      "name": "05_Predicting_HouseSales_Price_Regression_Using_TensorFlow.ipynb",
      "provenance": [],
      "collapsed_sections": []
    },
    "kernelspec": {
      "name": "python3",
      "display_name": "Python 3"
    },
    "language_info": {
      "name": "python"
    }
  },
  "cells": [
    {
      "cell_type": "code",
      "execution_count": 2,
      "metadata": {
        "colab": {
          "base_uri": "https://localhost:8080/"
        },
        "id": "NBq1E7yV_N2x",
        "outputId": "e6e79da3-e88f-486b-a10b-cb14695470fd"
      },
      "outputs": [
        {
          "output_type": "stream",
          "name": "stdout",
          "text": [
            "Mounted at /content/drive\n"
          ]
        }
      ],
      "source": [
        "from google.colab import drive\n",
        "drive.mount('/content/drive')"
      ]
    },
    {
      "cell_type": "code",
      "source": [
        "import pandas as pd\n",
        "import numpy as np\n",
        "import matplotlib.pyplot as plt\n",
        "import tensorflow as tf"
      ],
      "metadata": {
        "id": "pp-7VCRrAVKi"
      },
      "execution_count": 3,
      "outputs": []
    },
    {
      "cell_type": "markdown",
      "source": [
        "## The Data\n",
        "\n",
        "We will be using data from a Kaggle data set:\n",
        "\n",
        "https://www.kaggle.com/harlfoxem/housesalesprediction\n",
        "\n",
        "#### Feature Columns\n",
        "    \n",
        "* id - Unique ID for each home sold\n",
        "* date - Date of the home sale\n",
        "* price - Price of each home sold\n",
        "* bedrooms - Number of bedrooms\n",
        "* bathrooms - Number of bathrooms, where .5 accounts for a room with a toilet but no shower\n",
        "* sqft_living - Square footage of the apartments interior living space\n",
        "* sqft_lot - Square footage of the land space\n",
        "* floors - Number of floors\n",
        "* waterfront - A dummy variable for whether the apartment was overlooking the waterfront or not\n",
        "* view - An index from 0 to 4 of how good the view of the property was\n",
        "* condition - An index from 1 to 5 on the condition of the apartment,\n",
        "* grade - An index from 1 to 13, where 1-3 falls short of building construction and design, 7 has an average level of construction and design, and 11-13 have a high quality level of construction and design.\n",
        "* sqft_above - The square footage of the interior housing space that is above ground level\n",
        "* sqft_basement - The square footage of the interior housing space that is below ground level\n",
        "* yr_built - The year the house was initially built\n",
        "* yr_renovated - The year of the house’s last renovation\n",
        "* zipcode - What zipcode area the house is in\n",
        "* lat - Lattitude\n",
        "* long - Longitude\n",
        "* sqft_living15 - The square footage of interior housing living space for the nearest 15 neighbors\n",
        "* sqft_lot15 - The square footage of the land lots of the nearest 15 neighbors"
      ],
      "metadata": {
        "id": "SyWOodrpF0SZ"
      }
    },
    {
      "cell_type": "code",
      "source": [
        "house_data = pd.read_csv('/content/drive/MyDrive/DeepLearningExam/data/kc_house_data.csv')"
      ],
      "metadata": {
        "id": "XWDs0_5-BX1u"
      },
      "execution_count": 4,
      "outputs": []
    },
    {
      "cell_type": "code",
      "source": [
        "house_data.head()"
      ],
      "metadata": {
        "colab": {
          "base_uri": "https://localhost:8080/",
          "height": 300
        },
        "id": "RsLGcLrwBfiq",
        "outputId": "e713059d-c240-44c4-eb0e-b9c35f608262"
      },
      "execution_count": 5,
      "outputs": [
        {
          "output_type": "execute_result",
          "data": {
            "text/plain": [
              "           id        date     price  bedrooms  bathrooms  sqft_living  \\\n",
              "0  7129300520  10/13/2014  221900.0         3       1.00         1180   \n",
              "1  6414100192   12/9/2014  538000.0         3       2.25         2570   \n",
              "2  5631500400   2/25/2015  180000.0         2       1.00          770   \n",
              "3  2487200875   12/9/2014  604000.0         4       3.00         1960   \n",
              "4  1954400510   2/18/2015  510000.0         3       2.00         1680   \n",
              "\n",
              "   sqft_lot  floors  waterfront  view  ...  grade  sqft_above  sqft_basement  \\\n",
              "0      5650     1.0           0     0  ...      7        1180              0   \n",
              "1      7242     2.0           0     0  ...      7        2170            400   \n",
              "2     10000     1.0           0     0  ...      6         770              0   \n",
              "3      5000     1.0           0     0  ...      7        1050            910   \n",
              "4      8080     1.0           0     0  ...      8        1680              0   \n",
              "\n",
              "   yr_built  yr_renovated  zipcode      lat     long  sqft_living15  \\\n",
              "0      1955             0    98178  47.5112 -122.257           1340   \n",
              "1      1951          1991    98125  47.7210 -122.319           1690   \n",
              "2      1933             0    98028  47.7379 -122.233           2720   \n",
              "3      1965             0    98136  47.5208 -122.393           1360   \n",
              "4      1987             0    98074  47.6168 -122.045           1800   \n",
              "\n",
              "   sqft_lot15  \n",
              "0        5650  \n",
              "1        7639  \n",
              "2        8062  \n",
              "3        5000  \n",
              "4        7503  \n",
              "\n",
              "[5 rows x 21 columns]"
            ],
            "text/html": [
              "\n",
              "  <div id=\"df-195f9811-bb95-4eef-a67d-c49cc4a40e5d\">\n",
              "    <div class=\"colab-df-container\">\n",
              "      <div>\n",
              "<style scoped>\n",
              "    .dataframe tbody tr th:only-of-type {\n",
              "        vertical-align: middle;\n",
              "    }\n",
              "\n",
              "    .dataframe tbody tr th {\n",
              "        vertical-align: top;\n",
              "    }\n",
              "\n",
              "    .dataframe thead th {\n",
              "        text-align: right;\n",
              "    }\n",
              "</style>\n",
              "<table border=\"1\" class=\"dataframe\">\n",
              "  <thead>\n",
              "    <tr style=\"text-align: right;\">\n",
              "      <th></th>\n",
              "      <th>id</th>\n",
              "      <th>date</th>\n",
              "      <th>price</th>\n",
              "      <th>bedrooms</th>\n",
              "      <th>bathrooms</th>\n",
              "      <th>sqft_living</th>\n",
              "      <th>sqft_lot</th>\n",
              "      <th>floors</th>\n",
              "      <th>waterfront</th>\n",
              "      <th>view</th>\n",
              "      <th>...</th>\n",
              "      <th>grade</th>\n",
              "      <th>sqft_above</th>\n",
              "      <th>sqft_basement</th>\n",
              "      <th>yr_built</th>\n",
              "      <th>yr_renovated</th>\n",
              "      <th>zipcode</th>\n",
              "      <th>lat</th>\n",
              "      <th>long</th>\n",
              "      <th>sqft_living15</th>\n",
              "      <th>sqft_lot15</th>\n",
              "    </tr>\n",
              "  </thead>\n",
              "  <tbody>\n",
              "    <tr>\n",
              "      <th>0</th>\n",
              "      <td>7129300520</td>\n",
              "      <td>10/13/2014</td>\n",
              "      <td>221900.0</td>\n",
              "      <td>3</td>\n",
              "      <td>1.00</td>\n",
              "      <td>1180</td>\n",
              "      <td>5650</td>\n",
              "      <td>1.0</td>\n",
              "      <td>0</td>\n",
              "      <td>0</td>\n",
              "      <td>...</td>\n",
              "      <td>7</td>\n",
              "      <td>1180</td>\n",
              "      <td>0</td>\n",
              "      <td>1955</td>\n",
              "      <td>0</td>\n",
              "      <td>98178</td>\n",
              "      <td>47.5112</td>\n",
              "      <td>-122.257</td>\n",
              "      <td>1340</td>\n",
              "      <td>5650</td>\n",
              "    </tr>\n",
              "    <tr>\n",
              "      <th>1</th>\n",
              "      <td>6414100192</td>\n",
              "      <td>12/9/2014</td>\n",
              "      <td>538000.0</td>\n",
              "      <td>3</td>\n",
              "      <td>2.25</td>\n",
              "      <td>2570</td>\n",
              "      <td>7242</td>\n",
              "      <td>2.0</td>\n",
              "      <td>0</td>\n",
              "      <td>0</td>\n",
              "      <td>...</td>\n",
              "      <td>7</td>\n",
              "      <td>2170</td>\n",
              "      <td>400</td>\n",
              "      <td>1951</td>\n",
              "      <td>1991</td>\n",
              "      <td>98125</td>\n",
              "      <td>47.7210</td>\n",
              "      <td>-122.319</td>\n",
              "      <td>1690</td>\n",
              "      <td>7639</td>\n",
              "    </tr>\n",
              "    <tr>\n",
              "      <th>2</th>\n",
              "      <td>5631500400</td>\n",
              "      <td>2/25/2015</td>\n",
              "      <td>180000.0</td>\n",
              "      <td>2</td>\n",
              "      <td>1.00</td>\n",
              "      <td>770</td>\n",
              "      <td>10000</td>\n",
              "      <td>1.0</td>\n",
              "      <td>0</td>\n",
              "      <td>0</td>\n",
              "      <td>...</td>\n",
              "      <td>6</td>\n",
              "      <td>770</td>\n",
              "      <td>0</td>\n",
              "      <td>1933</td>\n",
              "      <td>0</td>\n",
              "      <td>98028</td>\n",
              "      <td>47.7379</td>\n",
              "      <td>-122.233</td>\n",
              "      <td>2720</td>\n",
              "      <td>8062</td>\n",
              "    </tr>\n",
              "    <tr>\n",
              "      <th>3</th>\n",
              "      <td>2487200875</td>\n",
              "      <td>12/9/2014</td>\n",
              "      <td>604000.0</td>\n",
              "      <td>4</td>\n",
              "      <td>3.00</td>\n",
              "      <td>1960</td>\n",
              "      <td>5000</td>\n",
              "      <td>1.0</td>\n",
              "      <td>0</td>\n",
              "      <td>0</td>\n",
              "      <td>...</td>\n",
              "      <td>7</td>\n",
              "      <td>1050</td>\n",
              "      <td>910</td>\n",
              "      <td>1965</td>\n",
              "      <td>0</td>\n",
              "      <td>98136</td>\n",
              "      <td>47.5208</td>\n",
              "      <td>-122.393</td>\n",
              "      <td>1360</td>\n",
              "      <td>5000</td>\n",
              "    </tr>\n",
              "    <tr>\n",
              "      <th>4</th>\n",
              "      <td>1954400510</td>\n",
              "      <td>2/18/2015</td>\n",
              "      <td>510000.0</td>\n",
              "      <td>3</td>\n",
              "      <td>2.00</td>\n",
              "      <td>1680</td>\n",
              "      <td>8080</td>\n",
              "      <td>1.0</td>\n",
              "      <td>0</td>\n",
              "      <td>0</td>\n",
              "      <td>...</td>\n",
              "      <td>8</td>\n",
              "      <td>1680</td>\n",
              "      <td>0</td>\n",
              "      <td>1987</td>\n",
              "      <td>0</td>\n",
              "      <td>98074</td>\n",
              "      <td>47.6168</td>\n",
              "      <td>-122.045</td>\n",
              "      <td>1800</td>\n",
              "      <td>7503</td>\n",
              "    </tr>\n",
              "  </tbody>\n",
              "</table>\n",
              "<p>5 rows × 21 columns</p>\n",
              "</div>\n",
              "      <button class=\"colab-df-convert\" onclick=\"convertToInteractive('df-195f9811-bb95-4eef-a67d-c49cc4a40e5d')\"\n",
              "              title=\"Convert this dataframe to an interactive table.\"\n",
              "              style=\"display:none;\">\n",
              "        \n",
              "  <svg xmlns=\"http://www.w3.org/2000/svg\" height=\"24px\"viewBox=\"0 0 24 24\"\n",
              "       width=\"24px\">\n",
              "    <path d=\"M0 0h24v24H0V0z\" fill=\"none\"/>\n",
              "    <path d=\"M18.56 5.44l.94 2.06.94-2.06 2.06-.94-2.06-.94-.94-2.06-.94 2.06-2.06.94zm-11 1L8.5 8.5l.94-2.06 2.06-.94-2.06-.94L8.5 2.5l-.94 2.06-2.06.94zm10 10l.94 2.06.94-2.06 2.06-.94-2.06-.94-.94-2.06-.94 2.06-2.06.94z\"/><path d=\"M17.41 7.96l-1.37-1.37c-.4-.4-.92-.59-1.43-.59-.52 0-1.04.2-1.43.59L10.3 9.45l-7.72 7.72c-.78.78-.78 2.05 0 2.83L4 21.41c.39.39.9.59 1.41.59.51 0 1.02-.2 1.41-.59l7.78-7.78 2.81-2.81c.8-.78.8-2.07 0-2.86zM5.41 20L4 18.59l7.72-7.72 1.47 1.35L5.41 20z\"/>\n",
              "  </svg>\n",
              "      </button>\n",
              "      \n",
              "  <style>\n",
              "    .colab-df-container {\n",
              "      display:flex;\n",
              "      flex-wrap:wrap;\n",
              "      gap: 12px;\n",
              "    }\n",
              "\n",
              "    .colab-df-convert {\n",
              "      background-color: #E8F0FE;\n",
              "      border: none;\n",
              "      border-radius: 50%;\n",
              "      cursor: pointer;\n",
              "      display: none;\n",
              "      fill: #1967D2;\n",
              "      height: 32px;\n",
              "      padding: 0 0 0 0;\n",
              "      width: 32px;\n",
              "    }\n",
              "\n",
              "    .colab-df-convert:hover {\n",
              "      background-color: #E2EBFA;\n",
              "      box-shadow: 0px 1px 2px rgba(60, 64, 67, 0.3), 0px 1px 3px 1px rgba(60, 64, 67, 0.15);\n",
              "      fill: #174EA6;\n",
              "    }\n",
              "\n",
              "    [theme=dark] .colab-df-convert {\n",
              "      background-color: #3B4455;\n",
              "      fill: #D2E3FC;\n",
              "    }\n",
              "\n",
              "    [theme=dark] .colab-df-convert:hover {\n",
              "      background-color: #434B5C;\n",
              "      box-shadow: 0px 1px 3px 1px rgba(0, 0, 0, 0.15);\n",
              "      filter: drop-shadow(0px 1px 2px rgba(0, 0, 0, 0.3));\n",
              "      fill: #FFFFFF;\n",
              "    }\n",
              "  </style>\n",
              "\n",
              "      <script>\n",
              "        const buttonEl =\n",
              "          document.querySelector('#df-195f9811-bb95-4eef-a67d-c49cc4a40e5d button.colab-df-convert');\n",
              "        buttonEl.style.display =\n",
              "          google.colab.kernel.accessAllowed ? 'block' : 'none';\n",
              "\n",
              "        async function convertToInteractive(key) {\n",
              "          const element = document.querySelector('#df-195f9811-bb95-4eef-a67d-c49cc4a40e5d');\n",
              "          const dataTable =\n",
              "            await google.colab.kernel.invokeFunction('convertToInteractive',\n",
              "                                                     [key], {});\n",
              "          if (!dataTable) return;\n",
              "\n",
              "          const docLinkHtml = 'Like what you see? Visit the ' +\n",
              "            '<a target=\"_blank\" href=https://colab.research.google.com/notebooks/data_table.ipynb>data table notebook</a>'\n",
              "            + ' to learn more about interactive tables.';\n",
              "          element.innerHTML = '';\n",
              "          dataTable['output_type'] = 'display_data';\n",
              "          await google.colab.output.renderOutput(dataTable, element);\n",
              "          const docLink = document.createElement('div');\n",
              "          docLink.innerHTML = docLinkHtml;\n",
              "          element.appendChild(docLink);\n",
              "        }\n",
              "      </script>\n",
              "    </div>\n",
              "  </div>\n",
              "  "
            ]
          },
          "metadata": {},
          "execution_count": 5
        }
      ]
    },
    {
      "cell_type": "code",
      "source": [
        "house_data.shape"
      ],
      "metadata": {
        "colab": {
          "base_uri": "https://localhost:8080/"
        },
        "id": "B7hgWZxHBh9u",
        "outputId": "b14fda18-fabf-4553-c9de-d66c0cc99fad"
      },
      "execution_count": 6,
      "outputs": [
        {
          "output_type": "execute_result",
          "data": {
            "text/plain": [
              "(21597, 21)"
            ]
          },
          "metadata": {},
          "execution_count": 6
        }
      ]
    },
    {
      "cell_type": "code",
      "source": [
        "house_data.info()"
      ],
      "metadata": {
        "colab": {
          "base_uri": "https://localhost:8080/"
        },
        "id": "ghabedOBBlOL",
        "outputId": "2843569b-5fd7-44a9-d765-f439eb00c562"
      },
      "execution_count": 7,
      "outputs": [
        {
          "output_type": "stream",
          "name": "stdout",
          "text": [
            "<class 'pandas.core.frame.DataFrame'>\n",
            "RangeIndex: 21597 entries, 0 to 21596\n",
            "Data columns (total 21 columns):\n",
            " #   Column         Non-Null Count  Dtype  \n",
            "---  ------         --------------  -----  \n",
            " 0   id             21597 non-null  int64  \n",
            " 1   date           21597 non-null  object \n",
            " 2   price          21597 non-null  float64\n",
            " 3   bedrooms       21597 non-null  int64  \n",
            " 4   bathrooms      21597 non-null  float64\n",
            " 5   sqft_living    21597 non-null  int64  \n",
            " 6   sqft_lot       21597 non-null  int64  \n",
            " 7   floors         21597 non-null  float64\n",
            " 8   waterfront     21597 non-null  int64  \n",
            " 9   view           21597 non-null  int64  \n",
            " 10  condition      21597 non-null  int64  \n",
            " 11  grade          21597 non-null  int64  \n",
            " 12  sqft_above     21597 non-null  int64  \n",
            " 13  sqft_basement  21597 non-null  int64  \n",
            " 14  yr_built       21597 non-null  int64  \n",
            " 15  yr_renovated   21597 non-null  int64  \n",
            " 16  zipcode        21597 non-null  int64  \n",
            " 17  lat            21597 non-null  float64\n",
            " 18  long           21597 non-null  float64\n",
            " 19  sqft_living15  21597 non-null  int64  \n",
            " 20  sqft_lot15     21597 non-null  int64  \n",
            "dtypes: float64(5), int64(15), object(1)\n",
            "memory usage: 3.5+ MB\n"
          ]
        }
      ]
    },
    {
      "cell_type": "code",
      "source": [
        "house_data.head(2).T"
      ],
      "metadata": {
        "colab": {
          "base_uri": "https://localhost:8080/",
          "height": 708
        },
        "id": "0Ry-T6Y67WPg",
        "outputId": "15b43590-aaf9-4888-d9be-9c3029c4e33c"
      },
      "execution_count": 8,
      "outputs": [
        {
          "output_type": "execute_result",
          "data": {
            "text/plain": [
              "                        0           1\n",
              "id             7129300520  6414100192\n",
              "date           10/13/2014   12/9/2014\n",
              "price            221900.0    538000.0\n",
              "bedrooms                3           3\n",
              "bathrooms             1.0        2.25\n",
              "sqft_living          1180        2570\n",
              "sqft_lot             5650        7242\n",
              "floors                1.0         2.0\n",
              "waterfront              0           0\n",
              "view                    0           0\n",
              "condition               3           3\n",
              "grade                   7           7\n",
              "sqft_above           1180        2170\n",
              "sqft_basement           0         400\n",
              "yr_built             1955        1951\n",
              "yr_renovated            0        1991\n",
              "zipcode             98178       98125\n",
              "lat               47.5112      47.721\n",
              "long             -122.257    -122.319\n",
              "sqft_living15        1340        1690\n",
              "sqft_lot15           5650        7639"
            ],
            "text/html": [
              "\n",
              "  <div id=\"df-54987f79-3795-4d50-9a80-a6ea84a6e0ff\">\n",
              "    <div class=\"colab-df-container\">\n",
              "      <div>\n",
              "<style scoped>\n",
              "    .dataframe tbody tr th:only-of-type {\n",
              "        vertical-align: middle;\n",
              "    }\n",
              "\n",
              "    .dataframe tbody tr th {\n",
              "        vertical-align: top;\n",
              "    }\n",
              "\n",
              "    .dataframe thead th {\n",
              "        text-align: right;\n",
              "    }\n",
              "</style>\n",
              "<table border=\"1\" class=\"dataframe\">\n",
              "  <thead>\n",
              "    <tr style=\"text-align: right;\">\n",
              "      <th></th>\n",
              "      <th>0</th>\n",
              "      <th>1</th>\n",
              "    </tr>\n",
              "  </thead>\n",
              "  <tbody>\n",
              "    <tr>\n",
              "      <th>id</th>\n",
              "      <td>7129300520</td>\n",
              "      <td>6414100192</td>\n",
              "    </tr>\n",
              "    <tr>\n",
              "      <th>date</th>\n",
              "      <td>10/13/2014</td>\n",
              "      <td>12/9/2014</td>\n",
              "    </tr>\n",
              "    <tr>\n",
              "      <th>price</th>\n",
              "      <td>221900.0</td>\n",
              "      <td>538000.0</td>\n",
              "    </tr>\n",
              "    <tr>\n",
              "      <th>bedrooms</th>\n",
              "      <td>3</td>\n",
              "      <td>3</td>\n",
              "    </tr>\n",
              "    <tr>\n",
              "      <th>bathrooms</th>\n",
              "      <td>1.0</td>\n",
              "      <td>2.25</td>\n",
              "    </tr>\n",
              "    <tr>\n",
              "      <th>sqft_living</th>\n",
              "      <td>1180</td>\n",
              "      <td>2570</td>\n",
              "    </tr>\n",
              "    <tr>\n",
              "      <th>sqft_lot</th>\n",
              "      <td>5650</td>\n",
              "      <td>7242</td>\n",
              "    </tr>\n",
              "    <tr>\n",
              "      <th>floors</th>\n",
              "      <td>1.0</td>\n",
              "      <td>2.0</td>\n",
              "    </tr>\n",
              "    <tr>\n",
              "      <th>waterfront</th>\n",
              "      <td>0</td>\n",
              "      <td>0</td>\n",
              "    </tr>\n",
              "    <tr>\n",
              "      <th>view</th>\n",
              "      <td>0</td>\n",
              "      <td>0</td>\n",
              "    </tr>\n",
              "    <tr>\n",
              "      <th>condition</th>\n",
              "      <td>3</td>\n",
              "      <td>3</td>\n",
              "    </tr>\n",
              "    <tr>\n",
              "      <th>grade</th>\n",
              "      <td>7</td>\n",
              "      <td>7</td>\n",
              "    </tr>\n",
              "    <tr>\n",
              "      <th>sqft_above</th>\n",
              "      <td>1180</td>\n",
              "      <td>2170</td>\n",
              "    </tr>\n",
              "    <tr>\n",
              "      <th>sqft_basement</th>\n",
              "      <td>0</td>\n",
              "      <td>400</td>\n",
              "    </tr>\n",
              "    <tr>\n",
              "      <th>yr_built</th>\n",
              "      <td>1955</td>\n",
              "      <td>1951</td>\n",
              "    </tr>\n",
              "    <tr>\n",
              "      <th>yr_renovated</th>\n",
              "      <td>0</td>\n",
              "      <td>1991</td>\n",
              "    </tr>\n",
              "    <tr>\n",
              "      <th>zipcode</th>\n",
              "      <td>98178</td>\n",
              "      <td>98125</td>\n",
              "    </tr>\n",
              "    <tr>\n",
              "      <th>lat</th>\n",
              "      <td>47.5112</td>\n",
              "      <td>47.721</td>\n",
              "    </tr>\n",
              "    <tr>\n",
              "      <th>long</th>\n",
              "      <td>-122.257</td>\n",
              "      <td>-122.319</td>\n",
              "    </tr>\n",
              "    <tr>\n",
              "      <th>sqft_living15</th>\n",
              "      <td>1340</td>\n",
              "      <td>1690</td>\n",
              "    </tr>\n",
              "    <tr>\n",
              "      <th>sqft_lot15</th>\n",
              "      <td>5650</td>\n",
              "      <td>7639</td>\n",
              "    </tr>\n",
              "  </tbody>\n",
              "</table>\n",
              "</div>\n",
              "      <button class=\"colab-df-convert\" onclick=\"convertToInteractive('df-54987f79-3795-4d50-9a80-a6ea84a6e0ff')\"\n",
              "              title=\"Convert this dataframe to an interactive table.\"\n",
              "              style=\"display:none;\">\n",
              "        \n",
              "  <svg xmlns=\"http://www.w3.org/2000/svg\" height=\"24px\"viewBox=\"0 0 24 24\"\n",
              "       width=\"24px\">\n",
              "    <path d=\"M0 0h24v24H0V0z\" fill=\"none\"/>\n",
              "    <path d=\"M18.56 5.44l.94 2.06.94-2.06 2.06-.94-2.06-.94-.94-2.06-.94 2.06-2.06.94zm-11 1L8.5 8.5l.94-2.06 2.06-.94-2.06-.94L8.5 2.5l-.94 2.06-2.06.94zm10 10l.94 2.06.94-2.06 2.06-.94-2.06-.94-.94-2.06-.94 2.06-2.06.94z\"/><path d=\"M17.41 7.96l-1.37-1.37c-.4-.4-.92-.59-1.43-.59-.52 0-1.04.2-1.43.59L10.3 9.45l-7.72 7.72c-.78.78-.78 2.05 0 2.83L4 21.41c.39.39.9.59 1.41.59.51 0 1.02-.2 1.41-.59l7.78-7.78 2.81-2.81c.8-.78.8-2.07 0-2.86zM5.41 20L4 18.59l7.72-7.72 1.47 1.35L5.41 20z\"/>\n",
              "  </svg>\n",
              "      </button>\n",
              "      \n",
              "  <style>\n",
              "    .colab-df-container {\n",
              "      display:flex;\n",
              "      flex-wrap:wrap;\n",
              "      gap: 12px;\n",
              "    }\n",
              "\n",
              "    .colab-df-convert {\n",
              "      background-color: #E8F0FE;\n",
              "      border: none;\n",
              "      border-radius: 50%;\n",
              "      cursor: pointer;\n",
              "      display: none;\n",
              "      fill: #1967D2;\n",
              "      height: 32px;\n",
              "      padding: 0 0 0 0;\n",
              "      width: 32px;\n",
              "    }\n",
              "\n",
              "    .colab-df-convert:hover {\n",
              "      background-color: #E2EBFA;\n",
              "      box-shadow: 0px 1px 2px rgba(60, 64, 67, 0.3), 0px 1px 3px 1px rgba(60, 64, 67, 0.15);\n",
              "      fill: #174EA6;\n",
              "    }\n",
              "\n",
              "    [theme=dark] .colab-df-convert {\n",
              "      background-color: #3B4455;\n",
              "      fill: #D2E3FC;\n",
              "    }\n",
              "\n",
              "    [theme=dark] .colab-df-convert:hover {\n",
              "      background-color: #434B5C;\n",
              "      box-shadow: 0px 1px 3px 1px rgba(0, 0, 0, 0.15);\n",
              "      filter: drop-shadow(0px 1px 2px rgba(0, 0, 0, 0.3));\n",
              "      fill: #FFFFFF;\n",
              "    }\n",
              "  </style>\n",
              "\n",
              "      <script>\n",
              "        const buttonEl =\n",
              "          document.querySelector('#df-54987f79-3795-4d50-9a80-a6ea84a6e0ff button.colab-df-convert');\n",
              "        buttonEl.style.display =\n",
              "          google.colab.kernel.accessAllowed ? 'block' : 'none';\n",
              "\n",
              "        async function convertToInteractive(key) {\n",
              "          const element = document.querySelector('#df-54987f79-3795-4d50-9a80-a6ea84a6e0ff');\n",
              "          const dataTable =\n",
              "            await google.colab.kernel.invokeFunction('convertToInteractive',\n",
              "                                                     [key], {});\n",
              "          if (!dataTable) return;\n",
              "\n",
              "          const docLinkHtml = 'Like what you see? Visit the ' +\n",
              "            '<a target=\"_blank\" href=https://colab.research.google.com/notebooks/data_table.ipynb>data table notebook</a>'\n",
              "            + ' to learn more about interactive tables.';\n",
              "          element.innerHTML = '';\n",
              "          dataTable['output_type'] = 'display_data';\n",
              "          await google.colab.output.renderOutput(dataTable, element);\n",
              "          const docLink = document.createElement('div');\n",
              "          docLink.innerHTML = docLinkHtml;\n",
              "          element.appendChild(docLink);\n",
              "        }\n",
              "      </script>\n",
              "    </div>\n",
              "  </div>\n",
              "  "
            ]
          },
          "metadata": {},
          "execution_count": 8
        }
      ]
    },
    {
      "cell_type": "code",
      "source": [
        "house_data = house_data.drop(['id','date','yr_built','yr_renovated','lat','long'], axis = 1)"
      ],
      "metadata": {
        "id": "t22ZOqbJ74Bu"
      },
      "execution_count": 9,
      "outputs": []
    },
    {
      "cell_type": "code",
      "source": [
        "house_data.head().T"
      ],
      "metadata": {
        "colab": {
          "base_uri": "https://localhost:8080/",
          "height": 520
        },
        "id": "vF1J8P5k8ttV",
        "outputId": "e263204d-4c50-405b-b05b-f0ee25de65a6"
      },
      "execution_count": 10,
      "outputs": [
        {
          "output_type": "execute_result",
          "data": {
            "text/plain": [
              "                      0          1         2         3         4\n",
              "price          221900.0  538000.00  180000.0  604000.0  510000.0\n",
              "bedrooms            3.0       3.00       2.0       4.0       3.0\n",
              "bathrooms           1.0       2.25       1.0       3.0       2.0\n",
              "sqft_living      1180.0    2570.00     770.0    1960.0    1680.0\n",
              "sqft_lot         5650.0    7242.00   10000.0    5000.0    8080.0\n",
              "floors              1.0       2.00       1.0       1.0       1.0\n",
              "waterfront          0.0       0.00       0.0       0.0       0.0\n",
              "view                0.0       0.00       0.0       0.0       0.0\n",
              "condition           3.0       3.00       3.0       5.0       3.0\n",
              "grade               7.0       7.00       6.0       7.0       8.0\n",
              "sqft_above       1180.0    2170.00     770.0    1050.0    1680.0\n",
              "sqft_basement       0.0     400.00       0.0     910.0       0.0\n",
              "zipcode         98178.0   98125.00   98028.0   98136.0   98074.0\n",
              "sqft_living15    1340.0    1690.00    2720.0    1360.0    1800.0\n",
              "sqft_lot15       5650.0    7639.00    8062.0    5000.0    7503.0"
            ],
            "text/html": [
              "\n",
              "  <div id=\"df-8551409e-50ae-4ad9-8506-2e792cae88f8\">\n",
              "    <div class=\"colab-df-container\">\n",
              "      <div>\n",
              "<style scoped>\n",
              "    .dataframe tbody tr th:only-of-type {\n",
              "        vertical-align: middle;\n",
              "    }\n",
              "\n",
              "    .dataframe tbody tr th {\n",
              "        vertical-align: top;\n",
              "    }\n",
              "\n",
              "    .dataframe thead th {\n",
              "        text-align: right;\n",
              "    }\n",
              "</style>\n",
              "<table border=\"1\" class=\"dataframe\">\n",
              "  <thead>\n",
              "    <tr style=\"text-align: right;\">\n",
              "      <th></th>\n",
              "      <th>0</th>\n",
              "      <th>1</th>\n",
              "      <th>2</th>\n",
              "      <th>3</th>\n",
              "      <th>4</th>\n",
              "    </tr>\n",
              "  </thead>\n",
              "  <tbody>\n",
              "    <tr>\n",
              "      <th>price</th>\n",
              "      <td>221900.0</td>\n",
              "      <td>538000.00</td>\n",
              "      <td>180000.0</td>\n",
              "      <td>604000.0</td>\n",
              "      <td>510000.0</td>\n",
              "    </tr>\n",
              "    <tr>\n",
              "      <th>bedrooms</th>\n",
              "      <td>3.0</td>\n",
              "      <td>3.00</td>\n",
              "      <td>2.0</td>\n",
              "      <td>4.0</td>\n",
              "      <td>3.0</td>\n",
              "    </tr>\n",
              "    <tr>\n",
              "      <th>bathrooms</th>\n",
              "      <td>1.0</td>\n",
              "      <td>2.25</td>\n",
              "      <td>1.0</td>\n",
              "      <td>3.0</td>\n",
              "      <td>2.0</td>\n",
              "    </tr>\n",
              "    <tr>\n",
              "      <th>sqft_living</th>\n",
              "      <td>1180.0</td>\n",
              "      <td>2570.00</td>\n",
              "      <td>770.0</td>\n",
              "      <td>1960.0</td>\n",
              "      <td>1680.0</td>\n",
              "    </tr>\n",
              "    <tr>\n",
              "      <th>sqft_lot</th>\n",
              "      <td>5650.0</td>\n",
              "      <td>7242.00</td>\n",
              "      <td>10000.0</td>\n",
              "      <td>5000.0</td>\n",
              "      <td>8080.0</td>\n",
              "    </tr>\n",
              "    <tr>\n",
              "      <th>floors</th>\n",
              "      <td>1.0</td>\n",
              "      <td>2.00</td>\n",
              "      <td>1.0</td>\n",
              "      <td>1.0</td>\n",
              "      <td>1.0</td>\n",
              "    </tr>\n",
              "    <tr>\n",
              "      <th>waterfront</th>\n",
              "      <td>0.0</td>\n",
              "      <td>0.00</td>\n",
              "      <td>0.0</td>\n",
              "      <td>0.0</td>\n",
              "      <td>0.0</td>\n",
              "    </tr>\n",
              "    <tr>\n",
              "      <th>view</th>\n",
              "      <td>0.0</td>\n",
              "      <td>0.00</td>\n",
              "      <td>0.0</td>\n",
              "      <td>0.0</td>\n",
              "      <td>0.0</td>\n",
              "    </tr>\n",
              "    <tr>\n",
              "      <th>condition</th>\n",
              "      <td>3.0</td>\n",
              "      <td>3.00</td>\n",
              "      <td>3.0</td>\n",
              "      <td>5.0</td>\n",
              "      <td>3.0</td>\n",
              "    </tr>\n",
              "    <tr>\n",
              "      <th>grade</th>\n",
              "      <td>7.0</td>\n",
              "      <td>7.00</td>\n",
              "      <td>6.0</td>\n",
              "      <td>7.0</td>\n",
              "      <td>8.0</td>\n",
              "    </tr>\n",
              "    <tr>\n",
              "      <th>sqft_above</th>\n",
              "      <td>1180.0</td>\n",
              "      <td>2170.00</td>\n",
              "      <td>770.0</td>\n",
              "      <td>1050.0</td>\n",
              "      <td>1680.0</td>\n",
              "    </tr>\n",
              "    <tr>\n",
              "      <th>sqft_basement</th>\n",
              "      <td>0.0</td>\n",
              "      <td>400.00</td>\n",
              "      <td>0.0</td>\n",
              "      <td>910.0</td>\n",
              "      <td>0.0</td>\n",
              "    </tr>\n",
              "    <tr>\n",
              "      <th>zipcode</th>\n",
              "      <td>98178.0</td>\n",
              "      <td>98125.00</td>\n",
              "      <td>98028.0</td>\n",
              "      <td>98136.0</td>\n",
              "      <td>98074.0</td>\n",
              "    </tr>\n",
              "    <tr>\n",
              "      <th>sqft_living15</th>\n",
              "      <td>1340.0</td>\n",
              "      <td>1690.00</td>\n",
              "      <td>2720.0</td>\n",
              "      <td>1360.0</td>\n",
              "      <td>1800.0</td>\n",
              "    </tr>\n",
              "    <tr>\n",
              "      <th>sqft_lot15</th>\n",
              "      <td>5650.0</td>\n",
              "      <td>7639.00</td>\n",
              "      <td>8062.0</td>\n",
              "      <td>5000.0</td>\n",
              "      <td>7503.0</td>\n",
              "    </tr>\n",
              "  </tbody>\n",
              "</table>\n",
              "</div>\n",
              "      <button class=\"colab-df-convert\" onclick=\"convertToInteractive('df-8551409e-50ae-4ad9-8506-2e792cae88f8')\"\n",
              "              title=\"Convert this dataframe to an interactive table.\"\n",
              "              style=\"display:none;\">\n",
              "        \n",
              "  <svg xmlns=\"http://www.w3.org/2000/svg\" height=\"24px\"viewBox=\"0 0 24 24\"\n",
              "       width=\"24px\">\n",
              "    <path d=\"M0 0h24v24H0V0z\" fill=\"none\"/>\n",
              "    <path d=\"M18.56 5.44l.94 2.06.94-2.06 2.06-.94-2.06-.94-.94-2.06-.94 2.06-2.06.94zm-11 1L8.5 8.5l.94-2.06 2.06-.94-2.06-.94L8.5 2.5l-.94 2.06-2.06.94zm10 10l.94 2.06.94-2.06 2.06-.94-2.06-.94-.94-2.06-.94 2.06-2.06.94z\"/><path d=\"M17.41 7.96l-1.37-1.37c-.4-.4-.92-.59-1.43-.59-.52 0-1.04.2-1.43.59L10.3 9.45l-7.72 7.72c-.78.78-.78 2.05 0 2.83L4 21.41c.39.39.9.59 1.41.59.51 0 1.02-.2 1.41-.59l7.78-7.78 2.81-2.81c.8-.78.8-2.07 0-2.86zM5.41 20L4 18.59l7.72-7.72 1.47 1.35L5.41 20z\"/>\n",
              "  </svg>\n",
              "      </button>\n",
              "      \n",
              "  <style>\n",
              "    .colab-df-container {\n",
              "      display:flex;\n",
              "      flex-wrap:wrap;\n",
              "      gap: 12px;\n",
              "    }\n",
              "\n",
              "    .colab-df-convert {\n",
              "      background-color: #E8F0FE;\n",
              "      border: none;\n",
              "      border-radius: 50%;\n",
              "      cursor: pointer;\n",
              "      display: none;\n",
              "      fill: #1967D2;\n",
              "      height: 32px;\n",
              "      padding: 0 0 0 0;\n",
              "      width: 32px;\n",
              "    }\n",
              "\n",
              "    .colab-df-convert:hover {\n",
              "      background-color: #E2EBFA;\n",
              "      box-shadow: 0px 1px 2px rgba(60, 64, 67, 0.3), 0px 1px 3px 1px rgba(60, 64, 67, 0.15);\n",
              "      fill: #174EA6;\n",
              "    }\n",
              "\n",
              "    [theme=dark] .colab-df-convert {\n",
              "      background-color: #3B4455;\n",
              "      fill: #D2E3FC;\n",
              "    }\n",
              "\n",
              "    [theme=dark] .colab-df-convert:hover {\n",
              "      background-color: #434B5C;\n",
              "      box-shadow: 0px 1px 3px 1px rgba(0, 0, 0, 0.15);\n",
              "      filter: drop-shadow(0px 1px 2px rgba(0, 0, 0, 0.3));\n",
              "      fill: #FFFFFF;\n",
              "    }\n",
              "  </style>\n",
              "\n",
              "      <script>\n",
              "        const buttonEl =\n",
              "          document.querySelector('#df-8551409e-50ae-4ad9-8506-2e792cae88f8 button.colab-df-convert');\n",
              "        buttonEl.style.display =\n",
              "          google.colab.kernel.accessAllowed ? 'block' : 'none';\n",
              "\n",
              "        async function convertToInteractive(key) {\n",
              "          const element = document.querySelector('#df-8551409e-50ae-4ad9-8506-2e792cae88f8');\n",
              "          const dataTable =\n",
              "            await google.colab.kernel.invokeFunction('convertToInteractive',\n",
              "                                                     [key], {});\n",
              "          if (!dataTable) return;\n",
              "\n",
              "          const docLinkHtml = 'Like what you see? Visit the ' +\n",
              "            '<a target=\"_blank\" href=https://colab.research.google.com/notebooks/data_table.ipynb>data table notebook</a>'\n",
              "            + ' to learn more about interactive tables.';\n",
              "          element.innerHTML = '';\n",
              "          dataTable['output_type'] = 'display_data';\n",
              "          await google.colab.output.renderOutput(dataTable, element);\n",
              "          const docLink = document.createElement('div');\n",
              "          docLink.innerHTML = docLinkHtml;\n",
              "          element.appendChild(docLink);\n",
              "        }\n",
              "      </script>\n",
              "    </div>\n",
              "  </div>\n",
              "  "
            ]
          },
          "metadata": {},
          "execution_count": 10
        }
      ]
    },
    {
      "cell_type": "code",
      "source": [
        "# Numpy Arrray\n",
        "# Min Max Scalar\n",
        "# Split\n",
        "# Model\n",
        "# Visualisation\n",
        "# Evaluation"
      ],
      "metadata": {
        "id": "RMwJ65dt8wK1"
      },
      "execution_count": 11,
      "outputs": []
    },
    {
      "cell_type": "code",
      "source": [
        "house_data.iloc[:,:1]"
      ],
      "metadata": {
        "colab": {
          "base_uri": "https://localhost:8080/",
          "height": 424
        },
        "id": "bi3t69DU9f1a",
        "outputId": "2056f63f-8109-4e80-962a-b2dea8a9d4d4"
      },
      "execution_count": 12,
      "outputs": [
        {
          "output_type": "execute_result",
          "data": {
            "text/plain": [
              "          price\n",
              "0      221900.0\n",
              "1      538000.0\n",
              "2      180000.0\n",
              "3      604000.0\n",
              "4      510000.0\n",
              "...         ...\n",
              "21592  360000.0\n",
              "21593  400000.0\n",
              "21594  402101.0\n",
              "21595  400000.0\n",
              "21596  325000.0\n",
              "\n",
              "[21597 rows x 1 columns]"
            ],
            "text/html": [
              "\n",
              "  <div id=\"df-4c2dbfc7-3a8a-44ba-9362-e7d21871a292\">\n",
              "    <div class=\"colab-df-container\">\n",
              "      <div>\n",
              "<style scoped>\n",
              "    .dataframe tbody tr th:only-of-type {\n",
              "        vertical-align: middle;\n",
              "    }\n",
              "\n",
              "    .dataframe tbody tr th {\n",
              "        vertical-align: top;\n",
              "    }\n",
              "\n",
              "    .dataframe thead th {\n",
              "        text-align: right;\n",
              "    }\n",
              "</style>\n",
              "<table border=\"1\" class=\"dataframe\">\n",
              "  <thead>\n",
              "    <tr style=\"text-align: right;\">\n",
              "      <th></th>\n",
              "      <th>price</th>\n",
              "    </tr>\n",
              "  </thead>\n",
              "  <tbody>\n",
              "    <tr>\n",
              "      <th>0</th>\n",
              "      <td>221900.0</td>\n",
              "    </tr>\n",
              "    <tr>\n",
              "      <th>1</th>\n",
              "      <td>538000.0</td>\n",
              "    </tr>\n",
              "    <tr>\n",
              "      <th>2</th>\n",
              "      <td>180000.0</td>\n",
              "    </tr>\n",
              "    <tr>\n",
              "      <th>3</th>\n",
              "      <td>604000.0</td>\n",
              "    </tr>\n",
              "    <tr>\n",
              "      <th>4</th>\n",
              "      <td>510000.0</td>\n",
              "    </tr>\n",
              "    <tr>\n",
              "      <th>...</th>\n",
              "      <td>...</td>\n",
              "    </tr>\n",
              "    <tr>\n",
              "      <th>21592</th>\n",
              "      <td>360000.0</td>\n",
              "    </tr>\n",
              "    <tr>\n",
              "      <th>21593</th>\n",
              "      <td>400000.0</td>\n",
              "    </tr>\n",
              "    <tr>\n",
              "      <th>21594</th>\n",
              "      <td>402101.0</td>\n",
              "    </tr>\n",
              "    <tr>\n",
              "      <th>21595</th>\n",
              "      <td>400000.0</td>\n",
              "    </tr>\n",
              "    <tr>\n",
              "      <th>21596</th>\n",
              "      <td>325000.0</td>\n",
              "    </tr>\n",
              "  </tbody>\n",
              "</table>\n",
              "<p>21597 rows × 1 columns</p>\n",
              "</div>\n",
              "      <button class=\"colab-df-convert\" onclick=\"convertToInteractive('df-4c2dbfc7-3a8a-44ba-9362-e7d21871a292')\"\n",
              "              title=\"Convert this dataframe to an interactive table.\"\n",
              "              style=\"display:none;\">\n",
              "        \n",
              "  <svg xmlns=\"http://www.w3.org/2000/svg\" height=\"24px\"viewBox=\"0 0 24 24\"\n",
              "       width=\"24px\">\n",
              "    <path d=\"M0 0h24v24H0V0z\" fill=\"none\"/>\n",
              "    <path d=\"M18.56 5.44l.94 2.06.94-2.06 2.06-.94-2.06-.94-.94-2.06-.94 2.06-2.06.94zm-11 1L8.5 8.5l.94-2.06 2.06-.94-2.06-.94L8.5 2.5l-.94 2.06-2.06.94zm10 10l.94 2.06.94-2.06 2.06-.94-2.06-.94-.94-2.06-.94 2.06-2.06.94z\"/><path d=\"M17.41 7.96l-1.37-1.37c-.4-.4-.92-.59-1.43-.59-.52 0-1.04.2-1.43.59L10.3 9.45l-7.72 7.72c-.78.78-.78 2.05 0 2.83L4 21.41c.39.39.9.59 1.41.59.51 0 1.02-.2 1.41-.59l7.78-7.78 2.81-2.81c.8-.78.8-2.07 0-2.86zM5.41 20L4 18.59l7.72-7.72 1.47 1.35L5.41 20z\"/>\n",
              "  </svg>\n",
              "      </button>\n",
              "      \n",
              "  <style>\n",
              "    .colab-df-container {\n",
              "      display:flex;\n",
              "      flex-wrap:wrap;\n",
              "      gap: 12px;\n",
              "    }\n",
              "\n",
              "    .colab-df-convert {\n",
              "      background-color: #E8F0FE;\n",
              "      border: none;\n",
              "      border-radius: 50%;\n",
              "      cursor: pointer;\n",
              "      display: none;\n",
              "      fill: #1967D2;\n",
              "      height: 32px;\n",
              "      padding: 0 0 0 0;\n",
              "      width: 32px;\n",
              "    }\n",
              "\n",
              "    .colab-df-convert:hover {\n",
              "      background-color: #E2EBFA;\n",
              "      box-shadow: 0px 1px 2px rgba(60, 64, 67, 0.3), 0px 1px 3px 1px rgba(60, 64, 67, 0.15);\n",
              "      fill: #174EA6;\n",
              "    }\n",
              "\n",
              "    [theme=dark] .colab-df-convert {\n",
              "      background-color: #3B4455;\n",
              "      fill: #D2E3FC;\n",
              "    }\n",
              "\n",
              "    [theme=dark] .colab-df-convert:hover {\n",
              "      background-color: #434B5C;\n",
              "      box-shadow: 0px 1px 3px 1px rgba(0, 0, 0, 0.15);\n",
              "      filter: drop-shadow(0px 1px 2px rgba(0, 0, 0, 0.3));\n",
              "      fill: #FFFFFF;\n",
              "    }\n",
              "  </style>\n",
              "\n",
              "      <script>\n",
              "        const buttonEl =\n",
              "          document.querySelector('#df-4c2dbfc7-3a8a-44ba-9362-e7d21871a292 button.colab-df-convert');\n",
              "        buttonEl.style.display =\n",
              "          google.colab.kernel.accessAllowed ? 'block' : 'none';\n",
              "\n",
              "        async function convertToInteractive(key) {\n",
              "          const element = document.querySelector('#df-4c2dbfc7-3a8a-44ba-9362-e7d21871a292');\n",
              "          const dataTable =\n",
              "            await google.colab.kernel.invokeFunction('convertToInteractive',\n",
              "                                                     [key], {});\n",
              "          if (!dataTable) return;\n",
              "\n",
              "          const docLinkHtml = 'Like what you see? Visit the ' +\n",
              "            '<a target=\"_blank\" href=https://colab.research.google.com/notebooks/data_table.ipynb>data table notebook</a>'\n",
              "            + ' to learn more about interactive tables.';\n",
              "          element.innerHTML = '';\n",
              "          dataTable['output_type'] = 'display_data';\n",
              "          await google.colab.output.renderOutput(dataTable, element);\n",
              "          const docLink = document.createElement('div');\n",
              "          docLink.innerHTML = docLinkHtml;\n",
              "          element.appendChild(docLink);\n",
              "        }\n",
              "      </script>\n",
              "    </div>\n",
              "  </div>\n",
              "  "
            ]
          },
          "metadata": {},
          "execution_count": 12
        }
      ]
    },
    {
      "cell_type": "code",
      "source": [
        "X = house_data.iloc[:,1:].values\n",
        "y = house_data.iloc[:,:1].values\n"
      ],
      "metadata": {
        "id": "qvsYA3FX9CXi"
      },
      "execution_count": 13,
      "outputs": []
    },
    {
      "cell_type": "code",
      "source": [
        "# Splitting the data into train & test"
      ],
      "metadata": {
        "id": "7ImoVDt39Q8N"
      },
      "execution_count": 14,
      "outputs": []
    },
    {
      "cell_type": "code",
      "source": [
        "from sklearn.model_selection import train_test_split\n",
        "X_train, X_test, y_train, y_test = train_test_split(X, y, test_size = 0.2) "
      ],
      "metadata": {
        "id": "xLAqXsJl-hcx"
      },
      "execution_count": 15,
      "outputs": []
    },
    {
      "cell_type": "code",
      "source": [
        "X_train.shape, X_test.shape, y_train.shape, y_test.shape"
      ],
      "metadata": {
        "colab": {
          "base_uri": "https://localhost:8080/"
        },
        "id": "Ufse2Trb_DWF",
        "outputId": "fb1c7380-d311-4fc1-cf6a-e28982b441c3"
      },
      "execution_count": 16,
      "outputs": [
        {
          "output_type": "execute_result",
          "data": {
            "text/plain": [
              "((17277, 14), (4320, 14), (17277, 1), (4320, 1))"
            ]
          },
          "metadata": {},
          "execution_count": 16
        }
      ]
    },
    {
      "cell_type": "code",
      "source": [
        "# Scalling the data usng minmax scaler"
      ],
      "metadata": {
        "id": "ki8ILpmf_JJW"
      },
      "execution_count": 17,
      "outputs": []
    },
    {
      "cell_type": "code",
      "source": [
        "from sklearn.preprocessing import MinMaxScaler"
      ],
      "metadata": {
        "id": "sekIiYBG_Ofx"
      },
      "execution_count": 18,
      "outputs": []
    },
    {
      "cell_type": "code",
      "source": [
        "scaler_X = MinMaxScaler()\n",
        "scaler_X.fit(X_train) \n",
        "\n",
        "scaler_y = MinMaxScaler()\n",
        "scaler_y.fit(y_train) "
      ],
      "metadata": {
        "colab": {
          "base_uri": "https://localhost:8080/"
        },
        "id": "wahz9N_1_jhW",
        "outputId": "a5725d11-7cf8-4ade-be03-b783e34d3577"
      },
      "execution_count": 19,
      "outputs": [
        {
          "output_type": "execute_result",
          "data": {
            "text/plain": [
              "MinMaxScaler()"
            ]
          },
          "metadata": {},
          "execution_count": 19
        }
      ]
    },
    {
      "cell_type": "code",
      "source": [
        "# transform Independent & target variables\n",
        "X_train = scaler_X.transform(X_train)\n",
        "X_test = scaler_X.transform(X_test)\n",
        "\n",
        "y_train = scaler_y.transform(y_train)\n",
        "y_test = scaler_y.transform(y_test)"
      ],
      "metadata": {
        "id": "np5GDjstAF7G"
      },
      "execution_count": 20,
      "outputs": []
    },
    {
      "cell_type": "code",
      "source": [
        "# Building model\n",
        "model = tf.keras.Sequential([\n",
        "    tf.keras.layers.Dense(32, activation = 'relu'),\n",
        "    tf.keras.layers.Dense(32, activation = 'relu'),\n",
        "    tf.keras.layers.Dense(1, activation = 'linear')\n",
        "])"
      ],
      "metadata": {
        "id": "tKLpQ_oaAlTg"
      },
      "execution_count": 21,
      "outputs": []
    },
    {
      "cell_type": "code",
      "source": [
        "model.compile(loss = tf.keras.losses.mse, optimizer = tf.keras.optimizers.Adam(),\n",
        "              metrics = ['mse'])"
      ],
      "metadata": {
        "id": "daFh5HqpBdwG"
      },
      "execution_count": 22,
      "outputs": []
    },
    {
      "cell_type": "code",
      "source": [
        "model_epochs = model.fit(X_train, y_train, epochs = 20, batch_size=50)"
      ],
      "metadata": {
        "colab": {
          "base_uri": "https://localhost:8080/"
        },
        "id": "1PgNut3QBrj5",
        "outputId": "89ad8fa7-d2b2-4b7b-c014-2fb2422da7b2"
      },
      "execution_count": 23,
      "outputs": [
        {
          "output_type": "stream",
          "name": "stdout",
          "text": [
            "Epoch 1/20\n",
            "346/346 [==============================] - 2s 2ms/step - loss: 0.0021 - mse: 0.0021\n",
            "Epoch 2/20\n",
            "346/346 [==============================] - 1s 2ms/step - loss: 8.4486e-04 - mse: 8.4486e-04\n",
            "Epoch 3/20\n",
            "346/346 [==============================] - 1s 2ms/step - loss: 7.8803e-04 - mse: 7.8803e-04\n",
            "Epoch 4/20\n",
            "346/346 [==============================] - 1s 2ms/step - loss: 7.6061e-04 - mse: 7.6061e-04\n",
            "Epoch 5/20\n",
            "346/346 [==============================] - 1s 2ms/step - loss: 7.3070e-04 - mse: 7.3070e-04\n",
            "Epoch 6/20\n",
            "346/346 [==============================] - 1s 2ms/step - loss: 7.1649e-04 - mse: 7.1649e-04\n",
            "Epoch 7/20\n",
            "346/346 [==============================] - 1s 2ms/step - loss: 7.1082e-04 - mse: 7.1082e-04\n",
            "Epoch 8/20\n",
            "346/346 [==============================] - 1s 2ms/step - loss: 6.9564e-04 - mse: 6.9564e-04\n",
            "Epoch 9/20\n",
            "346/346 [==============================] - 1s 2ms/step - loss: 6.8472e-04 - mse: 6.8472e-04\n",
            "Epoch 10/20\n",
            "346/346 [==============================] - 1s 2ms/step - loss: 6.8573e-04 - mse: 6.8573e-04\n",
            "Epoch 11/20\n",
            "346/346 [==============================] - 1s 2ms/step - loss: 6.7501e-04 - mse: 6.7501e-04\n",
            "Epoch 12/20\n",
            "346/346 [==============================] - 1s 2ms/step - loss: 6.6352e-04 - mse: 6.6352e-04\n",
            "Epoch 13/20\n",
            "346/346 [==============================] - 1s 2ms/step - loss: 6.6055e-04 - mse: 6.6055e-04\n",
            "Epoch 14/20\n",
            "346/346 [==============================] - 1s 2ms/step - loss: 6.5229e-04 - mse: 6.5229e-04\n",
            "Epoch 15/20\n",
            "346/346 [==============================] - 1s 2ms/step - loss: 6.3669e-04 - mse: 6.3669e-04\n",
            "Epoch 16/20\n",
            "346/346 [==============================] - 1s 2ms/step - loss: 6.2601e-04 - mse: 6.2601e-04\n",
            "Epoch 17/20\n",
            "346/346 [==============================] - 1s 2ms/step - loss: 6.2122e-04 - mse: 6.2122e-04\n",
            "Epoch 18/20\n",
            "346/346 [==============================] - 1s 2ms/step - loss: 6.2721e-04 - mse: 6.2721e-04\n",
            "Epoch 19/20\n",
            "346/346 [==============================] - 1s 2ms/step - loss: 6.2468e-04 - mse: 6.2468e-04\n",
            "Epoch 20/20\n",
            "346/346 [==============================] - 1s 2ms/step - loss: 6.0318e-04 - mse: 6.0318e-04\n"
          ]
        }
      ]
    },
    {
      "cell_type": "code",
      "source": [
        "## Evaluating the model"
      ],
      "metadata": {
        "id": "Qxv0XDmdBxFY"
      },
      "execution_count": 24,
      "outputs": []
    },
    {
      "cell_type": "code",
      "source": [
        "model.summary()"
      ],
      "metadata": {
        "colab": {
          "base_uri": "https://localhost:8080/"
        },
        "id": "JcppSnbICRdC",
        "outputId": "867a46d8-58cd-4b93-ad1a-41ad28b76b5b"
      },
      "execution_count": 25,
      "outputs": [
        {
          "output_type": "stream",
          "name": "stdout",
          "text": [
            "Model: \"sequential\"\n",
            "_________________________________________________________________\n",
            " Layer (type)                Output Shape              Param #   \n",
            "=================================================================\n",
            " dense (Dense)               (None, 32)                480       \n",
            "                                                                 \n",
            " dense_1 (Dense)             (None, 32)                1056      \n",
            "                                                                 \n",
            " dense_2 (Dense)             (None, 1)                 33        \n",
            "                                                                 \n",
            "=================================================================\n",
            "Total params: 1,569\n",
            "Trainable params: 1,569\n",
            "Non-trainable params: 0\n",
            "_________________________________________________________________\n"
          ]
        }
      ]
    },
    {
      "cell_type": "code",
      "source": [
        "model_epochs.history.keys()"
      ],
      "metadata": {
        "colab": {
          "base_uri": "https://localhost:8080/"
        },
        "id": "YTSPY4JaCQsl",
        "outputId": "10822a42-53b9-464b-92e4-9f28c8c9394a"
      },
      "execution_count": 26,
      "outputs": [
        {
          "output_type": "execute_result",
          "data": {
            "text/plain": [
              "dict_keys(['loss', 'mse'])"
            ]
          },
          "metadata": {},
          "execution_count": 26
        }
      ]
    },
    {
      "cell_type": "code",
      "source": [
        "plt.plot(model_epochs.history['loss'])\n",
        "plt.title('Model Loss Progress During Training')\n",
        "plt.xlabel('Epochs')\n",
        "plt.ylabel('Training Loss')"
      ],
      "metadata": {
        "colab": {
          "base_uri": "https://localhost:8080/",
          "height": 312
        },
        "id": "zY6I2UoDCZM-",
        "outputId": "bff79eaf-7f0f-42cf-8cba-428da198eb25"
      },
      "execution_count": 27,
      "outputs": [
        {
          "output_type": "execute_result",
          "data": {
            "text/plain": [
              "Text(0, 0.5, 'Training Loss')"
            ]
          },
          "metadata": {},
          "execution_count": 27
        },
        {
          "output_type": "display_data",
          "data": {
            "text/plain": [
              "<Figure size 432x288 with 1 Axes>"
            ],
            "image/png": "[encoded data removed]"
          },
          "metadata": {
            "needs_background": "light"
          }
        }
      ]
    },
    {
      "cell_type": "code",
      "source": [
        "# LEts have validation set as well"
      ],
      "metadata": {
        "id": "SFLdOk8aCg81"
      },
      "execution_count": 28,
      "outputs": []
    },
    {
      "cell_type": "code",
      "source": [
        "model_epochs_validation = model.fit(X_train, y_train, epochs=25, batch_size = 50, validation_split=0.2)"
      ],
      "metadata": {
        "colab": {
          "base_uri": "https://localhost:8080/"
        },
        "id": "tdAYvaHdCuLd",
        "outputId": "28976b64-63ee-423d-939b-190f539eced5"
      },
      "execution_count": 29,
      "outputs": [
        {
          "output_type": "stream",
          "name": "stdout",
          "text": [
            "Epoch 1/25\n",
            "277/277 [==============================] - 1s 3ms/step - loss: 6.0741e-04 - mse: 6.0741e-04 - val_loss: 5.7415e-04 - val_mse: 5.7415e-04\n",
            "Epoch 2/25\n",
            "277/277 [==============================] - 1s 2ms/step - loss: 6.0518e-04 - mse: 6.0518e-04 - val_loss: 5.8864e-04 - val_mse: 5.8864e-04\n",
            "Epoch 3/25\n",
            "277/277 [==============================] - 1s 2ms/step - loss: 5.8972e-04 - mse: 5.8972e-04 - val_loss: 5.7825e-04 - val_mse: 5.7825e-04\n",
            "Epoch 4/25\n",
            "277/277 [==============================] - 1s 2ms/step - loss: 5.8389e-04 - mse: 5.8389e-04 - val_loss: 5.7971e-04 - val_mse: 5.7971e-04\n",
            "Epoch 5/25\n",
            "277/277 [==============================] - 1s 2ms/step - loss: 5.8131e-04 - mse: 5.8131e-04 - val_loss: 5.9987e-04 - val_mse: 5.9987e-04\n",
            "Epoch 6/25\n",
            "277/277 [==============================] - 1s 2ms/step - loss: 5.7118e-04 - mse: 5.7118e-04 - val_loss: 5.9593e-04 - val_mse: 5.9593e-04\n",
            "Epoch 7/25\n",
            "277/277 [==============================] - 1s 2ms/step - loss: 5.7926e-04 - mse: 5.7926e-04 - val_loss: 5.9170e-04 - val_mse: 5.9170e-04\n",
            "Epoch 8/25\n",
            "277/277 [==============================] - 1s 2ms/step - loss: 5.7751e-04 - mse: 5.7751e-04 - val_loss: 5.8848e-04 - val_mse: 5.8848e-04\n",
            "Epoch 9/25\n",
            "277/277 [==============================] - 1s 2ms/step - loss: 5.7337e-04 - mse: 5.7337e-04 - val_loss: 5.7886e-04 - val_mse: 5.7886e-04\n",
            "Epoch 10/25\n",
            "277/277 [==============================] - 1s 2ms/step - loss: 5.6067e-04 - mse: 5.6067e-04 - val_loss: 6.0990e-04 - val_mse: 6.0990e-04\n",
            "Epoch 11/25\n",
            "277/277 [==============================] - 1s 2ms/step - loss: 5.6148e-04 - mse: 5.6148e-04 - val_loss: 6.1684e-04 - val_mse: 6.1684e-04\n",
            "Epoch 12/25\n",
            "277/277 [==============================] - 1s 2ms/step - loss: 5.5183e-04 - mse: 5.5183e-04 - val_loss: 5.7681e-04 - val_mse: 5.7681e-04\n",
            "Epoch 13/25\n",
            "277/277 [==============================] - 1s 2ms/step - loss: 5.4886e-04 - mse: 5.4886e-04 - val_loss: 6.0218e-04 - val_mse: 6.0218e-04\n",
            "Epoch 14/25\n",
            "277/277 [==============================] - 1s 2ms/step - loss: 5.5254e-04 - mse: 5.5254e-04 - val_loss: 5.9297e-04 - val_mse: 5.9297e-04\n",
            "Epoch 15/25\n",
            "277/277 [==============================] - 1s 2ms/step - loss: 5.5482e-04 - mse: 5.5482e-04 - val_loss: 5.8412e-04 - val_mse: 5.8412e-04\n",
            "Epoch 16/25\n",
            "277/277 [==============================] - 1s 2ms/step - loss: 5.6258e-04 - mse: 5.6258e-04 - val_loss: 5.8384e-04 - val_mse: 5.8384e-04\n",
            "Epoch 17/25\n",
            "277/277 [==============================] - 1s 2ms/step - loss: 5.5328e-04 - mse: 5.5328e-04 - val_loss: 5.9864e-04 - val_mse: 5.9864e-04\n",
            "Epoch 18/25\n",
            "277/277 [==============================] - 1s 2ms/step - loss: 5.4008e-04 - mse: 5.4008e-04 - val_loss: 6.0392e-04 - val_mse: 6.0392e-04\n",
            "Epoch 19/25\n",
            "277/277 [==============================] - 1s 2ms/step - loss: 5.5111e-04 - mse: 5.5111e-04 - val_loss: 5.6684e-04 - val_mse: 5.6684e-04\n",
            "Epoch 20/25\n",
            "277/277 [==============================] - 1s 2ms/step - loss: 5.3837e-04 - mse: 5.3837e-04 - val_loss: 5.8061e-04 - val_mse: 5.8061e-04\n",
            "Epoch 21/25\n",
            "277/277 [==============================] - 1s 2ms/step - loss: 5.3940e-04 - mse: 5.3940e-04 - val_loss: 5.8104e-04 - val_mse: 5.8104e-04\n",
            "Epoch 22/25\n",
            "277/277 [==============================] - 1s 2ms/step - loss: 5.3756e-04 - mse: 5.3756e-04 - val_loss: 5.6810e-04 - val_mse: 5.6810e-04\n",
            "Epoch 23/25\n",
            "277/277 [==============================] - 1s 2ms/step - loss: 5.2870e-04 - mse: 5.2870e-04 - val_loss: 6.0177e-04 - val_mse: 6.0177e-04\n",
            "Epoch 24/25\n",
            "277/277 [==============================] - 1s 2ms/step - loss: 5.2548e-04 - mse: 5.2548e-04 - val_loss: 5.8469e-04 - val_mse: 5.8469e-04\n",
            "Epoch 25/25\n",
            "277/277 [==============================] - 1s 2ms/step - loss: 5.3321e-04 - mse: 5.3321e-04 - val_loss: 6.0000e-04 - val_mse: 6.0000e-04\n"
          ]
        }
      ]
    },
    {
      "cell_type": "code",
      "source": [
        "model_epochs_validation.history.keys()"
      ],
      "metadata": {
        "colab": {
          "base_uri": "https://localhost:8080/"
        },
        "id": "dvc8Tk12CzFl",
        "outputId": "bfc048b0-cd2f-4da3-aefe-525e4db2511d"
      },
      "execution_count": 30,
      "outputs": [
        {
          "output_type": "execute_result",
          "data": {
            "text/plain": [
              "dict_keys(['loss', 'mse', 'val_loss', 'val_mse'])"
            ]
          },
          "metadata": {},
          "execution_count": 30
        }
      ]
    },
    {
      "cell_type": "code",
      "source": [
        "plt.plot(model_epochs_validation.history['loss'])\n",
        "plt.plot(model_epochs_validation.history['val_loss'])\n",
        "plt.title('Model Loss Progress During Training')\n",
        "plt.xlabel('Epochs')\n",
        "plt.ylabel('Training & Validation Loss')"
      ],
      "metadata": {
        "colab": {
          "base_uri": "https://localhost:8080/",
          "height": 312
        },
        "id": "Wzedn9yEC9eB",
        "outputId": "9ee7baba-41a8-4d98-c70a-4da172327835"
      },
      "execution_count": 31,
      "outputs": [
        {
          "output_type": "execute_result",
          "data": {
            "text/plain": [
              "Text(0, 0.5, 'Training & Validation Loss')"
            ]
          },
          "metadata": {},
          "execution_count": 31
        },
        {
          "output_type": "display_data",
          "data": {
            "text/plain": [
              "<Figure size 432x288 with 1 Axes>"
            ],
            "image/png": "[encoded data removed]"
          },
          "metadata": {
            "needs_background": "light"
          }
        }
      ]
    },
    {
      "cell_type": "code",
      "source": [
        "model.get_weights()"
      ],
      "metadata": {
        "colab": {
          "base_uri": "https://localhost:8080/"
        },
        "id": "MncepK1lDMR2",
        "outputId": "3e4badef-aa13-427e-809d-25c7561401b2"
      },
      "execution_count": 32,
      "outputs": [
        {
          "output_type": "execute_result",
          "data": {
            "text/plain": [
              "[array([[ 1.08684696e-01, -1.99303880e-01,  2.09410548e-01,\n",
              "         -7.82331824e-02, -3.83009985e-02, -2.36003533e-01,\n",
              "         -3.09659149e-02,  1.17297463e-01, -8.24398845e-02,\n",
              "          2.10229397e-01,  3.72464776e-01,  1.51410913e-02,\n",
              "         -2.97702819e-01, -2.47739747e-01,  4.83308583e-02,\n",
              "         -1.68897957e-01, -2.23539591e-01, -2.00606644e-01,\n",
              "         -1.27015449e-02, -9.08164978e-02,  2.02295423e-01,\n",
              "          6.39234260e-02, -7.13640526e-02, -2.09194213e-01,\n",
              "          1.33924246e-01,  9.44053382e-02,  2.75926918e-01,\n",
              "          5.83376288e-01,  1.14046685e-01, -1.36375591e-01,\n",
              "          3.34559716e-02,  1.02477618e-01],\n",
              "        [-1.16442241e-01, -5.61223701e-02,  2.28240982e-01,\n",
              "          3.08027774e-01, -1.48803577e-01, -1.97160274e-01,\n",
              "          1.27943724e-01,  9.71513391e-02, -1.29824337e-02,\n",
              "          9.57837403e-02, -3.09455007e-01,  2.41792113e-01,\n",
              "         -1.36149898e-01, -1.27844974e-01,  1.71120405e-01,\n",
              "         -2.24835873e-01,  4.21963096e-01,  2.21878111e-01,\n",
              "          1.84424549e-01, -5.36904968e-02,  6.76691011e-02,\n",
              "          1.47232085e-01, -1.61610678e-01, -1.95877589e-02,\n",
              "          3.77737910e-01,  3.79297972e-01, -4.57455292e-02,\n",
              "         -1.23228028e-01, -1.57649413e-01, -1.00884706e-01,\n",
              "          2.70262808e-01, -9.60183293e-02],\n",
              "        [ 3.26443940e-01,  4.61043328e-01,  2.68520504e-01,\n",
              "          2.62585133e-01, -1.22931160e-01, -1.98788941e-01,\n",
              "          1.42981142e-01, -1.65698275e-01, -1.87438261e-02,\n",
              "         -1.65182158e-01, -1.24427997e-01,  5.49677983e-02,\n",
              "          3.25001836e-01,  2.53892452e-01,  5.64203598e-02,\n",
              "         -1.51485622e-01, -1.66346386e-01,  1.81296974e-01,\n",
              "          1.20666698e-01, -3.55002075e-01,  1.19430780e-01,\n",
              "         -1.49552479e-01, -2.58909911e-01,  3.47335458e-01,\n",
              "         -1.28552690e-01,  3.34980339e-01,  2.41555020e-01,\n",
              "         -2.46546477e-01,  3.86078179e-01,  3.78205806e-01,\n",
              "         -2.42246777e-01,  3.03591728e-01],\n",
              "        [-1.51942074e-01, -8.37925076e-01, -5.79313815e-01,\n",
              "         -6.95613682e-01,  3.84874612e-01,  1.28083616e-01,\n",
              "          7.21599013e-02, -2.14071423e-02, -7.81904459e-02,\n",
              "         -3.24174836e-02,  6.12738729e-02, -1.47282100e+00,\n",
              "          7.95322657e-02,  2.27890432e-01, -3.56559843e-01,\n",
              "         -4.85876799e-01, -2.04790339e-01,  2.33557029e-03,\n",
              "         -6.19728258e-03, -7.87294097e-03, -4.70629960e-01,\n",
              "         -2.32935185e-04, -1.41120508e-01, -7.68972814e-01,\n",
              "         -3.22278403e-02,  1.73107460e-01, -1.13039300e-01,\n",
              "         -2.00942963e-01,  7.64352798e-01, -4.36298311e-01,\n",
              "         -1.84759408e-01,  1.61296114e-01],\n",
              "        [ 7.69902617e-02, -4.78989989e-01,  3.85010958e-01,\n",
              "         -2.87835926e-01, -6.25626789e-03,  1.79020971e-01,\n",
              "         -4.52761017e-02, -1.94786116e-02, -1.74307600e-01,\n",
              "          4.81561339e-03, -3.37134033e-01, -6.44832030e-02,\n",
              "         -5.64442910e-02, -1.27752081e-01,  2.17325762e-01,\n",
              "          2.04248428e-01, -7.93090612e-02,  1.48541808e-01,\n",
              "         -6.04243934e-01,  1.15805291e-01,  1.79471895e-01,\n",
              "          3.78414877e-02, -1.31471574e-01, -3.55954170e-02,\n",
              "         -4.33647245e-01,  3.74730267e-02, -4.96041298e-01,\n",
              "         -2.64976084e-01, -1.30569711e-01, -4.02859375e-02,\n",
              "          2.56104827e-01,  2.09995493e-01],\n",
              "        [ 1.57795548e-01,  1.28552422e-01,  2.72967666e-01,\n",
              "         -3.07101041e-01, -6.73207194e-02, -1.90395772e-01,\n",
              "         -1.01676807e-01,  2.25736648e-01,  3.97730656e-02,\n",
              "         -3.37221384e-01, -2.86405414e-01,  1.62888110e-01,\n",
              "          1.15536503e-01, -3.09109092e-01,  3.50573435e-02,\n",
              "          2.69122839e-01, -3.40933889e-01,  9.46564227e-02,\n",
              "         -4.28485647e-02,  1.58626944e-01, -1.09566711e-01,\n",
              "          4.31662589e-01,  2.85397559e-01,  8.34409967e-02,\n",
              "          4.43160310e-02,  1.84532642e-01,  2.09781736e-01,\n",
              "         -1.93919197e-01, -2.92518079e-01,  2.75849313e-01,\n",
              "         -7.95617253e-02, -2.68052042e-01],\n",
              "        [-1.13359630e-01, -3.37538838e-01,  2.47132152e-01,\n",
              "          1.57143772e-01,  9.97937471e-02,  6.66861795e-03,\n",
              "          8.73124599e-02,  8.75535831e-02,  2.07760707e-01,\n",
              "         -1.66056424e-01, -4.44145547e-03,  5.13073914e-02,\n",
              "         -1.36000216e-01,  4.53335568e-02,  1.63236842e-01,\n",
              "          1.09181128e-01, -8.33366066e-03, -1.53095916e-01,\n",
              "         -4.74026464e-02,  1.22840472e-01, -2.61975676e-01,\n",
              "         -1.52728230e-01,  6.27139583e-02, -3.18540893e-02,\n",
              "         -7.91313872e-02, -1.34488195e-01, -6.55224025e-02,\n",
              "         -1.73440918e-01, -1.21327497e-01, -9.62785631e-02,\n",
              "         -1.29783596e-03,  2.17941761e-01],\n",
              "        [-2.88357198e-01, -2.21962377e-01,  2.53264159e-01,\n",
              "         -3.85375619e-02,  1.69502243e-01,  1.96348459e-01,\n",
              "         -5.18042110e-02,  8.07355940e-02,  3.99653129e-02,\n",
              "         -1.12940021e-01,  2.12914750e-01,  2.55538188e-02,\n",
              "          1.43679470e-01, -3.92106265e-01,  3.50068778e-01,\n",
              "         -1.60241202e-01,  1.18727379e-01,  7.38981962e-02,\n",
              "          7.46941715e-02,  1.26668170e-01,  5.44279739e-02,\n",
              "          4.65747081e-02,  2.22894475e-01,  1.12644220e-02,\n",
              "          2.17641667e-01,  2.48924911e-01, -4.79235053e-02,\n",
              "          3.64207886e-02, -1.56280607e-01, -1.57093108e-01,\n",
              "         -9.49442163e-02,  1.01599954e-01],\n",
              "        [ 1.01589799e-01,  2.91810691e-01, -2.97014952e-01,\n",
              "          8.76657814e-02,  2.85899282e-01, -1.61840379e-01,\n",
              "         -2.92919159e-01, -1.69713721e-01,  1.33581623e-01,\n",
              "          2.59202898e-01, -6.06905296e-02,  3.61430913e-01,\n",
              "         -1.59880742e-01,  1.32243365e-01, -3.03731352e-01,\n",
              "          1.05275676e-01,  3.36551577e-01,  3.70610714e-01,\n",
              "         -8.01213384e-02, -8.36325437e-02, -1.54985264e-01,\n",
              "         -7.65793473e-02, -2.32029587e-01,  5.68685308e-02,\n",
              "          5.93096279e-02, -2.18183801e-01, -8.79229903e-02,\n",
              "          3.74555625e-02,  2.66375672e-02,  2.99661845e-01,\n",
              "         -3.42653275e-01,  1.93567067e-01],\n",
              "        [-2.61433601e-01, -2.18657479e-02, -1.62190974e-01,\n",
              "         -1.55881181e-01, -4.60804626e-02, -3.89240175e-01,\n",
              "         -1.21013470e-01,  8.14744607e-02,  3.32277685e-01,\n",
              "         -2.23886687e-02, -1.40013129e-01,  2.19217092e-01,\n",
              "          3.68585914e-01, -2.91889727e-01, -1.51042551e-01,\n",
              "         -7.42010996e-02, -2.00546414e-01,  8.86810571e-02,\n",
              "         -9.32506844e-02, -1.65114984e-01,  3.52758765e-01,\n",
              "         -1.82559296e-01,  3.60641927e-01, -1.45090789e-01,\n",
              "          3.74906152e-01,  4.69842285e-01, -1.84584573e-01,\n",
              "         -2.35770464e-01,  1.45282134e-01,  4.08096135e-01,\n",
              "          7.40825990e-03, -2.39653155e-01],\n",
              "        [ 2.18155801e-01,  1.35271683e-01, -3.91454816e-01,\n",
              "          1.23758940e-02, -1.74103051e-01,  2.85475791e-01,\n",
              "         -9.23706964e-02, -3.26641575e-02,  2.59451419e-01,\n",
              "          9.51570496e-02,  1.40781581e-01,  1.02953620e-01,\n",
              "         -4.24613655e-01, -1.53708160e-01, -1.32465307e-02,\n",
              "         -2.89478451e-01, -4.79001850e-02, -2.22679779e-01,\n",
              "          4.81813580e-01, -2.12622434e-01,  7.51149133e-02,\n",
              "         -3.60886633e-01, -1.00406572e-01,  3.66574042e-02,\n",
              "         -3.17929745e-01, -2.94635575e-02,  2.99259812e-01,\n",
              "          2.74630070e-01, -1.31838202e-01,  4.71896790e-02,\n",
              "         -7.45214149e-02,  1.61957040e-01],\n",
              "        [-4.27806914e-01, -4.77537692e-01,  9.31843445e-02,\n",
              "         -4.48303640e-01,  1.62384555e-01,  2.13883579e-01,\n",
              "          5.31490684e-01,  9.58238393e-02,  5.42091988e-02,\n",
              "          3.58321309e-01, -1.73641853e-02, -1.24060206e-01,\n",
              "          2.14989096e-01, -8.03372711e-02, -1.71538945e-02,\n",
              "         -2.03047916e-01, -9.62064974e-03,  1.80169269e-01,\n",
              "         -7.81583637e-02,  2.45417252e-01, -7.79185370e-02,\n",
              "         -1.33765742e-01, -3.92394900e-01,  4.37890440e-01,\n",
              "         -1.87422950e-02,  1.90215185e-01,  4.33662027e-01,\n",
              "         -4.28115070e-01, -9.61371064e-02, -4.03552592e-01,\n",
              "          7.13724047e-02, -1.02672443e-01],\n",
              "        [ 3.06546718e-01,  3.11123766e-02,  2.30258882e-01,\n",
              "          2.22572222e-01, -3.70626926e-01,  2.04389885e-01,\n",
              "         -4.72750841e-03, -2.94373691e-01,  3.34724724e-01,\n",
              "         -3.47819358e-01,  5.01627147e-01, -3.98766726e-01,\n",
              "         -2.63715059e-01, -6.74237758e-02, -1.13065839e-01,\n",
              "          9.25038978e-02, -1.26908645e-01,  5.46249077e-02,\n",
              "         -1.90341085e-01,  2.93326616e-01,  3.21877629e-01,\n",
              "         -3.18143964e-01,  3.75070184e-01,  1.63101256e-02,\n",
              "         -1.79688349e-01, -3.05414706e-01, -5.54085150e-02,\n",
              "          3.55586037e-02, -1.89964116e-01, -3.07489127e-01,\n",
              "          3.07825416e-01, -3.53116766e-02],\n",
              "        [ 2.94080764e-01, -6.70107663e-01, -2.33531326e-01,\n",
              "          1.99536048e-02, -3.56486857e-01, -3.95459116e-01,\n",
              "          6.10358953e-01,  2.60813028e-01, -3.99942249e-01,\n",
              "          1.90597951e-01, -2.42855757e-01, -8.55585337e-01,\n",
              "          2.48345971e-01, -1.68973088e-01, -3.29872131e-01,\n",
              "         -3.11424762e-01, -2.45643914e-01,  2.54229039e-01,\n",
              "          2.41249129e-01, -3.11247874e-02, -1.72850907e-01,\n",
              "          3.68841528e-03, -2.96888709e-01, -1.22121274e+00,\n",
              "         -1.13884121e-01, -1.24014989e-01,  5.93853056e-01,\n",
              "          2.83957064e-01,  4.00536686e-01, -6.37097806e-02,\n",
              "         -1.28957899e-02, -4.31163788e-01]], dtype=float32),\n",
              " array([-3.9288633e-02, -6.9789998e-02, -7.1030803e-02, -4.2058047e-02,\n",
              "         3.2149516e-02, -1.3535614e-01, -9.4947614e-02,  1.7027633e-01,\n",
              "        -5.9774805e-02, -1.0770883e-01, -3.4109209e-02, -2.2512768e-01,\n",
              "        -8.7790959e-02, -6.3225843e-02, -6.1073359e-02, -1.5962997e-02,\n",
              "        -1.3563459e-01, -1.3971370e-01, -4.0719423e-02, -7.1339540e-02,\n",
              "        -1.4313149e-01,  3.6072046e-02, -6.8850093e-02, -2.1008573e-01,\n",
              "         1.3505266e-02, -8.9375421e-02, -6.7098178e-02,  4.7330570e-04,\n",
              "         9.2056289e-02, -8.7008893e-02, -4.2340958e-05, -1.6776372e-01],\n",
              "       dtype=float32),\n",
              " array([[-0.34707373, -0.29619917, -0.00205538, ...,  0.0482213 ,\n",
              "         -0.24449657,  0.14435995],\n",
              "        [ 0.07385181,  0.26795703, -0.1950396 , ...,  0.49527457,\n",
              "         -0.19216813, -0.7682528 ],\n",
              "        [-0.2215751 , -0.06904553, -0.09619468, ...,  0.04347028,\n",
              "         -0.25303066, -0.09253015],\n",
              "        ...,\n",
              "        [-0.24160486, -0.4851902 , -0.18435733, ...,  0.23311345,\n",
              "         -0.24288414, -0.32312635],\n",
              "        [-0.06304494, -0.21231994,  0.22136939, ..., -0.17715724,\n",
              "          0.12589452,  0.20178403],\n",
              "        [-0.2291307 ,  0.07407106, -0.1996371 , ...,  0.28087598,\n",
              "          0.1292265 ,  0.32051677]], dtype=float32),\n",
              " array([ 0.00944223, -0.15921839, -0.00235125,  0.01518989, -0.12125655,\n",
              "        -0.00646385,  0.05371853,  0.03710341, -0.08925974,  0.02478229,\n",
              "        -0.04120779,  0.0039031 ,  0.01624675, -0.0044935 ,  0.00424956,\n",
              "        -0.08859693,  0.13714157, -0.0553823 , -0.13050611, -0.04794719,\n",
              "         0.00457645,  0.00818623, -0.01096321,  0.01182732, -0.02766506,\n",
              "        -0.16646738, -0.06162024,  0.08007779, -0.01413798, -0.17906602,\n",
              "        -0.05317504,  0.11366626], dtype=float32),\n",
              " array([[-0.25291753],\n",
              "        [ 0.3582866 ],\n",
              "        [-0.16691443],\n",
              "        [ 0.30540884],\n",
              "        [ 0.00644949],\n",
              "        [ 0.468551  ],\n",
              "        [ 0.07164994],\n",
              "        [-0.3089292 ],\n",
              "        [-0.0044101 ],\n",
              "        [-0.26073748],\n",
              "        [ 0.02496945],\n",
              "        [ 0.1640109 ],\n",
              "        [-0.21177985],\n",
              "        [ 0.15307885],\n",
              "        [ 0.27988   ],\n",
              "        [-0.06224681],\n",
              "        [-0.27041328],\n",
              "        [-0.4707868 ],\n",
              "        [ 0.3368952 ],\n",
              "        [-0.09217975],\n",
              "        [-0.13681565],\n",
              "        [ 0.03417234],\n",
              "        [ 0.38736597],\n",
              "        [-0.17610724],\n",
              "        [ 0.18484175],\n",
              "        [ 0.14460124],\n",
              "        [ 0.12385928],\n",
              "        [ 0.06121193],\n",
              "        [ 0.30462816],\n",
              "        [ 0.3418587 ],\n",
              "        [ 0.30322737],\n",
              "        [ 0.21402074]], dtype=float32),\n",
              " array([0.01559004], dtype=float32)]"
            ]
          },
          "metadata": {},
          "execution_count": 32
        }
      ]
    },
    {
      "cell_type": "code",
      "source": [
        "model.summary()"
      ],
      "metadata": {
        "colab": {
          "base_uri": "https://localhost:8080/"
        },
        "id": "WLMAkOFWEZhm",
        "outputId": "35137c08-7016-479e-ad7d-c047dd31621f"
      },
      "execution_count": 33,
      "outputs": [
        {
          "output_type": "stream",
          "name": "stdout",
          "text": [
            "Model: \"sequential\"\n",
            "_________________________________________________________________\n",
            " Layer (type)                Output Shape              Param #   \n",
            "=================================================================\n",
            " dense (Dense)               (None, 32)                480       \n",
            "                                                                 \n",
            " dense_1 (Dense)             (None, 32)                1056      \n",
            "                                                                 \n",
            " dense_2 (Dense)             (None, 1)                 33        \n",
            "                                                                 \n",
            "=================================================================\n",
            "Total params: 1,569\n",
            "Trainable params: 1,569\n",
            "Non-trainable params: 0\n",
            "_________________________________________________________________\n"
          ]
        }
      ]
    },
    {
      "cell_type": "code",
      "source": [
        "!pip install mlxtend "
      ],
      "metadata": {
        "colab": {
          "base_uri": "https://localhost:8080/"
        },
        "id": "QChqOWEYcYJC",
        "outputId": "2864e06e-5dbb-4c51-de43-bc41cd3d84bc"
      },
      "execution_count": 2,
      "outputs": [
        {
          "output_type": "stream",
          "name": "stdout",
          "text": [
            "Looking in indexes: https://pypi.org/simple, https://us-python.pkg.dev/colab-wheels/public/simple/\n",
            "Requirement already satisfied: mlxtend in /usr/local/lib/python3.7/dist-packages (0.14.0)\n",
            "Requirement already satisfied: scipy>=0.17 in /usr/local/lib/python3.7/dist-packages (from mlxtend) (1.7.3)\n",
            "Requirement already satisfied: setuptools in /usr/local/lib/python3.7/dist-packages (from mlxtend) (57.4.0)\n",
            "Requirement already satisfied: matplotlib>=1.5.1 in /usr/local/lib/python3.7/dist-packages (from mlxtend) (3.2.2)\n",
            "Requirement already satisfied: scikit-learn>=0.18 in /usr/local/lib/python3.7/dist-packages (from mlxtend) (1.0.2)\n",
            "Requirement already satisfied: numpy>=1.10.4 in /usr/local/lib/python3.7/dist-packages (from mlxtend) (1.21.6)\n",
            "Requirement already satisfied: pandas>=0.17.1 in /usr/local/lib/python3.7/dist-packages (from mlxtend) (1.3.5)\n",
            "Requirement already satisfied: cycler>=0.10 in /usr/local/lib/python3.7/dist-packages (from matplotlib>=1.5.1->mlxtend) (0.11.0)\n",
            "Requirement already satisfied: kiwisolver>=1.0.1 in /usr/local/lib/python3.7/dist-packages (from matplotlib>=1.5.1->mlxtend) (1.4.4)\n",
            "Requirement already satisfied: python-dateutil>=2.1 in /usr/local/lib/python3.7/dist-packages (from matplotlib>=1.5.1->mlxtend) (2.8.2)\n",
            "Requirement already satisfied: pyparsing!=2.0.4,!=2.1.2,!=2.1.6,>=2.0.1 in /usr/local/lib/python3.7/dist-packages (from matplotlib>=1.5.1->mlxtend) (3.0.9)\n",
            "Requirement already satisfied: typing-extensions in /usr/local/lib/python3.7/dist-packages (from kiwisolver>=1.0.1->matplotlib>=1.5.1->mlxtend) (4.1.1)\n",
            "Requirement already satisfied: pytz>=2017.3 in /usr/local/lib/python3.7/dist-packages (from pandas>=0.17.1->mlxtend) (2022.1)\n",
            "Requirement already satisfied: six>=1.5 in /usr/local/lib/python3.7/dist-packages (from python-dateutil>=2.1->matplotlib>=1.5.1->mlxtend) (1.15.0)\n",
            "Requirement already satisfied: threadpoolctl>=2.0.0 in /usr/local/lib/python3.7/dist-packages (from scikit-learn>=0.18->mlxtend) (3.1.0)\n",
            "Requirement already satisfied: joblib>=0.11 in /usr/local/lib/python3.7/dist-packages (from scikit-learn>=0.18->mlxtend) (1.1.0)\n"
          ]
        }
      ]
    },
    {
      "cell_type": "code",
      "source": [
        "!pip install mlxtend --upgrade --no-deps"
      ],
      "metadata": {
        "colab": {
          "base_uri": "https://localhost:8080/"
        },
        "id": "_1yPWvatHSLM",
        "outputId": "0a62354e-e9b6-42a9-f312-ddc45c3df00d"
      },
      "execution_count": 36,
      "outputs": [
        {
          "output_type": "stream",
          "name": "stdout",
          "text": [
            "Looking in indexes: https://pypi.org/simple, https://us-python.pkg.dev/colab-wheels/public/simple/\n",
            "Requirement already satisfied: mlxtend in /usr/local/lib/python3.7/dist-packages (0.14.0)\n",
            "Collecting mlxtend\n",
            "  Downloading mlxtend-0.20.0-py2.py3-none-any.whl (1.3 MB)\n",
            "\u001b[K     |████████████████████████████████| 1.3 MB 5.9 MB/s \n",
            "\u001b[?25hInstalling collected packages: mlxtend\n",
            "  Attempting uninstall: mlxtend\n",
            "    Found existing installation: mlxtend 0.14.0\n",
            "    Uninstalling mlxtend-0.14.0:\n",
            "      Successfully uninstalled mlxtend-0.14.0\n",
            "Successfully installed mlxtend-0.20.0\n"
          ]
        }
      ]
    },
    {
      "cell_type": "code",
      "source": [
        "from mlxtend.plotting import plot_decision_regions"
      ],
      "metadata": {
        "id": "2vmPDCnYE7ns"
      },
      "execution_count": 38,
      "outputs": []
    },
    {
      "cell_type": "code",
      "source": [
        "# plot_decision_regions(X[:,3:4],y.reshape(-1).astype('int'), clf = model, legend = 2)"
      ],
      "metadata": {
        "id": "zkTf2gwtHgsE"
      },
      "execution_count": 1,
      "outputs": []
    },
    {
      "cell_type": "code",
      "source": [
        "y.reshape(-1).shape"
      ],
      "metadata": {
        "colab": {
          "base_uri": "https://localhost:8080/"
        },
        "id": "2ehVVcVkIK6n",
        "outputId": "23667d42-a706-4a23-d6ee-6c18c0f48b5b"
      },
      "execution_count": 46,
      "outputs": [
        {
          "output_type": "execute_result",
          "data": {
            "text/plain": [
              "(21597,)"
            ]
          },
          "metadata": {},
          "execution_count": 46
        }
      ]
    },
    {
      "cell_type": "code",
      "source": [
        "X.shape"
      ],
      "metadata": {
        "colab": {
          "base_uri": "https://localhost:8080/"
        },
        "id": "20SGUBA_IS8S",
        "outputId": "53847ff4-9dd8-444f-eb1a-a44e473dcaae"
      },
      "execution_count": 42,
      "outputs": [
        {
          "output_type": "execute_result",
          "data": {
            "text/plain": [
              "(21597, 14)"
            ]
          },
          "metadata": {},
          "execution_count": 42
        }
      ]
    },
    {
      "cell_type": "code",
      "source": [
        "type(y)"
      ],
      "metadata": {
        "colab": {
          "base_uri": "https://localhost:8080/"
        },
        "id": "wiP81GxWIXS-",
        "outputId": "87c5733b-adf7-42a1-fb16-d5a9b5240d2e"
      },
      "execution_count": 45,
      "outputs": [
        {
          "output_type": "execute_result",
          "data": {
            "text/plain": [
              "numpy.ndarray"
            ]
          },
          "metadata": {},
          "execution_count": 45
        }
      ]
    },
    {
      "cell_type": "code",
      "source": [
        ""
      ],
      "metadata": {
        "colab": {
          "base_uri": "https://localhost:8080/",
          "height": 220
        },
        "id": "DxL1NJ1gIxbH",
        "outputId": "08bced11-1994-4963-b79d-26e5c8117fbb"
      },
      "execution_count": 50,
      "outputs": [
        {
          "output_type": "stream",
          "name": "stderr",
          "text": [
            "/usr/local/lib/python3.7/dist-packages/ipykernel_launcher.py:1: FutureWarning: Using a non-tuple sequence for multidimensional indexing is deprecated; use `arr[tuple(seq)]` instead of `arr[seq]`. In the future this will be interpreted as an array index, `arr[np.array(seq)]`, which will result either in an error or a different result.\n",
            "  \"\"\"Entry point for launching an IPython kernel.\n"
          ]
        },
        {
          "output_type": "error",
          "ename": "IndexError",
          "evalue": "ignored",
          "traceback": [
            "\u001b[0;31m---------------------------------------------------------------------------\u001b[0m",
            "\u001b[0;31mIndexError\u001b[0m                                Traceback (most recent call last)",
            "\u001b[0;32m<ipython-input-50-f0ef3323ff29>\u001b[0m in \u001b[0;36m<module>\u001b[0;34m()\u001b[0m\n\u001b[0;32m----> 1\u001b[0;31m \u001b[0mX\u001b[0m\u001b[0;34m[\u001b[0m\u001b[0;34m[\u001b[0m\u001b[0;34m'bedrooms'\u001b[0m\u001b[0;34m,\u001b[0m\u001b[0;34m'bathrooms'\u001b[0m\u001b[0;34m]\u001b[0m\u001b[0;34m]\u001b[0m\u001b[0;34m\u001b[0m\u001b[0;34m\u001b[0m\u001b[0m\n\u001b[0m",
            "\u001b[0;31mIndexError\u001b[0m: only integers, slices (`:`), ellipsis (`...`), numpy.newaxis (`None`) and integer or boolean arrays are valid indices"
          ]
        }
      ]
    },
    {
      "cell_type": "code",
      "source": [
        "X"
      ],
      "metadata": {
        "colab": {
          "base_uri": "https://localhost:8080/"
        },
        "id": "_G44HBinJytz",
        "outputId": "202405cc-d00e-49b3-e6eb-614f13ea3809"
      },
      "execution_count": 51,
      "outputs": [
        {
          "output_type": "execute_result",
          "data": {
            "text/plain": [
              "array([[3.0000e+00, 1.0000e+00, 1.1800e+03, ..., 9.8178e+04, 1.3400e+03,\n",
              "        5.6500e+03],\n",
              "       [3.0000e+00, 2.2500e+00, 2.5700e+03, ..., 9.8125e+04, 1.6900e+03,\n",
              "        7.6390e+03],\n",
              "       [2.0000e+00, 1.0000e+00, 7.7000e+02, ..., 9.8028e+04, 2.7200e+03,\n",
              "        8.0620e+03],\n",
              "       ...,\n",
              "       [2.0000e+00, 7.5000e-01, 1.0200e+03, ..., 9.8144e+04, 1.0200e+03,\n",
              "        2.0070e+03],\n",
              "       [3.0000e+00, 2.5000e+00, 1.6000e+03, ..., 9.8027e+04, 1.4100e+03,\n",
              "        1.2870e+03],\n",
              "       [2.0000e+00, 7.5000e-01, 1.0200e+03, ..., 9.8144e+04, 1.0200e+03,\n",
              "        1.3570e+03]])"
            ]
          },
          "metadata": {},
          "execution_count": 51
        }
      ]
    },
    {
      "cell_type": "code",
      "source": [
        ""
      ],
      "metadata": {
        "id": "z4EfXesuJ2KG"
      },
      "execution_count": null,
      "outputs": []
    }
  ]
}