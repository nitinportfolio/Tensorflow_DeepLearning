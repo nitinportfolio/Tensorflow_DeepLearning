{
  "nbformat": 4,
  "nbformat_minor": 0,
  "metadata": {
    "colab": {
      "name": "02_Nerual_Network_Regression_TensorFlow.ipynb",
      "provenance": [],
      "collapsed_sections": []
    },
    "kernelspec": {
      "name": "python3",
      "display_name": "Python 3"
    },
    "language_info": {
      "name": "python"
    }
  },
  "cells": [
    {
      "cell_type": "markdown",
      "source": [
        "Regression Using Tensorflow \n",
        "\n",
        "* Architecture of a Neural Network Regression Model\n",
        "* Input & Output Shapes of a Regression Model\n",
        "* Preprocessing data \n",
        "* Creating a Regression model\n",
        "* Compiling Model\n",
        "* Fitting Model\n",
        "* Evaluating Model\n",
        "* Different Evaluation Methods\n",
        "* Saving & Loading Modela\n",
        "\n",
        "### Few Definitions\n",
        "* **Loss** - how wrong your model's prediction are compared to the truth label - We want to minimise this\n",
        "* **Optimizer** - houw your model should update its internal patterns to better its predictions\n",
        "* **Metrics** - human interpretable values for how well your model is doing\n",
        "* **Epochs** - how many times the model should through all of the training examples"
      ],
      "metadata": {
        "id": "UDAOZkI1VYCK"
      }
    },
    {
      "cell_type": "code",
      "source": [
        "## Introduction to Regression with Neural Networks in Tensorflow"
      ],
      "metadata": {
        "id": "SmIJ-NRLYz85"
      },
      "execution_count": 2,
      "outputs": []
    },
    {
      "cell_type": "code",
      "source": [
        "# Import Tensorflow\n",
        "import tensorflow as tf\n",
        "\n",
        "print(tf.__version__)"
      ],
      "metadata": {
        "colab": {
          "base_uri": "https://localhost:8080/"
        },
        "id": "8l0SyImsYSXs",
        "outputId": "58e565ff-e0f3-48f9-bbfb-dff8f415637a"
      },
      "execution_count": 3,
      "outputs": [
        {
          "output_type": "stream",
          "name": "stdout",
          "text": [
            "2.8.2\n"
          ]
        }
      ]
    },
    {
      "cell_type": "code",
      "source": [
        "import numpy as np\n",
        "import pandas as pd\n",
        "import matplotlib.pyplot as plt"
      ],
      "metadata": {
        "id": "M2Si7W5iZ-tN"
      },
      "execution_count": 4,
      "outputs": []
    },
    {
      "cell_type": "code",
      "source": [
        "# Create some dummy values for input & desired output\n",
        "\n",
        "# y = 2x + 71\n",
        "x_val = [20, 4, 2.2, 7, 99, 44, 31, 9.9, 51, 73]"
      ],
      "metadata": {
        "id": "YClpqrxoYZa-"
      },
      "execution_count": 5,
      "outputs": []
    },
    {
      "cell_type": "code",
      "source": [
        "# lets calculate output for these input values\n",
        "y_val = []\n",
        "for i in x_val:\n",
        "  y_val.append(2*i +71)\n",
        "\n"
      ],
      "metadata": {
        "id": "hdr1gcUOZUJf"
      },
      "execution_count": 6,
      "outputs": []
    },
    {
      "cell_type": "code",
      "source": [
        "# Calculated y_val values are \n",
        "y_val"
      ],
      "metadata": {
        "colab": {
          "base_uri": "https://localhost:8080/"
        },
        "id": "7ASfqbC4ZuyX",
        "outputId": "d15bf351-8080-41a8-baf1-d20639dee1ef"
      },
      "execution_count": 7,
      "outputs": [
        {
          "output_type": "execute_result",
          "data": {
            "text/plain": [
              "[111, 79, 75.4, 85, 269, 159, 133, 90.8, 173, 217]"
            ]
          },
          "metadata": {},
          "execution_count": 7
        }
      ]
    },
    {
      "cell_type": "code",
      "source": [
        "# Lets plot values of x_val & y_val\n",
        "\n",
        "plt.scatter(x_val, y_val)"
      ],
      "metadata": {
        "colab": {
          "base_uri": "https://localhost:8080/",
          "height": 283
        },
        "id": "orq82bivZ78g",
        "outputId": "4b7aae81-01ec-4be0-f9f3-d7fec1aa0267"
      },
      "execution_count": 8,
      "outputs": [
        {
          "output_type": "execute_result",
          "data": {
            "text/plain": [
              "<matplotlib.collections.PathCollection at 0x7f5e188f9b90>"
            ]
          },
          "metadata": {},
          "execution_count": 8
        },
        {
          "output_type": "display_data",
          "data": {
            "text/plain": [
              "<Figure size 432x288 with 1 Axes>"
            ],
            "image/png": "[encoded data removed]"
          },
          "metadata": {
            "needs_background": "light"
          }
        }
      ]
    },
    {
      "cell_type": "code",
      "source": [
        "# We will build our neural network & want our model to learn \n",
        "# relationship y = 2x + 7\n",
        "# With above input we want model to predict out with learned pattern"
      ],
      "metadata": {
        "id": "bc2HDs4waW-j"
      },
      "execution_count": 9,
      "outputs": []
    },
    {
      "cell_type": "code",
      "source": [
        "X = np.array(x_val)\n",
        "Y = np.array(y_val)\n",
        "X, Y"
      ],
      "metadata": {
        "colab": {
          "base_uri": "https://localhost:8080/"
        },
        "id": "uWnWDMbLbMC3",
        "outputId": "64fb2a28-d9bb-416f-ef3e-08928c43e65c"
      },
      "execution_count": 10,
      "outputs": [
        {
          "output_type": "execute_result",
          "data": {
            "text/plain": [
              "(array([20. ,  4. ,  2.2,  7. , 99. , 44. , 31. ,  9.9, 51. , 73. ]),\n",
              " array([111. ,  79. ,  75.4,  85. , 269. , 159. , 133. ,  90.8, 173. ,\n",
              "        217. ]))"
            ]
          },
          "metadata": {},
          "execution_count": 10
        }
      ]
    },
    {
      "cell_type": "code",
      "source": [
        "# Looking at the shapes of X & Y\n",
        "\n",
        "X.shape, Y.shape"
      ],
      "metadata": {
        "colab": {
          "base_uri": "https://localhost:8080/"
        },
        "id": "jfIELJVGbhmG",
        "outputId": "a14b239d-666f-4981-f36a-8d1f44ba5339"
      },
      "execution_count": 11,
      "outputs": [
        {
          "output_type": "execute_result",
          "data": {
            "text/plain": [
              "((10,), (10,))"
            ]
          },
          "metadata": {},
          "execution_count": 11
        }
      ]
    },
    {
      "cell_type": "code",
      "source": [
        "# Lets convert our arrays into tensors\n",
        "X = tf.constant(X)\n",
        "y = tf.constant(Y)\n",
        "X, y"
      ],
      "metadata": {
        "colab": {
          "base_uri": "https://localhost:8080/"
        },
        "id": "nks4QfJacDyD",
        "outputId": "5c1cc9a9-c77e-4156-d888-c3074195c3ec"
      },
      "execution_count": 12,
      "outputs": [
        {
          "output_type": "execute_result",
          "data": {
            "text/plain": [
              "(<tf.Tensor: shape=(10,), dtype=float64, numpy=array([20. ,  4. ,  2.2,  7. , 99. , 44. , 31. ,  9.9, 51. , 73. ])>,\n",
              " <tf.Tensor: shape=(10,), dtype=float64, numpy=\n",
              " array([111. ,  79. ,  75.4,  85. , 269. , 159. , 133. ,  90.8, 173. ,\n",
              "        217. ])>)"
            ]
          },
          "metadata": {},
          "execution_count": 12
        }
      ]
    },
    {
      "cell_type": "code",
      "source": [
        "print(X.shape, X.ndim, '--' ,y.shape, y.ndim)"
      ],
      "metadata": {
        "colab": {
          "base_uri": "https://localhost:8080/"
        },
        "id": "66o5lDCkeF2L",
        "outputId": "dcb752b8-727a-4149-966b-e86ef4450828"
      },
      "execution_count": 13,
      "outputs": [
        {
          "output_type": "stream",
          "name": "stdout",
          "text": [
            "(10,) 1 -- (10,) 1\n"
          ]
        }
      ]
    },
    {
      "cell_type": "code",
      "source": [
        "# Looking at the shapes of one elements \n",
        "input_shape = X[0].shape\n",
        "output_shape = y[0].shape\n",
        "input_shape , output_shape"
      ],
      "metadata": {
        "colab": {
          "base_uri": "https://localhost:8080/"
        },
        "id": "BzQftlXIeVkB",
        "outputId": "018d56b1-05c7-40c3-d642-3bfaf8f2a2e7"
      },
      "execution_count": 14,
      "outputs": [
        {
          "output_type": "execute_result",
          "data": {
            "text/plain": [
              "(TensorShape([]), TensorShape([]))"
            ]
          },
          "metadata": {},
          "execution_count": 14
        }
      ]
    },
    {
      "cell_type": "markdown",
      "source": [
        "##  Steps in modelling with TensorFlow\n",
        "Now we know what data we have as well as the input and output shapes, let's see how we'd build a neural network to model it.\n",
        "\n",
        "In TensorFlow, there are typically 3 fundamental steps to creating and training a model.\n",
        "\n",
        "* Creating a model - piece together the layers of a neural network yourself (using the Functional or Sequential API) or import a previously built model (known as transfer learning).\n",
        "* Compiling a model - defining how a models performance should be measured (loss/metrics) as well as defining how it should improve (optimizer).\n",
        "* Fitting a model - letting the model try to find patterns in the data (how does X get to y).\n",
        "Let's see these in action using the Keras Sequential API to build a model for our regression data. And then we'll step through each"
      ],
      "metadata": {
        "id": "D5Yw6PDce4D-"
      }
    },
    {
      "cell_type": "code",
      "source": [
        "# Setting the seed for reproducibility of results\n",
        "tf.random.set_seed(101)"
      ],
      "metadata": {
        "id": "b96xafFHfz8D"
      },
      "execution_count": 15,
      "outputs": []
    },
    {
      "cell_type": "code",
      "source": [
        "X.shape"
      ],
      "metadata": {
        "colab": {
          "base_uri": "https://localhost:8080/"
        },
        "id": "lnlyE8pAjCN1",
        "outputId": "dcb3ec18-1acb-4972-87e3-4f29c9509fa6"
      },
      "execution_count": 16,
      "outputs": [
        {
          "output_type": "execute_result",
          "data": {
            "text/plain": [
              "TensorShape([10])"
            ]
          },
          "metadata": {},
          "execution_count": 16
        }
      ]
    },
    {
      "cell_type": "code",
      "source": [
        "tf.expand_dims(X, axis = -1)"
      ],
      "metadata": {
        "colab": {
          "base_uri": "https://localhost:8080/"
        },
        "id": "2cqhXcy4jEX2",
        "outputId": "8c21b987-6be9-4d33-a3cf-bf8b3f380da1"
      },
      "execution_count": 17,
      "outputs": [
        {
          "output_type": "execute_result",
          "data": {
            "text/plain": [
              "<tf.Tensor: shape=(10, 1), dtype=float64, numpy=\n",
              "array([[20. ],\n",
              "       [ 4. ],\n",
              "       [ 2.2],\n",
              "       [ 7. ],\n",
              "       [99. ],\n",
              "       [44. ],\n",
              "       [31. ],\n",
              "       [ 9.9],\n",
              "       [51. ],\n",
              "       [73. ]])>"
            ]
          },
          "metadata": {},
          "execution_count": 17
        }
      ]
    },
    {
      "cell_type": "code",
      "source": [
        "X"
      ],
      "metadata": {
        "colab": {
          "base_uri": "https://localhost:8080/"
        },
        "id": "Gqihrl1ijNWG",
        "outputId": "dd531444-4e5e-470c-a634-ba0f4b7abdf4"
      },
      "execution_count": 18,
      "outputs": [
        {
          "output_type": "execute_result",
          "data": {
            "text/plain": [
              "<tf.Tensor: shape=(10,), dtype=float64, numpy=array([20. ,  4. ,  2.2,  7. , 99. , 44. , 31. ,  9.9, 51. , 73. ])>"
            ]
          },
          "metadata": {},
          "execution_count": 18
        }
      ]
    },
    {
      "cell_type": "code",
      "source": [
        "tf.expand_dims(X, axis = -1).shape"
      ],
      "metadata": {
        "colab": {
          "base_uri": "https://localhost:8080/"
        },
        "id": "B596YsADjSfW",
        "outputId": "0c9fb2cf-7be8-43ba-f14a-f8e6beeb7a23"
      },
      "execution_count": 19,
      "outputs": [
        {
          "output_type": "execute_result",
          "data": {
            "text/plain": [
              "TensorShape([10, 1])"
            ]
          },
          "metadata": {},
          "execution_count": 19
        }
      ]
    },
    {
      "cell_type": "code",
      "source": [
        "X.shape"
      ],
      "metadata": {
        "colab": {
          "base_uri": "https://localhost:8080/"
        },
        "id": "JdQhFdSsjaBv",
        "outputId": "9759e31f-b7b5-45eb-c540-4ca01d6fbf75"
      },
      "execution_count": 20,
      "outputs": [
        {
          "output_type": "execute_result",
          "data": {
            "text/plain": [
              "TensorShape([10])"
            ]
          },
          "metadata": {},
          "execution_count": 20
        }
      ]
    },
    {
      "cell_type": "code",
      "source": [
        "X = tf.expand_dims(X, axis = -1)"
      ],
      "metadata": {
        "id": "s86ZIiNdjq9g"
      },
      "execution_count": 21,
      "outputs": []
    },
    {
      "cell_type": "code",
      "source": [
        "# Create a model using the Sequential API\n",
        "# losses - mae - absolute mean error\n",
        "# Optimizer - SGD - Stochastic Gradient Descent\n",
        "\n",
        "model = tf.keras.Sequential([\n",
        "                             tf.keras.layers.Dense(1)\n",
        "])\n",
        "\n",
        "# Compile the model\n",
        "model.compile(loss = tf.keras.losses.mae, \n",
        "              optimizer = tf.keras.optimizers.SGD(),\n",
        "              metrics = ['mae'])\n",
        "\n",
        "# Fit the model\n",
        "model.fit(X, y, epochs = 5)"
      ],
      "metadata": {
        "colab": {
          "base_uri": "https://localhost:8080/"
        },
        "id": "cXhtyM3tjdNt",
        "outputId": "3092c874-1439-4e84-dd41-7a67cfc1873b"
      },
      "execution_count": 22,
      "outputs": [
        {
          "output_type": "stream",
          "name": "stdout",
          "text": [
            "Epoch 1/5\n",
            "1/1 [==============================] - 1s 614ms/step - loss: 142.3487 - mae: 142.3487\n",
            "Epoch 2/5\n",
            "1/1 [==============================] - 0s 10ms/step - loss: 130.7037 - mae: 130.7037\n",
            "Epoch 3/5\n",
            "1/1 [==============================] - 0s 10ms/step - loss: 119.0588 - mae: 119.0588\n",
            "Epoch 4/5\n",
            "1/1 [==============================] - 0s 8ms/step - loss: 107.4139 - mae: 107.4139\n",
            "Epoch 5/5\n",
            "1/1 [==============================] - 0s 14ms/step - loss: 95.7690 - mae: 95.7690\n"
          ]
        },
        {
          "output_type": "execute_result",
          "data": {
            "text/plain": [
              "<keras.callbacks.History at 0x7f5e14637310>"
            ]
          },
          "metadata": {},
          "execution_count": 22
        }
      ]
    },
    {
      "cell_type": "code",
      "source": [
        "# Lets predict our output values\n",
        "X, y"
      ],
      "metadata": {
        "colab": {
          "base_uri": "https://localhost:8080/"
        },
        "id": "_7xFPZ9djuRO",
        "outputId": "efa33aaf-d025-464b-c703-bac12ec29ef5"
      },
      "execution_count": 23,
      "outputs": [
        {
          "output_type": "execute_result",
          "data": {
            "text/plain": [
              "(<tf.Tensor: shape=(10, 1), dtype=float64, numpy=\n",
              " array([[20. ],\n",
              "        [ 4. ],\n",
              "        [ 2.2],\n",
              "        [ 7. ],\n",
              "        [99. ],\n",
              "        [44. ],\n",
              "        [31. ],\n",
              "        [ 9.9],\n",
              "        [51. ],\n",
              "        [73. ]])>, <tf.Tensor: shape=(10,), dtype=float64, numpy=\n",
              " array([111. ,  79. ,  75.4,  85. , 269. , 159. , 133. ,  90.8, 173. ,\n",
              "        217. ])>)"
            ]
          },
          "metadata": {},
          "execution_count": 23
        }
      ]
    },
    {
      "cell_type": "code",
      "source": [
        "model.predict(tf.expand_dims([20], axis = -1))"
      ],
      "metadata": {
        "colab": {
          "base_uri": "https://localhost:8080/"
        },
        "id": "hELohLyGkyCV",
        "outputId": "b02fa4a0-a911-4a2b-de3a-c8059e684cfa"
      },
      "execution_count": 24,
      "outputs": [
        {
          "output_type": "execute_result",
          "data": {
            "text/plain": [
              "array([[32.325546]], dtype=float32)"
            ]
          },
          "metadata": {},
          "execution_count": 24
        }
      ]
    },
    {
      "cell_type": "code",
      "source": [
        "# y = 2x + 71"
      ],
      "metadata": {
        "id": "AlvElqd8k3fI"
      },
      "execution_count": 25,
      "outputs": []
    },
    {
      "cell_type": "code",
      "source": [
        "tf.expand_dims([20], axis = -1)"
      ],
      "metadata": {
        "colab": {
          "base_uri": "https://localhost:8080/"
        },
        "id": "ZKWGKep0lO89",
        "outputId": "0bf98819-a477-4e30-ca22-d2cda2623da6"
      },
      "execution_count": 26,
      "outputs": [
        {
          "output_type": "execute_result",
          "data": {
            "text/plain": [
              "<tf.Tensor: shape=(1, 1), dtype=int32, numpy=array([[20]], dtype=int32)>"
            ]
          },
          "metadata": {},
          "execution_count": 26
        }
      ]
    },
    {
      "cell_type": "code",
      "source": [
        "# As we can see our values are almost 95 off"
      ],
      "metadata": {
        "id": "Drmt2syHlRLw"
      },
      "execution_count": 27,
      "outputs": []
    },
    {
      "cell_type": "markdown",
      "source": [
        "## To improve our model, we alter almost every part of the 3 steps we went through before.\n",
        "\n",
        "* **Creating a model** - here you might want to add more layers, increase the number of hidden units (also called neurons) within each layer, change the activation functions of each layer.\n",
        "* **Compiling a model** - you might want to choose optimization function or perhaps change the learning rate of the optimization function.\n",
        "* **Fitting a model** - perhaps you could fit a model for more epochs (leave it training for longer) or on more data (give the model more examples to learn from)."
      ],
      "metadata": {
        "id": "qKzSLgu2oBJX"
      }
    },
    {
      "cell_type": "markdown",
      "source": [
        "## Improving Our Model"
      ],
      "metadata": {
        "id": "s4rbQAe2lrOi"
      }
    },
    {
      "cell_type": "code",
      "source": [
        "# Rebulding the model for better performance"
      ],
      "metadata": {
        "id": "M91AKHCJlujy"
      },
      "execution_count": 28,
      "outputs": []
    },
    {
      "cell_type": "code",
      "source": [
        "# Create the model\n",
        "model = tf.keras.Sequential()\n",
        "model.add(tf.keras.layers.Dense(1))\n",
        "\n",
        "# Compile the model\n",
        "model.compile(loss = tf.keras.losses.mae,\n",
        "              optimizer = tf.keras.optimizers.SGD(),\n",
        "              metrics = ['mae'])\n",
        "# Fit the model\n",
        "model.fit(X, y, epochs = 100)"
      ],
      "metadata": {
        "colab": {
          "base_uri": "https://localhost:8080/"
        },
        "id": "o5b9qMJ9-ruO",
        "outputId": "a36470ba-9f99-4fcd-c810-99704be45a9b"
      },
      "execution_count": 29,
      "outputs": [
        {
          "output_type": "stream",
          "name": "stdout",
          "text": [
            "Epoch 1/100\n",
            "1/1 [==============================] - 0s 365ms/step - loss: 97.3207 - mae: 97.3207\n",
            "Epoch 2/100\n",
            "1/1 [==============================] - 0s 15ms/step - loss: 85.6758 - mae: 85.6758\n",
            "Epoch 3/100\n",
            "1/1 [==============================] - 0s 12ms/step - loss: 74.0308 - mae: 74.0308\n",
            "Epoch 4/100\n",
            "1/1 [==============================] - 0s 11ms/step - loss: 62.3859 - mae: 62.3859\n",
            "Epoch 5/100\n",
            "1/1 [==============================] - 0s 30ms/step - loss: 50.7410 - mae: 50.7410\n",
            "Epoch 6/100\n",
            "1/1 [==============================] - 0s 11ms/step - loss: 43.3965 - mae: 43.3965\n",
            "Epoch 7/100\n",
            "1/1 [==============================] - 0s 9ms/step - loss: 42.8775 - mae: 42.8775\n",
            "Epoch 8/100\n",
            "1/1 [==============================] - 0s 9ms/step - loss: 42.8731 - mae: 42.8731\n",
            "Epoch 9/100\n",
            "1/1 [==============================] - 0s 9ms/step - loss: 42.8686 - mae: 42.8686\n",
            "Epoch 10/100\n",
            "1/1 [==============================] - 0s 8ms/step - loss: 42.8642 - mae: 42.8642\n",
            "Epoch 11/100\n",
            "1/1 [==============================] - 0s 8ms/step - loss: 42.8598 - mae: 42.8598\n",
            "Epoch 12/100\n",
            "1/1 [==============================] - 0s 8ms/step - loss: 42.8553 - mae: 42.8553\n",
            "Epoch 13/100\n",
            "1/1 [==============================] - 0s 10ms/step - loss: 42.8509 - mae: 42.8509\n",
            "Epoch 14/100\n",
            "1/1 [==============================] - 0s 8ms/step - loss: 42.8464 - mae: 42.8464\n",
            "Epoch 15/100\n",
            "1/1 [==============================] - 0s 9ms/step - loss: 42.8420 - mae: 42.8420\n",
            "Epoch 16/100\n",
            "1/1 [==============================] - 0s 7ms/step - loss: 42.8375 - mae: 42.8375\n",
            "Epoch 17/100\n",
            "1/1 [==============================] - 0s 6ms/step - loss: 42.8331 - mae: 42.8331\n",
            "Epoch 18/100\n",
            "1/1 [==============================] - 0s 6ms/step - loss: 42.8287 - mae: 42.8287\n",
            "Epoch 19/100\n",
            "1/1 [==============================] - 0s 6ms/step - loss: 42.8242 - mae: 42.8242\n",
            "Epoch 20/100\n",
            "1/1 [==============================] - 0s 10ms/step - loss: 42.8198 - mae: 42.8198\n",
            "Epoch 21/100\n",
            "1/1 [==============================] - 0s 8ms/step - loss: 42.8153 - mae: 42.8153\n",
            "Epoch 22/100\n",
            "1/1 [==============================] - 0s 8ms/step - loss: 42.8109 - mae: 42.8109\n",
            "Epoch 23/100\n",
            "1/1 [==============================] - 0s 7ms/step - loss: 42.8065 - mae: 42.8065\n",
            "Epoch 24/100\n",
            "1/1 [==============================] - 0s 8ms/step - loss: 42.8020 - mae: 42.8020\n",
            "Epoch 25/100\n",
            "1/1 [==============================] - 0s 7ms/step - loss: 42.7976 - mae: 42.7976\n",
            "Epoch 26/100\n",
            "1/1 [==============================] - 0s 7ms/step - loss: 42.7931 - mae: 42.7931\n",
            "Epoch 27/100\n",
            "1/1 [==============================] - 0s 7ms/step - loss: 42.7887 - mae: 42.7887\n",
            "Epoch 28/100\n",
            "1/1 [==============================] - 0s 7ms/step - loss: 42.7843 - mae: 42.7843\n",
            "Epoch 29/100\n",
            "1/1 [==============================] - 0s 7ms/step - loss: 42.7798 - mae: 42.7798\n",
            "Epoch 30/100\n",
            "1/1 [==============================] - 0s 6ms/step - loss: 42.7754 - mae: 42.7754\n",
            "Epoch 31/100\n",
            "1/1 [==============================] - 0s 7ms/step - loss: 42.7709 - mae: 42.7709\n",
            "Epoch 32/100\n",
            "1/1 [==============================] - 0s 8ms/step - loss: 42.7665 - mae: 42.7665\n",
            "Epoch 33/100\n",
            "1/1 [==============================] - 0s 9ms/step - loss: 42.7621 - mae: 42.7621\n",
            "Epoch 34/100\n",
            "1/1 [==============================] - 0s 8ms/step - loss: 42.7576 - mae: 42.7576\n",
            "Epoch 35/100\n",
            "1/1 [==============================] - 0s 8ms/step - loss: 42.7532 - mae: 42.7532\n",
            "Epoch 36/100\n",
            "1/1 [==============================] - 0s 7ms/step - loss: 42.7487 - mae: 42.7487\n",
            "Epoch 37/100\n",
            "1/1 [==============================] - 0s 7ms/step - loss: 42.7443 - mae: 42.7443\n",
            "Epoch 38/100\n",
            "1/1 [==============================] - 0s 8ms/step - loss: 42.7398 - mae: 42.7398\n",
            "Epoch 39/100\n",
            "1/1 [==============================] - 0s 8ms/step - loss: 42.7354 - mae: 42.7354\n",
            "Epoch 40/100\n",
            "1/1 [==============================] - 0s 8ms/step - loss: 42.7310 - mae: 42.7310\n",
            "Epoch 41/100\n",
            "1/1 [==============================] - 0s 8ms/step - loss: 42.7265 - mae: 42.7265\n",
            "Epoch 42/100\n",
            "1/1 [==============================] - 0s 11ms/step - loss: 42.7221 - mae: 42.7221\n",
            "Epoch 43/100\n",
            "1/1 [==============================] - 0s 9ms/step - loss: 42.7176 - mae: 42.7176\n",
            "Epoch 44/100\n",
            "1/1 [==============================] - 0s 8ms/step - loss: 42.7132 - mae: 42.7132\n",
            "Epoch 45/100\n",
            "1/1 [==============================] - 0s 8ms/step - loss: 42.7369 - mae: 42.7369\n",
            "Epoch 46/100\n",
            "1/1 [==============================] - 0s 8ms/step - loss: 42.7455 - mae: 42.7455\n",
            "Epoch 47/100\n",
            "1/1 [==============================] - 0s 10ms/step - loss: 42.7410 - mae: 42.7410\n",
            "Epoch 48/100\n",
            "1/1 [==============================] - 0s 8ms/step - loss: 42.7366 - mae: 42.7366\n",
            "Epoch 49/100\n",
            "1/1 [==============================] - 0s 7ms/step - loss: 42.7321 - mae: 42.7321\n",
            "Epoch 50/100\n",
            "1/1 [==============================] - 0s 8ms/step - loss: 42.7277 - mae: 42.7277\n",
            "Epoch 51/100\n",
            "1/1 [==============================] - 0s 9ms/step - loss: 42.7233 - mae: 42.7233\n",
            "Epoch 52/100\n",
            "1/1 [==============================] - 0s 11ms/step - loss: 42.7188 - mae: 42.7188\n",
            "Epoch 53/100\n",
            "1/1 [==============================] - 0s 8ms/step - loss: 42.7144 - mae: 42.7144\n",
            "Epoch 54/100\n",
            "1/1 [==============================] - 0s 7ms/step - loss: 42.7099 - mae: 42.7099\n",
            "Epoch 55/100\n",
            "1/1 [==============================] - 0s 10ms/step - loss: 42.7055 - mae: 42.7055\n",
            "Epoch 56/100\n",
            "1/1 [==============================] - 0s 11ms/step - loss: 42.7010 - mae: 42.7010\n",
            "Epoch 57/100\n",
            "1/1 [==============================] - 0s 10ms/step - loss: 42.6966 - mae: 42.6966\n",
            "Epoch 58/100\n",
            "1/1 [==============================] - 0s 9ms/step - loss: 42.6922 - mae: 42.6922\n",
            "Epoch 59/100\n",
            "1/1 [==============================] - 0s 9ms/step - loss: 42.6877 - mae: 42.6877\n",
            "Epoch 60/100\n",
            "1/1 [==============================] - 0s 11ms/step - loss: 42.6833 - mae: 42.6833\n",
            "Epoch 61/100\n",
            "1/1 [==============================] - 0s 9ms/step - loss: 42.6788 - mae: 42.6788\n",
            "Epoch 62/100\n",
            "1/1 [==============================] - 0s 9ms/step - loss: 42.6744 - mae: 42.6744\n",
            "Epoch 63/100\n",
            "1/1 [==============================] - 0s 8ms/step - loss: 42.6700 - mae: 42.6700\n",
            "Epoch 64/100\n",
            "1/1 [==============================] - 0s 8ms/step - loss: 42.6655 - mae: 42.6655\n",
            "Epoch 65/100\n",
            "1/1 [==============================] - 0s 8ms/step - loss: 42.6611 - mae: 42.6611\n",
            "Epoch 66/100\n",
            "1/1 [==============================] - 0s 9ms/step - loss: 42.6566 - mae: 42.6566\n",
            "Epoch 67/100\n",
            "1/1 [==============================] - 0s 8ms/step - loss: 42.6522 - mae: 42.6522\n",
            "Epoch 68/100\n",
            "1/1 [==============================] - 0s 9ms/step - loss: 42.6478 - mae: 42.6478\n",
            "Epoch 69/100\n",
            "1/1 [==============================] - 0s 9ms/step - loss: 42.6433 - mae: 42.6433\n",
            "Epoch 70/100\n",
            "1/1 [==============================] - 0s 8ms/step - loss: 42.6389 - mae: 42.6389\n",
            "Epoch 71/100\n",
            "1/1 [==============================] - 0s 7ms/step - loss: 42.6344 - mae: 42.6344\n",
            "Epoch 72/100\n",
            "1/1 [==============================] - 0s 6ms/step - loss: 42.6300 - mae: 42.6300\n",
            "Epoch 73/100\n",
            "1/1 [==============================] - 0s 7ms/step - loss: 42.6256 - mae: 42.6256\n",
            "Epoch 74/100\n",
            "1/1 [==============================] - 0s 6ms/step - loss: 42.6211 - mae: 42.6211\n",
            "Epoch 75/100\n",
            "1/1 [==============================] - 0s 8ms/step - loss: 42.6167 - mae: 42.6167\n",
            "Epoch 76/100\n",
            "1/1 [==============================] - 0s 8ms/step - loss: 42.6122 - mae: 42.6122\n",
            "Epoch 77/100\n",
            "1/1 [==============================] - 0s 8ms/step - loss: 42.6078 - mae: 42.6078\n",
            "Epoch 78/100\n",
            "1/1 [==============================] - 0s 9ms/step - loss: 42.6033 - mae: 42.6033\n",
            "Epoch 79/100\n",
            "1/1 [==============================] - 0s 7ms/step - loss: 42.5989 - mae: 42.5989\n",
            "Epoch 80/100\n",
            "1/1 [==============================] - 0s 7ms/step - loss: 42.5945 - mae: 42.5945\n",
            "Epoch 81/100\n",
            "1/1 [==============================] - 0s 7ms/step - loss: 42.5900 - mae: 42.5900\n",
            "Epoch 82/100\n",
            "1/1 [==============================] - 0s 7ms/step - loss: 42.5856 - mae: 42.5856\n",
            "Epoch 83/100\n",
            "1/1 [==============================] - 0s 7ms/step - loss: 42.5811 - mae: 42.5811\n",
            "Epoch 84/100\n",
            "1/1 [==============================] - 0s 6ms/step - loss: 42.5767 - mae: 42.5767\n",
            "Epoch 85/100\n",
            "1/1 [==============================] - 0s 7ms/step - loss: 42.5723 - mae: 42.5723\n",
            "Epoch 86/100\n",
            "1/1 [==============================] - 0s 7ms/step - loss: 42.5678 - mae: 42.5678\n",
            "Epoch 87/100\n",
            "1/1 [==============================] - 0s 8ms/step - loss: 42.5634 - mae: 42.5634\n",
            "Epoch 88/100\n",
            "1/1 [==============================] - 0s 9ms/step - loss: 42.5589 - mae: 42.5589\n",
            "Epoch 89/100\n",
            "1/1 [==============================] - 0s 8ms/step - loss: 42.5545 - mae: 42.5545\n",
            "Epoch 90/100\n",
            "1/1 [==============================] - 0s 8ms/step - loss: 42.5501 - mae: 42.5501\n",
            "Epoch 91/100\n",
            "1/1 [==============================] - 0s 9ms/step - loss: 42.5456 - mae: 42.5456\n",
            "Epoch 92/100\n",
            "1/1 [==============================] - 0s 10ms/step - loss: 42.5412 - mae: 42.5412\n",
            "Epoch 93/100\n",
            "1/1 [==============================] - 0s 9ms/step - loss: 42.5367 - mae: 42.5367\n",
            "Epoch 94/100\n",
            "1/1 [==============================] - 0s 8ms/step - loss: 42.5323 - mae: 42.5323\n",
            "Epoch 95/100\n",
            "1/1 [==============================] - 0s 8ms/step - loss: 42.5279 - mae: 42.5279\n",
            "Epoch 96/100\n",
            "1/1 [==============================] - 0s 8ms/step - loss: 42.5234 - mae: 42.5234\n",
            "Epoch 97/100\n",
            "1/1 [==============================] - 0s 11ms/step - loss: 42.5543 - mae: 42.5543\n",
            "Epoch 98/100\n",
            "1/1 [==============================] - 0s 10ms/step - loss: 42.5557 - mae: 42.5557\n",
            "Epoch 99/100\n",
            "1/1 [==============================] - 0s 10ms/step - loss: 42.5512 - mae: 42.5512\n",
            "Epoch 100/100\n",
            "1/1 [==============================] - 0s 9ms/step - loss: 42.5468 - mae: 42.5468\n"
          ]
        },
        {
          "output_type": "execute_result",
          "data": {
            "text/plain": [
              "<keras.callbacks.History at 0x7f5e1458cb10>"
            ]
          },
          "metadata": {},
          "execution_count": 29
        }
      ]
    },
    {
      "cell_type": "code",
      "source": [
        "X, y"
      ],
      "metadata": {
        "colab": {
          "base_uri": "https://localhost:8080/"
        },
        "id": "KvhXeHix_2jh",
        "outputId": "2f9eaa79-a0c0-4c5b-e5a9-3d74af530531"
      },
      "execution_count": 30,
      "outputs": [
        {
          "output_type": "execute_result",
          "data": {
            "text/plain": [
              "(<tf.Tensor: shape=(10, 1), dtype=float64, numpy=\n",
              " array([[20. ],\n",
              "        [ 4. ],\n",
              "        [ 2.2],\n",
              "        [ 7. ],\n",
              "        [99. ],\n",
              "        [44. ],\n",
              "        [31. ],\n",
              "        [ 9.9],\n",
              "        [51. ],\n",
              "        [73. ]])>, <tf.Tensor: shape=(10,), dtype=float64, numpy=\n",
              " array([111. ,  79. ,  75.4,  85. , 269. , 159. , 133. ,  90.8, 173. ,\n",
              "        217. ])>)"
            ]
          },
          "metadata": {},
          "execution_count": 30
        }
      ]
    },
    {
      "cell_type": "code",
      "source": [
        "# Lets see whether our model's prediction has imporved\n",
        "model.predict(tf.expand_dims([20], axis = -1))"
      ],
      "metadata": {
        "colab": {
          "base_uri": "https://localhost:8080/"
        },
        "id": "vj5sNdmeAXDh",
        "outputId": "efde58ed-282d-4c3c-8500-6fa71341a802"
      },
      "execution_count": 31,
      "outputs": [
        {
          "output_type": "execute_result",
          "data": {
            "text/plain": [
              "array([[62.553223]], dtype=float32)"
            ]
          },
          "metadata": {},
          "execution_count": 31
        }
      ]
    },
    {
      "cell_type": "code",
      "source": [
        "# Lets change the optimizer & see if the performance of the models enhances\n",
        "model = tf.keras.Sequential(\n",
        "    tf.keras.layers.Dense(1)\n",
        ")\n",
        "\n",
        "model.compile(loss = tf.keras.losses.mae,\n",
        "              optimizer = tf.keras.optimizers.Adam(lr = 0.0001),\n",
        "              metrics = ['mae'])\n",
        "\n",
        "model.fit(X,y, epochs = 100)\n"
      ],
      "metadata": {
        "colab": {
          "base_uri": "https://localhost:8080/"
        },
        "id": "Uqi3UNVGAy9P",
        "outputId": "b4c4a2fe-616f-409b-9d5a-99e2bf66e9f3"
      },
      "execution_count": 32,
      "outputs": [
        {
          "output_type": "stream",
          "name": "stderr",
          "text": [
            "/usr/local/lib/python3.7/dist-packages/keras/optimizer_v2/adam.py:105: UserWarning: The `lr` argument is deprecated, use `learning_rate` instead.\n",
            "  super(Adam, self).__init__(name, **kwargs)\n"
          ]
        },
        {
          "output_type": "stream",
          "name": "stdout",
          "text": [
            "Epoch 1/100\n",
            "1/1 [==============================] - 0s 357ms/step - loss: 92.3874 - mae: 92.3874\n",
            "Epoch 2/100\n",
            "1/1 [==============================] - 0s 10ms/step - loss: 92.3839 - mae: 92.3839\n",
            "Epoch 3/100\n",
            "1/1 [==============================] - 0s 11ms/step - loss: 92.3803 - mae: 92.3803\n",
            "Epoch 4/100\n",
            "1/1 [==============================] - 0s 11ms/step - loss: 92.3768 - mae: 92.3768\n",
            "Epoch 5/100\n",
            "1/1 [==============================] - 0s 9ms/step - loss: 92.3733 - mae: 92.3733\n",
            "Epoch 6/100\n",
            "1/1 [==============================] - 0s 8ms/step - loss: 92.3698 - mae: 92.3698\n",
            "Epoch 7/100\n",
            "1/1 [==============================] - 0s 8ms/step - loss: 92.3663 - mae: 92.3663\n",
            "Epoch 8/100\n",
            "1/1 [==============================] - 0s 12ms/step - loss: 92.3628 - mae: 92.3628\n",
            "Epoch 9/100\n",
            "1/1 [==============================] - 0s 8ms/step - loss: 92.3593 - mae: 92.3593\n",
            "Epoch 10/100\n",
            "1/1 [==============================] - 0s 8ms/step - loss: 92.3558 - mae: 92.3558\n",
            "Epoch 11/100\n",
            "1/1 [==============================] - 0s 9ms/step - loss: 92.3522 - mae: 92.3522\n",
            "Epoch 12/100\n",
            "1/1 [==============================] - 0s 9ms/step - loss: 92.3487 - mae: 92.3487\n",
            "Epoch 13/100\n",
            "1/1 [==============================] - 0s 9ms/step - loss: 92.3452 - mae: 92.3452\n",
            "Epoch 14/100\n",
            "1/1 [==============================] - 0s 9ms/step - loss: 92.3417 - mae: 92.3417\n",
            "Epoch 15/100\n",
            "1/1 [==============================] - 0s 16ms/step - loss: 92.3382 - mae: 92.3382\n",
            "Epoch 16/100\n",
            "1/1 [==============================] - 0s 17ms/step - loss: 92.3347 - mae: 92.3347\n",
            "Epoch 17/100\n",
            "1/1 [==============================] - 0s 13ms/step - loss: 92.3312 - mae: 92.3312\n",
            "Epoch 18/100\n",
            "1/1 [==============================] - 0s 8ms/step - loss: 92.3277 - mae: 92.3277\n",
            "Epoch 19/100\n",
            "1/1 [==============================] - 0s 9ms/step - loss: 92.3242 - mae: 92.3242\n",
            "Epoch 20/100\n",
            "1/1 [==============================] - 0s 8ms/step - loss: 92.3206 - mae: 92.3206\n",
            "Epoch 21/100\n",
            "1/1 [==============================] - 0s 8ms/step - loss: 92.3171 - mae: 92.3171\n",
            "Epoch 22/100\n",
            "1/1 [==============================] - 0s 9ms/step - loss: 92.3136 - mae: 92.3136\n",
            "Epoch 23/100\n",
            "1/1 [==============================] - 0s 8ms/step - loss: 92.3101 - mae: 92.3101\n",
            "Epoch 24/100\n",
            "1/1 [==============================] - 0s 10ms/step - loss: 92.3066 - mae: 92.3066\n",
            "Epoch 25/100\n",
            "1/1 [==============================] - 0s 10ms/step - loss: 92.3031 - mae: 92.3031\n",
            "Epoch 26/100\n",
            "1/1 [==============================] - 0s 12ms/step - loss: 92.2996 - mae: 92.2996\n",
            "Epoch 27/100\n",
            "1/1 [==============================] - 0s 7ms/step - loss: 92.2961 - mae: 92.2961\n",
            "Epoch 28/100\n",
            "1/1 [==============================] - 0s 9ms/step - loss: 92.2925 - mae: 92.2925\n",
            "Epoch 29/100\n",
            "1/1 [==============================] - 0s 8ms/step - loss: 92.2890 - mae: 92.2890\n",
            "Epoch 30/100\n",
            "1/1 [==============================] - 0s 7ms/step - loss: 92.2855 - mae: 92.2855\n",
            "Epoch 31/100\n",
            "1/1 [==============================] - 0s 11ms/step - loss: 92.2820 - mae: 92.2820\n",
            "Epoch 32/100\n",
            "1/1 [==============================] - 0s 10ms/step - loss: 92.2785 - mae: 92.2785\n",
            "Epoch 33/100\n",
            "1/1 [==============================] - 0s 7ms/step - loss: 92.2750 - mae: 92.2750\n",
            "Epoch 34/100\n",
            "1/1 [==============================] - 0s 9ms/step - loss: 92.2715 - mae: 92.2715\n",
            "Epoch 35/100\n",
            "1/1 [==============================] - 0s 8ms/step - loss: 92.2680 - mae: 92.2680\n",
            "Epoch 36/100\n",
            "1/1 [==============================] - 0s 8ms/step - loss: 92.2645 - mae: 92.2645\n",
            "Epoch 37/100\n",
            "1/1 [==============================] - 0s 7ms/step - loss: 92.2609 - mae: 92.2609\n",
            "Epoch 38/100\n",
            "1/1 [==============================] - 0s 9ms/step - loss: 92.2574 - mae: 92.2574\n",
            "Epoch 39/100\n",
            "1/1 [==============================] - 0s 8ms/step - loss: 92.2539 - mae: 92.2539\n",
            "Epoch 40/100\n",
            "1/1 [==============================] - 0s 9ms/step - loss: 92.2504 - mae: 92.2504\n",
            "Epoch 41/100\n",
            "1/1 [==============================] - 0s 9ms/step - loss: 92.2469 - mae: 92.2469\n",
            "Epoch 42/100\n",
            "1/1 [==============================] - 0s 14ms/step - loss: 92.2434 - mae: 92.2434\n",
            "Epoch 43/100\n",
            "1/1 [==============================] - 0s 8ms/step - loss: 92.2399 - mae: 92.2399\n",
            "Epoch 44/100\n",
            "1/1 [==============================] - 0s 8ms/step - loss: 92.2364 - mae: 92.2364\n",
            "Epoch 45/100\n",
            "1/1 [==============================] - 0s 9ms/step - loss: 92.2328 - mae: 92.2328\n",
            "Epoch 46/100\n",
            "1/1 [==============================] - 0s 10ms/step - loss: 92.2293 - mae: 92.2293\n",
            "Epoch 47/100\n",
            "1/1 [==============================] - 0s 11ms/step - loss: 92.2258 - mae: 92.2258\n",
            "Epoch 48/100\n",
            "1/1 [==============================] - 0s 8ms/step - loss: 92.2223 - mae: 92.2223\n",
            "Epoch 49/100\n",
            "1/1 [==============================] - 0s 12ms/step - loss: 92.2188 - mae: 92.2188\n",
            "Epoch 50/100\n",
            "1/1 [==============================] - 0s 9ms/step - loss: 92.2153 - mae: 92.2153\n",
            "Epoch 51/100\n",
            "1/1 [==============================] - 0s 9ms/step - loss: 92.2118 - mae: 92.2118\n",
            "Epoch 52/100\n",
            "1/1 [==============================] - 0s 9ms/step - loss: 92.2083 - mae: 92.2083\n",
            "Epoch 53/100\n",
            "1/1 [==============================] - 0s 9ms/step - loss: 92.2048 - mae: 92.2048\n",
            "Epoch 54/100\n",
            "1/1 [==============================] - 0s 7ms/step - loss: 92.2012 - mae: 92.2012\n",
            "Epoch 55/100\n",
            "1/1 [==============================] - 0s 10ms/step - loss: 92.1977 - mae: 92.1977\n",
            "Epoch 56/100\n",
            "1/1 [==============================] - 0s 10ms/step - loss: 92.1942 - mae: 92.1942\n",
            "Epoch 57/100\n",
            "1/1 [==============================] - 0s 8ms/step - loss: 92.1907 - mae: 92.1907\n",
            "Epoch 58/100\n",
            "1/1 [==============================] - 0s 8ms/step - loss: 92.1872 - mae: 92.1872\n",
            "Epoch 59/100\n",
            "1/1 [==============================] - 0s 7ms/step - loss: 92.1837 - mae: 92.1837\n",
            "Epoch 60/100\n",
            "1/1 [==============================] - 0s 10ms/step - loss: 92.1802 - mae: 92.1802\n",
            "Epoch 61/100\n",
            "1/1 [==============================] - 0s 8ms/step - loss: 92.1767 - mae: 92.1767\n",
            "Epoch 62/100\n",
            "1/1 [==============================] - 0s 8ms/step - loss: 92.1731 - mae: 92.1731\n",
            "Epoch 63/100\n",
            "1/1 [==============================] - 0s 10ms/step - loss: 92.1696 - mae: 92.1696\n",
            "Epoch 64/100\n",
            "1/1 [==============================] - 0s 7ms/step - loss: 92.1661 - mae: 92.1661\n",
            "Epoch 65/100\n",
            "1/1 [==============================] - 0s 8ms/step - loss: 92.1626 - mae: 92.1626\n",
            "Epoch 66/100\n",
            "1/1 [==============================] - 0s 9ms/step - loss: 92.1591 - mae: 92.1591\n",
            "Epoch 67/100\n",
            "1/1 [==============================] - 0s 7ms/step - loss: 92.1556 - mae: 92.1556\n",
            "Epoch 68/100\n",
            "1/1 [==============================] - 0s 7ms/step - loss: 92.1521 - mae: 92.1521\n",
            "Epoch 69/100\n",
            "1/1 [==============================] - 0s 7ms/step - loss: 92.1486 - mae: 92.1486\n",
            "Epoch 70/100\n",
            "1/1 [==============================] - 0s 11ms/step - loss: 92.1451 - mae: 92.1451\n",
            "Epoch 71/100\n",
            "1/1 [==============================] - 0s 13ms/step - loss: 92.1415 - mae: 92.1415\n",
            "Epoch 72/100\n",
            "1/1 [==============================] - 0s 12ms/step - loss: 92.1380 - mae: 92.1380\n",
            "Epoch 73/100\n",
            "1/1 [==============================] - 0s 11ms/step - loss: 92.1345 - mae: 92.1345\n",
            "Epoch 74/100\n",
            "1/1 [==============================] - 0s 9ms/step - loss: 92.1310 - mae: 92.1310\n",
            "Epoch 75/100\n",
            "1/1 [==============================] - 0s 9ms/step - loss: 92.1275 - mae: 92.1275\n",
            "Epoch 76/100\n",
            "1/1 [==============================] - 0s 8ms/step - loss: 92.1240 - mae: 92.1240\n",
            "Epoch 77/100\n",
            "1/1 [==============================] - 0s 8ms/step - loss: 92.1205 - mae: 92.1205\n",
            "Epoch 78/100\n",
            "1/1 [==============================] - 0s 8ms/step - loss: 92.1170 - mae: 92.1170\n",
            "Epoch 79/100\n",
            "1/1 [==============================] - 0s 7ms/step - loss: 92.1135 - mae: 92.1135\n",
            "Epoch 80/100\n",
            "1/1 [==============================] - 0s 8ms/step - loss: 92.1099 - mae: 92.1099\n",
            "Epoch 81/100\n",
            "1/1 [==============================] - 0s 8ms/step - loss: 92.1064 - mae: 92.1064\n",
            "Epoch 82/100\n",
            "1/1 [==============================] - 0s 8ms/step - loss: 92.1029 - mae: 92.1029\n",
            "Epoch 83/100\n",
            "1/1 [==============================] - 0s 9ms/step - loss: 92.0994 - mae: 92.0994\n",
            "Epoch 84/100\n",
            "1/1 [==============================] - 0s 9ms/step - loss: 92.0959 - mae: 92.0959\n",
            "Epoch 85/100\n",
            "1/1 [==============================] - 0s 8ms/step - loss: 92.0924 - mae: 92.0924\n",
            "Epoch 86/100\n",
            "1/1 [==============================] - 0s 8ms/step - loss: 92.0889 - mae: 92.0889\n",
            "Epoch 87/100\n",
            "1/1 [==============================] - 0s 8ms/step - loss: 92.0854 - mae: 92.0854\n",
            "Epoch 88/100\n",
            "1/1 [==============================] - 0s 8ms/step - loss: 92.0818 - mae: 92.0818\n",
            "Epoch 89/100\n",
            "1/1 [==============================] - 0s 8ms/step - loss: 92.0783 - mae: 92.0783\n",
            "Epoch 90/100\n",
            "1/1 [==============================] - 0s 13ms/step - loss: 92.0748 - mae: 92.0748\n",
            "Epoch 91/100\n",
            "1/1 [==============================] - 0s 13ms/step - loss: 92.0713 - mae: 92.0713\n",
            "Epoch 92/100\n",
            "1/1 [==============================] - 0s 8ms/step - loss: 92.0678 - mae: 92.0678\n",
            "Epoch 93/100\n",
            "1/1 [==============================] - 0s 8ms/step - loss: 92.0643 - mae: 92.0643\n",
            "Epoch 94/100\n",
            "1/1 [==============================] - 0s 11ms/step - loss: 92.0608 - mae: 92.0608\n",
            "Epoch 95/100\n",
            "1/1 [==============================] - 0s 8ms/step - loss: 92.0573 - mae: 92.0573\n",
            "Epoch 96/100\n",
            "1/1 [==============================] - 0s 12ms/step - loss: 92.0538 - mae: 92.0538\n",
            "Epoch 97/100\n",
            "1/1 [==============================] - 0s 23ms/step - loss: 92.0502 - mae: 92.0502\n",
            "Epoch 98/100\n",
            "1/1 [==============================] - 0s 11ms/step - loss: 92.0467 - mae: 92.0467\n",
            "Epoch 99/100\n",
            "1/1 [==============================] - 0s 9ms/step - loss: 92.0432 - mae: 92.0432\n",
            "Epoch 100/100\n",
            "1/1 [==============================] - 0s 9ms/step - loss: 92.0397 - mae: 92.0397\n"
          ]
        },
        {
          "output_type": "execute_result",
          "data": {
            "text/plain": [
              "<keras.callbacks.History at 0x7f5e1449cb50>"
            ]
          },
          "metadata": {},
          "execution_count": 32
        }
      ]
    },
    {
      "cell_type": "code",
      "source": [
        "# Lets add more Dense Layers & Activation Layers & see if the performance of the models enhances\n",
        "model = tf.keras.Sequential([\n",
        "    tf.keras.layers.Dense(10),\n",
        "    tf.keras.layers.Dense(10),\n",
        "    tf.keras.layers.Dense(1)]\n",
        ")\n",
        "\n",
        "model.compile(loss = tf.keras.losses.mae,\n",
        "              optimizer = tf.keras.optimizers.Adam(lr = 0.001),\n",
        "              metrics = ['mae'])\n",
        "\n",
        "model.fit(X,y, epochs = 100)"
      ],
      "metadata": {
        "colab": {
          "base_uri": "https://localhost:8080/"
        },
        "id": "oe967a2bCRYI",
        "outputId": "6e6aa633-9f9a-4a03-f7dc-6fb3b7bfab9b"
      },
      "execution_count": 33,
      "outputs": [
        {
          "output_type": "stream",
          "name": "stdout",
          "text": [
            "Epoch 1/100\n"
          ]
        },
        {
          "output_type": "stream",
          "name": "stderr",
          "text": [
            "/usr/local/lib/python3.7/dist-packages/keras/optimizer_v2/adam.py:105: UserWarning: The `lr` argument is deprecated, use `learning_rate` instead.\n",
            "  super(Adam, self).__init__(name, **kwargs)\n"
          ]
        },
        {
          "output_type": "stream",
          "name": "stdout",
          "text": [
            "1/1 [==============================] - 1s 528ms/step - loss: 160.4643 - mae: 160.4643\n",
            "Epoch 2/100\n",
            "1/1 [==============================] - 0s 11ms/step - loss: 159.7009 - mae: 159.7009\n",
            "Epoch 3/100\n",
            "1/1 [==============================] - 0s 9ms/step - loss: 158.9388 - mae: 158.9388\n",
            "Epoch 4/100\n",
            "1/1 [==============================] - 0s 13ms/step - loss: 158.1773 - mae: 158.1773\n",
            "Epoch 5/100\n",
            "1/1 [==============================] - 0s 12ms/step - loss: 157.4165 - mae: 157.4165\n",
            "Epoch 6/100\n",
            "1/1 [==============================] - 0s 11ms/step - loss: 156.6559 - mae: 156.6559\n",
            "Epoch 7/100\n",
            "1/1 [==============================] - 0s 10ms/step - loss: 155.8956 - mae: 155.8956\n",
            "Epoch 8/100\n",
            "1/1 [==============================] - 0s 10ms/step - loss: 155.1355 - mae: 155.1355\n",
            "Epoch 9/100\n",
            "1/1 [==============================] - 0s 16ms/step - loss: 154.3752 - mae: 154.3752\n",
            "Epoch 10/100\n",
            "1/1 [==============================] - 0s 12ms/step - loss: 153.6148 - mae: 153.6148\n",
            "Epoch 11/100\n",
            "1/1 [==============================] - 0s 14ms/step - loss: 152.8540 - mae: 152.8540\n",
            "Epoch 12/100\n",
            "1/1 [==============================] - 0s 13ms/step - loss: 152.0928 - mae: 152.0928\n",
            "Epoch 13/100\n",
            "1/1 [==============================] - 0s 21ms/step - loss: 151.3311 - mae: 151.3311\n",
            "Epoch 14/100\n",
            "1/1 [==============================] - 0s 15ms/step - loss: 150.5688 - mae: 150.5688\n",
            "Epoch 15/100\n",
            "1/1 [==============================] - 0s 13ms/step - loss: 149.8058 - mae: 149.8058\n",
            "Epoch 16/100\n",
            "1/1 [==============================] - 0s 12ms/step - loss: 149.0420 - mae: 149.0420\n",
            "Epoch 17/100\n",
            "1/1 [==============================] - 0s 16ms/step - loss: 148.2773 - mae: 148.2773\n",
            "Epoch 18/100\n",
            "1/1 [==============================] - 0s 13ms/step - loss: 147.5116 - mae: 147.5116\n",
            "Epoch 19/100\n",
            "1/1 [==============================] - 0s 11ms/step - loss: 146.7448 - mae: 146.7448\n",
            "Epoch 20/100\n",
            "1/1 [==============================] - 0s 14ms/step - loss: 145.9767 - mae: 145.9767\n",
            "Epoch 21/100\n",
            "1/1 [==============================] - 0s 11ms/step - loss: 145.2074 - mae: 145.2074\n",
            "Epoch 22/100\n",
            "1/1 [==============================] - 0s 14ms/step - loss: 144.4365 - mae: 144.4365\n",
            "Epoch 23/100\n",
            "1/1 [==============================] - 0s 10ms/step - loss: 143.6640 - mae: 143.6640\n",
            "Epoch 24/100\n",
            "1/1 [==============================] - 0s 10ms/step - loss: 142.8898 - mae: 142.8898\n",
            "Epoch 25/100\n",
            "1/1 [==============================] - 0s 13ms/step - loss: 142.1137 - mae: 142.1137\n",
            "Epoch 26/100\n",
            "1/1 [==============================] - 0s 8ms/step - loss: 141.3356 - mae: 141.3356\n",
            "Epoch 27/100\n",
            "1/1 [==============================] - 0s 8ms/step - loss: 140.5553 - mae: 140.5553\n",
            "Epoch 28/100\n",
            "1/1 [==============================] - 0s 8ms/step - loss: 139.7727 - mae: 139.7727\n",
            "Epoch 29/100\n",
            "1/1 [==============================] - 0s 8ms/step - loss: 138.9875 - mae: 138.9875\n",
            "Epoch 30/100\n",
            "1/1 [==============================] - 0s 9ms/step - loss: 138.1998 - mae: 138.1998\n",
            "Epoch 31/100\n",
            "1/1 [==============================] - 0s 7ms/step - loss: 137.4093 - mae: 137.4093\n",
            "Epoch 32/100\n",
            "1/1 [==============================] - 0s 6ms/step - loss: 136.6159 - mae: 136.6159\n",
            "Epoch 33/100\n",
            "1/1 [==============================] - 0s 7ms/step - loss: 135.8194 - mae: 135.8194\n",
            "Epoch 34/100\n",
            "1/1 [==============================] - 0s 12ms/step - loss: 135.0196 - mae: 135.0196\n",
            "Epoch 35/100\n",
            "1/1 [==============================] - 0s 7ms/step - loss: 134.2165 - mae: 134.2165\n",
            "Epoch 36/100\n",
            "1/1 [==============================] - 0s 7ms/step - loss: 133.4098 - mae: 133.4098\n",
            "Epoch 37/100\n",
            "1/1 [==============================] - 0s 6ms/step - loss: 132.5994 - mae: 132.5994\n",
            "Epoch 38/100\n",
            "1/1 [==============================] - 0s 7ms/step - loss: 131.7851 - mae: 131.7851\n",
            "Epoch 39/100\n",
            "1/1 [==============================] - 0s 7ms/step - loss: 130.9668 - mae: 130.9668\n",
            "Epoch 40/100\n",
            "1/1 [==============================] - 0s 7ms/step - loss: 130.1444 - mae: 130.1444\n",
            "Epoch 41/100\n",
            "1/1 [==============================] - 0s 9ms/step - loss: 129.3175 - mae: 129.3175\n",
            "Epoch 42/100\n",
            "1/1 [==============================] - 0s 8ms/step - loss: 128.4862 - mae: 128.4862\n",
            "Epoch 43/100\n",
            "1/1 [==============================] - 0s 7ms/step - loss: 127.6501 - mae: 127.6501\n",
            "Epoch 44/100\n",
            "1/1 [==============================] - 0s 8ms/step - loss: 126.8092 - mae: 126.8092\n",
            "Epoch 45/100\n",
            "1/1 [==============================] - 0s 8ms/step - loss: 125.9634 - mae: 125.9634\n",
            "Epoch 46/100\n",
            "1/1 [==============================] - 0s 7ms/step - loss: 125.1124 - mae: 125.1124\n",
            "Epoch 47/100\n",
            "1/1 [==============================] - 0s 7ms/step - loss: 124.2560 - mae: 124.2560\n",
            "Epoch 48/100\n",
            "1/1 [==============================] - 0s 7ms/step - loss: 123.3942 - mae: 123.3942\n",
            "Epoch 49/100\n",
            "1/1 [==============================] - 0s 7ms/step - loss: 122.5269 - mae: 122.5269\n",
            "Epoch 50/100\n",
            "1/1 [==============================] - 0s 7ms/step - loss: 121.6538 - mae: 121.6538\n",
            "Epoch 51/100\n",
            "1/1 [==============================] - 0s 7ms/step - loss: 120.7748 - mae: 120.7748\n",
            "Epoch 52/100\n",
            "1/1 [==============================] - 0s 7ms/step - loss: 119.8898 - mae: 119.8898\n",
            "Epoch 53/100\n",
            "1/1 [==============================] - 0s 7ms/step - loss: 118.9986 - mae: 118.9986\n",
            "Epoch 54/100\n",
            "1/1 [==============================] - 0s 7ms/step - loss: 118.1012 - mae: 118.1012\n",
            "Epoch 55/100\n",
            "1/1 [==============================] - 0s 7ms/step - loss: 117.1973 - mae: 117.1973\n",
            "Epoch 56/100\n",
            "1/1 [==============================] - 0s 8ms/step - loss: 116.2869 - mae: 116.2869\n",
            "Epoch 57/100\n",
            "1/1 [==============================] - 0s 7ms/step - loss: 115.3698 - mae: 115.3698\n",
            "Epoch 58/100\n",
            "1/1 [==============================] - 0s 11ms/step - loss: 114.4459 - mae: 114.4459\n",
            "Epoch 59/100\n",
            "1/1 [==============================] - 0s 10ms/step - loss: 113.5150 - mae: 113.5150\n",
            "Epoch 60/100\n",
            "1/1 [==============================] - 0s 9ms/step - loss: 112.5771 - mae: 112.5771\n",
            "Epoch 61/100\n",
            "1/1 [==============================] - 0s 7ms/step - loss: 111.6320 - mae: 111.6320\n",
            "Epoch 62/100\n",
            "1/1 [==============================] - 0s 8ms/step - loss: 110.6796 - mae: 110.6796\n",
            "Epoch 63/100\n",
            "1/1 [==============================] - 0s 8ms/step - loss: 109.7198 - mae: 109.7198\n",
            "Epoch 64/100\n",
            "1/1 [==============================] - 0s 8ms/step - loss: 108.7523 - mae: 108.7523\n",
            "Epoch 65/100\n",
            "1/1 [==============================] - 0s 7ms/step - loss: 107.7772 - mae: 107.7772\n",
            "Epoch 66/100\n",
            "1/1 [==============================] - 0s 9ms/step - loss: 106.7942 - mae: 106.7942\n",
            "Epoch 67/100\n",
            "1/1 [==============================] - 0s 10ms/step - loss: 105.8033 - mae: 105.8033\n",
            "Epoch 68/100\n",
            "1/1 [==============================] - 0s 9ms/step - loss: 104.8043 - mae: 104.8043\n",
            "Epoch 69/100\n",
            "1/1 [==============================] - 0s 10ms/step - loss: 103.7971 - mae: 103.7971\n",
            "Epoch 70/100\n",
            "1/1 [==============================] - 0s 9ms/step - loss: 102.7815 - mae: 102.7815\n",
            "Epoch 71/100\n",
            "1/1 [==============================] - 0s 11ms/step - loss: 101.7574 - mae: 101.7574\n",
            "Epoch 72/100\n",
            "1/1 [==============================] - 0s 10ms/step - loss: 100.7247 - mae: 100.7247\n",
            "Epoch 73/100\n",
            "1/1 [==============================] - 0s 10ms/step - loss: 99.6833 - mae: 99.6833\n",
            "Epoch 74/100\n",
            "1/1 [==============================] - 0s 11ms/step - loss: 98.6330 - mae: 98.6330\n",
            "Epoch 75/100\n",
            "1/1 [==============================] - 0s 9ms/step - loss: 97.5737 - mae: 97.5737\n",
            "Epoch 76/100\n",
            "1/1 [==============================] - 0s 14ms/step - loss: 96.5052 - mae: 96.5052\n",
            "Epoch 77/100\n",
            "1/1 [==============================] - 0s 12ms/step - loss: 95.4275 - mae: 95.4275\n",
            "Epoch 78/100\n",
            "1/1 [==============================] - 0s 11ms/step - loss: 94.3403 - mae: 94.3403\n",
            "Epoch 79/100\n",
            "1/1 [==============================] - 0s 13ms/step - loss: 93.2435 - mae: 93.2435\n",
            "Epoch 80/100\n",
            "1/1 [==============================] - 0s 11ms/step - loss: 92.1371 - mae: 92.1371\n",
            "Epoch 81/100\n",
            "1/1 [==============================] - 0s 11ms/step - loss: 91.0208 - mae: 91.0208\n",
            "Epoch 82/100\n",
            "1/1 [==============================] - 0s 23ms/step - loss: 89.8945 - mae: 89.8945\n",
            "Epoch 83/100\n",
            "1/1 [==============================] - 0s 10ms/step - loss: 88.7581 - mae: 88.7581\n",
            "Epoch 84/100\n",
            "1/1 [==============================] - 0s 12ms/step - loss: 87.6115 - mae: 87.6115\n",
            "Epoch 85/100\n",
            "1/1 [==============================] - 0s 10ms/step - loss: 86.4545 - mae: 86.4545\n",
            "Epoch 86/100\n",
            "1/1 [==============================] - 0s 10ms/step - loss: 85.2869 - mae: 85.2869\n",
            "Epoch 87/100\n",
            "1/1 [==============================] - 0s 17ms/step - loss: 84.1086 - mae: 84.1086\n",
            "Epoch 88/100\n",
            "1/1 [==============================] - 0s 9ms/step - loss: 82.9195 - mae: 82.9195\n",
            "Epoch 89/100\n",
            "1/1 [==============================] - 0s 9ms/step - loss: 81.7194 - mae: 81.7194\n",
            "Epoch 90/100\n",
            "1/1 [==============================] - 0s 12ms/step - loss: 80.5082 - mae: 80.5082\n",
            "Epoch 91/100\n",
            "1/1 [==============================] - 0s 10ms/step - loss: 79.2858 - mae: 79.2858\n",
            "Epoch 92/100\n",
            "1/1 [==============================] - 0s 8ms/step - loss: 78.0519 - mae: 78.0519\n",
            "Epoch 93/100\n",
            "1/1 [==============================] - 0s 17ms/step - loss: 76.8065 - mae: 76.8065\n",
            "Epoch 94/100\n",
            "1/1 [==============================] - 0s 9ms/step - loss: 75.5494 - mae: 75.5494\n",
            "Epoch 95/100\n",
            "1/1 [==============================] - 0s 14ms/step - loss: 74.2804 - mae: 74.2804\n",
            "Epoch 96/100\n",
            "1/1 [==============================] - 0s 9ms/step - loss: 72.9994 - mae: 72.9994\n",
            "Epoch 97/100\n",
            "1/1 [==============================] - 0s 7ms/step - loss: 71.7063 - mae: 71.7063\n",
            "Epoch 98/100\n",
            "1/1 [==============================] - 0s 8ms/step - loss: 70.4009 - mae: 70.4009\n",
            "Epoch 99/100\n",
            "1/1 [==============================] - 0s 8ms/step - loss: 69.0830 - mae: 69.0830\n",
            "Epoch 100/100\n",
            "1/1 [==============================] - 0s 12ms/step - loss: 67.7525 - mae: 67.7525\n"
          ]
        },
        {
          "output_type": "execute_result",
          "data": {
            "text/plain": [
              "<keras.callbacks.History at 0x7f5e143f6290>"
            ]
          },
          "metadata": {},
          "execution_count": 33
        }
      ]
    },
    {
      "cell_type": "code",
      "source": [
        "# Lets see whether our model's prediction has imporved\n",
        "model.predict(tf.expand_dims([20], axis = -1))"
      ],
      "metadata": {
        "colab": {
          "base_uri": "https://localhost:8080/"
        },
        "id": "5BUK7tsWC1QE",
        "outputId": "b9a928c7-f211-45e3-ee36-c508c2af5f28"
      },
      "execution_count": 34,
      "outputs": [
        {
          "output_type": "execute_result",
          "data": {
            "text/plain": [
              "array([[43.16188]], dtype=float32)"
            ]
          },
          "metadata": {},
          "execution_count": 34
        }
      ]
    },
    {
      "cell_type": "code",
      "source": [
        "# Looks like the performance of the model is rather going down.\n",
        "# Lets add activation funcitons ReLU\n",
        "# Lets add more Dense Layers & Activation Layers & see if the performance of the models enhances\n",
        "model_reg = tf.keras.Sequential([\n",
        "    tf.keras.layers.Dense(100, activation='relu'),\n",
        "    tf.keras.layers.Dense(100, activation='relu'),\n",
        "    tf.keras.layers.Dense(100, activation='relu'),\n",
        "    tf.keras.layers.Dense(1)]\n",
        ")\n",
        "\n",
        "model_reg.compile(loss = tf.keras.losses.mae,\n",
        "              optimizer = tf.keras.optimizers.Adam(learning_rate=0.01),\n",
        "              metrics = ['mae'])\n",
        "\n",
        "model_reg.fit(X,y, epochs = 1000)"
      ],
      "metadata": {
        "colab": {
          "base_uri": "https://localhost:8080/"
        },
        "id": "MTHy_iYgDHQZ",
        "outputId": "4003eebb-27e6-411b-f68f-97538e683cd3"
      },
      "execution_count": 35,
      "outputs": [
        {
          "output_type": "stream",
          "name": "stdout",
          "text": [
            "Epoch 1/1000\n",
            "1/1 [==============================] - 0s 484ms/step - loss: 142.2459 - mae: 142.2459\n",
            "Epoch 2/1000\n",
            "1/1 [==============================] - 0s 7ms/step - loss: 130.7875 - mae: 130.7875\n",
            "Epoch 3/1000\n",
            "1/1 [==============================] - 0s 8ms/step - loss: 120.2838 - mae: 120.2838\n",
            "Epoch 4/1000\n",
            "1/1 [==============================] - 0s 8ms/step - loss: 105.3297 - mae: 105.3297\n",
            "Epoch 5/1000\n",
            "1/1 [==============================] - 0s 9ms/step - loss: 84.0296 - mae: 84.0296\n",
            "Epoch 6/1000\n",
            "1/1 [==============================] - 0s 9ms/step - loss: 54.0538 - mae: 54.0538\n",
            "Epoch 7/1000\n",
            "1/1 [==============================] - 0s 9ms/step - loss: 46.1509 - mae: 46.1509\n",
            "Epoch 8/1000\n",
            "1/1 [==============================] - 0s 19ms/step - loss: 61.4335 - mae: 61.4335\n",
            "Epoch 9/1000\n",
            "1/1 [==============================] - 0s 11ms/step - loss: 63.3706 - mae: 63.3706\n",
            "Epoch 10/1000\n",
            "1/1 [==============================] - 0s 9ms/step - loss: 55.0649 - mae: 55.0649\n",
            "Epoch 11/1000\n",
            "1/1 [==============================] - 0s 10ms/step - loss: 45.3120 - mae: 45.3120\n",
            "Epoch 12/1000\n",
            "1/1 [==============================] - 0s 8ms/step - loss: 41.4283 - mae: 41.4283\n",
            "Epoch 13/1000\n",
            "1/1 [==============================] - 0s 7ms/step - loss: 46.6958 - mae: 46.6958\n",
            "Epoch 14/1000\n",
            "1/1 [==============================] - 0s 11ms/step - loss: 51.2028 - mae: 51.2028\n",
            "Epoch 15/1000\n",
            "1/1 [==============================] - 0s 20ms/step - loss: 48.8360 - mae: 48.8360\n",
            "Epoch 16/1000\n",
            "1/1 [==============================] - 0s 16ms/step - loss: 42.7886 - mae: 42.7886\n",
            "Epoch 17/1000\n",
            "1/1 [==============================] - 0s 12ms/step - loss: 40.5818 - mae: 40.5818\n",
            "Epoch 18/1000\n",
            "1/1 [==============================] - 0s 16ms/step - loss: 41.1452 - mae: 41.1452\n",
            "Epoch 19/1000\n",
            "1/1 [==============================] - 0s 13ms/step - loss: 43.8391 - mae: 43.8391\n",
            "Epoch 20/1000\n",
            "1/1 [==============================] - 0s 13ms/step - loss: 44.4629 - mae: 44.4629\n",
            "Epoch 21/1000\n",
            "1/1 [==============================] - 0s 10ms/step - loss: 42.2412 - mae: 42.2412\n",
            "Epoch 22/1000\n",
            "1/1 [==============================] - 0s 10ms/step - loss: 39.6070 - mae: 39.6070\n",
            "Epoch 23/1000\n",
            "1/1 [==============================] - 0s 10ms/step - loss: 39.5066 - mae: 39.5066\n",
            "Epoch 24/1000\n",
            "1/1 [==============================] - 0s 10ms/step - loss: 39.4064 - mae: 39.4064\n",
            "Epoch 25/1000\n",
            "1/1 [==============================] - 0s 8ms/step - loss: 41.0555 - mae: 41.0555\n",
            "Epoch 26/1000\n",
            "1/1 [==============================] - 0s 11ms/step - loss: 41.5448 - mae: 41.5448\n",
            "Epoch 27/1000\n",
            "1/1 [==============================] - 0s 9ms/step - loss: 40.7438 - mae: 40.7438\n",
            "Epoch 28/1000\n",
            "1/1 [==============================] - 0s 11ms/step - loss: 38.7183 - mae: 38.7183\n",
            "Epoch 29/1000\n",
            "1/1 [==============================] - 0s 10ms/step - loss: 38.3375 - mae: 38.3375\n",
            "Epoch 30/1000\n",
            "1/1 [==============================] - 0s 11ms/step - loss: 38.2513 - mae: 38.2513\n",
            "Epoch 31/1000\n",
            "1/1 [==============================] - 0s 15ms/step - loss: 39.1764 - mae: 39.1764\n",
            "Epoch 32/1000\n",
            "1/1 [==============================] - 0s 13ms/step - loss: 39.3295 - mae: 39.3295\n",
            "Epoch 33/1000\n",
            "1/1 [==============================] - 0s 12ms/step - loss: 38.7654 - mae: 38.7654\n",
            "Epoch 34/1000\n",
            "1/1 [==============================] - 0s 10ms/step - loss: 37.5795 - mae: 37.5795\n",
            "Epoch 35/1000\n",
            "1/1 [==============================] - 0s 27ms/step - loss: 37.0138 - mae: 37.0138\n",
            "Epoch 36/1000\n",
            "1/1 [==============================] - 0s 8ms/step - loss: 36.9212 - mae: 36.9212\n",
            "Epoch 37/1000\n",
            "1/1 [==============================] - 0s 8ms/step - loss: 36.8130 - mae: 36.8130\n",
            "Epoch 38/1000\n",
            "1/1 [==============================] - 0s 18ms/step - loss: 37.9018 - mae: 37.9018\n",
            "Epoch 39/1000\n",
            "1/1 [==============================] - 0s 21ms/step - loss: 37.4987 - mae: 37.4987\n",
            "Epoch 40/1000\n",
            "1/1 [==============================] - 0s 13ms/step - loss: 36.0937 - mae: 36.0937\n",
            "Epoch 41/1000\n",
            "1/1 [==============================] - 0s 17ms/step - loss: 35.7194 - mae: 35.7194\n",
            "Epoch 42/1000\n",
            "1/1 [==============================] - 0s 14ms/step - loss: 35.3272 - mae: 35.3272\n",
            "Epoch 43/1000\n",
            "1/1 [==============================] - 0s 11ms/step - loss: 35.0887 - mae: 35.0887\n",
            "Epoch 44/1000\n",
            "1/1 [==============================] - 0s 10ms/step - loss: 35.1225 - mae: 35.1225\n",
            "Epoch 45/1000\n",
            "1/1 [==============================] - 0s 9ms/step - loss: 34.4890 - mae: 34.4890\n",
            "Epoch 46/1000\n",
            "1/1 [==============================] - 0s 16ms/step - loss: 34.2202 - mae: 34.2202\n",
            "Epoch 47/1000\n",
            "1/1 [==============================] - 0s 11ms/step - loss: 34.0466 - mae: 34.0466\n",
            "Epoch 48/1000\n",
            "1/1 [==============================] - 0s 11ms/step - loss: 33.8482 - mae: 33.8482\n",
            "Epoch 49/1000\n",
            "1/1 [==============================] - 0s 9ms/step - loss: 33.6070 - mae: 33.6070\n",
            "Epoch 50/1000\n",
            "1/1 [==============================] - 0s 10ms/step - loss: 33.3276 - mae: 33.3276\n",
            "Epoch 51/1000\n",
            "1/1 [==============================] - 0s 10ms/step - loss: 33.0171 - mae: 33.0171\n",
            "Epoch 52/1000\n",
            "1/1 [==============================] - 0s 15ms/step - loss: 32.6866 - mae: 32.6866\n",
            "Epoch 53/1000\n",
            "1/1 [==============================] - 0s 8ms/step - loss: 32.0937 - mae: 32.0937\n",
            "Epoch 54/1000\n",
            "1/1 [==============================] - 0s 10ms/step - loss: 31.4746 - mae: 31.4746\n",
            "Epoch 55/1000\n",
            "1/1 [==============================] - 0s 11ms/step - loss: 31.5411 - mae: 31.5411\n",
            "Epoch 56/1000\n",
            "1/1 [==============================] - 0s 10ms/step - loss: 31.5091 - mae: 31.5091\n",
            "Epoch 57/1000\n",
            "1/1 [==============================] - 0s 10ms/step - loss: 30.7498 - mae: 30.7498\n",
            "Epoch 58/1000\n",
            "1/1 [==============================] - 0s 8ms/step - loss: 29.6389 - mae: 29.6389\n",
            "Epoch 59/1000\n",
            "1/1 [==============================] - 0s 8ms/step - loss: 29.2905 - mae: 29.2905\n",
            "Epoch 60/1000\n",
            "1/1 [==============================] - 0s 8ms/step - loss: 28.8034 - mae: 28.8034\n",
            "Epoch 61/1000\n",
            "1/1 [==============================] - 0s 7ms/step - loss: 28.2958 - mae: 28.2958\n",
            "Epoch 62/1000\n",
            "1/1 [==============================] - 0s 9ms/step - loss: 27.6760 - mae: 27.6760\n",
            "Epoch 63/1000\n",
            "1/1 [==============================] - 0s 7ms/step - loss: 26.9589 - mae: 26.9589\n",
            "Epoch 64/1000\n",
            "1/1 [==============================] - 0s 7ms/step - loss: 26.1437 - mae: 26.1437\n",
            "Epoch 65/1000\n",
            "1/1 [==============================] - 0s 7ms/step - loss: 25.2402 - mae: 25.2402\n",
            "Epoch 66/1000\n",
            "1/1 [==============================] - 0s 8ms/step - loss: 24.4838 - mae: 24.4838\n",
            "Epoch 67/1000\n",
            "1/1 [==============================] - 0s 7ms/step - loss: 23.2711 - mae: 23.2711\n",
            "Epoch 68/1000\n",
            "1/1 [==============================] - 0s 6ms/step - loss: 22.1911 - mae: 22.1911\n",
            "Epoch 69/1000\n",
            "1/1 [==============================] - 0s 7ms/step - loss: 20.9837 - mae: 20.9837\n",
            "Epoch 70/1000\n",
            "1/1 [==============================] - 0s 7ms/step - loss: 19.7921 - mae: 19.7921\n",
            "Epoch 71/1000\n",
            "1/1 [==============================] - 0s 6ms/step - loss: 18.5603 - mae: 18.5603\n",
            "Epoch 72/1000\n",
            "1/1 [==============================] - 0s 10ms/step - loss: 16.8234 - mae: 16.8234\n",
            "Epoch 73/1000\n",
            "1/1 [==============================] - 0s 13ms/step - loss: 14.9998 - mae: 14.9998\n",
            "Epoch 74/1000\n",
            "1/1 [==============================] - 0s 9ms/step - loss: 13.8397 - mae: 13.8397\n",
            "Epoch 75/1000\n",
            "1/1 [==============================] - 0s 13ms/step - loss: 12.1894 - mae: 12.1894\n",
            "Epoch 76/1000\n",
            "1/1 [==============================] - 0s 11ms/step - loss: 9.2321 - mae: 9.2321\n",
            "Epoch 77/1000\n",
            "1/1 [==============================] - 0s 19ms/step - loss: 9.5189 - mae: 9.5189\n",
            "Epoch 78/1000\n",
            "1/1 [==============================] - 0s 13ms/step - loss: 5.8337 - mae: 5.8337\n",
            "Epoch 79/1000\n",
            "1/1 [==============================] - 0s 17ms/step - loss: 9.5642 - mae: 9.5642\n",
            "Epoch 80/1000\n",
            "1/1 [==============================] - 0s 9ms/step - loss: 2.6695 - mae: 2.6695\n",
            "Epoch 81/1000\n",
            "1/1 [==============================] - 0s 10ms/step - loss: 20.4488 - mae: 20.4488\n",
            "Epoch 82/1000\n",
            "1/1 [==============================] - 0s 10ms/step - loss: 24.1756 - mae: 24.1756\n",
            "Epoch 83/1000\n",
            "1/1 [==============================] - 0s 15ms/step - loss: 15.8973 - mae: 15.8973\n",
            "Epoch 84/1000\n",
            "1/1 [==============================] - 0s 14ms/step - loss: 7.4764 - mae: 7.4764\n",
            "Epoch 85/1000\n",
            "1/1 [==============================] - 0s 15ms/step - loss: 10.6579 - mae: 10.6579\n",
            "Epoch 86/1000\n",
            "1/1 [==============================] - 0s 19ms/step - loss: 8.9943 - mae: 8.9943\n",
            "Epoch 87/1000\n",
            "1/1 [==============================] - 0s 16ms/step - loss: 9.4581 - mae: 9.4581\n",
            "Epoch 88/1000\n",
            "1/1 [==============================] - 0s 14ms/step - loss: 6.1719 - mae: 6.1719\n",
            "Epoch 89/1000\n",
            "1/1 [==============================] - 0s 14ms/step - loss: 8.7554 - mae: 8.7554\n",
            "Epoch 90/1000\n",
            "1/1 [==============================] - 0s 12ms/step - loss: 5.9314 - mae: 5.9314\n",
            "Epoch 91/1000\n",
            "1/1 [==============================] - 0s 15ms/step - loss: 5.1046 - mae: 5.1046\n",
            "Epoch 92/1000\n",
            "1/1 [==============================] - 0s 11ms/step - loss: 4.3990 - mae: 4.3990\n",
            "Epoch 93/1000\n",
            "1/1 [==============================] - 0s 9ms/step - loss: 4.5342 - mae: 4.5342\n",
            "Epoch 94/1000\n",
            "1/1 [==============================] - 0s 8ms/step - loss: 4.0148 - mae: 4.0148\n",
            "Epoch 95/1000\n",
            "1/1 [==============================] - 0s 8ms/step - loss: 3.8921 - mae: 3.8921\n",
            "Epoch 96/1000\n",
            "1/1 [==============================] - 0s 8ms/step - loss: 3.9703 - mae: 3.9703\n",
            "Epoch 97/1000\n",
            "1/1 [==============================] - 0s 8ms/step - loss: 3.6301 - mae: 3.6301\n",
            "Epoch 98/1000\n",
            "1/1 [==============================] - 0s 9ms/step - loss: 3.2960 - mae: 3.2960\n",
            "Epoch 99/1000\n",
            "1/1 [==============================] - 0s 10ms/step - loss: 3.0870 - mae: 3.0870\n",
            "Epoch 100/1000\n",
            "1/1 [==============================] - 0s 8ms/step - loss: 2.6600 - mae: 2.6600\n",
            "Epoch 101/1000\n",
            "1/1 [==============================] - 0s 8ms/step - loss: 3.0296 - mae: 3.0296\n",
            "Epoch 102/1000\n",
            "1/1 [==============================] - 0s 10ms/step - loss: 7.8020 - mae: 7.8020\n",
            "Epoch 103/1000\n",
            "1/1 [==============================] - 0s 10ms/step - loss: 3.7072 - mae: 3.7072\n",
            "Epoch 104/1000\n",
            "1/1 [==============================] - 0s 10ms/step - loss: 11.3093 - mae: 11.3093\n",
            "Epoch 105/1000\n",
            "1/1 [==============================] - 0s 13ms/step - loss: 13.1807 - mae: 13.1807\n",
            "Epoch 106/1000\n",
            "1/1 [==============================] - 0s 18ms/step - loss: 5.3603 - mae: 5.3603\n",
            "Epoch 107/1000\n",
            "1/1 [==============================] - 0s 14ms/step - loss: 13.9629 - mae: 13.9629\n",
            "Epoch 108/1000\n",
            "1/1 [==============================] - 0s 19ms/step - loss: 17.7323 - mae: 17.7323\n",
            "Epoch 109/1000\n",
            "1/1 [==============================] - 0s 19ms/step - loss: 8.0845 - mae: 8.0845\n",
            "Epoch 110/1000\n",
            "1/1 [==============================] - 0s 22ms/step - loss: 11.1973 - mae: 11.1973\n",
            "Epoch 111/1000\n",
            "1/1 [==============================] - 0s 12ms/step - loss: 17.6640 - mae: 17.6640\n",
            "Epoch 112/1000\n",
            "1/1 [==============================] - 0s 21ms/step - loss: 14.3465 - mae: 14.3465\n",
            "Epoch 113/1000\n",
            "1/1 [==============================] - 0s 20ms/step - loss: 2.3248 - mae: 2.3248\n",
            "Epoch 114/1000\n",
            "1/1 [==============================] - 0s 14ms/step - loss: 14.6926 - mae: 14.6926\n",
            "Epoch 115/1000\n",
            "1/1 [==============================] - 0s 15ms/step - loss: 18.3355 - mae: 18.3355\n",
            "Epoch 116/1000\n",
            "1/1 [==============================] - 0s 11ms/step - loss: 9.9614 - mae: 9.9614\n",
            "Epoch 117/1000\n",
            "1/1 [==============================] - 0s 12ms/step - loss: 7.3259 - mae: 7.3259\n",
            "Epoch 118/1000\n",
            "1/1 [==============================] - 0s 15ms/step - loss: 12.9816 - mae: 12.9816\n",
            "Epoch 119/1000\n",
            "1/1 [==============================] - 0s 11ms/step - loss: 9.5536 - mae: 9.5536\n",
            "Epoch 120/1000\n",
            "1/1 [==============================] - 0s 10ms/step - loss: 3.9239 - mae: 3.9239\n",
            "Epoch 121/1000\n",
            "1/1 [==============================] - 0s 13ms/step - loss: 9.9591 - mae: 9.9591\n",
            "Epoch 122/1000\n",
            "1/1 [==============================] - 0s 14ms/step - loss: 6.6882 - mae: 6.6882\n",
            "Epoch 123/1000\n",
            "1/1 [==============================] - 0s 14ms/step - loss: 4.8381 - mae: 4.8381\n",
            "Epoch 124/1000\n",
            "1/1 [==============================] - 0s 18ms/step - loss: 6.1271 - mae: 6.1271\n",
            "Epoch 125/1000\n",
            "1/1 [==============================] - 0s 13ms/step - loss: 2.7222 - mae: 2.7222\n",
            "Epoch 126/1000\n",
            "1/1 [==============================] - 0s 9ms/step - loss: 3.8831 - mae: 3.8831\n",
            "Epoch 127/1000\n",
            "1/1 [==============================] - 0s 10ms/step - loss: 1.9536 - mae: 1.9536\n",
            "Epoch 128/1000\n",
            "1/1 [==============================] - 0s 7ms/step - loss: 2.2272 - mae: 2.2272\n",
            "Epoch 129/1000\n",
            "1/1 [==============================] - 0s 7ms/step - loss: 5.4663 - mae: 5.4663\n",
            "Epoch 130/1000\n",
            "1/1 [==============================] - 0s 7ms/step - loss: 2.8601 - mae: 2.8601\n",
            "Epoch 131/1000\n",
            "1/1 [==============================] - 0s 8ms/step - loss: 7.2859 - mae: 7.2859\n",
            "Epoch 132/1000\n",
            "1/1 [==============================] - 0s 8ms/step - loss: 8.2831 - mae: 8.2831\n",
            "Epoch 133/1000\n",
            "1/1 [==============================] - 0s 11ms/step - loss: 1.6957 - mae: 1.6957\n",
            "Epoch 134/1000\n",
            "1/1 [==============================] - 0s 8ms/step - loss: 13.0198 - mae: 13.0198\n",
            "Epoch 135/1000\n",
            "1/1 [==============================] - 0s 9ms/step - loss: 16.0698 - mae: 16.0698\n",
            "Epoch 136/1000\n",
            "1/1 [==============================] - 0s 7ms/step - loss: 8.9512 - mae: 8.9512\n",
            "Epoch 137/1000\n",
            "1/1 [==============================] - 0s 7ms/step - loss: 5.9511 - mae: 5.9511\n",
            "Epoch 138/1000\n",
            "1/1 [==============================] - 0s 8ms/step - loss: 10.8028 - mae: 10.8028\n",
            "Epoch 139/1000\n",
            "1/1 [==============================] - 0s 10ms/step - loss: 7.6256 - mae: 7.6256\n",
            "Epoch 140/1000\n",
            "1/1 [==============================] - 0s 13ms/step - loss: 3.2742 - mae: 3.2742\n",
            "Epoch 141/1000\n",
            "1/1 [==============================] - 0s 13ms/step - loss: 7.3048 - mae: 7.3048\n",
            "Epoch 142/1000\n",
            "1/1 [==============================] - 0s 20ms/step - loss: 2.7647 - mae: 2.7647\n",
            "Epoch 143/1000\n",
            "1/1 [==============================] - 0s 13ms/step - loss: 7.4405 - mae: 7.4405\n",
            "Epoch 144/1000\n",
            "1/1 [==============================] - 0s 16ms/step - loss: 8.5089 - mae: 8.5089\n",
            "Epoch 145/1000\n",
            "1/1 [==============================] - 0s 14ms/step - loss: 1.9898 - mae: 1.9898\n",
            "Epoch 146/1000\n",
            "1/1 [==============================] - 0s 15ms/step - loss: 8.5366 - mae: 8.5366\n",
            "Epoch 147/1000\n",
            "1/1 [==============================] - 0s 14ms/step - loss: 9.3429 - mae: 9.3429\n",
            "Epoch 148/1000\n",
            "1/1 [==============================] - 0s 18ms/step - loss: 1.6410 - mae: 1.6410\n",
            "Epoch 149/1000\n",
            "1/1 [==============================] - 0s 14ms/step - loss: 10.7332 - mae: 10.7332\n",
            "Epoch 150/1000\n",
            "1/1 [==============================] - 0s 13ms/step - loss: 14.0486 - mae: 14.0486\n",
            "Epoch 151/1000\n",
            "1/1 [==============================] - 0s 16ms/step - loss: 10.0985 - mae: 10.0985\n",
            "Epoch 152/1000\n",
            "1/1 [==============================] - 0s 15ms/step - loss: 1.3091 - mae: 1.3091\n",
            "Epoch 153/1000\n",
            "1/1 [==============================] - 0s 14ms/step - loss: 7.9190 - mae: 7.9190\n",
            "Epoch 154/1000\n",
            "1/1 [==============================] - 0s 18ms/step - loss: 5.6789 - mae: 5.6789\n",
            "Epoch 155/1000\n",
            "1/1 [==============================] - 0s 16ms/step - loss: 4.5548 - mae: 4.5548\n",
            "Epoch 156/1000\n",
            "1/1 [==============================] - 0s 12ms/step - loss: 6.2179 - mae: 6.2179\n",
            "Epoch 157/1000\n",
            "1/1 [==============================] - 0s 15ms/step - loss: 1.4238 - mae: 1.4238\n",
            "Epoch 158/1000\n",
            "1/1 [==============================] - 0s 10ms/step - loss: 10.1631 - mae: 10.1631\n",
            "Epoch 159/1000\n",
            "1/1 [==============================] - 0s 10ms/step - loss: 11.8605 - mae: 11.8605\n",
            "Epoch 160/1000\n",
            "1/1 [==============================] - 0s 11ms/step - loss: 5.0008 - mae: 5.0008\n",
            "Epoch 161/1000\n",
            "1/1 [==============================] - 0s 10ms/step - loss: 8.3901 - mae: 8.3901\n",
            "Epoch 162/1000\n",
            "1/1 [==============================] - 0s 15ms/step - loss: 13.0822 - mae: 13.0822\n",
            "Epoch 163/1000\n",
            "1/1 [==============================] - 0s 11ms/step - loss: 10.7966 - mae: 10.7966\n",
            "Epoch 164/1000\n",
            "1/1 [==============================] - 0s 13ms/step - loss: 2.6882 - mae: 2.6882\n",
            "Epoch 165/1000\n",
            "1/1 [==============================] - 0s 11ms/step - loss: 7.3454 - mae: 7.3454\n",
            "Epoch 166/1000\n",
            "1/1 [==============================] - 0s 11ms/step - loss: 8.1363 - mae: 8.1363\n",
            "Epoch 167/1000\n",
            "1/1 [==============================] - 0s 11ms/step - loss: 2.9550 - mae: 2.9550\n",
            "Epoch 168/1000\n",
            "1/1 [==============================] - 0s 10ms/step - loss: 7.5241 - mae: 7.5241\n",
            "Epoch 169/1000\n",
            "1/1 [==============================] - 0s 10ms/step - loss: 8.4491 - mae: 8.4491\n",
            "Epoch 170/1000\n",
            "1/1 [==============================] - 0s 10ms/step - loss: 2.5871 - mae: 2.5871\n",
            "Epoch 171/1000\n",
            "1/1 [==============================] - 0s 10ms/step - loss: 10.1947 - mae: 10.1947\n",
            "Epoch 172/1000\n",
            "1/1 [==============================] - 0s 10ms/step - loss: 14.1100 - mae: 14.1100\n",
            "Epoch 173/1000\n",
            "1/1 [==============================] - 0s 9ms/step - loss: 9.4880 - mae: 9.4880\n",
            "Epoch 174/1000\n",
            "1/1 [==============================] - 0s 15ms/step - loss: 2.1059 - mae: 2.1059\n",
            "Epoch 175/1000\n",
            "1/1 [==============================] - 0s 16ms/step - loss: 5.2265 - mae: 5.2265\n",
            "Epoch 176/1000\n",
            "1/1 [==============================] - 0s 17ms/step - loss: 1.5065 - mae: 1.5065\n",
            "Epoch 177/1000\n",
            "1/1 [==============================] - 0s 20ms/step - loss: 5.7126 - mae: 5.7126\n",
            "Epoch 178/1000\n",
            "1/1 [==============================] - 0s 11ms/step - loss: 4.5811 - mae: 4.5811\n",
            "Epoch 179/1000\n",
            "1/1 [==============================] - 0s 15ms/step - loss: 3.6726 - mae: 3.6726\n",
            "Epoch 180/1000\n",
            "1/1 [==============================] - 0s 9ms/step - loss: 4.1508 - mae: 4.1508\n",
            "Epoch 181/1000\n",
            "1/1 [==============================] - 0s 9ms/step - loss: 2.3457 - mae: 2.3457\n",
            "Epoch 182/1000\n",
            "1/1 [==============================] - 0s 12ms/step - loss: 2.0107 - mae: 2.0107\n",
            "Epoch 183/1000\n",
            "1/1 [==============================] - 0s 11ms/step - loss: 4.5488 - mae: 4.5488\n",
            "Epoch 184/1000\n",
            "1/1 [==============================] - 0s 12ms/step - loss: 4.0028 - mae: 4.0028\n",
            "Epoch 185/1000\n",
            "1/1 [==============================] - 0s 18ms/step - loss: 2.9693 - mae: 2.9693\n",
            "Epoch 186/1000\n",
            "1/1 [==============================] - 0s 13ms/step - loss: 2.1852 - mae: 2.1852\n",
            "Epoch 187/1000\n",
            "1/1 [==============================] - 0s 17ms/step - loss: 4.6886 - mae: 4.6886\n",
            "Epoch 188/1000\n",
            "1/1 [==============================] - 0s 21ms/step - loss: 4.0794 - mae: 4.0794\n",
            "Epoch 189/1000\n",
            "1/1 [==============================] - 0s 16ms/step - loss: 3.2176 - mae: 3.2176\n",
            "Epoch 190/1000\n",
            "1/1 [==============================] - 0s 14ms/step - loss: 2.7698 - mae: 2.7698\n",
            "Epoch 191/1000\n",
            "1/1 [==============================] - 0s 8ms/step - loss: 4.5367 - mae: 4.5367\n",
            "Epoch 192/1000\n",
            "1/1 [==============================] - 0s 12ms/step - loss: 4.4524 - mae: 4.4524\n",
            "Epoch 193/1000\n",
            "1/1 [==============================] - 0s 9ms/step - loss: 2.3082 - mae: 2.3082\n",
            "Epoch 194/1000\n",
            "1/1 [==============================] - 0s 9ms/step - loss: 2.3957 - mae: 2.3957\n",
            "Epoch 195/1000\n",
            "1/1 [==============================] - 0s 11ms/step - loss: 3.4752 - mae: 3.4752\n",
            "Epoch 196/1000\n",
            "1/1 [==============================] - 0s 9ms/step - loss: 2.1418 - mae: 2.1418\n",
            "Epoch 197/1000\n",
            "1/1 [==============================] - 0s 9ms/step - loss: 5.4905 - mae: 5.4905\n",
            "Epoch 198/1000\n",
            "1/1 [==============================] - 0s 15ms/step - loss: 5.2778 - mae: 5.2778\n",
            "Epoch 199/1000\n",
            "1/1 [==============================] - 0s 9ms/step - loss: 1.8829 - mae: 1.8829\n",
            "Epoch 200/1000\n",
            "1/1 [==============================] - 0s 9ms/step - loss: 2.0432 - mae: 2.0432\n",
            "Epoch 201/1000\n",
            "1/1 [==============================] - 0s 9ms/step - loss: 4.4331 - mae: 4.4331\n",
            "Epoch 202/1000\n",
            "1/1 [==============================] - 0s 11ms/step - loss: 3.3986 - mae: 3.3986\n",
            "Epoch 203/1000\n",
            "1/1 [==============================] - 0s 11ms/step - loss: 4.2233 - mae: 4.2233\n",
            "Epoch 204/1000\n",
            "1/1 [==============================] - 0s 9ms/step - loss: 4.6162 - mae: 4.6162\n",
            "Epoch 205/1000\n",
            "1/1 [==============================] - 0s 10ms/step - loss: 2.0589 - mae: 2.0589\n",
            "Epoch 206/1000\n",
            "1/1 [==============================] - 0s 9ms/step - loss: 4.0684 - mae: 4.0684\n",
            "Epoch 207/1000\n",
            "1/1 [==============================] - 0s 9ms/step - loss: 1.4819 - mae: 1.4819\n",
            "Epoch 208/1000\n",
            "1/1 [==============================] - 0s 10ms/step - loss: 3.1287 - mae: 3.1287\n",
            "Epoch 209/1000\n",
            "1/1 [==============================] - 0s 10ms/step - loss: 1.1662 - mae: 1.1662\n",
            "Epoch 210/1000\n",
            "1/1 [==============================] - 0s 9ms/step - loss: 0.9508 - mae: 0.9508\n",
            "Epoch 211/1000\n",
            "1/1 [==============================] - 0s 9ms/step - loss: 0.8579 - mae: 0.8579\n",
            "Epoch 212/1000\n",
            "1/1 [==============================] - 0s 10ms/step - loss: 1.5660 - mae: 1.5660\n",
            "Epoch 213/1000\n",
            "1/1 [==============================] - 0s 9ms/step - loss: 4.0629 - mae: 4.0629\n",
            "Epoch 214/1000\n",
            "1/1 [==============================] - 0s 9ms/step - loss: 3.1822 - mae: 3.1822\n",
            "Epoch 215/1000\n",
            "1/1 [==============================] - 0s 9ms/step - loss: 4.0636 - mae: 4.0636\n",
            "Epoch 216/1000\n",
            "1/1 [==============================] - 0s 9ms/step - loss: 3.1079 - mae: 3.1079\n",
            "Epoch 217/1000\n",
            "1/1 [==============================] - 0s 9ms/step - loss: 4.7732 - mae: 4.7732\n",
            "Epoch 218/1000\n",
            "1/1 [==============================] - 0s 9ms/step - loss: 5.1090 - mae: 5.1090\n",
            "Epoch 219/1000\n",
            "1/1 [==============================] - 0s 9ms/step - loss: 1.3131 - mae: 1.3131\n",
            "Epoch 220/1000\n",
            "1/1 [==============================] - 0s 9ms/step - loss: 1.1348 - mae: 1.1348\n",
            "Epoch 221/1000\n",
            "1/1 [==============================] - 0s 9ms/step - loss: 4.5244 - mae: 4.5244\n",
            "Epoch 222/1000\n",
            "1/1 [==============================] - 0s 10ms/step - loss: 2.8488 - mae: 2.8488\n",
            "Epoch 223/1000\n",
            "1/1 [==============================] - 0s 9ms/step - loss: 5.4755 - mae: 5.4755\n",
            "Epoch 224/1000\n",
            "1/1 [==============================] - 0s 19ms/step - loss: 5.8963 - mae: 5.8963\n",
            "Epoch 225/1000\n",
            "1/1 [==============================] - 0s 14ms/step - loss: 0.8378 - mae: 0.8378\n",
            "Epoch 226/1000\n",
            "1/1 [==============================] - 0s 12ms/step - loss: 0.6974 - mae: 0.6974\n",
            "Epoch 227/1000\n",
            "1/1 [==============================] - 0s 14ms/step - loss: 0.7988 - mae: 0.7988\n",
            "Epoch 228/1000\n",
            "1/1 [==============================] - 0s 14ms/step - loss: 2.1267 - mae: 2.1267\n",
            "Epoch 229/1000\n",
            "1/1 [==============================] - 0s 15ms/step - loss: 2.2971 - mae: 2.2971\n",
            "Epoch 230/1000\n",
            "1/1 [==============================] - 0s 15ms/step - loss: 0.8696 - mae: 0.8696\n",
            "Epoch 231/1000\n",
            "1/1 [==============================] - 0s 14ms/step - loss: 2.0798 - mae: 2.0798\n",
            "Epoch 232/1000\n",
            "1/1 [==============================] - 0s 13ms/step - loss: 2.3647 - mae: 2.3647\n",
            "Epoch 233/1000\n",
            "1/1 [==============================] - 0s 16ms/step - loss: 0.4235 - mae: 0.4235\n",
            "Epoch 234/1000\n",
            "1/1 [==============================] - 0s 16ms/step - loss: 2.1063 - mae: 2.1063\n",
            "Epoch 235/1000\n",
            "1/1 [==============================] - 0s 16ms/step - loss: 2.7661 - mae: 2.7661\n",
            "Epoch 236/1000\n",
            "1/1 [==============================] - 0s 11ms/step - loss: 0.5535 - mae: 0.5535\n",
            "Epoch 237/1000\n",
            "1/1 [==============================] - 0s 11ms/step - loss: 7.9677 - mae: 7.9677\n",
            "Epoch 238/1000\n",
            "1/1 [==============================] - 0s 11ms/step - loss: 8.4672 - mae: 8.4672\n",
            "Epoch 239/1000\n",
            "1/1 [==============================] - 0s 9ms/step - loss: 1.7518 - mae: 1.7518\n",
            "Epoch 240/1000\n",
            "1/1 [==============================] - 0s 12ms/step - loss: 10.5609 - mae: 10.5609\n",
            "Epoch 241/1000\n",
            "1/1 [==============================] - 0s 12ms/step - loss: 15.2382 - mae: 15.2382\n",
            "Epoch 242/1000\n",
            "1/1 [==============================] - 0s 17ms/step - loss: 13.7191 - mae: 13.7191\n",
            "Epoch 243/1000\n",
            "1/1 [==============================] - 0s 10ms/step - loss: 6.4932 - mae: 6.4932\n",
            "Epoch 244/1000\n",
            "1/1 [==============================] - 0s 11ms/step - loss: 6.6989 - mae: 6.6989\n",
            "Epoch 245/1000\n",
            "1/1 [==============================] - 0s 12ms/step - loss: 11.9825 - mae: 11.9825\n",
            "Epoch 246/1000\n",
            "1/1 [==============================] - 0s 15ms/step - loss: 9.4477 - mae: 9.4477\n",
            "Epoch 247/1000\n",
            "1/1 [==============================] - 0s 16ms/step - loss: 1.7282 - mae: 1.7282\n",
            "Epoch 248/1000\n",
            "1/1 [==============================] - 0s 15ms/step - loss: 9.9051 - mae: 9.9051\n",
            "Epoch 249/1000\n",
            "1/1 [==============================] - 0s 13ms/step - loss: 12.9358 - mae: 12.9358\n",
            "Epoch 250/1000\n",
            "1/1 [==============================] - 0s 9ms/step - loss: 9.9713 - mae: 9.9713\n",
            "Epoch 251/1000\n",
            "1/1 [==============================] - 0s 8ms/step - loss: 1.2626 - mae: 1.2626\n",
            "Epoch 252/1000\n",
            "1/1 [==============================] - 0s 9ms/step - loss: 13.6651 - mae: 13.6651\n",
            "Epoch 253/1000\n",
            "1/1 [==============================] - 0s 12ms/step - loss: 20.2902 - mae: 20.2902\n",
            "Epoch 254/1000\n",
            "1/1 [==============================] - 0s 7ms/step - loss: 18.5190 - mae: 18.5190\n",
            "Epoch 255/1000\n",
            "1/1 [==============================] - 0s 14ms/step - loss: 9.4734 - mae: 9.4734\n",
            "Epoch 256/1000\n",
            "1/1 [==============================] - 0s 10ms/step - loss: 4.9383 - mae: 4.9383\n",
            "Epoch 257/1000\n",
            "1/1 [==============================] - 0s 12ms/step - loss: 11.2582 - mae: 11.2582\n",
            "Epoch 258/1000\n",
            "1/1 [==============================] - 0s 20ms/step - loss: 11.2167 - mae: 11.2167\n",
            "Epoch 259/1000\n",
            "1/1 [==============================] - 0s 8ms/step - loss: 5.4898 - mae: 5.4898\n",
            "Epoch 260/1000\n",
            "1/1 [==============================] - 0s 8ms/step - loss: 6.0096 - mae: 6.0096\n",
            "Epoch 261/1000\n",
            "1/1 [==============================] - 0s 17ms/step - loss: 10.0028 - mae: 10.0028\n",
            "Epoch 262/1000\n",
            "1/1 [==============================] - 0s 8ms/step - loss: 6.7361 - mae: 6.7361\n",
            "Epoch 263/1000\n",
            "1/1 [==============================] - 0s 13ms/step - loss: 2.6138 - mae: 2.6138\n",
            "Epoch 264/1000\n",
            "1/1 [==============================] - 0s 8ms/step - loss: 4.7500 - mae: 4.7500\n",
            "Epoch 265/1000\n",
            "1/1 [==============================] - 0s 9ms/step - loss: 1.2547 - mae: 1.2547\n",
            "Epoch 266/1000\n",
            "1/1 [==============================] - 0s 9ms/step - loss: 3.9649 - mae: 3.9649\n",
            "Epoch 267/1000\n",
            "1/1 [==============================] - 0s 11ms/step - loss: 1.8579 - mae: 1.8579\n",
            "Epoch 268/1000\n",
            "1/1 [==============================] - 0s 8ms/step - loss: 4.7753 - mae: 4.7753\n",
            "Epoch 269/1000\n",
            "1/1 [==============================] - 0s 8ms/step - loss: 4.6811 - mae: 4.6811\n",
            "Epoch 270/1000\n",
            "1/1 [==============================] - 0s 12ms/step - loss: 1.4139 - mae: 1.4139\n",
            "Epoch 271/1000\n",
            "1/1 [==============================] - 0s 17ms/step - loss: 0.6813 - mae: 0.6813\n",
            "Epoch 272/1000\n",
            "1/1 [==============================] - 0s 11ms/step - loss: 4.1497 - mae: 4.1497\n",
            "Epoch 273/1000\n",
            "1/1 [==============================] - 0s 20ms/step - loss: 2.6047 - mae: 2.6047\n",
            "Epoch 274/1000\n",
            "1/1 [==============================] - 0s 15ms/step - loss: 4.4165 - mae: 4.4165\n",
            "Epoch 275/1000\n",
            "1/1 [==============================] - 0s 13ms/step - loss: 4.1969 - mae: 4.1969\n",
            "Epoch 276/1000\n",
            "1/1 [==============================] - 0s 13ms/step - loss: 2.5655 - mae: 2.5655\n",
            "Epoch 277/1000\n",
            "1/1 [==============================] - 0s 19ms/step - loss: 3.0284 - mae: 3.0284\n",
            "Epoch 278/1000\n",
            "1/1 [==============================] - 0s 14ms/step - loss: 2.1692 - mae: 2.1692\n",
            "Epoch 279/1000\n",
            "1/1 [==============================] - 0s 13ms/step - loss: 0.5378 - mae: 0.5378\n",
            "Epoch 280/1000\n",
            "1/1 [==============================] - 0s 16ms/step - loss: 6.9549 - mae: 6.9549\n",
            "Epoch 281/1000\n",
            "1/1 [==============================] - 0s 15ms/step - loss: 7.8487 - mae: 7.8487\n",
            "Epoch 282/1000\n",
            "1/1 [==============================] - 0s 9ms/step - loss: 2.9586 - mae: 2.9586\n",
            "Epoch 283/1000\n",
            "1/1 [==============================] - 0s 9ms/step - loss: 7.6882 - mae: 7.6882\n",
            "Epoch 284/1000\n",
            "1/1 [==============================] - 0s 8ms/step - loss: 10.9645 - mae: 10.9645\n",
            "Epoch 285/1000\n",
            "1/1 [==============================] - 0s 9ms/step - loss: 7.1655 - mae: 7.1655\n",
            "Epoch 286/1000\n",
            "1/1 [==============================] - 0s 13ms/step - loss: 2.4644 - mae: 2.4644\n",
            "Epoch 287/1000\n",
            "1/1 [==============================] - 0s 17ms/step - loss: 5.0069 - mae: 5.0069\n",
            "Epoch 288/1000\n",
            "1/1 [==============================] - 0s 9ms/step - loss: 1.5409 - mae: 1.5409\n",
            "Epoch 289/1000\n",
            "1/1 [==============================] - 0s 18ms/step - loss: 7.7184 - mae: 7.7184\n",
            "Epoch 290/1000\n",
            "1/1 [==============================] - 0s 20ms/step - loss: 9.7668 - mae: 9.7668\n",
            "Epoch 291/1000\n",
            "1/1 [==============================] - 0s 18ms/step - loss: 5.0842 - mae: 5.0842\n",
            "Epoch 292/1000\n",
            "1/1 [==============================] - 0s 17ms/step - loss: 5.0677 - mae: 5.0677\n",
            "Epoch 293/1000\n",
            "1/1 [==============================] - 0s 23ms/step - loss: 8.2911 - mae: 8.2911\n",
            "Epoch 294/1000\n",
            "1/1 [==============================] - 0s 25ms/step - loss: 5.7263 - mae: 5.7263\n",
            "Epoch 295/1000\n",
            "1/1 [==============================] - 0s 14ms/step - loss: 2.8890 - mae: 2.8890\n",
            "Epoch 296/1000\n",
            "1/1 [==============================] - 0s 15ms/step - loss: 5.6437 - mae: 5.6437\n",
            "Epoch 297/1000\n",
            "1/1 [==============================] - 0s 15ms/step - loss: 2.6669 - mae: 2.6669\n",
            "Epoch 298/1000\n",
            "1/1 [==============================] - 0s 10ms/step - loss: 4.4427 - mae: 4.4427\n",
            "Epoch 299/1000\n",
            "1/1 [==============================] - 0s 9ms/step - loss: 4.8648 - mae: 4.8648\n",
            "Epoch 300/1000\n",
            "1/1 [==============================] - 0s 23ms/step - loss: 0.4743 - mae: 0.4743\n",
            "Epoch 301/1000\n",
            "1/1 [==============================] - 0s 11ms/step - loss: 0.5101 - mae: 0.5101\n",
            "Epoch 302/1000\n",
            "1/1 [==============================] - 0s 12ms/step - loss: 3.9767 - mae: 3.9767\n",
            "Epoch 303/1000\n",
            "1/1 [==============================] - 0s 10ms/step - loss: 2.2597 - mae: 2.2597\n",
            "Epoch 304/1000\n",
            "1/1 [==============================] - 0s 15ms/step - loss: 4.9570 - mae: 4.9570\n",
            "Epoch 305/1000\n",
            "1/1 [==============================] - 0s 12ms/step - loss: 5.2087 - mae: 5.2087\n",
            "Epoch 306/1000\n",
            "1/1 [==============================] - 0s 9ms/step - loss: 1.2956 - mae: 1.2956\n",
            "Epoch 307/1000\n",
            "1/1 [==============================] - 0s 11ms/step - loss: 2.1545 - mae: 2.1545\n",
            "Epoch 308/1000\n",
            "1/1 [==============================] - 0s 9ms/step - loss: 2.1762 - mae: 2.1762\n",
            "Epoch 309/1000\n",
            "1/1 [==============================] - 0s 10ms/step - loss: 0.3652 - mae: 0.3652\n",
            "Epoch 310/1000\n",
            "1/1 [==============================] - 0s 9ms/step - loss: 2.8102 - mae: 2.8102\n",
            "Epoch 311/1000\n",
            "1/1 [==============================] - 0s 11ms/step - loss: 0.6951 - mae: 0.6951\n",
            "Epoch 312/1000\n",
            "1/1 [==============================] - 0s 8ms/step - loss: 1.2646 - mae: 1.2646\n",
            "Epoch 313/1000\n",
            "1/1 [==============================] - 0s 20ms/step - loss: 3.8464 - mae: 3.8464\n",
            "Epoch 314/1000\n",
            "1/1 [==============================] - 0s 17ms/step - loss: 2.7312 - mae: 2.7312\n",
            "Epoch 315/1000\n",
            "1/1 [==============================] - 0s 17ms/step - loss: 4.1225 - mae: 4.1225\n",
            "Epoch 316/1000\n",
            "1/1 [==============================] - 0s 18ms/step - loss: 4.2380 - mae: 4.2380\n",
            "Epoch 317/1000\n",
            "1/1 [==============================] - 0s 19ms/step - loss: 1.7301 - mae: 1.7301\n",
            "Epoch 318/1000\n",
            "1/1 [==============================] - 0s 18ms/step - loss: 1.2411 - mae: 1.2411\n",
            "Epoch 319/1000\n",
            "1/1 [==============================] - 0s 16ms/step - loss: 5.0881 - mae: 5.0881\n",
            "Epoch 320/1000\n",
            "1/1 [==============================] - 0s 15ms/step - loss: 4.7023 - mae: 4.7023\n",
            "Epoch 321/1000\n",
            "1/1 [==============================] - 0s 15ms/step - loss: 1.6830 - mae: 1.6830\n",
            "Epoch 322/1000\n",
            "1/1 [==============================] - 0s 17ms/step - loss: 1.5881 - mae: 1.5881\n",
            "Epoch 323/1000\n",
            "1/1 [==============================] - 0s 21ms/step - loss: 4.3295 - mae: 4.3295\n",
            "Epoch 324/1000\n",
            "1/1 [==============================] - 0s 15ms/step - loss: 3.6344 - mae: 3.6344\n",
            "Epoch 325/1000\n",
            "1/1 [==============================] - 0s 19ms/step - loss: 2.9241 - mae: 2.9241\n",
            "Epoch 326/1000\n",
            "1/1 [==============================] - 0s 19ms/step - loss: 3.0784 - mae: 3.0784\n",
            "Epoch 327/1000\n",
            "1/1 [==============================] - 0s 15ms/step - loss: 2.4901 - mae: 2.4901\n",
            "Epoch 328/1000\n",
            "1/1 [==============================] - 0s 17ms/step - loss: 1.6139 - mae: 1.6139\n",
            "Epoch 329/1000\n",
            "1/1 [==============================] - 0s 19ms/step - loss: 4.9536 - mae: 4.9536\n",
            "Epoch 330/1000\n",
            "1/1 [==============================] - 0s 22ms/step - loss: 5.2610 - mae: 5.2610\n",
            "Epoch 331/1000\n",
            "1/1 [==============================] - 0s 17ms/step - loss: 0.3911 - mae: 0.3911\n",
            "Epoch 332/1000\n",
            "1/1 [==============================] - 0s 18ms/step - loss: 5.4722 - mae: 5.4722\n",
            "Epoch 333/1000\n",
            "1/1 [==============================] - 0s 18ms/step - loss: 4.3326 - mae: 4.3326\n",
            "Epoch 334/1000\n",
            "1/1 [==============================] - 0s 17ms/step - loss: 2.6214 - mae: 2.6214\n",
            "Epoch 335/1000\n",
            "1/1 [==============================] - 0s 14ms/step - loss: 3.1316 - mae: 3.1316\n",
            "Epoch 336/1000\n",
            "1/1 [==============================] - 0s 16ms/step - loss: 2.0859 - mae: 2.0859\n",
            "Epoch 337/1000\n",
            "1/1 [==============================] - 0s 20ms/step - loss: 0.9108 - mae: 0.9108\n",
            "Epoch 338/1000\n",
            "1/1 [==============================] - 0s 12ms/step - loss: 5.8552 - mae: 5.8552\n",
            "Epoch 339/1000\n",
            "1/1 [==============================] - 0s 8ms/step - loss: 6.4041 - mae: 6.4041\n",
            "Epoch 340/1000\n",
            "1/1 [==============================] - 0s 9ms/step - loss: 1.5657 - mae: 1.5657\n",
            "Epoch 341/1000\n",
            "1/1 [==============================] - 0s 12ms/step - loss: 8.1947 - mae: 8.1947\n",
            "Epoch 342/1000\n",
            "1/1 [==============================] - 0s 9ms/step - loss: 10.7993 - mae: 10.7993\n",
            "Epoch 343/1000\n",
            "1/1 [==============================] - 0s 9ms/step - loss: 6.7743 - mae: 6.7743\n",
            "Epoch 344/1000\n",
            "1/1 [==============================] - 0s 8ms/step - loss: 2.7004 - mae: 2.7004\n",
            "Epoch 345/1000\n",
            "1/1 [==============================] - 0s 8ms/step - loss: 5.4303 - mae: 5.4303\n",
            "Epoch 346/1000\n",
            "1/1 [==============================] - 0s 8ms/step - loss: 2.2847 - mae: 2.2847\n",
            "Epoch 347/1000\n",
            "1/1 [==============================] - 0s 9ms/step - loss: 6.5975 - mae: 6.5975\n",
            "Epoch 348/1000\n",
            "1/1 [==============================] - 0s 13ms/step - loss: 8.0567 - mae: 8.0567\n",
            "Epoch 349/1000\n",
            "1/1 [==============================] - 0s 9ms/step - loss: 3.1777 - mae: 3.1777\n",
            "Epoch 350/1000\n",
            "1/1 [==============================] - 0s 12ms/step - loss: 6.5589 - mae: 6.5589\n",
            "Epoch 351/1000\n",
            "1/1 [==============================] - 0s 9ms/step - loss: 9.7127 - mae: 9.7127\n",
            "Epoch 352/1000\n",
            "1/1 [==============================] - 0s 9ms/step - loss: 7.4474 - mae: 7.4474\n",
            "Epoch 353/1000\n",
            "1/1 [==============================] - 0s 8ms/step - loss: 0.9974 - mae: 0.9974\n",
            "Epoch 354/1000\n",
            "1/1 [==============================] - 0s 8ms/step - loss: 6.2153 - mae: 6.2153\n",
            "Epoch 355/1000\n",
            "1/1 [==============================] - 0s 12ms/step - loss: 5.9694 - mae: 5.9694\n",
            "Epoch 356/1000\n",
            "1/1 [==============================] - 0s 14ms/step - loss: 0.6216 - mae: 0.6216\n",
            "Epoch 357/1000\n",
            "1/1 [==============================] - 0s 10ms/step - loss: 4.5884 - mae: 4.5884\n",
            "Epoch 358/1000\n",
            "1/1 [==============================] - 0s 9ms/step - loss: 3.1629 - mae: 3.1629\n",
            "Epoch 359/1000\n",
            "1/1 [==============================] - 0s 11ms/step - loss: 3.7451 - mae: 3.7451\n",
            "Epoch 360/1000\n",
            "1/1 [==============================] - 0s 9ms/step - loss: 4.1724 - mae: 4.1724\n",
            "Epoch 361/1000\n",
            "1/1 [==============================] - 0s 11ms/step - loss: 1.8886 - mae: 1.8886\n",
            "Epoch 362/1000\n",
            "1/1 [==============================] - 0s 9ms/step - loss: 2.6100 - mae: 2.6100\n",
            "Epoch 363/1000\n",
            "1/1 [==============================] - 0s 9ms/step - loss: 0.9150 - mae: 0.9150\n",
            "Epoch 364/1000\n",
            "1/1 [==============================] - 0s 9ms/step - loss: 1.8382 - mae: 1.8382\n",
            "Epoch 365/1000\n",
            "1/1 [==============================] - 0s 9ms/step - loss: 0.9878 - mae: 0.9878\n",
            "Epoch 366/1000\n",
            "1/1 [==============================] - 0s 11ms/step - loss: 2.1678 - mae: 2.1678\n",
            "Epoch 367/1000\n",
            "1/1 [==============================] - 0s 10ms/step - loss: 0.6422 - mae: 0.6422\n",
            "Epoch 368/1000\n",
            "1/1 [==============================] - 0s 10ms/step - loss: 0.6957 - mae: 0.6957\n",
            "Epoch 369/1000\n",
            "1/1 [==============================] - 0s 12ms/step - loss: 3.3354 - mae: 3.3354\n",
            "Epoch 370/1000\n",
            "1/1 [==============================] - 0s 9ms/step - loss: 1.4332 - mae: 1.4332\n",
            "Epoch 371/1000\n",
            "1/1 [==============================] - 0s 8ms/step - loss: 6.0974 - mae: 6.0974\n",
            "Epoch 372/1000\n",
            "1/1 [==============================] - 0s 9ms/step - loss: 6.8661 - mae: 6.8661\n",
            "Epoch 373/1000\n",
            "1/1 [==============================] - 0s 11ms/step - loss: 1.4162 - mae: 1.4162\n",
            "Epoch 374/1000\n",
            "1/1 [==============================] - 0s 13ms/step - loss: 8.8300 - mae: 8.8300\n",
            "Epoch 375/1000\n",
            "1/1 [==============================] - 0s 16ms/step - loss: 12.5871 - mae: 12.5871\n",
            "Epoch 376/1000\n",
            "1/1 [==============================] - 0s 14ms/step - loss: 11.0265 - mae: 11.0265\n",
            "Epoch 377/1000\n",
            "1/1 [==============================] - 0s 19ms/step - loss: 4.5192 - mae: 4.5192\n",
            "Epoch 378/1000\n",
            "1/1 [==============================] - 0s 14ms/step - loss: 7.1356 - mae: 7.1356\n",
            "Epoch 379/1000\n",
            "1/1 [==============================] - 0s 14ms/step - loss: 11.9670 - mae: 11.9670\n",
            "Epoch 380/1000\n",
            "1/1 [==============================] - 0s 10ms/step - loss: 10.0278 - mae: 10.0278\n",
            "Epoch 381/1000\n",
            "1/1 [==============================] - 0s 15ms/step - loss: 2.2688 - mae: 2.2688\n",
            "Epoch 382/1000\n",
            "1/1 [==============================] - 0s 17ms/step - loss: 9.8654 - mae: 9.8654\n",
            "Epoch 383/1000\n",
            "1/1 [==============================] - 0s 17ms/step - loss: 15.3253 - mae: 15.3253\n",
            "Epoch 384/1000\n",
            "1/1 [==============================] - 0s 16ms/step - loss: 15.4759 - mae: 15.4759\n",
            "Epoch 385/1000\n",
            "1/1 [==============================] - 0s 14ms/step - loss: 10.8929 - mae: 10.8929\n",
            "Epoch 386/1000\n",
            "1/1 [==============================] - 0s 14ms/step - loss: 1.5899 - mae: 1.5899\n",
            "Epoch 387/1000\n",
            "1/1 [==============================] - 0s 12ms/step - loss: 12.5637 - mae: 12.5637\n",
            "Epoch 388/1000\n",
            "1/1 [==============================] - 0s 16ms/step - loss: 19.5880 - mae: 19.5880\n",
            "Epoch 389/1000\n",
            "1/1 [==============================] - 0s 15ms/step - loss: 19.3334 - mae: 19.3334\n",
            "Epoch 390/1000\n",
            "1/1 [==============================] - 0s 12ms/step - loss: 12.5851 - mae: 12.5851\n",
            "Epoch 391/1000\n",
            "1/1 [==============================] - 0s 11ms/step - loss: 1.1430 - mae: 1.1430\n",
            "Epoch 392/1000\n",
            "1/1 [==============================] - 0s 19ms/step - loss: 11.0272 - mae: 11.0272\n",
            "Epoch 393/1000\n",
            "1/1 [==============================] - 0s 14ms/step - loss: 16.4041 - mae: 16.4041\n",
            "Epoch 394/1000\n",
            "1/1 [==============================] - 0s 16ms/step - loss: 16.6407 - mae: 16.6407\n",
            "Epoch 395/1000\n",
            "1/1 [==============================] - 0s 16ms/step - loss: 12.2913 - mae: 12.2913\n",
            "Epoch 396/1000\n",
            "1/1 [==============================] - 0s 16ms/step - loss: 3.3698 - mae: 3.3698\n",
            "Epoch 397/1000\n",
            "1/1 [==============================] - 0s 20ms/step - loss: 10.5835 - mae: 10.5835\n",
            "Epoch 398/1000\n",
            "1/1 [==============================] - 0s 21ms/step - loss: 17.6622 - mae: 17.6622\n",
            "Epoch 399/1000\n",
            "1/1 [==============================] - 0s 19ms/step - loss: 17.6752 - mae: 17.6752\n",
            "Epoch 400/1000\n",
            "1/1 [==============================] - 0s 12ms/step - loss: 11.3426 - mae: 11.3426\n",
            "Epoch 401/1000\n",
            "1/1 [==============================] - 0s 13ms/step - loss: 0.5958 - mae: 0.5958\n",
            "Epoch 402/1000\n",
            "1/1 [==============================] - 0s 21ms/step - loss: 9.4785 - mae: 9.4785\n",
            "Epoch 403/1000\n",
            "1/1 [==============================] - 0s 9ms/step - loss: 12.9254 - mae: 12.9254\n",
            "Epoch 404/1000\n",
            "1/1 [==============================] - 0s 10ms/step - loss: 11.3389 - mae: 11.3389\n",
            "Epoch 405/1000\n",
            "1/1 [==============================] - 0s 8ms/step - loss: 5.0679 - mae: 5.0679\n",
            "Epoch 406/1000\n",
            "1/1 [==============================] - 0s 21ms/step - loss: 6.0925 - mae: 6.0925\n",
            "Epoch 407/1000\n",
            "1/1 [==============================] - 0s 9ms/step - loss: 10.7481 - mae: 10.7481\n",
            "Epoch 408/1000\n",
            "1/1 [==============================] - 0s 9ms/step - loss: 8.9889 - mae: 8.9889\n",
            "Epoch 409/1000\n",
            "1/1 [==============================] - 0s 11ms/step - loss: 1.6821 - mae: 1.6821\n",
            "Epoch 410/1000\n",
            "1/1 [==============================] - 0s 9ms/step - loss: 9.7946 - mae: 9.7946\n",
            "Epoch 411/1000\n",
            "1/1 [==============================] - 0s 9ms/step - loss: 14.9390 - mae: 14.9390\n",
            "Epoch 412/1000\n",
            "1/1 [==============================] - 0s 10ms/step - loss: 15.0195 - mae: 15.0195\n",
            "Epoch 413/1000\n",
            "1/1 [==============================] - 0s 11ms/step - loss: 10.5715 - mae: 10.5715\n",
            "Epoch 414/1000\n",
            "1/1 [==============================] - 0s 16ms/step - loss: 1.6042 - mae: 1.6042\n",
            "Epoch 415/1000\n",
            "1/1 [==============================] - 0s 9ms/step - loss: 12.3361 - mae: 12.3361\n",
            "Epoch 416/1000\n",
            "1/1 [==============================] - 0s 13ms/step - loss: 19.4534 - mae: 19.4534\n",
            "Epoch 417/1000\n",
            "1/1 [==============================] - 0s 8ms/step - loss: 19.5715 - mae: 19.5715\n",
            "Epoch 418/1000\n",
            "1/1 [==============================] - 0s 9ms/step - loss: 13.4088 - mae: 13.4088\n",
            "Epoch 419/1000\n",
            "1/1 [==============================] - 0s 10ms/step - loss: 2.2863 - mae: 2.2863\n",
            "Epoch 420/1000\n",
            "1/1 [==============================] - 0s 9ms/step - loss: 12.1615 - mae: 12.1615\n",
            "Epoch 421/1000\n",
            "1/1 [==============================] - 0s 9ms/step - loss: 19.9035 - mae: 19.9035\n",
            "Epoch 422/1000\n",
            "1/1 [==============================] - 0s 11ms/step - loss: 22.5589 - mae: 22.5589\n",
            "Epoch 423/1000\n",
            "1/1 [==============================] - 0s 10ms/step - loss: 20.9464 - mae: 20.9464\n",
            "Epoch 424/1000\n",
            "1/1 [==============================] - 0s 13ms/step - loss: 15.3551 - mae: 15.3551\n",
            "Epoch 425/1000\n",
            "1/1 [==============================] - 0s 9ms/step - loss: 5.6539 - mae: 5.6539\n",
            "Epoch 426/1000\n",
            "1/1 [==============================] - 0s 8ms/step - loss: 8.6590 - mae: 8.6590\n",
            "Epoch 427/1000\n",
            "1/1 [==============================] - 0s 9ms/step - loss: 16.5567 - mae: 16.5567\n",
            "Epoch 428/1000\n",
            "1/1 [==============================] - 0s 9ms/step - loss: 17.7407 - mae: 17.7407\n",
            "Epoch 429/1000\n",
            "1/1 [==============================] - 0s 9ms/step - loss: 12.7657 - mae: 12.7657\n",
            "Epoch 430/1000\n",
            "1/1 [==============================] - 0s 16ms/step - loss: 3.4691 - mae: 3.4691\n",
            "Epoch 431/1000\n",
            "1/1 [==============================] - 0s 9ms/step - loss: 8.3042 - mae: 8.3042\n",
            "Epoch 432/1000\n",
            "1/1 [==============================] - 0s 8ms/step - loss: 13.3103 - mae: 13.3103\n",
            "Epoch 433/1000\n",
            "1/1 [==============================] - 0s 8ms/step - loss: 13.4027 - mae: 13.4027\n",
            "Epoch 434/1000\n",
            "1/1 [==============================] - 0s 8ms/step - loss: 9.0956 - mae: 9.0956\n",
            "Epoch 435/1000\n",
            "1/1 [==============================] - 0s 16ms/step - loss: 1.7321 - mae: 1.7321\n",
            "Epoch 436/1000\n",
            "1/1 [==============================] - 0s 9ms/step - loss: 8.7036 - mae: 8.7036\n",
            "Epoch 437/1000\n",
            "1/1 [==============================] - 0s 9ms/step - loss: 11.5717 - mae: 11.5717\n",
            "Epoch 438/1000\n",
            "1/1 [==============================] - 0s 13ms/step - loss: 8.4691 - mae: 8.4691\n",
            "Epoch 439/1000\n",
            "1/1 [==============================] - 0s 8ms/step - loss: 1.0921 - mae: 1.0921\n",
            "Epoch 440/1000\n",
            "1/1 [==============================] - 0s 9ms/step - loss: 7.8840 - mae: 7.8840\n",
            "Epoch 441/1000\n",
            "1/1 [==============================] - 0s 8ms/step - loss: 10.4582 - mae: 10.4582\n",
            "Epoch 442/1000\n",
            "1/1 [==============================] - 0s 9ms/step - loss: 8.2271 - mae: 8.2271\n",
            "Epoch 443/1000\n",
            "1/1 [==============================] - 0s 18ms/step - loss: 1.6999 - mae: 1.6999\n",
            "Epoch 444/1000\n",
            "1/1 [==============================] - 0s 13ms/step - loss: 9.3778 - mae: 9.3778\n",
            "Epoch 445/1000\n",
            "1/1 [==============================] - 0s 9ms/step - loss: 13.8034 - mae: 13.8034\n",
            "Epoch 446/1000\n",
            "1/1 [==============================] - 0s 9ms/step - loss: 11.8824 - mae: 11.8824\n",
            "Epoch 447/1000\n",
            "1/1 [==============================] - 0s 13ms/step - loss: 4.5702 - mae: 4.5702\n",
            "Epoch 448/1000\n",
            "1/1 [==============================] - 0s 12ms/step - loss: 6.8161 - mae: 6.8161\n",
            "Epoch 449/1000\n",
            "1/1 [==============================] - 0s 12ms/step - loss: 11.9583 - mae: 11.9583\n",
            "Epoch 450/1000\n",
            "1/1 [==============================] - 0s 13ms/step - loss: 12.1255 - mae: 12.1255\n",
            "Epoch 451/1000\n",
            "1/1 [==============================] - 0s 9ms/step - loss: 7.8490 - mae: 7.8490\n",
            "Epoch 452/1000\n",
            "1/1 [==============================] - 0s 9ms/step - loss: 1.2478 - mae: 1.2478\n",
            "Epoch 453/1000\n",
            "1/1 [==============================] - 0s 11ms/step - loss: 5.5134 - mae: 5.5134\n",
            "Epoch 454/1000\n",
            "1/1 [==============================] - 0s 10ms/step - loss: 4.4429 - mae: 4.4429\n",
            "Epoch 455/1000\n",
            "1/1 [==============================] - 0s 9ms/step - loss: 1.7629 - mae: 1.7629\n",
            "Epoch 456/1000\n",
            "1/1 [==============================] - 0s 11ms/step - loss: 2.8727 - mae: 2.8727\n",
            "Epoch 457/1000\n",
            "1/1 [==============================] - 0s 9ms/step - loss: 1.3692 - mae: 1.3692\n",
            "Epoch 458/1000\n",
            "1/1 [==============================] - 0s 10ms/step - loss: 1.6985 - mae: 1.6985\n",
            "Epoch 459/1000\n",
            "1/1 [==============================] - 0s 9ms/step - loss: 1.4500 - mae: 1.4500\n",
            "Epoch 460/1000\n",
            "1/1 [==============================] - 0s 12ms/step - loss: 1.1558 - mae: 1.1558\n",
            "Epoch 461/1000\n",
            "1/1 [==============================] - 0s 13ms/step - loss: 1.4220 - mae: 1.4220\n",
            "Epoch 462/1000\n",
            "1/1 [==============================] - 0s 9ms/step - loss: 1.2586 - mae: 1.2586\n",
            "Epoch 463/1000\n",
            "1/1 [==============================] - 0s 10ms/step - loss: 1.4258 - mae: 1.4258\n",
            "Epoch 464/1000\n",
            "1/1 [==============================] - 0s 10ms/step - loss: 0.8269 - mae: 0.8269\n",
            "Epoch 465/1000\n",
            "1/1 [==============================] - 0s 10ms/step - loss: 1.2181 - mae: 1.2181\n",
            "Epoch 466/1000\n",
            "1/1 [==============================] - 0s 9ms/step - loss: 1.9718 - mae: 1.9718\n",
            "Epoch 467/1000\n",
            "1/1 [==============================] - 0s 9ms/step - loss: 0.6410 - mae: 0.6410\n",
            "Epoch 468/1000\n",
            "1/1 [==============================] - 0s 12ms/step - loss: 0.6125 - mae: 0.6125\n",
            "Epoch 469/1000\n",
            "1/1 [==============================] - 0s 9ms/step - loss: 1.9662 - mae: 1.9662\n",
            "Epoch 470/1000\n",
            "1/1 [==============================] - 0s 9ms/step - loss: 1.1292 - mae: 1.1292\n",
            "Epoch 471/1000\n",
            "1/1 [==============================] - 0s 9ms/step - loss: 1.2779 - mae: 1.2779\n",
            "Epoch 472/1000\n",
            "1/1 [==============================] - 0s 9ms/step - loss: 1.8584 - mae: 1.8584\n",
            "Epoch 473/1000\n",
            "1/1 [==============================] - 0s 13ms/step - loss: 0.6280 - mae: 0.6280\n",
            "Epoch 474/1000\n",
            "1/1 [==============================] - 0s 11ms/step - loss: 0.9390 - mae: 0.9390\n",
            "Epoch 475/1000\n",
            "1/1 [==============================] - 0s 19ms/step - loss: 3.0499 - mae: 3.0499\n",
            "Epoch 476/1000\n",
            "1/1 [==============================] - 0s 13ms/step - loss: 1.0766 - mae: 1.0766\n",
            "Epoch 477/1000\n",
            "1/1 [==============================] - 0s 18ms/step - loss: 5.8101 - mae: 5.8101\n",
            "Epoch 478/1000\n",
            "1/1 [==============================] - 0s 14ms/step - loss: 6.9728 - mae: 6.9728\n",
            "Epoch 479/1000\n",
            "1/1 [==============================] - 0s 14ms/step - loss: 3.1882 - mae: 3.1882\n",
            "Epoch 480/1000\n",
            "1/1 [==============================] - 0s 11ms/step - loss: 5.4336 - mae: 5.4336\n",
            "Epoch 481/1000\n",
            "1/1 [==============================] - 0s 15ms/step - loss: 7.9266 - mae: 7.9266\n",
            "Epoch 482/1000\n",
            "1/1 [==============================] - 0s 12ms/step - loss: 4.6324 - mae: 4.6324\n",
            "Epoch 483/1000\n",
            "1/1 [==============================] - 0s 15ms/step - loss: 3.5123 - mae: 3.5123\n",
            "Epoch 484/1000\n",
            "1/1 [==============================] - 0s 15ms/step - loss: 5.7346 - mae: 5.7346\n",
            "Epoch 485/1000\n",
            "1/1 [==============================] - 0s 15ms/step - loss: 2.8903 - mae: 2.8903\n",
            "Epoch 486/1000\n",
            "1/1 [==============================] - 0s 15ms/step - loss: 4.8041 - mae: 4.8041\n",
            "Epoch 487/1000\n",
            "1/1 [==============================] - 0s 14ms/step - loss: 6.4991 - mae: 6.4991\n",
            "Epoch 488/1000\n",
            "1/1 [==============================] - 0s 16ms/step - loss: 2.6003 - mae: 2.6003\n",
            "Epoch 489/1000\n",
            "1/1 [==============================] - 0s 12ms/step - loss: 5.9145 - mae: 5.9145\n",
            "Epoch 490/1000\n",
            "1/1 [==============================] - 0s 17ms/step - loss: 8.6008 - mae: 8.6008\n",
            "Epoch 491/1000\n",
            "1/1 [==============================] - 0s 18ms/step - loss: 6.3598 - mae: 6.3598\n",
            "Epoch 492/1000\n",
            "1/1 [==============================] - 0s 15ms/step - loss: 0.6807 - mae: 0.6807\n",
            "Epoch 493/1000\n",
            "1/1 [==============================] - 0s 13ms/step - loss: 3.4494 - mae: 3.4494\n",
            "Epoch 494/1000\n",
            "1/1 [==============================] - 0s 15ms/step - loss: 0.8703 - mae: 0.8703\n",
            "Epoch 495/1000\n",
            "1/1 [==============================] - 0s 15ms/step - loss: 4.8861 - mae: 4.8861\n",
            "Epoch 496/1000\n",
            "1/1 [==============================] - 0s 16ms/step - loss: 5.1253 - mae: 5.1253\n",
            "Epoch 497/1000\n",
            "1/1 [==============================] - 0s 17ms/step - loss: 0.6471 - mae: 0.6471\n",
            "Epoch 498/1000\n",
            "1/1 [==============================] - 0s 17ms/step - loss: 8.2783 - mae: 8.2783\n",
            "Epoch 499/1000\n",
            "1/1 [==============================] - 0s 17ms/step - loss: 10.8057 - mae: 10.8057\n",
            "Epoch 500/1000\n",
            "1/1 [==============================] - 0s 17ms/step - loss: 7.4438 - mae: 7.4438\n",
            "Epoch 501/1000\n",
            "1/1 [==============================] - 0s 14ms/step - loss: 0.8418 - mae: 0.8418\n",
            "Epoch 502/1000\n",
            "1/1 [==============================] - 0s 12ms/step - loss: 3.1067 - mae: 3.1067\n",
            "Epoch 503/1000\n",
            "1/1 [==============================] - 0s 11ms/step - loss: 0.7293 - mae: 0.7293\n",
            "Epoch 504/1000\n",
            "1/1 [==============================] - 0s 12ms/step - loss: 3.2694 - mae: 3.2694\n",
            "Epoch 505/1000\n",
            "1/1 [==============================] - 0s 14ms/step - loss: 1.2332 - mae: 1.2332\n",
            "Epoch 506/1000\n",
            "1/1 [==============================] - 0s 16ms/step - loss: 5.5779 - mae: 5.5779\n",
            "Epoch 507/1000\n",
            "1/1 [==============================] - 0s 11ms/step - loss: 6.8433 - mae: 6.8433\n",
            "Epoch 508/1000\n",
            "1/1 [==============================] - 0s 18ms/step - loss: 3.2649 - mae: 3.2649\n",
            "Epoch 509/1000\n",
            "1/1 [==============================] - 0s 16ms/step - loss: 5.0437 - mae: 5.0437\n",
            "Epoch 510/1000\n",
            "1/1 [==============================] - 0s 12ms/step - loss: 7.3749 - mae: 7.3749\n",
            "Epoch 511/1000\n",
            "1/1 [==============================] - 0s 15ms/step - loss: 4.0580 - mae: 4.0580\n",
            "Epoch 512/1000\n",
            "1/1 [==============================] - 0s 9ms/step - loss: 3.9879 - mae: 3.9879\n",
            "Epoch 513/1000\n",
            "1/1 [==============================] - 0s 12ms/step - loss: 6.2324 - mae: 6.2324\n",
            "Epoch 514/1000\n",
            "1/1 [==============================] - 0s 16ms/step - loss: 3.5204 - mae: 3.5204\n",
            "Epoch 515/1000\n",
            "1/1 [==============================] - 0s 12ms/step - loss: 3.9285 - mae: 3.9285\n",
            "Epoch 516/1000\n",
            "1/1 [==============================] - 0s 17ms/step - loss: 5.5251 - mae: 5.5251\n",
            "Epoch 517/1000\n",
            "1/1 [==============================] - 0s 10ms/step - loss: 1.6761 - mae: 1.6761\n",
            "Epoch 518/1000\n",
            "1/1 [==============================] - 0s 9ms/step - loss: 6.6673 - mae: 6.6673\n",
            "Epoch 519/1000\n",
            "1/1 [==============================] - 0s 8ms/step - loss: 9.3222 - mae: 9.3222\n",
            "Epoch 520/1000\n",
            "1/1 [==============================] - 0s 8ms/step - loss: 7.1783 - mae: 7.1783\n",
            "Epoch 521/1000\n",
            "1/1 [==============================] - 0s 8ms/step - loss: 0.6209 - mae: 0.6209\n",
            "Epoch 522/1000\n",
            "1/1 [==============================] - 0s 8ms/step - loss: 10.1521 - mae: 10.1521\n",
            "Epoch 523/1000\n",
            "1/1 [==============================] - 0s 9ms/step - loss: 14.4788 - mae: 14.4788\n",
            "Epoch 524/1000\n",
            "1/1 [==============================] - 0s 9ms/step - loss: 12.6121 - mae: 12.6121\n",
            "Epoch 525/1000\n",
            "1/1 [==============================] - 0s 8ms/step - loss: 5.4260 - mae: 5.4260\n",
            "Epoch 526/1000\n",
            "1/1 [==============================] - 0s 10ms/step - loss: 5.8088 - mae: 5.8088\n",
            "Epoch 527/1000\n",
            "1/1 [==============================] - 0s 10ms/step - loss: 10.8832 - mae: 10.8832\n",
            "Epoch 528/1000\n",
            "1/1 [==============================] - 0s 11ms/step - loss: 11.0225 - mae: 11.0225\n",
            "Epoch 529/1000\n",
            "1/1 [==============================] - 0s 11ms/step - loss: 6.7579 - mae: 6.7579\n",
            "Epoch 530/1000\n",
            "1/1 [==============================] - 0s 12ms/step - loss: 2.0968 - mae: 2.0968\n",
            "Epoch 531/1000\n",
            "1/1 [==============================] - 0s 9ms/step - loss: 7.2948 - mae: 7.2948\n",
            "Epoch 532/1000\n",
            "1/1 [==============================] - 0s 10ms/step - loss: 6.9254 - mae: 6.9254\n",
            "Epoch 533/1000\n",
            "1/1 [==============================] - 0s 16ms/step - loss: 1.4680 - mae: 1.4680\n",
            "Epoch 534/1000\n",
            "1/1 [==============================] - 0s 19ms/step - loss: 6.6897 - mae: 6.6897\n",
            "Epoch 535/1000\n",
            "1/1 [==============================] - 0s 16ms/step - loss: 9.2195 - mae: 9.2195\n",
            "Epoch 536/1000\n",
            "1/1 [==============================] - 0s 14ms/step - loss: 7.0358 - mae: 7.0358\n",
            "Epoch 537/1000\n",
            "1/1 [==============================] - 0s 11ms/step - loss: 0.6280 - mae: 0.6280\n",
            "Epoch 538/1000\n",
            "1/1 [==============================] - 0s 14ms/step - loss: 7.8146 - mae: 7.8146\n",
            "Epoch 539/1000\n",
            "1/1 [==============================] - 0s 18ms/step - loss: 9.9994 - mae: 9.9994\n",
            "Epoch 540/1000\n",
            "1/1 [==============================] - 0s 12ms/step - loss: 6.5207 - mae: 6.5207\n",
            "Epoch 541/1000\n",
            "1/1 [==============================] - 0s 9ms/step - loss: 1.8100 - mae: 1.8100\n",
            "Epoch 542/1000\n",
            "1/1 [==============================] - 0s 10ms/step - loss: 4.7614 - mae: 4.7614\n",
            "Epoch 543/1000\n",
            "1/1 [==============================] - 0s 20ms/step - loss: 2.8153 - mae: 2.8153\n",
            "Epoch 544/1000\n",
            "1/1 [==============================] - 0s 20ms/step - loss: 3.8343 - mae: 3.8343\n",
            "Epoch 545/1000\n",
            "1/1 [==============================] - 0s 14ms/step - loss: 4.7999 - mae: 4.7999\n",
            "Epoch 546/1000\n",
            "1/1 [==============================] - 0s 13ms/step - loss: 0.6405 - mae: 0.6405\n",
            "Epoch 547/1000\n",
            "1/1 [==============================] - 0s 16ms/step - loss: 5.2614 - mae: 5.2614\n",
            "Epoch 548/1000\n",
            "1/1 [==============================] - 0s 11ms/step - loss: 5.7777 - mae: 5.7777\n",
            "Epoch 549/1000\n",
            "1/1 [==============================] - 0s 13ms/step - loss: 1.6049 - mae: 1.6049\n",
            "Epoch 550/1000\n",
            "1/1 [==============================] - 0s 14ms/step - loss: 7.2162 - mae: 7.2162\n",
            "Epoch 551/1000\n",
            "1/1 [==============================] - 0s 16ms/step - loss: 10.0606 - mae: 10.0606\n",
            "Epoch 552/1000\n",
            "1/1 [==============================] - 0s 14ms/step - loss: 7.1999 - mae: 7.1999\n",
            "Epoch 553/1000\n",
            "1/1 [==============================] - 0s 17ms/step - loss: 0.6148 - mae: 0.6148\n",
            "Epoch 554/1000\n",
            "1/1 [==============================] - 0s 16ms/step - loss: 4.9003 - mae: 4.9003\n",
            "Epoch 555/1000\n",
            "1/1 [==============================] - 0s 16ms/step - loss: 4.2279 - mae: 4.2279\n",
            "Epoch 556/1000\n",
            "1/1 [==============================] - 0s 14ms/step - loss: 1.1025 - mae: 1.1025\n",
            "Epoch 557/1000\n",
            "1/1 [==============================] - 0s 18ms/step - loss: 1.0429 - mae: 1.0429\n",
            "Epoch 558/1000\n",
            "1/1 [==============================] - 0s 14ms/step - loss: 3.8675 - mae: 3.8675\n",
            "Epoch 559/1000\n",
            "1/1 [==============================] - 0s 15ms/step - loss: 3.5692 - mae: 3.5692\n",
            "Epoch 560/1000\n",
            "1/1 [==============================] - 0s 19ms/step - loss: 1.4359 - mae: 1.4359\n",
            "Epoch 561/1000\n",
            "1/1 [==============================] - 0s 16ms/step - loss: 1.0639 - mae: 1.0639\n",
            "Epoch 562/1000\n",
            "1/1 [==============================] - 0s 13ms/step - loss: 4.1018 - mae: 4.1018\n",
            "Epoch 563/1000\n",
            "1/1 [==============================] - 0s 11ms/step - loss: 4.0546 - mae: 4.0546\n",
            "Epoch 564/1000\n",
            "1/1 [==============================] - 0s 15ms/step - loss: 0.7343 - mae: 0.7343\n",
            "Epoch 565/1000\n",
            "1/1 [==============================] - 0s 13ms/step - loss: 1.7305 - mae: 1.7305\n",
            "Epoch 566/1000\n",
            "1/1 [==============================] - 0s 15ms/step - loss: 2.2055 - mae: 2.2055\n",
            "Epoch 567/1000\n",
            "1/1 [==============================] - 0s 17ms/step - loss: 0.9840 - mae: 0.9840\n",
            "Epoch 568/1000\n",
            "1/1 [==============================] - 0s 15ms/step - loss: 4.9979 - mae: 4.9979\n",
            "Epoch 569/1000\n",
            "1/1 [==============================] - 0s 13ms/step - loss: 5.3664 - mae: 5.3664\n",
            "Epoch 570/1000\n",
            "1/1 [==============================] - 0s 15ms/step - loss: 0.6525 - mae: 0.6525\n",
            "Epoch 571/1000\n",
            "1/1 [==============================] - 0s 16ms/step - loss: 7.5406 - mae: 7.5406\n",
            "Epoch 572/1000\n",
            "1/1 [==============================] - 0s 10ms/step - loss: 10.2769 - mae: 10.2769\n",
            "Epoch 573/1000\n",
            "1/1 [==============================] - 0s 10ms/step - loss: 8.4271 - mae: 8.4271\n",
            "Epoch 574/1000\n",
            "1/1 [==============================] - 0s 10ms/step - loss: 2.2393 - mae: 2.2393\n",
            "Epoch 575/1000\n",
            "1/1 [==============================] - 0s 9ms/step - loss: 8.4804 - mae: 8.4804\n",
            "Epoch 576/1000\n",
            "1/1 [==============================] - 0s 9ms/step - loss: 13.1272 - mae: 13.1272\n",
            "Epoch 577/1000\n",
            "1/1 [==============================] - 0s 9ms/step - loss: 11.7752 - mae: 11.7752\n",
            "Epoch 578/1000\n",
            "1/1 [==============================] - 0s 14ms/step - loss: 5.1852 - mae: 5.1852\n",
            "Epoch 579/1000\n",
            "1/1 [==============================] - 0s 18ms/step - loss: 5.3713 - mae: 5.3713\n",
            "Epoch 580/1000\n",
            "1/1 [==============================] - 0s 11ms/step - loss: 9.9978 - mae: 9.9978\n",
            "Epoch 581/1000\n",
            "1/1 [==============================] - 0s 12ms/step - loss: 9.8409 - mae: 9.8409\n",
            "Epoch 582/1000\n",
            "1/1 [==============================] - 0s 14ms/step - loss: 5.3759 - mae: 5.3759\n",
            "Epoch 583/1000\n",
            "1/1 [==============================] - 0s 10ms/step - loss: 3.3912 - mae: 3.3912\n",
            "Epoch 584/1000\n",
            "1/1 [==============================] - 0s 11ms/step - loss: 6.5525 - mae: 6.5525\n",
            "Epoch 585/1000\n",
            "1/1 [==============================] - 0s 13ms/step - loss: 4.3412 - mae: 4.3412\n",
            "Epoch 586/1000\n",
            "1/1 [==============================] - 0s 10ms/step - loss: 2.4782 - mae: 2.4782\n",
            "Epoch 587/1000\n",
            "1/1 [==============================] - 0s 10ms/step - loss: 3.8809 - mae: 3.8809\n",
            "Epoch 588/1000\n",
            "1/1 [==============================] - 0s 15ms/step - loss: 1.0915 - mae: 1.0915\n",
            "Epoch 589/1000\n",
            "1/1 [==============================] - 0s 11ms/step - loss: 3.3105 - mae: 3.3105\n",
            "Epoch 590/1000\n",
            "1/1 [==============================] - 0s 12ms/step - loss: 1.9361 - mae: 1.9361\n",
            "Epoch 591/1000\n",
            "1/1 [==============================] - 0s 15ms/step - loss: 4.0365 - mae: 4.0365\n",
            "Epoch 592/1000\n",
            "1/1 [==============================] - 0s 15ms/step - loss: 4.7936 - mae: 4.7936\n",
            "Epoch 593/1000\n",
            "1/1 [==============================] - 0s 17ms/step - loss: 0.9672 - mae: 0.9672\n",
            "Epoch 594/1000\n",
            "1/1 [==============================] - 0s 11ms/step - loss: 4.8526 - mae: 4.8526\n",
            "Epoch 595/1000\n",
            "1/1 [==============================] - 0s 12ms/step - loss: 5.1435 - mae: 5.1435\n",
            "Epoch 596/1000\n",
            "1/1 [==============================] - 0s 11ms/step - loss: 0.7077 - mae: 0.7077\n",
            "Epoch 597/1000\n",
            "1/1 [==============================] - 0s 11ms/step - loss: 4.4461 - mae: 4.4461\n",
            "Epoch 598/1000\n",
            "1/1 [==============================] - 0s 9ms/step - loss: 4.2576 - mae: 4.2576\n",
            "Epoch 599/1000\n",
            "1/1 [==============================] - 0s 9ms/step - loss: 0.6869 - mae: 0.6869\n",
            "Epoch 600/1000\n",
            "1/1 [==============================] - 0s 12ms/step - loss: 2.8367 - mae: 2.8367\n",
            "Epoch 601/1000\n",
            "1/1 [==============================] - 0s 11ms/step - loss: 0.6478 - mae: 0.6478\n",
            "Epoch 602/1000\n",
            "1/1 [==============================] - 0s 9ms/step - loss: 1.6591 - mae: 1.6591\n",
            "Epoch 603/1000\n",
            "1/1 [==============================] - 0s 10ms/step - loss: 1.1131 - mae: 1.1131\n",
            "Epoch 604/1000\n",
            "1/1 [==============================] - 0s 9ms/step - loss: 1.3310 - mae: 1.3310\n",
            "Epoch 605/1000\n",
            "1/1 [==============================] - 0s 11ms/step - loss: 0.9281 - mae: 0.9281\n",
            "Epoch 606/1000\n",
            "1/1 [==============================] - 0s 10ms/step - loss: 1.2439 - mae: 1.2439\n",
            "Epoch 607/1000\n",
            "1/1 [==============================] - 0s 8ms/step - loss: 1.5890 - mae: 1.5890\n",
            "Epoch 608/1000\n",
            "1/1 [==============================] - 0s 11ms/step - loss: 0.9657 - mae: 0.9657\n",
            "Epoch 609/1000\n",
            "1/1 [==============================] - 0s 8ms/step - loss: 1.9201 - mae: 1.9201\n",
            "Epoch 610/1000\n",
            "1/1 [==============================] - 0s 7ms/step - loss: 1.7112 - mae: 1.7112\n",
            "Epoch 611/1000\n",
            "1/1 [==============================] - 0s 7ms/step - loss: 0.7451 - mae: 0.7451\n",
            "Epoch 612/1000\n",
            "1/1 [==============================] - 0s 8ms/step - loss: 1.7242 - mae: 1.7242\n",
            "Epoch 613/1000\n",
            "1/1 [==============================] - 0s 6ms/step - loss: 1.3482 - mae: 1.3482\n",
            "Epoch 614/1000\n",
            "1/1 [==============================] - 0s 6ms/step - loss: 0.8126 - mae: 0.8126\n",
            "Epoch 615/1000\n",
            "1/1 [==============================] - 0s 7ms/step - loss: 1.5018 - mae: 1.5018\n",
            "Epoch 616/1000\n",
            "1/1 [==============================] - 0s 7ms/step - loss: 1.4066 - mae: 1.4066\n",
            "Epoch 617/1000\n",
            "1/1 [==============================] - 0s 10ms/step - loss: 0.3415 - mae: 0.3415\n",
            "Epoch 618/1000\n",
            "1/1 [==============================] - 0s 10ms/step - loss: 0.7081 - mae: 0.7081\n",
            "Epoch 619/1000\n",
            "1/1 [==============================] - 0s 8ms/step - loss: 3.5877 - mae: 3.5877\n",
            "Epoch 620/1000\n",
            "1/1 [==============================] - 0s 9ms/step - loss: 2.7717 - mae: 2.7717\n",
            "Epoch 621/1000\n",
            "1/1 [==============================] - 0s 8ms/step - loss: 2.7195 - mae: 2.7195\n",
            "Epoch 622/1000\n",
            "1/1 [==============================] - 0s 13ms/step - loss: 2.7687 - mae: 2.7687\n",
            "Epoch 623/1000\n",
            "1/1 [==============================] - 0s 14ms/step - loss: 2.0835 - mae: 2.0835\n",
            "Epoch 624/1000\n",
            "1/1 [==============================] - 0s 17ms/step - loss: 1.6907 - mae: 1.6907\n",
            "Epoch 625/1000\n",
            "1/1 [==============================] - 0s 13ms/step - loss: 3.4558 - mae: 3.4558\n",
            "Epoch 626/1000\n",
            "1/1 [==============================] - 0s 14ms/step - loss: 3.1537 - mae: 3.1537\n",
            "Epoch 627/1000\n",
            "1/1 [==============================] - 0s 12ms/step - loss: 2.0203 - mae: 2.0203\n",
            "Epoch 628/1000\n",
            "1/1 [==============================] - 0s 14ms/step - loss: 1.9142 - mae: 1.9142\n",
            "Epoch 629/1000\n",
            "1/1 [==============================] - 0s 17ms/step - loss: 2.9399 - mae: 2.9399\n",
            "Epoch 630/1000\n",
            "1/1 [==============================] - 0s 16ms/step - loss: 2.4171 - mae: 2.4171\n",
            "Epoch 631/1000\n",
            "1/1 [==============================] - 0s 9ms/step - loss: 2.8913 - mae: 2.8913\n",
            "Epoch 632/1000\n",
            "1/1 [==============================] - 0s 8ms/step - loss: 2.9618 - mae: 2.9618\n",
            "Epoch 633/1000\n",
            "1/1 [==============================] - 0s 8ms/step - loss: 1.7133 - mae: 1.7133\n",
            "Epoch 634/1000\n",
            "1/1 [==============================] - 0s 13ms/step - loss: 1.7229 - mae: 1.7229\n",
            "Epoch 635/1000\n",
            "1/1 [==============================] - 0s 14ms/step - loss: 2.7143 - mae: 2.7143\n",
            "Epoch 636/1000\n",
            "1/1 [==============================] - 0s 12ms/step - loss: 2.0113 - mae: 2.0113\n",
            "Epoch 637/1000\n",
            "1/1 [==============================] - 0s 18ms/step - loss: 3.3838 - mae: 3.3838\n",
            "Epoch 638/1000\n",
            "1/1 [==============================] - 0s 16ms/step - loss: 3.3442 - mae: 3.3442\n",
            "Epoch 639/1000\n",
            "1/1 [==============================] - 0s 16ms/step - loss: 1.5918 - mae: 1.5918\n",
            "Epoch 640/1000\n",
            "1/1 [==============================] - 0s 19ms/step - loss: 1.2682 - mae: 1.2682\n",
            "Epoch 641/1000\n",
            "1/1 [==============================] - 0s 10ms/step - loss: 3.8176 - mae: 3.8176\n",
            "Epoch 642/1000\n",
            "1/1 [==============================] - 0s 17ms/step - loss: 3.4655 - mae: 3.4655\n",
            "Epoch 643/1000\n",
            "1/1 [==============================] - 0s 18ms/step - loss: 1.7494 - mae: 1.7494\n",
            "Epoch 644/1000\n",
            "1/1 [==============================] - 0s 20ms/step - loss: 1.6806 - mae: 1.6806\n",
            "Epoch 645/1000\n",
            "1/1 [==============================] - 0s 16ms/step - loss: 3.1399 - mae: 3.1399\n",
            "Epoch 646/1000\n",
            "1/1 [==============================] - 0s 17ms/step - loss: 2.5874 - mae: 2.5874\n",
            "Epoch 647/1000\n",
            "1/1 [==============================] - 0s 19ms/step - loss: 2.7481 - mae: 2.7481\n",
            "Epoch 648/1000\n",
            "1/1 [==============================] - 0s 14ms/step - loss: 2.8423 - mae: 2.8423\n",
            "Epoch 649/1000\n",
            "1/1 [==============================] - 0s 16ms/step - loss: 1.7616 - mae: 1.7616\n",
            "Epoch 650/1000\n",
            "1/1 [==============================] - 0s 19ms/step - loss: 1.0881 - mae: 1.0881\n",
            "Epoch 651/1000\n",
            "1/1 [==============================] - 0s 19ms/step - loss: 4.2688 - mae: 4.2688\n",
            "Epoch 652/1000\n",
            "1/1 [==============================] - 0s 15ms/step - loss: 4.4652 - mae: 4.4652\n",
            "Epoch 653/1000\n",
            "1/1 [==============================] - 0s 13ms/step - loss: 0.4049 - mae: 0.4049\n",
            "Epoch 654/1000\n",
            "1/1 [==============================] - 0s 23ms/step - loss: 4.9910 - mae: 4.9910\n",
            "Epoch 655/1000\n",
            "1/1 [==============================] - 0s 19ms/step - loss: 4.5509 - mae: 4.5509\n",
            "Epoch 656/1000\n",
            "1/1 [==============================] - 0s 26ms/step - loss: 0.7701 - mae: 0.7701\n",
            "Epoch 657/1000\n",
            "1/1 [==============================] - 0s 19ms/step - loss: 0.7685 - mae: 0.7685\n",
            "Epoch 658/1000\n",
            "1/1 [==============================] - 0s 8ms/step - loss: 4.0073 - mae: 4.0073\n",
            "Epoch 659/1000\n",
            "1/1 [==============================] - 0s 9ms/step - loss: 3.3988 - mae: 3.3988\n",
            "Epoch 660/1000\n",
            "1/1 [==============================] - 0s 11ms/step - loss: 1.9904 - mae: 1.9904\n",
            "Epoch 661/1000\n",
            "1/1 [==============================] - 0s 9ms/step - loss: 2.1290 - mae: 2.1290\n",
            "Epoch 662/1000\n",
            "1/1 [==============================] - 0s 12ms/step - loss: 2.4288 - mae: 2.4288\n",
            "Epoch 663/1000\n",
            "1/1 [==============================] - 0s 9ms/step - loss: 1.7208 - mae: 1.7208\n",
            "Epoch 664/1000\n",
            "1/1 [==============================] - 0s 10ms/step - loss: 3.6530 - mae: 3.6530\n",
            "Epoch 665/1000\n",
            "1/1 [==============================] - 0s 10ms/step - loss: 3.8778 - mae: 3.8778\n",
            "Epoch 666/1000\n",
            "1/1 [==============================] - 0s 13ms/step - loss: 0.8517 - mae: 0.8517\n",
            "Epoch 667/1000\n",
            "1/1 [==============================] - 0s 9ms/step - loss: 2.0133 - mae: 2.0133\n",
            "Epoch 668/1000\n",
            "1/1 [==============================] - 0s 8ms/step - loss: 1.4181 - mae: 1.4181\n",
            "Epoch 669/1000\n",
            "1/1 [==============================] - 0s 10ms/step - loss: 0.2573 - mae: 0.2573\n",
            "Epoch 670/1000\n",
            "1/1 [==============================] - 0s 10ms/step - loss: 1.3697 - mae: 1.3697\n",
            "Epoch 671/1000\n",
            "1/1 [==============================] - 0s 10ms/step - loss: 2.3518 - mae: 2.3518\n",
            "Epoch 672/1000\n",
            "1/1 [==============================] - 0s 15ms/step - loss: 1.1150 - mae: 1.1150\n",
            "Epoch 673/1000\n",
            "1/1 [==============================] - 0s 12ms/step - loss: 4.3107 - mae: 4.3107\n",
            "Epoch 674/1000\n",
            "1/1 [==============================] - 0s 12ms/step - loss: 4.1435 - mae: 4.1435\n",
            "Epoch 675/1000\n",
            "1/1 [==============================] - 0s 13ms/step - loss: 1.0429 - mae: 1.0429\n",
            "Epoch 676/1000\n",
            "1/1 [==============================] - 0s 19ms/step - loss: 1.4463 - mae: 1.4463\n",
            "Epoch 677/1000\n",
            "1/1 [==============================] - 0s 20ms/step - loss: 2.8621 - mae: 2.8621\n",
            "Epoch 678/1000\n",
            "1/1 [==============================] - 0s 18ms/step - loss: 1.8509 - mae: 1.8509\n",
            "Epoch 679/1000\n",
            "1/1 [==============================] - 0s 16ms/step - loss: 3.8134 - mae: 3.8134\n",
            "Epoch 680/1000\n",
            "1/1 [==============================] - 0s 17ms/step - loss: 4.2737 - mae: 4.2737\n",
            "Epoch 681/1000\n",
            "1/1 [==============================] - 0s 20ms/step - loss: 0.3875 - mae: 0.3875\n",
            "Epoch 682/1000\n",
            "1/1 [==============================] - 0s 20ms/step - loss: 4.5950 - mae: 4.5950\n",
            "Epoch 683/1000\n",
            "1/1 [==============================] - 0s 16ms/step - loss: 3.8860 - mae: 3.8860\n",
            "Epoch 684/1000\n",
            "1/1 [==============================] - 0s 17ms/step - loss: 1.6359 - mae: 1.6359\n",
            "Epoch 685/1000\n",
            "1/1 [==============================] - 0s 18ms/step - loss: 1.8592 - mae: 1.8592\n",
            "Epoch 686/1000\n",
            "1/1 [==============================] - 0s 17ms/step - loss: 2.6571 - mae: 2.6571\n",
            "Epoch 687/1000\n",
            "1/1 [==============================] - 0s 16ms/step - loss: 1.8636 - mae: 1.8636\n",
            "Epoch 688/1000\n",
            "1/1 [==============================] - 0s 15ms/step - loss: 3.6263 - mae: 3.6263\n",
            "Epoch 689/1000\n",
            "1/1 [==============================] - 0s 18ms/step - loss: 3.9245 - mae: 3.9245\n",
            "Epoch 690/1000\n",
            "1/1 [==============================] - 0s 14ms/step - loss: 0.4096 - mae: 0.4096\n",
            "Epoch 691/1000\n",
            "1/1 [==============================] - 0s 14ms/step - loss: 0.5623 - mae: 0.5623\n",
            "Epoch 692/1000\n",
            "1/1 [==============================] - 0s 15ms/step - loss: 1.9895 - mae: 1.9895\n",
            "Epoch 693/1000\n",
            "1/1 [==============================] - 0s 13ms/step - loss: 0.6595 - mae: 0.6595\n",
            "Epoch 694/1000\n",
            "1/1 [==============================] - 0s 11ms/step - loss: 1.6827 - mae: 1.6827\n",
            "Epoch 695/1000\n",
            "1/1 [==============================] - 0s 11ms/step - loss: 0.9866 - mae: 0.9866\n",
            "Epoch 696/1000\n",
            "1/1 [==============================] - 0s 16ms/step - loss: 1.3477 - mae: 1.3477\n",
            "Epoch 697/1000\n",
            "1/1 [==============================] - 0s 10ms/step - loss: 0.5753 - mae: 0.5753\n",
            "Epoch 698/1000\n",
            "1/1 [==============================] - 0s 16ms/step - loss: 0.8354 - mae: 0.8354\n",
            "Epoch 699/1000\n",
            "1/1 [==============================] - 0s 15ms/step - loss: 3.3773 - mae: 3.3773\n",
            "Epoch 700/1000\n",
            "1/1 [==============================] - 0s 15ms/step - loss: 2.3124 - mae: 2.3124\n",
            "Epoch 701/1000\n",
            "1/1 [==============================] - 0s 13ms/step - loss: 3.4101 - mae: 3.4101\n",
            "Epoch 702/1000\n",
            "1/1 [==============================] - 0s 13ms/step - loss: 3.9214 - mae: 3.9214\n",
            "Epoch 703/1000\n",
            "1/1 [==============================] - 0s 14ms/step - loss: 0.5173 - mae: 0.5173\n",
            "Epoch 704/1000\n",
            "1/1 [==============================] - 0s 20ms/step - loss: 5.6169 - mae: 5.6169\n",
            "Epoch 705/1000\n",
            "1/1 [==============================] - 0s 15ms/step - loss: 5.5115 - mae: 5.5115\n",
            "Epoch 706/1000\n",
            "1/1 [==============================] - 0s 16ms/step - loss: 0.4581 - mae: 0.4581\n",
            "Epoch 707/1000\n",
            "1/1 [==============================] - 0s 20ms/step - loss: 8.5389 - mae: 8.5389\n",
            "Epoch 708/1000\n",
            "1/1 [==============================] - 0s 14ms/step - loss: 12.0991 - mae: 12.0991\n",
            "Epoch 709/1000\n",
            "1/1 [==============================] - 0s 20ms/step - loss: 11.1744 - mae: 11.1744\n",
            "Epoch 710/1000\n",
            "1/1 [==============================] - 0s 22ms/step - loss: 6.1395 - mae: 6.1395\n",
            "Epoch 711/1000\n",
            "1/1 [==============================] - 0s 19ms/step - loss: 3.0665 - mae: 3.0665\n",
            "Epoch 712/1000\n",
            "1/1 [==============================] - 0s 14ms/step - loss: 6.7439 - mae: 6.7439\n",
            "Epoch 713/1000\n",
            "1/1 [==============================] - 0s 15ms/step - loss: 5.0568 - mae: 5.0568\n",
            "Epoch 714/1000\n",
            "1/1 [==============================] - 0s 16ms/step - loss: 1.2767 - mae: 1.2767\n",
            "Epoch 715/1000\n",
            "1/1 [==============================] - 0s 12ms/step - loss: 2.2706 - mae: 2.2706\n",
            "Epoch 716/1000\n",
            "1/1 [==============================] - 0s 13ms/step - loss: 1.5759 - mae: 1.5759\n",
            "Epoch 717/1000\n",
            "1/1 [==============================] - 0s 15ms/step - loss: 1.6343 - mae: 1.6343\n",
            "Epoch 718/1000\n",
            "1/1 [==============================] - 0s 17ms/step - loss: 2.8564 - mae: 2.8564\n",
            "Epoch 719/1000\n",
            "1/1 [==============================] - 0s 11ms/step - loss: 2.3346 - mae: 2.3346\n",
            "Epoch 720/1000\n",
            "1/1 [==============================] - 0s 14ms/step - loss: 2.7489 - mae: 2.7489\n",
            "Epoch 721/1000\n",
            "1/1 [==============================] - 0s 13ms/step - loss: 2.5839 - mae: 2.5839\n",
            "Epoch 722/1000\n",
            "1/1 [==============================] - 0s 10ms/step - loss: 2.2946 - mae: 2.2946\n",
            "Epoch 723/1000\n",
            "1/1 [==============================] - 0s 9ms/step - loss: 2.0822 - mae: 2.0822\n",
            "Epoch 724/1000\n",
            "1/1 [==============================] - 0s 19ms/step - loss: 2.7265 - mae: 2.7265\n",
            "Epoch 725/1000\n",
            "1/1 [==============================] - 0s 14ms/step - loss: 2.3105 - mae: 2.3105\n",
            "Epoch 726/1000\n",
            "1/1 [==============================] - 0s 13ms/step - loss: 2.7686 - mae: 2.7686\n",
            "Epoch 727/1000\n",
            "1/1 [==============================] - 0s 17ms/step - loss: 2.7640 - mae: 2.7640\n",
            "Epoch 728/1000\n",
            "1/1 [==============================] - 0s 18ms/step - loss: 1.8016 - mae: 1.8016\n",
            "Epoch 729/1000\n",
            "1/1 [==============================] - 0s 10ms/step - loss: 1.2264 - mae: 1.2264\n",
            "Epoch 730/1000\n",
            "1/1 [==============================] - 0s 18ms/step - loss: 3.9218 - mae: 3.9218\n",
            "Epoch 731/1000\n",
            "1/1 [==============================] - 0s 9ms/step - loss: 4.0455 - mae: 4.0455\n",
            "Epoch 732/1000\n",
            "1/1 [==============================] - 0s 15ms/step - loss: 0.4864 - mae: 0.4864\n",
            "Epoch 733/1000\n",
            "1/1 [==============================] - 0s 15ms/step - loss: 3.6082 - mae: 3.6082\n",
            "Epoch 734/1000\n",
            "1/1 [==============================] - 0s 13ms/step - loss: 1.7642 - mae: 1.7642\n",
            "Epoch 735/1000\n",
            "1/1 [==============================] - 0s 12ms/step - loss: 4.5058 - mae: 4.5058\n",
            "Epoch 736/1000\n",
            "1/1 [==============================] - 0s 15ms/step - loss: 5.6360 - mae: 5.6360\n",
            "Epoch 737/1000\n",
            "1/1 [==============================] - 0s 17ms/step - loss: 2.2659 - mae: 2.2659\n",
            "Epoch 738/1000\n",
            "1/1 [==============================] - 0s 18ms/step - loss: 5.4902 - mae: 5.4902\n",
            "Epoch 739/1000\n",
            "1/1 [==============================] - 0s 14ms/step - loss: 7.7004 - mae: 7.7004\n",
            "Epoch 740/1000\n",
            "1/1 [==============================] - 0s 12ms/step - loss: 4.6823 - mae: 4.6823\n",
            "Epoch 741/1000\n",
            "1/1 [==============================] - 0s 11ms/step - loss: 2.7321 - mae: 2.7321\n",
            "Epoch 742/1000\n",
            "1/1 [==============================] - 0s 14ms/step - loss: 4.7620 - mae: 4.7620\n",
            "Epoch 743/1000\n",
            "1/1 [==============================] - 0s 18ms/step - loss: 2.1772 - mae: 2.1772\n",
            "Epoch 744/1000\n",
            "1/1 [==============================] - 0s 21ms/step - loss: 4.8121 - mae: 4.8121\n",
            "Epoch 745/1000\n",
            "1/1 [==============================] - 0s 17ms/step - loss: 6.3560 - mae: 6.3560\n",
            "Epoch 746/1000\n",
            "1/1 [==============================] - 0s 16ms/step - loss: 2.8361 - mae: 2.8361\n",
            "Epoch 747/1000\n",
            "1/1 [==============================] - 0s 11ms/step - loss: 4.8872 - mae: 4.8872\n",
            "Epoch 748/1000\n",
            "1/1 [==============================] - 0s 10ms/step - loss: 7.3078 - mae: 7.3078\n",
            "Epoch 749/1000\n",
            "1/1 [==============================] - 0s 13ms/step - loss: 5.2242 - mae: 5.2242\n",
            "Epoch 750/1000\n",
            "1/1 [==============================] - 0s 9ms/step - loss: 1.1083 - mae: 1.1083\n",
            "Epoch 751/1000\n",
            "1/1 [==============================] - 0s 9ms/step - loss: 2.2574 - mae: 2.2574\n",
            "Epoch 752/1000\n",
            "1/1 [==============================] - 0s 15ms/step - loss: 1.3758 - mae: 1.3758\n",
            "Epoch 753/1000\n",
            "1/1 [==============================] - 0s 9ms/step - loss: 0.5391 - mae: 0.5391\n",
            "Epoch 754/1000\n",
            "1/1 [==============================] - 0s 8ms/step - loss: 1.9173 - mae: 1.9173\n",
            "Epoch 755/1000\n",
            "1/1 [==============================] - 0s 7ms/step - loss: 0.9382 - mae: 0.9382\n",
            "Epoch 756/1000\n",
            "1/1 [==============================] - 0s 7ms/step - loss: 1.0721 - mae: 1.0721\n",
            "Epoch 757/1000\n",
            "1/1 [==============================] - 0s 7ms/step - loss: 1.7411 - mae: 1.7411\n",
            "Epoch 758/1000\n",
            "1/1 [==============================] - 0s 15ms/step - loss: 0.4525 - mae: 0.4525\n",
            "Epoch 759/1000\n",
            "1/1 [==============================] - 0s 16ms/step - loss: 1.4795 - mae: 1.4795\n",
            "Epoch 760/1000\n",
            "1/1 [==============================] - 0s 8ms/step - loss: 2.0799 - mae: 2.0799\n",
            "Epoch 761/1000\n",
            "1/1 [==============================] - 0s 8ms/step - loss: 0.8471 - mae: 0.8471\n",
            "Epoch 762/1000\n",
            "1/1 [==============================] - 0s 14ms/step - loss: 4.4167 - mae: 4.4167\n",
            "Epoch 763/1000\n",
            "1/1 [==============================] - 0s 8ms/step - loss: 4.2928 - mae: 4.2928\n",
            "Epoch 764/1000\n",
            "1/1 [==============================] - 0s 14ms/step - loss: 0.6112 - mae: 0.6112\n",
            "Epoch 765/1000\n",
            "1/1 [==============================] - 0s 14ms/step - loss: 2.4182 - mae: 2.4182\n",
            "Epoch 766/1000\n",
            "1/1 [==============================] - 0s 25ms/step - loss: 0.4503 - mae: 0.4503\n",
            "Epoch 767/1000\n",
            "1/1 [==============================] - 0s 15ms/step - loss: 0.5218 - mae: 0.5218\n",
            "Epoch 768/1000\n",
            "1/1 [==============================] - 0s 15ms/step - loss: 1.1523 - mae: 1.1523\n",
            "Epoch 769/1000\n",
            "1/1 [==============================] - 0s 14ms/step - loss: 2.0190 - mae: 2.0190\n",
            "Epoch 770/1000\n",
            "1/1 [==============================] - 0s 14ms/step - loss: 0.5767 - mae: 0.5767\n",
            "Epoch 771/1000\n",
            "1/1 [==============================] - 0s 16ms/step - loss: 4.3612 - mae: 4.3612\n",
            "Epoch 772/1000\n",
            "1/1 [==============================] - 0s 20ms/step - loss: 3.7292 - mae: 3.7292\n",
            "Epoch 773/1000\n",
            "1/1 [==============================] - 0s 13ms/step - loss: 1.5895 - mae: 1.5895\n",
            "Epoch 774/1000\n",
            "1/1 [==============================] - 0s 10ms/step - loss: 1.7508 - mae: 1.7508\n",
            "Epoch 775/1000\n",
            "1/1 [==============================] - 0s 21ms/step - loss: 2.7044 - mae: 2.7044\n",
            "Epoch 776/1000\n",
            "1/1 [==============================] - 0s 11ms/step - loss: 1.9846 - mae: 1.9846\n",
            "Epoch 777/1000\n",
            "1/1 [==============================] - 0s 27ms/step - loss: 3.3168 - mae: 3.3168\n",
            "Epoch 778/1000\n",
            "1/1 [==============================] - 0s 13ms/step - loss: 3.5600 - mae: 3.5600\n",
            "Epoch 779/1000\n",
            "1/1 [==============================] - 0s 9ms/step - loss: 0.7149 - mae: 0.7149\n",
            "Epoch 780/1000\n",
            "1/1 [==============================] - 0s 9ms/step - loss: 1.1939 - mae: 1.1939\n",
            "Epoch 781/1000\n",
            "1/1 [==============================] - 0s 9ms/step - loss: 3.0004 - mae: 3.0004\n",
            "Epoch 782/1000\n",
            "1/1 [==============================] - 0s 8ms/step - loss: 2.2624 - mae: 2.2624\n",
            "Epoch 783/1000\n",
            "1/1 [==============================] - 0s 8ms/step - loss: 2.9873 - mae: 2.9873\n",
            "Epoch 784/1000\n",
            "1/1 [==============================] - 0s 9ms/step - loss: 3.0029 - mae: 3.0029\n",
            "Epoch 785/1000\n",
            "1/1 [==============================] - 0s 10ms/step - loss: 1.7016 - mae: 1.7016\n",
            "Epoch 786/1000\n",
            "1/1 [==============================] - 0s 8ms/step - loss: 1.3427 - mae: 1.3427\n",
            "Epoch 787/1000\n",
            "1/1 [==============================] - 0s 8ms/step - loss: 3.6041 - mae: 3.6041\n",
            "Epoch 788/1000\n",
            "1/1 [==============================] - 0s 11ms/step - loss: 3.3059 - mae: 3.3059\n",
            "Epoch 789/1000\n",
            "1/1 [==============================] - 0s 11ms/step - loss: 1.6880 - mae: 1.6880\n",
            "Epoch 790/1000\n",
            "1/1 [==============================] - 0s 14ms/step - loss: 1.5846 - mae: 1.5846\n",
            "Epoch 791/1000\n",
            "1/1 [==============================] - 0s 17ms/step - loss: 2.7837 - mae: 2.7837\n",
            "Epoch 792/1000\n",
            "1/1 [==============================] - 0s 15ms/step - loss: 1.9978 - mae: 1.9978\n",
            "Epoch 793/1000\n",
            "1/1 [==============================] - 0s 9ms/step - loss: 3.3442 - mae: 3.3442\n",
            "Epoch 794/1000\n",
            "1/1 [==============================] - 0s 9ms/step - loss: 3.6411 - mae: 3.6411\n",
            "Epoch 795/1000\n",
            "1/1 [==============================] - 0s 8ms/step - loss: 0.5539 - mae: 0.5539\n",
            "Epoch 796/1000\n",
            "1/1 [==============================] - 0s 8ms/step - loss: 0.3212 - mae: 0.3212\n",
            "Epoch 797/1000\n",
            "1/1 [==============================] - 0s 9ms/step - loss: 0.8321 - mae: 0.8321\n",
            "Epoch 798/1000\n",
            "1/1 [==============================] - 0s 8ms/step - loss: 2.7915 - mae: 2.7915\n",
            "Epoch 799/1000\n",
            "1/1 [==============================] - 0s 8ms/step - loss: 1.5622 - mae: 1.5622\n",
            "Epoch 800/1000\n",
            "1/1 [==============================] - 0s 8ms/step - loss: 4.1748 - mae: 4.1748\n",
            "Epoch 801/1000\n",
            "1/1 [==============================] - 0s 8ms/step - loss: 4.5845 - mae: 4.5845\n",
            "Epoch 802/1000\n",
            "1/1 [==============================] - 0s 8ms/step - loss: 0.1991 - mae: 0.1991\n",
            "Epoch 803/1000\n",
            "1/1 [==============================] - 0s 9ms/step - loss: 5.1504 - mae: 5.1504\n",
            "Epoch 804/1000\n",
            "1/1 [==============================] - 0s 10ms/step - loss: 5.5127 - mae: 5.5127\n",
            "Epoch 805/1000\n",
            "1/1 [==============================] - 0s 12ms/step - loss: 1.4642 - mae: 1.4642\n",
            "Epoch 806/1000\n",
            "1/1 [==============================] - 0s 10ms/step - loss: 6.9758 - mae: 6.9758\n",
            "Epoch 807/1000\n",
            "1/1 [==============================] - 0s 10ms/step - loss: 9.7537 - mae: 9.7537\n",
            "Epoch 808/1000\n",
            "1/1 [==============================] - 0s 13ms/step - loss: 7.1046 - mae: 7.1046\n",
            "Epoch 809/1000\n",
            "1/1 [==============================] - 0s 9ms/step - loss: 0.4832 - mae: 0.4832\n",
            "Epoch 810/1000\n",
            "1/1 [==============================] - 0s 10ms/step - loss: 4.0414 - mae: 4.0414\n",
            "Epoch 811/1000\n",
            "1/1 [==============================] - 0s 13ms/step - loss: 3.1453 - mae: 3.1453\n",
            "Epoch 812/1000\n",
            "1/1 [==============================] - 0s 15ms/step - loss: 2.1466 - mae: 2.1466\n",
            "Epoch 813/1000\n",
            "1/1 [==============================] - 0s 11ms/step - loss: 2.3068 - mae: 2.3068\n",
            "Epoch 814/1000\n",
            "1/1 [==============================] - 0s 16ms/step - loss: 2.1450 - mae: 2.1450\n",
            "Epoch 815/1000\n",
            "1/1 [==============================] - 0s 25ms/step - loss: 1.6715 - mae: 1.6715\n",
            "Epoch 816/1000\n",
            "1/1 [==============================] - 0s 17ms/step - loss: 3.2612 - mae: 3.2612\n",
            "Epoch 817/1000\n",
            "1/1 [==============================] - 0s 12ms/step - loss: 3.0730 - mae: 3.0730\n",
            "Epoch 818/1000\n",
            "1/1 [==============================] - 0s 12ms/step - loss: 1.7012 - mae: 1.7012\n",
            "Epoch 819/1000\n",
            "1/1 [==============================] - 0s 16ms/step - loss: 1.6041 - mae: 1.6041\n",
            "Epoch 820/1000\n",
            "1/1 [==============================] - 0s 13ms/step - loss: 1.6578 - mae: 1.6578\n",
            "Epoch 821/1000\n",
            "1/1 [==============================] - 0s 14ms/step - loss: 1.3812 - mae: 1.3812\n",
            "Epoch 822/1000\n",
            "1/1 [==============================] - 0s 17ms/step - loss: 1.3566 - mae: 1.3566\n",
            "Epoch 823/1000\n",
            "1/1 [==============================] - 0s 19ms/step - loss: 0.9866 - mae: 0.9866\n",
            "Epoch 824/1000\n",
            "1/1 [==============================] - 0s 14ms/step - loss: 1.5420 - mae: 1.5420\n",
            "Epoch 825/1000\n",
            "1/1 [==============================] - 0s 14ms/step - loss: 0.6111 - mae: 0.6111\n",
            "Epoch 826/1000\n",
            "1/1 [==============================] - 0s 16ms/step - loss: 3.9916 - mae: 3.9916\n",
            "Epoch 827/1000\n",
            "1/1 [==============================] - 0s 11ms/step - loss: 2.7329 - mae: 2.7329\n",
            "Epoch 828/1000\n",
            "1/1 [==============================] - 0s 10ms/step - loss: 2.9969 - mae: 2.9969\n",
            "Epoch 829/1000\n",
            "1/1 [==============================] - 0s 9ms/step - loss: 3.6661 - mae: 3.6661\n",
            "Epoch 830/1000\n",
            "1/1 [==============================] - 0s 9ms/step - loss: 0.4630 - mae: 0.4630\n",
            "Epoch 831/1000\n",
            "1/1 [==============================] - 0s 10ms/step - loss: 3.8947 - mae: 3.8947\n",
            "Epoch 832/1000\n",
            "1/1 [==============================] - 0s 9ms/step - loss: 2.5608 - mae: 2.5608\n",
            "Epoch 833/1000\n",
            "1/1 [==============================] - 0s 8ms/step - loss: 3.2149 - mae: 3.2149\n",
            "Epoch 834/1000\n",
            "1/1 [==============================] - 0s 9ms/step - loss: 3.9507 - mae: 3.9507\n",
            "Epoch 835/1000\n",
            "1/1 [==============================] - 0s 9ms/step - loss: 0.4626 - mae: 0.4626\n",
            "Epoch 836/1000\n",
            "1/1 [==============================] - 0s 9ms/step - loss: 5.6759 - mae: 5.6759\n",
            "Epoch 837/1000\n",
            "1/1 [==============================] - 0s 9ms/step - loss: 6.2571 - mae: 6.2571\n",
            "Epoch 838/1000\n",
            "1/1 [==============================] - 0s 9ms/step - loss: 1.9669 - mae: 1.9669\n",
            "Epoch 839/1000\n",
            "1/1 [==============================] - 0s 11ms/step - loss: 6.2786 - mae: 6.2786\n",
            "Epoch 840/1000\n",
            "1/1 [==============================] - 0s 22ms/step - loss: 9.2832 - mae: 9.2832\n",
            "Epoch 841/1000\n",
            "1/1 [==============================] - 0s 12ms/step - loss: 7.9011 - mae: 7.9011\n",
            "Epoch 842/1000\n",
            "1/1 [==============================] - 0s 21ms/step - loss: 2.4450 - mae: 2.4450\n",
            "Epoch 843/1000\n",
            "1/1 [==============================] - 0s 16ms/step - loss: 7.1996 - mae: 7.1996\n",
            "Epoch 844/1000\n",
            "1/1 [==============================] - 0s 13ms/step - loss: 11.2550 - mae: 11.2550\n",
            "Epoch 845/1000\n",
            "1/1 [==============================] - 0s 11ms/step - loss: 9.8399 - mae: 9.8399\n",
            "Epoch 846/1000\n",
            "1/1 [==============================] - 0s 16ms/step - loss: 3.6620 - mae: 3.6620\n",
            "Epoch 847/1000\n",
            "1/1 [==============================] - 0s 13ms/step - loss: 6.1933 - mae: 6.1933\n",
            "Epoch 848/1000\n",
            "1/1 [==============================] - 0s 16ms/step - loss: 10.5681 - mae: 10.5681\n",
            "Epoch 849/1000\n",
            "1/1 [==============================] - 0s 16ms/step - loss: 10.4899 - mae: 10.4899\n",
            "Epoch 850/1000\n",
            "1/1 [==============================] - 0s 19ms/step - loss: 6.4144 - mae: 6.4144\n",
            "Epoch 851/1000\n",
            "1/1 [==============================] - 0s 12ms/step - loss: 1.6219 - mae: 1.6219\n",
            "Epoch 852/1000\n",
            "1/1 [==============================] - 0s 16ms/step - loss: 4.4952 - mae: 4.4952\n",
            "Epoch 853/1000\n",
            "1/1 [==============================] - 0s 14ms/step - loss: 2.4343 - mae: 2.4343\n",
            "Epoch 854/1000\n",
            "1/1 [==============================] - 0s 14ms/step - loss: 3.8577 - mae: 3.8577\n",
            "Epoch 855/1000\n",
            "1/1 [==============================] - 0s 15ms/step - loss: 5.1624 - mae: 5.1624\n",
            "Epoch 856/1000\n",
            "1/1 [==============================] - 0s 15ms/step - loss: 2.1224 - mae: 2.1224\n",
            "Epoch 857/1000\n",
            "1/1 [==============================] - 0s 15ms/step - loss: 5.1072 - mae: 5.1072\n",
            "Epoch 858/1000\n",
            "1/1 [==============================] - 0s 19ms/step - loss: 7.0649 - mae: 7.0649\n",
            "Epoch 859/1000\n",
            "1/1 [==============================] - 0s 16ms/step - loss: 4.0787 - mae: 4.0787\n",
            "Epoch 860/1000\n",
            "1/1 [==============================] - 0s 9ms/step - loss: 3.0664 - mae: 3.0664\n",
            "Epoch 861/1000\n",
            "1/1 [==============================] - 0s 17ms/step - loss: 5.0857 - mae: 5.0857\n",
            "Epoch 862/1000\n",
            "1/1 [==============================] - 0s 14ms/step - loss: 2.7138 - mae: 2.7138\n",
            "Epoch 863/1000\n",
            "1/1 [==============================] - 0s 13ms/step - loss: 3.8267 - mae: 3.8267\n",
            "Epoch 864/1000\n",
            "1/1 [==============================] - 0s 13ms/step - loss: 5.2254 - mae: 5.2254\n",
            "Epoch 865/1000\n",
            "1/1 [==============================] - 0s 19ms/step - loss: 2.1425 - mae: 2.1425\n",
            "Epoch 866/1000\n",
            "1/1 [==============================] - 0s 12ms/step - loss: 4.0047 - mae: 4.0047\n",
            "Epoch 867/1000\n",
            "1/1 [==============================] - 0s 14ms/step - loss: 4.9873 - mae: 4.9873\n",
            "Epoch 868/1000\n",
            "1/1 [==============================] - 0s 24ms/step - loss: 1.6786 - mae: 1.6786\n",
            "Epoch 869/1000\n",
            "1/1 [==============================] - 0s 11ms/step - loss: 5.8035 - mae: 5.8035\n",
            "Epoch 870/1000\n",
            "1/1 [==============================] - 0s 15ms/step - loss: 7.9950 - mae: 7.9950\n",
            "Epoch 871/1000\n",
            "1/1 [==============================] - 0s 10ms/step - loss: 5.1942 - mae: 5.1942\n",
            "Epoch 872/1000\n",
            "1/1 [==============================] - 0s 9ms/step - loss: 1.8331 - mae: 1.8331\n",
            "Epoch 873/1000\n",
            "1/1 [==============================] - 0s 10ms/step - loss: 3.7111 - mae: 3.7111\n",
            "Epoch 874/1000\n",
            "1/1 [==============================] - 0s 11ms/step - loss: 1.1513 - mae: 1.1513\n",
            "Epoch 875/1000\n",
            "1/1 [==============================] - 0s 9ms/step - loss: 5.6415 - mae: 5.6415\n",
            "Epoch 876/1000\n",
            "1/1 [==============================] - 0s 22ms/step - loss: 7.1922 - mae: 7.1922\n",
            "Epoch 877/1000\n",
            "1/1 [==============================] - 0s 15ms/step - loss: 3.8641 - mae: 3.8641\n",
            "Epoch 878/1000\n",
            "1/1 [==============================] - 0s 17ms/step - loss: 3.5385 - mae: 3.5385\n",
            "Epoch 879/1000\n",
            "1/1 [==============================] - 0s 18ms/step - loss: 5.8228 - mae: 5.8228\n",
            "Epoch 880/1000\n",
            "1/1 [==============================] - 0s 14ms/step - loss: 3.7438 - mae: 3.7438\n",
            "Epoch 881/1000\n",
            "1/1 [==============================] - 0s 17ms/step - loss: 2.4512 - mae: 2.4512\n",
            "Epoch 882/1000\n",
            "1/1 [==============================] - 0s 18ms/step - loss: 3.6176 - mae: 3.6176\n",
            "Epoch 883/1000\n",
            "1/1 [==============================] - 0s 12ms/step - loss: 0.7817 - mae: 0.7817\n",
            "Epoch 884/1000\n",
            "1/1 [==============================] - 0s 13ms/step - loss: 3.6276 - mae: 3.6276\n",
            "Epoch 885/1000\n",
            "1/1 [==============================] - 0s 11ms/step - loss: 2.7728 - mae: 2.7728\n",
            "Epoch 886/1000\n",
            "1/1 [==============================] - 0s 10ms/step - loss: 2.3173 - mae: 2.3173\n",
            "Epoch 887/1000\n",
            "1/1 [==============================] - 0s 17ms/step - loss: 2.4631 - mae: 2.4631\n",
            "Epoch 888/1000\n",
            "1/1 [==============================] - 0s 15ms/step - loss: 1.8515 - mae: 1.8515\n",
            "Epoch 889/1000\n",
            "1/1 [==============================] - 0s 16ms/step - loss: 1.4008 - mae: 1.4008\n",
            "Epoch 890/1000\n",
            "1/1 [==============================] - 0s 9ms/step - loss: 3.3733 - mae: 3.3733\n",
            "Epoch 891/1000\n",
            "1/1 [==============================] - 0s 12ms/step - loss: 3.1878 - mae: 3.1878\n",
            "Epoch 892/1000\n",
            "1/1 [==============================] - 0s 7ms/step - loss: 1.4452 - mae: 1.4452\n",
            "Epoch 893/1000\n",
            "1/1 [==============================] - 0s 9ms/step - loss: 1.2627 - mae: 1.2627\n",
            "Epoch 894/1000\n",
            "1/1 [==============================] - 0s 11ms/step - loss: 3.2622 - mae: 3.2622\n",
            "Epoch 895/1000\n",
            "1/1 [==============================] - 0s 16ms/step - loss: 2.8607 - mae: 2.8607\n",
            "Epoch 896/1000\n",
            "1/1 [==============================] - 0s 13ms/step - loss: 1.9376 - mae: 1.9376\n",
            "Epoch 897/1000\n",
            "1/1 [==============================] - 0s 15ms/step - loss: 1.9312 - mae: 1.9312\n",
            "Epoch 898/1000\n",
            "1/1 [==============================] - 0s 11ms/step - loss: 2.3906 - mae: 2.3906\n",
            "Epoch 899/1000\n",
            "1/1 [==============================] - 0s 12ms/step - loss: 1.8532 - mae: 1.8532\n",
            "Epoch 900/1000\n",
            "1/1 [==============================] - 0s 16ms/step - loss: 3.0077 - mae: 3.0077\n",
            "Epoch 901/1000\n",
            "1/1 [==============================] - 0s 14ms/step - loss: 3.1145 - mae: 3.1145\n",
            "Epoch 902/1000\n",
            "1/1 [==============================] - 0s 17ms/step - loss: 1.0381 - mae: 1.0381\n",
            "Epoch 903/1000\n",
            "1/1 [==============================] - 0s 16ms/step - loss: 0.7027 - mae: 0.7027\n",
            "Epoch 904/1000\n",
            "1/1 [==============================] - 0s 11ms/step - loss: 1.1648 - mae: 1.1648\n",
            "Epoch 905/1000\n",
            "1/1 [==============================] - 0s 14ms/step - loss: 1.7446 - mae: 1.7446\n",
            "Epoch 906/1000\n",
            "1/1 [==============================] - 0s 20ms/step - loss: 0.5922 - mae: 0.5922\n",
            "Epoch 907/1000\n",
            "1/1 [==============================] - 0s 12ms/step - loss: 1.5198 - mae: 1.5198\n",
            "Epoch 908/1000\n",
            "1/1 [==============================] - 0s 13ms/step - loss: 1.5274 - mae: 1.5274\n",
            "Epoch 909/1000\n",
            "1/1 [==============================] - 0s 18ms/step - loss: 0.5968 - mae: 0.5968\n",
            "Epoch 910/1000\n",
            "1/1 [==============================] - 0s 12ms/step - loss: 0.9212 - mae: 0.9212\n",
            "Epoch 911/1000\n",
            "1/1 [==============================] - 0s 16ms/step - loss: 2.3564 - mae: 2.3564\n",
            "Epoch 912/1000\n",
            "1/1 [==============================] - 0s 14ms/step - loss: 0.7081 - mae: 0.7081\n",
            "Epoch 913/1000\n",
            "1/1 [==============================] - 0s 14ms/step - loss: 5.1426 - mae: 5.1426\n",
            "Epoch 914/1000\n",
            "1/1 [==============================] - 0s 16ms/step - loss: 6.1480 - mae: 6.1480\n",
            "Epoch 915/1000\n",
            "1/1 [==============================] - 0s 17ms/step - loss: 2.8828 - mae: 2.8828\n",
            "Epoch 916/1000\n",
            "1/1 [==============================] - 0s 10ms/step - loss: 4.6110 - mae: 4.6110\n",
            "Epoch 917/1000\n",
            "1/1 [==============================] - 0s 12ms/step - loss: 6.7502 - mae: 6.7502\n",
            "Epoch 918/1000\n",
            "1/1 [==============================] - 0s 11ms/step - loss: 3.8276 - mae: 3.8276\n",
            "Epoch 919/1000\n",
            "1/1 [==============================] - 0s 19ms/step - loss: 3.2609 - mae: 3.2609\n",
            "Epoch 920/1000\n",
            "1/1 [==============================] - 0s 12ms/step - loss: 5.2014 - mae: 5.2014\n",
            "Epoch 921/1000\n",
            "1/1 [==============================] - 0s 11ms/step - loss: 2.7564 - mae: 2.7564\n",
            "Epoch 922/1000\n",
            "1/1 [==============================] - 0s 21ms/step - loss: 3.8630 - mae: 3.8630\n",
            "Epoch 923/1000\n",
            "1/1 [==============================] - 0s 10ms/step - loss: 5.3201 - mae: 5.3201\n",
            "Epoch 924/1000\n",
            "1/1 [==============================] - 0s 13ms/step - loss: 2.2146 - mae: 2.2146\n",
            "Epoch 925/1000\n",
            "1/1 [==============================] - 0s 13ms/step - loss: 3.8085 - mae: 3.8085\n",
            "Epoch 926/1000\n",
            "1/1 [==============================] - 0s 17ms/step - loss: 4.7472 - mae: 4.7472\n",
            "Epoch 927/1000\n",
            "1/1 [==============================] - 0s 12ms/step - loss: 1.3989 - mae: 1.3989\n",
            "Epoch 928/1000\n",
            "1/1 [==============================] - 0s 13ms/step - loss: 6.1245 - mae: 6.1245\n",
            "Epoch 929/1000\n",
            "1/1 [==============================] - 0s 13ms/step - loss: 8.3505 - mae: 8.3505\n",
            "Epoch 930/1000\n",
            "1/1 [==============================] - 0s 10ms/step - loss: 5.5725 - mae: 5.5725\n",
            "Epoch 931/1000\n",
            "1/1 [==============================] - 0s 9ms/step - loss: 1.4386 - mae: 1.4386\n",
            "Epoch 932/1000\n",
            "1/1 [==============================] - 0s 8ms/step - loss: 3.2984 - mae: 3.2984\n",
            "Epoch 933/1000\n",
            "1/1 [==============================] - 0s 8ms/step - loss: 0.8173 - mae: 0.8173\n",
            "Epoch 934/1000\n",
            "1/1 [==============================] - 0s 8ms/step - loss: 4.0314 - mae: 4.0314\n",
            "Epoch 935/1000\n",
            "1/1 [==============================] - 0s 9ms/step - loss: 3.7685 - mae: 3.7685\n",
            "Epoch 936/1000\n",
            "1/1 [==============================] - 0s 8ms/step - loss: 1.0154 - mae: 1.0154\n",
            "Epoch 937/1000\n",
            "1/1 [==============================] - 0s 8ms/step - loss: 1.2028 - mae: 1.2028\n",
            "Epoch 938/1000\n",
            "1/1 [==============================] - 0s 13ms/step - loss: 2.7187 - mae: 2.7187\n",
            "Epoch 939/1000\n",
            "1/1 [==============================] - 0s 13ms/step - loss: 1.7366 - mae: 1.7366\n",
            "Epoch 940/1000\n",
            "1/1 [==============================] - 0s 14ms/step - loss: 3.5412 - mae: 3.5412\n",
            "Epoch 941/1000\n",
            "1/1 [==============================] - 0s 10ms/step - loss: 4.0087 - mae: 4.0087\n",
            "Epoch 942/1000\n",
            "1/1 [==============================] - 0s 9ms/step - loss: 0.4886 - mae: 0.4886\n",
            "Epoch 943/1000\n",
            "1/1 [==============================] - 0s 11ms/step - loss: 4.6153 - mae: 4.6153\n",
            "Epoch 944/1000\n",
            "1/1 [==============================] - 0s 11ms/step - loss: 4.4024 - mae: 4.4024\n",
            "Epoch 945/1000\n",
            "1/1 [==============================] - 0s 14ms/step - loss: 0.5334 - mae: 0.5334\n",
            "Epoch 946/1000\n",
            "1/1 [==============================] - 0s 8ms/step - loss: 2.1558 - mae: 2.1558\n",
            "Epoch 947/1000\n",
            "1/1 [==============================] - 0s 9ms/step - loss: 0.5206 - mae: 0.5206\n",
            "Epoch 948/1000\n",
            "1/1 [==============================] - 0s 8ms/step - loss: 0.3780 - mae: 0.3780\n",
            "Epoch 949/1000\n",
            "1/1 [==============================] - 0s 9ms/step - loss: 0.8039 - mae: 0.8039\n",
            "Epoch 950/1000\n",
            "1/1 [==============================] - 0s 9ms/step - loss: 2.6149 - mae: 2.6149\n",
            "Epoch 951/1000\n",
            "1/1 [==============================] - 0s 8ms/step - loss: 1.1890 - mae: 1.1890\n",
            "Epoch 952/1000\n",
            "1/1 [==============================] - 0s 8ms/step - loss: 4.4492 - mae: 4.4492\n",
            "Epoch 953/1000\n",
            "1/1 [==============================] - 0s 10ms/step - loss: 5.2705 - mae: 5.2705\n",
            "Epoch 954/1000\n",
            "1/1 [==============================] - 0s 10ms/step - loss: 1.8439 - mae: 1.8439\n",
            "Epoch 955/1000\n",
            "1/1 [==============================] - 0s 11ms/step - loss: 5.7416 - mae: 5.7416\n",
            "Epoch 956/1000\n",
            "1/1 [==============================] - 0s 10ms/step - loss: 8.0242 - mae: 8.0242\n",
            "Epoch 957/1000\n",
            "1/1 [==============================] - 0s 13ms/step - loss: 5.2843 - mae: 5.2843\n",
            "Epoch 958/1000\n",
            "1/1 [==============================] - 0s 12ms/step - loss: 1.6770 - mae: 1.6770\n",
            "Epoch 959/1000\n",
            "1/1 [==============================] - 0s 9ms/step - loss: 3.5039 - mae: 3.5039\n",
            "Epoch 960/1000\n",
            "1/1 [==============================] - 0s 9ms/step - loss: 0.9030 - mae: 0.9030\n",
            "Epoch 961/1000\n",
            "1/1 [==============================] - 0s 13ms/step - loss: 5.9191 - mae: 5.9191\n",
            "Epoch 962/1000\n",
            "1/1 [==============================] - 0s 11ms/step - loss: 7.5000 - mae: 7.5000\n",
            "Epoch 963/1000\n",
            "1/1 [==============================] - 0s 10ms/step - loss: 4.2013 - mae: 4.2013\n",
            "Epoch 964/1000\n",
            "1/1 [==============================] - 0s 9ms/step - loss: 3.1648 - mae: 3.1648\n",
            "Epoch 965/1000\n",
            "1/1 [==============================] - 0s 10ms/step - loss: 5.4216 - mae: 5.4216\n",
            "Epoch 966/1000\n",
            "1/1 [==============================] - 0s 11ms/step - loss: 3.3312 - mae: 3.3312\n",
            "Epoch 967/1000\n",
            "1/1 [==============================] - 0s 12ms/step - loss: 2.8559 - mae: 2.8559\n",
            "Epoch 968/1000\n",
            "1/1 [==============================] - 0s 16ms/step - loss: 4.0329 - mae: 4.0329\n",
            "Epoch 969/1000\n",
            "1/1 [==============================] - 0s 17ms/step - loss: 0.5836 - mae: 0.5836\n",
            "Epoch 970/1000\n",
            "1/1 [==============================] - 0s 21ms/step - loss: 6.7007 - mae: 6.7007\n",
            "Epoch 971/1000\n",
            "1/1 [==============================] - 0s 10ms/step - loss: 9.0867 - mae: 9.0867\n",
            "Epoch 972/1000\n",
            "1/1 [==============================] - 0s 13ms/step - loss: 7.3170 - mae: 7.3170\n",
            "Epoch 973/1000\n",
            "1/1 [==============================] - 0s 13ms/step - loss: 1.6524 - mae: 1.6524\n",
            "Epoch 974/1000\n",
            "1/1 [==============================] - 0s 13ms/step - loss: 8.0208 - mae: 8.0208\n",
            "Epoch 975/1000\n",
            "1/1 [==============================] - 0s 14ms/step - loss: 12.2858 - mae: 12.2858\n",
            "Epoch 976/1000\n",
            "1/1 [==============================] - 0s 15ms/step - loss: 11.2341 - mae: 11.2341\n",
            "Epoch 977/1000\n",
            "1/1 [==============================] - 0s 12ms/step - loss: 5.5169 - mae: 5.5169\n",
            "Epoch 978/1000\n",
            "1/1 [==============================] - 0s 12ms/step - loss: 3.8629 - mae: 3.8629\n",
            "Epoch 979/1000\n",
            "1/1 [==============================] - 0s 15ms/step - loss: 7.9134 - mae: 7.9134\n",
            "Epoch 980/1000\n",
            "1/1 [==============================] - 0s 10ms/step - loss: 7.6056 - mae: 7.6056\n",
            "Epoch 981/1000\n",
            "1/1 [==============================] - 0s 9ms/step - loss: 3.3603 - mae: 3.3603\n",
            "Epoch 982/1000\n",
            "1/1 [==============================] - 0s 9ms/step - loss: 4.8038 - mae: 4.8038\n",
            "Epoch 983/1000\n",
            "1/1 [==============================] - 0s 10ms/step - loss: 7.8339 - mae: 7.8339\n",
            "Epoch 984/1000\n",
            "1/1 [==============================] - 0s 10ms/step - loss: 5.9434 - mae: 5.9434\n",
            "Epoch 985/1000\n",
            "1/1 [==============================] - 0s 15ms/step - loss: 1.2243 - mae: 1.2243\n",
            "Epoch 986/1000\n",
            "1/1 [==============================] - 0s 26ms/step - loss: 4.7695 - mae: 4.7695\n",
            "Epoch 987/1000\n",
            "1/1 [==============================] - 0s 11ms/step - loss: 4.8045 - mae: 4.8045\n",
            "Epoch 988/1000\n",
            "1/1 [==============================] - 0s 16ms/step - loss: 1.0867 - mae: 1.0867\n",
            "Epoch 989/1000\n",
            "1/1 [==============================] - 0s 14ms/step - loss: 5.3247 - mae: 5.3247\n",
            "Epoch 990/1000\n",
            "1/1 [==============================] - 0s 16ms/step - loss: 6.3664 - mae: 6.3664\n",
            "Epoch 991/1000\n",
            "1/1 [==============================] - 0s 16ms/step - loss: 2.7476 - mae: 2.7476\n",
            "Epoch 992/1000\n",
            "1/1 [==============================] - 0s 16ms/step - loss: 4.7256 - mae: 4.7256\n",
            "Epoch 993/1000\n",
            "1/1 [==============================] - 0s 17ms/step - loss: 7.2397 - mae: 7.2397\n",
            "Epoch 994/1000\n",
            "1/1 [==============================] - 0s 15ms/step - loss: 5.5544 - mae: 5.5544\n",
            "Epoch 995/1000\n",
            "1/1 [==============================] - 0s 12ms/step - loss: 0.7020 - mae: 0.7020\n",
            "Epoch 996/1000\n",
            "1/1 [==============================] - 0s 13ms/step - loss: 6.1567 - mae: 6.1567\n",
            "Epoch 997/1000\n",
            "1/1 [==============================] - 0s 16ms/step - loss: 7.1371 - mae: 7.1371\n",
            "Epoch 998/1000\n",
            "1/1 [==============================] - 0s 20ms/step - loss: 3.4085 - mae: 3.4085\n",
            "Epoch 999/1000\n",
            "1/1 [==============================] - 0s 16ms/step - loss: 4.1767 - mae: 4.1767\n",
            "Epoch 1000/1000\n",
            "1/1 [==============================] - 0s 15ms/step - loss: 6.7660 - mae: 6.7660\n"
          ]
        },
        {
          "output_type": "execute_result",
          "data": {
            "text/plain": [
              "<keras.callbacks.History at 0x7f5e0f3530d0>"
            ]
          },
          "metadata": {},
          "execution_count": 35
        }
      ]
    },
    {
      "cell_type": "code",
      "source": [
        "# When We Increased the number of Epochs the performance of the model increases"
      ],
      "metadata": {
        "id": "igZHHkrqEX88"
      },
      "execution_count": 36,
      "outputs": []
    },
    {
      "cell_type": "code",
      "source": [
        "X, y"
      ],
      "metadata": {
        "colab": {
          "base_uri": "https://localhost:8080/"
        },
        "id": "BiFKGdmWDe4T",
        "outputId": "d5842984-487d-4c35-8355-92b0b79a2962"
      },
      "execution_count": 37,
      "outputs": [
        {
          "output_type": "execute_result",
          "data": {
            "text/plain": [
              "(<tf.Tensor: shape=(10, 1), dtype=float64, numpy=\n",
              " array([[20. ],\n",
              "        [ 4. ],\n",
              "        [ 2.2],\n",
              "        [ 7. ],\n",
              "        [99. ],\n",
              "        [44. ],\n",
              "        [31. ],\n",
              "        [ 9.9],\n",
              "        [51. ],\n",
              "        [73. ]])>, <tf.Tensor: shape=(10,), dtype=float64, numpy=\n",
              " array([111. ,  79. ,  75.4,  85. , 269. , 159. , 133. ,  90.8, 173. ,\n",
              "        217. ])>)"
            ]
          },
          "metadata": {},
          "execution_count": 37
        }
      ]
    },
    {
      "cell_type": "code",
      "source": [
        "# Lets see whether our model's prediction has imporved\n",
        "model_reg.predict(tf.expand_dims([20], axis = -1))"
      ],
      "metadata": {
        "colab": {
          "base_uri": "https://localhost:8080/"
        },
        "id": "Qbl-wcuOEUrY",
        "outputId": "f46aa45e-c09b-43c0-d976-6aa1eb9f5ab6"
      },
      "execution_count": 38,
      "outputs": [
        {
          "output_type": "execute_result",
          "data": {
            "text/plain": [
              "array([[107.072556]], dtype=float32)"
            ]
          },
          "metadata": {},
          "execution_count": 38
        }
      ]
    },
    {
      "cell_type": "code",
      "source": [
        "#y = 2x + 71\n",
        "X_new = 107\n",
        "y_actual = 2*X_new +71\n",
        "\n",
        "y_pred = model_reg.predict(tf.expand_dims([107], axis = -1))\n",
        "y_actual, print(y_pred)"
      ],
      "metadata": {
        "colab": {
          "base_uri": "https://localhost:8080/"
        },
        "id": "9OMwKS8DEVfQ",
        "outputId": "80dc1333-b80c-4899-f05a-836c59b078fe"
      },
      "execution_count": 39,
      "outputs": [
        {
          "output_type": "stream",
          "name": "stdout",
          "text": [
            "[[274.24597]]\n"
          ]
        },
        {
          "output_type": "execute_result",
          "data": {
            "text/plain": [
              "(285, None)"
            ]
          },
          "metadata": {},
          "execution_count": 39
        }
      ]
    },
    {
      "cell_type": "code",
      "source": [
        "# Lets create a bigger dummy dataset & work with it"
      ],
      "metadata": {
        "id": "gw4UWNTHHnat"
      },
      "execution_count": 40,
      "outputs": []
    },
    {
      "cell_type": "code",
      "source": [
        "X = tf.range(-100,100, 4)\n",
        "\n",
        "y = X + 17\n",
        "\n",
        "X, y"
      ],
      "metadata": {
        "colab": {
          "base_uri": "https://localhost:8080/"
        },
        "id": "KZb2F-ImQ8Wu",
        "outputId": "0535378b-f76b-4f2e-9fe1-ce113a63c94d"
      },
      "execution_count": 41,
      "outputs": [
        {
          "output_type": "execute_result",
          "data": {
            "text/plain": [
              "(<tf.Tensor: shape=(50,), dtype=int32, numpy=\n",
              " array([-100,  -96,  -92,  -88,  -84,  -80,  -76,  -72,  -68,  -64,  -60,\n",
              "         -56,  -52,  -48,  -44,  -40,  -36,  -32,  -28,  -24,  -20,  -16,\n",
              "         -12,   -8,   -4,    0,    4,    8,   12,   16,   20,   24,   28,\n",
              "          32,   36,   40,   44,   48,   52,   56,   60,   64,   68,   72,\n",
              "          76,   80,   84,   88,   92,   96], dtype=int32)>,\n",
              " <tf.Tensor: shape=(50,), dtype=int32, numpy=\n",
              " array([-83, -79, -75, -71, -67, -63, -59, -55, -51, -47, -43, -39, -35,\n",
              "        -31, -27, -23, -19, -15, -11,  -7,  -3,   1,   5,   9,  13,  17,\n",
              "         21,  25,  29,  33,  37,  41,  45,  49,  53,  57,  61,  65,  69,\n",
              "         73,  77,  81,  85,  89,  93,  97, 101, 105, 109, 113], dtype=int32)>)"
            ]
          },
          "metadata": {},
          "execution_count": 41
        }
      ]
    },
    {
      "cell_type": "code",
      "source": [
        "# Visualising our data\n",
        "plt.plot(X,y)"
      ],
      "metadata": {
        "colab": {
          "base_uri": "https://localhost:8080/",
          "height": 282
        },
        "id": "UapT6REsRIJM",
        "outputId": "f01cbf1e-cbdf-4e74-a993-8bd1b2ecdab3"
      },
      "execution_count": 42,
      "outputs": [
        {
          "output_type": "execute_result",
          "data": {
            "text/plain": [
              "[<matplotlib.lines.Line2D at 0x7f5e0e9fda10>]"
            ]
          },
          "metadata": {},
          "execution_count": 42
        },
        {
          "output_type": "display_data",
          "data": {
            "text/plain": [
              "<Figure size 432x288 with 1 Axes>"
            ],
            "image/png": "[encoded data removed]"
          },
          "metadata": {
            "needs_background": "light"
          }
        }
      ]
    },
    {
      "cell_type": "code",
      "source": [
        "# Split data into train and test sets\n",
        "X_train = X[:40] # first 40 examples (80% of data)\n",
        "y_train = y[:40]\n",
        "\n",
        "X_test = X[40:] # last 10 examples (20% of data)\n",
        "y_test = y[40:]\n",
        "\n",
        "len(X_train), len(X_test)"
      ],
      "metadata": {
        "colab": {
          "base_uri": "https://localhost:8080/"
        },
        "id": "zarJIoQwRYZW",
        "outputId": "7ee453fd-cfe6-4022-cbb7-c1b248497b04"
      },
      "execution_count": 43,
      "outputs": [
        {
          "output_type": "execute_result",
          "data": {
            "text/plain": [
              "(40, 10)"
            ]
          },
          "metadata": {},
          "execution_count": 43
        }
      ]
    },
    {
      "cell_type": "code",
      "source": [
        "plt.figure(figsize=(10, 7))\n",
        "# Plot training data in blue\n",
        "plt.scatter(X_train, y_train, c='b', label='Training data')\n",
        "# Plot test data in green\n",
        "plt.scatter(X_test, y_test, c='g', label='Testing data')\n",
        "# Show the legend\n",
        "plt.legend();"
      ],
      "metadata": {
        "colab": {
          "base_uri": "https://localhost:8080/",
          "height": 428
        },
        "id": "SixS1j4UUuGM",
        "outputId": "431fd20a-6250-4f4b-de8d-3421efabd74e"
      },
      "execution_count": 44,
      "outputs": [
        {
          "output_type": "display_data",
          "data": {
            "text/plain": [
              "<Figure size 720x504 with 1 Axes>"
            ],
            "image/png": "[encoded data removed]"
          },
          "metadata": {
            "needs_background": "light"
          }
        }
      ]
    },
    {
      "cell_type": "code",
      "source": [
        "\n",
        "\n",
        "# Create a model (same as above)\n",
        "model = tf.keras.Sequential([\n",
        "  tf.keras.layers.Dense(1)\n",
        "])\n",
        "\n",
        "# Compile model (same as above)\n",
        "model.compile(loss=tf.keras.losses.mae,\n",
        "              optimizer=tf.keras.optimizers.SGD(),\n",
        "              metrics=[\"mae\"])\n",
        "\n",
        "# Fit model (same as above)\n",
        "#model.fit(X_train, y_train, epochs=100) # commented out on purpose (not fitting it just yet)"
      ],
      "metadata": {
        "id": "o6nXlUxWUw9a"
      },
      "execution_count": 45,
      "outputs": []
    },
    {
      "cell_type": "code",
      "source": [
        "# model.summary()"
      ],
      "metadata": {
        "id": "FFOA7jlTVVu7"
      },
      "execution_count": 46,
      "outputs": []
    },
    {
      "cell_type": "code",
      "source": [
        "# model.build()"
      ],
      "metadata": {
        "id": "MuszQn9QV89N"
      },
      "execution_count": 47,
      "outputs": []
    },
    {
      "cell_type": "code",
      "source": [
        "X[0], y[0]"
      ],
      "metadata": {
        "colab": {
          "base_uri": "https://localhost:8080/"
        },
        "id": "FKKtB50_W33D",
        "outputId": "963db4ed-33f1-4b92-b1e6-8d8b9cc22c9d"
      },
      "execution_count": 48,
      "outputs": [
        {
          "output_type": "execute_result",
          "data": {
            "text/plain": [
              "(<tf.Tensor: shape=(), dtype=int32, numpy=-100>,\n",
              " <tf.Tensor: shape=(), dtype=int32, numpy=-83>)"
            ]
          },
          "metadata": {},
          "execution_count": 48
        }
      ]
    },
    {
      "cell_type": "code",
      "source": [
        "# We have to provide the input shape to the model\n",
        "# Input shape must be 1 as we are passing only one number\n",
        "model = tf.keras.Sequential([\n",
        "                             tf.keras.layers.Dense(1, input_shape= [1])\n",
        "])\n",
        "\n",
        "model.compile(loss = tf.keras.losses.mae,\n",
        "              optimizer = tf.keras.optimizers.SGD(),\n",
        "              metrics = ['mae'])"
      ],
      "metadata": {
        "id": "x7mZFuLuWG-3"
      },
      "execution_count": 49,
      "outputs": []
    },
    {
      "cell_type": "code",
      "source": [
        "model.summary()"
      ],
      "metadata": {
        "colab": {
          "base_uri": "https://localhost:8080/"
        },
        "id": "MV_IwUMpXyV6",
        "outputId": "8cc6bdc3-b729-4a2a-fa4f-819c71b856e7"
      },
      "execution_count": 50,
      "outputs": [
        {
          "output_type": "stream",
          "name": "stdout",
          "text": [
            "Model: \"sequential_6\"\n",
            "_________________________________________________________________\n",
            " Layer (type)                Output Shape              Param #   \n",
            "=================================================================\n",
            " dense_11 (Dense)            (None, 1)                 2         \n",
            "                                                                 \n",
            "=================================================================\n",
            "Total params: 2\n",
            "Trainable params: 2\n",
            "Non-trainable params: 0\n",
            "_________________________________________________________________\n"
          ]
        }
      ]
    },
    {
      "cell_type": "markdown",
      "source": [
        "**Total params** - total number of parameters in the model.\n",
        "\n",
        "**Trainable parameters** - these are the parameters (patterns) the model can update as it trains.\n",
        "\n",
        "**Non-trainable parameters** - these parameters aren't updated during training (this is typical when you bring in the already learned patterns from other models during transfer learning).\n",
        "\n",
        "🛠 **Exercise:** Try playing around with the number of hidden units in the Dense layer (e.g. Dense(2), Dense(3)). How does this change the Total/Trainable params? Investigate what's causing the change."
      ],
      "metadata": {
        "id": "fLEwJ9CZX1mS"
      }
    },
    {
      "cell_type": "code",
      "source": [
        "# Fit the model to train the data\n",
        "model.fit(X_train, y_train, epochs = 100, verbose = 1)"
      ],
      "metadata": {
        "colab": {
          "base_uri": "https://localhost:8080/"
        },
        "id": "7St4Uu6FZQwf",
        "outputId": "8fbe1d1a-eb48-482a-dcd4-308955921cb1"
      },
      "execution_count": 51,
      "outputs": [
        {
          "output_type": "stream",
          "name": "stdout",
          "text": [
            "Epoch 1/100\n",
            "2/2 [==============================] - 1s 8ms/step - loss: 37.1328 - mae: 37.1328\n",
            "Epoch 2/100\n",
            "2/2 [==============================] - 0s 7ms/step - loss: 13.8865 - mae: 13.8865\n",
            "Epoch 3/100\n",
            "2/2 [==============================] - 0s 14ms/step - loss: 14.3675 - mae: 14.3675\n",
            "Epoch 4/100\n",
            "2/2 [==============================] - 0s 15ms/step - loss: 13.4755 - mae: 13.4755\n",
            "Epoch 5/100\n",
            "2/2 [==============================] - 0s 8ms/step - loss: 15.3901 - mae: 15.3901\n",
            "Epoch 6/100\n",
            "2/2 [==============================] - 0s 8ms/step - loss: 15.0863 - mae: 15.0863\n",
            "Epoch 7/100\n",
            "2/2 [==============================] - 0s 6ms/step - loss: 14.7699 - mae: 14.7699\n",
            "Epoch 8/100\n",
            "2/2 [==============================] - 0s 6ms/step - loss: 13.9429 - mae: 13.9429\n",
            "Epoch 9/100\n",
            "2/2 [==============================] - 0s 5ms/step - loss: 13.1819 - mae: 13.1819\n",
            "Epoch 10/100\n",
            "2/2 [==============================] - 0s 5ms/step - loss: 14.1325 - mae: 14.1325\n",
            "Epoch 11/100\n",
            "2/2 [==============================] - 0s 8ms/step - loss: 16.7207 - mae: 16.7207\n",
            "Epoch 12/100\n",
            "2/2 [==============================] - 0s 9ms/step - loss: 14.3499 - mae: 14.3499\n",
            "Epoch 13/100\n",
            "2/2 [==============================] - 0s 7ms/step - loss: 16.4342 - mae: 16.4342\n",
            "Epoch 14/100\n",
            "2/2 [==============================] - 0s 4ms/step - loss: 16.3013 - mae: 16.3013\n",
            "Epoch 15/100\n",
            "2/2 [==============================] - 0s 6ms/step - loss: 23.3273 - mae: 23.3273\n",
            "Epoch 16/100\n",
            "2/2 [==============================] - 0s 9ms/step - loss: 19.2974 - mae: 19.2974\n",
            "Epoch 17/100\n",
            "2/2 [==============================] - 0s 9ms/step - loss: 13.2714 - mae: 13.2714\n",
            "Epoch 18/100\n",
            "2/2 [==============================] - 0s 5ms/step - loss: 18.5348 - mae: 18.5348\n",
            "Epoch 19/100\n",
            "2/2 [==============================] - 0s 10ms/step - loss: 18.1375 - mae: 18.1375\n",
            "Epoch 20/100\n",
            "2/2 [==============================] - 0s 8ms/step - loss: 12.6047 - mae: 12.6047\n",
            "Epoch 21/100\n",
            "2/2 [==============================] - 0s 7ms/step - loss: 17.7908 - mae: 17.7908\n",
            "Epoch 22/100\n",
            "2/2 [==============================] - 0s 9ms/step - loss: 15.0337 - mae: 15.0337\n",
            "Epoch 23/100\n",
            "2/2 [==============================] - 0s 12ms/step - loss: 14.5730 - mae: 14.5730\n",
            "Epoch 24/100\n",
            "2/2 [==============================] - 0s 8ms/step - loss: 19.6868 - mae: 19.6868\n",
            "Epoch 25/100\n",
            "2/2 [==============================] - 0s 6ms/step - loss: 13.0556 - mae: 13.0556\n",
            "Epoch 26/100\n",
            "2/2 [==============================] - 0s 6ms/step - loss: 17.1865 - mae: 17.1865\n",
            "Epoch 27/100\n",
            "2/2 [==============================] - 0s 5ms/step - loss: 13.7642 - mae: 13.7642\n",
            "Epoch 28/100\n",
            "2/2 [==============================] - 0s 6ms/step - loss: 16.6263 - mae: 16.6263\n",
            "Epoch 29/100\n",
            "2/2 [==============================] - 0s 5ms/step - loss: 21.2284 - mae: 21.2284\n",
            "Epoch 30/100\n",
            "2/2 [==============================] - 0s 6ms/step - loss: 16.9694 - mae: 16.9694\n",
            "Epoch 31/100\n",
            "2/2 [==============================] - 0s 5ms/step - loss: 17.5993 - mae: 17.5993\n",
            "Epoch 32/100\n",
            "2/2 [==============================] - 0s 5ms/step - loss: 14.2343 - mae: 14.2343\n",
            "Epoch 33/100\n",
            "2/2 [==============================] - 0s 5ms/step - loss: 21.7772 - mae: 21.7772\n",
            "Epoch 34/100\n",
            "2/2 [==============================] - 0s 6ms/step - loss: 12.9562 - mae: 12.9562\n",
            "Epoch 35/100\n",
            "2/2 [==============================] - 0s 5ms/step - loss: 13.0097 - mae: 13.0097\n",
            "Epoch 36/100\n",
            "2/2 [==============================] - 0s 5ms/step - loss: 12.7360 - mae: 12.7360\n",
            "Epoch 37/100\n",
            "2/2 [==============================] - 0s 5ms/step - loss: 18.5770 - mae: 18.5770\n",
            "Epoch 38/100\n",
            "2/2 [==============================] - 0s 6ms/step - loss: 13.6776 - mae: 13.6776\n",
            "Epoch 39/100\n",
            "2/2 [==============================] - 0s 6ms/step - loss: 20.6755 - mae: 20.6755\n",
            "Epoch 40/100\n",
            "2/2 [==============================] - 0s 5ms/step - loss: 15.0020 - mae: 15.0020\n",
            "Epoch 41/100\n",
            "2/2 [==============================] - 0s 5ms/step - loss: 12.5359 - mae: 12.5359\n",
            "Epoch 42/100\n",
            "2/2 [==============================] - 0s 6ms/step - loss: 14.6331 - mae: 14.6331\n",
            "Epoch 43/100\n",
            "2/2 [==============================] - 0s 9ms/step - loss: 17.0042 - mae: 17.0042\n",
            "Epoch 44/100\n",
            "2/2 [==============================] - 0s 4ms/step - loss: 13.8872 - mae: 13.8872\n",
            "Epoch 45/100\n",
            "2/2 [==============================] - 0s 7ms/step - loss: 17.6016 - mae: 17.6016\n",
            "Epoch 46/100\n",
            "2/2 [==============================] - 0s 5ms/step - loss: 16.1410 - mae: 16.1410\n",
            "Epoch 47/100\n",
            "2/2 [==============================] - 0s 6ms/step - loss: 16.4641 - mae: 16.4641\n",
            "Epoch 48/100\n",
            "2/2 [==============================] - 0s 11ms/step - loss: 18.9176 - mae: 18.9176\n",
            "Epoch 49/100\n",
            "2/2 [==============================] - 0s 11ms/step - loss: 12.6918 - mae: 12.6918\n",
            "Epoch 50/100\n",
            "2/2 [==============================] - 0s 8ms/step - loss: 12.6177 - mae: 12.6177\n",
            "Epoch 51/100\n",
            "2/2 [==============================] - 0s 5ms/step - loss: 13.7244 - mae: 13.7244\n",
            "Epoch 52/100\n",
            "2/2 [==============================] - 0s 11ms/step - loss: 13.6960 - mae: 13.6960\n",
            "Epoch 53/100\n",
            "2/2 [==============================] - 0s 11ms/step - loss: 14.4287 - mae: 14.4287\n",
            "Epoch 54/100\n",
            "2/2 [==============================] - 0s 10ms/step - loss: 12.6898 - mae: 12.6898\n",
            "Epoch 55/100\n",
            "2/2 [==============================] - 0s 12ms/step - loss: 12.4219 - mae: 12.4219\n",
            "Epoch 56/100\n",
            "2/2 [==============================] - 0s 5ms/step - loss: 12.9872 - mae: 12.9872\n",
            "Epoch 57/100\n",
            "2/2 [==============================] - 0s 11ms/step - loss: 13.3222 - mae: 13.3222\n",
            "Epoch 58/100\n",
            "2/2 [==============================] - 0s 4ms/step - loss: 14.7080 - mae: 14.7080\n",
            "Epoch 59/100\n",
            "2/2 [==============================] - 0s 11ms/step - loss: 15.8495 - mae: 15.8495\n",
            "Epoch 60/100\n",
            "2/2 [==============================] - 0s 14ms/step - loss: 16.9277 - mae: 16.9277\n",
            "Epoch 61/100\n",
            "2/2 [==============================] - 0s 6ms/step - loss: 21.0495 - mae: 21.0495\n",
            "Epoch 62/100\n",
            "2/2 [==============================] - 0s 9ms/step - loss: 14.8960 - mae: 14.8960\n",
            "Epoch 63/100\n",
            "2/2 [==============================] - 0s 9ms/step - loss: 13.8019 - mae: 13.8019\n",
            "Epoch 64/100\n",
            "2/2 [==============================] - 0s 9ms/step - loss: 16.6700 - mae: 16.6700\n",
            "Epoch 65/100\n",
            "2/2 [==============================] - 0s 8ms/step - loss: 12.3548 - mae: 12.3548\n",
            "Epoch 66/100\n",
            "2/2 [==============================] - 0s 6ms/step - loss: 12.3229 - mae: 12.3229\n",
            "Epoch 67/100\n",
            "2/2 [==============================] - 0s 7ms/step - loss: 12.2613 - mae: 12.2613\n",
            "Epoch 68/100\n",
            "2/2 [==============================] - 0s 7ms/step - loss: 15.3265 - mae: 15.3265\n",
            "Epoch 69/100\n",
            "2/2 [==============================] - 0s 4ms/step - loss: 21.5207 - mae: 21.5207\n",
            "Epoch 70/100\n",
            "2/2 [==============================] - 0s 4ms/step - loss: 16.1408 - mae: 16.1408\n",
            "Epoch 71/100\n",
            "2/2 [==============================] - 0s 5ms/step - loss: 14.1794 - mae: 14.1794\n",
            "Epoch 72/100\n",
            "2/2 [==============================] - 0s 5ms/step - loss: 13.9645 - mae: 13.9645\n",
            "Epoch 73/100\n",
            "2/2 [==============================] - 0s 8ms/step - loss: 15.3289 - mae: 15.3289\n",
            "Epoch 74/100\n",
            "2/2 [==============================] - 0s 5ms/step - loss: 12.3668 - mae: 12.3668\n",
            "Epoch 75/100\n",
            "2/2 [==============================] - 0s 8ms/step - loss: 18.5195 - mae: 18.5195\n",
            "Epoch 76/100\n",
            "2/2 [==============================] - 0s 4ms/step - loss: 15.6642 - mae: 15.6642\n",
            "Epoch 77/100\n",
            "2/2 [==============================] - 0s 4ms/step - loss: 15.2252 - mae: 15.2252\n",
            "Epoch 78/100\n",
            "2/2 [==============================] - 0s 4ms/step - loss: 21.1905 - mae: 21.1905\n",
            "Epoch 79/100\n",
            "2/2 [==============================] - 0s 7ms/step - loss: 13.1839 - mae: 13.1839\n",
            "Epoch 80/100\n",
            "2/2 [==============================] - 0s 7ms/step - loss: 14.0307 - mae: 14.0307\n",
            "Epoch 81/100\n",
            "2/2 [==============================] - 0s 4ms/step - loss: 19.1917 - mae: 19.1917\n",
            "Epoch 82/100\n",
            "2/2 [==============================] - 0s 10ms/step - loss: 14.9247 - mae: 14.9247\n",
            "Epoch 83/100\n",
            "2/2 [==============================] - 0s 11ms/step - loss: 14.6308 - mae: 14.6308\n",
            "Epoch 84/100\n",
            "2/2 [==============================] - 0s 4ms/step - loss: 15.1165 - mae: 15.1165\n",
            "Epoch 85/100\n",
            "2/2 [==============================] - 0s 4ms/step - loss: 14.5256 - mae: 14.5256\n",
            "Epoch 86/100\n",
            "2/2 [==============================] - 0s 5ms/step - loss: 13.6951 - mae: 13.6951\n",
            "Epoch 87/100\n",
            "2/2 [==============================] - 0s 4ms/step - loss: 14.3206 - mae: 14.3206\n",
            "Epoch 88/100\n",
            "2/2 [==============================] - 0s 4ms/step - loss: 13.4229 - mae: 13.4229\n",
            "Epoch 89/100\n",
            "2/2 [==============================] - 0s 6ms/step - loss: 12.5479 - mae: 12.5479\n",
            "Epoch 90/100\n",
            "2/2 [==============================] - 0s 4ms/step - loss: 12.7829 - mae: 12.7829\n",
            "Epoch 91/100\n",
            "2/2 [==============================] - 0s 5ms/step - loss: 15.0807 - mae: 15.0807\n",
            "Epoch 92/100\n",
            "2/2 [==============================] - 0s 7ms/step - loss: 12.0971 - mae: 12.0971\n",
            "Epoch 93/100\n",
            "2/2 [==============================] - 0s 5ms/step - loss: 14.9751 - mae: 14.9751\n",
            "Epoch 94/100\n",
            "2/2 [==============================] - 0s 7ms/step - loss: 14.1446 - mae: 14.1446\n",
            "Epoch 95/100\n",
            "2/2 [==============================] - 0s 4ms/step - loss: 13.0033 - mae: 13.0033\n",
            "Epoch 96/100\n",
            "2/2 [==============================] - 0s 5ms/step - loss: 14.2898 - mae: 14.2898\n",
            "Epoch 97/100\n",
            "2/2 [==============================] - 0s 5ms/step - loss: 13.8142 - mae: 13.8142\n",
            "Epoch 98/100\n",
            "2/2 [==============================] - 0s 4ms/step - loss: 18.3869 - mae: 18.3869\n",
            "Epoch 99/100\n",
            "2/2 [==============================] - 0s 4ms/step - loss: 17.1307 - mae: 17.1307\n",
            "Epoch 100/100\n",
            "2/2 [==============================] - 0s 4ms/step - loss: 15.0002 - mae: 15.0002\n"
          ]
        },
        {
          "output_type": "execute_result",
          "data": {
            "text/plain": [
              "<keras.callbacks.History at 0x7f5e14427990>"
            ]
          },
          "metadata": {},
          "execution_count": 51
        }
      ]
    },
    {
      "cell_type": "code",
      "source": [
        "model.summary()"
      ],
      "metadata": {
        "colab": {
          "base_uri": "https://localhost:8080/"
        },
        "id": "PPPM6ZgVZv3t",
        "outputId": "8fb852fd-693e-4d63-a370-aea5c88099de"
      },
      "execution_count": 52,
      "outputs": [
        {
          "output_type": "stream",
          "name": "stdout",
          "text": [
            "Model: \"sequential_6\"\n",
            "_________________________________________________________________\n",
            " Layer (type)                Output Shape              Param #   \n",
            "=================================================================\n",
            " dense_11 (Dense)            (None, 1)                 2         \n",
            "                                                                 \n",
            "=================================================================\n",
            "Total params: 2\n",
            "Trainable params: 2\n",
            "Non-trainable params: 0\n",
            "_________________________________________________________________\n"
          ]
        }
      ]
    },
    {
      "cell_type": "code",
      "source": [
        "# Plotting the model\n",
        "\n",
        "from tensorflow.keras.utils import plot_model\n",
        "plot_model(model = model)"
      ],
      "metadata": {
        "colab": {
          "base_uri": "https://localhost:8080/",
          "height": 174
        },
        "id": "T2NEmELMaCRn",
        "outputId": "391df72a-a8e0-4b5a-a1a9-fc88ec4ba77f"
      },
      "execution_count": 53,
      "outputs": [
        {
          "output_type": "execute_result",
          "data": {
            "text/plain": [
              "<IPython.core.display.Image object>"
            ],
            "image/png": "[encoded data removed]"
          },
          "metadata": {},
          "execution_count": 53
        }
      ]
    },
    {
      "cell_type": "code",
      "source": [
        "plot_model(model = model, show_shapes=True)"
      ],
      "metadata": {
        "colab": {
          "base_uri": "https://localhost:8080/",
          "height": 201
        },
        "id": "dizWFh9GaZkQ",
        "outputId": "a02736f3-5921-480e-9223-341c75c06feb"
      },
      "execution_count": 54,
      "outputs": [
        {
          "output_type": "execute_result",
          "data": {
            "text/plain": [
              "<IPython.core.display.Image object>"
            ],
            "image/png": "[encoded data removed]"
          },
          "metadata": {},
          "execution_count": 54
        }
      ]
    },
    {
      "cell_type": "code",
      "source": [
        "# We have to provide the input shape to the model\n",
        "# Input shape must be 1 as we are passing only one number\n",
        "model = tf.keras.Sequential([\n",
        "                             tf.keras.layers.Dense(10, input_shape= [1], name = 'Input_Layer'),\n",
        "                             tf.keras.layers.Dense(1, name = 'My_Output_Layer')\n",
        "], name = \"My_Model_01\")\n",
        "\n",
        "model.compile(loss = tf.keras.losses.mae,\n",
        "              optimizer = tf.keras.optimizers.SGD(),\n",
        "              metrics = ['mae'])\n",
        "\n"
      ],
      "metadata": {
        "id": "_pt3OePIa1Mv"
      },
      "execution_count": 55,
      "outputs": []
    },
    {
      "cell_type": "code",
      "source": [
        "# Fit the model to train the data\n",
        "model.fit(X_train, y_train, epochs = 50, verbose = 1)"
      ],
      "metadata": {
        "colab": {
          "base_uri": "https://localhost:8080/"
        },
        "id": "RtejjBUiq4hx",
        "outputId": "5b37d793-3c7d-4120-eec4-3514f8ac7622"
      },
      "execution_count": 56,
      "outputs": [
        {
          "output_type": "stream",
          "name": "stdout",
          "text": [
            "Epoch 1/50\n",
            "2/2 [==============================] - 0s 12ms/step - loss: 45.9598 - mae: 45.9598\n",
            "Epoch 2/50\n",
            "2/2 [==============================] - 0s 8ms/step - loss: 54.8502 - mae: 54.8502\n",
            "Epoch 3/50\n",
            "2/2 [==============================] - 0s 7ms/step - loss: 22.9924 - mae: 22.9924\n",
            "Epoch 4/50\n",
            "2/2 [==============================] - 0s 5ms/step - loss: 18.0182 - mae: 18.0182\n",
            "Epoch 5/50\n",
            "2/2 [==============================] - 0s 4ms/step - loss: 15.2492 - mae: 15.2492\n",
            "Epoch 6/50\n",
            "2/2 [==============================] - 0s 6ms/step - loss: 18.7298 - mae: 18.7298\n",
            "Epoch 7/50\n",
            "2/2 [==============================] - 0s 6ms/step - loss: 15.6394 - mae: 15.6394\n",
            "Epoch 8/50\n",
            "2/2 [==============================] - 0s 6ms/step - loss: 14.7283 - mae: 14.7283\n",
            "Epoch 9/50\n",
            "2/2 [==============================] - 0s 5ms/step - loss: 18.2145 - mae: 18.2145\n",
            "Epoch 10/50\n",
            "2/2 [==============================] - 0s 6ms/step - loss: 15.8898 - mae: 15.8898\n",
            "Epoch 11/50\n",
            "2/2 [==============================] - 0s 4ms/step - loss: 19.2702 - mae: 19.2702\n",
            "Epoch 12/50\n",
            "2/2 [==============================] - 0s 4ms/step - loss: 14.2722 - mae: 14.2722\n",
            "Epoch 13/50\n",
            "2/2 [==============================] - 0s 5ms/step - loss: 20.2052 - mae: 20.2052\n",
            "Epoch 14/50\n",
            "2/2 [==============================] - 0s 5ms/step - loss: 18.8803 - mae: 18.8803\n",
            "Epoch 15/50\n",
            "2/2 [==============================] - 0s 5ms/step - loss: 32.1640 - mae: 32.1640\n",
            "Epoch 16/50\n",
            "2/2 [==============================] - 0s 14ms/step - loss: 14.8423 - mae: 14.8423\n",
            "Epoch 17/50\n",
            "2/2 [==============================] - 0s 8ms/step - loss: 22.4610 - mae: 22.4610\n",
            "Epoch 18/50\n",
            "2/2 [==============================] - 0s 6ms/step - loss: 14.7708 - mae: 14.7708\n",
            "Epoch 19/50\n",
            "2/2 [==============================] - 0s 9ms/step - loss: 20.5363 - mae: 20.5363\n",
            "Epoch 20/50\n",
            "2/2 [==============================] - 0s 6ms/step - loss: 18.6933 - mae: 18.6933\n",
            "Epoch 21/50\n",
            "2/2 [==============================] - 0s 9ms/step - loss: 15.6282 - mae: 15.6282\n",
            "Epoch 22/50\n",
            "2/2 [==============================] - 0s 11ms/step - loss: 17.5861 - mae: 17.5861\n",
            "Epoch 23/50\n",
            "2/2 [==============================] - 0s 7ms/step - loss: 12.7765 - mae: 12.7765\n",
            "Epoch 24/50\n",
            "2/2 [==============================] - 0s 5ms/step - loss: 34.5035 - mae: 34.5035\n",
            "Epoch 25/50\n",
            "2/2 [==============================] - 0s 6ms/step - loss: 17.9076 - mae: 17.9076\n",
            "Epoch 26/50\n",
            "2/2 [==============================] - 0s 5ms/step - loss: 30.7372 - mae: 30.7372\n",
            "Epoch 27/50\n",
            "2/2 [==============================] - 0s 5ms/step - loss: 15.1307 - mae: 15.1307\n",
            "Epoch 28/50\n",
            "2/2 [==============================] - 0s 6ms/step - loss: 15.6435 - mae: 15.6435\n",
            "Epoch 29/50\n",
            "2/2 [==============================] - 0s 6ms/step - loss: 25.2935 - mae: 25.2935\n",
            "Epoch 30/50\n",
            "2/2 [==============================] - 0s 9ms/step - loss: 15.0343 - mae: 15.0343\n",
            "Epoch 31/50\n",
            "2/2 [==============================] - 0s 11ms/step - loss: 18.6738 - mae: 18.6738\n",
            "Epoch 32/50\n",
            "2/2 [==============================] - 0s 8ms/step - loss: 18.1220 - mae: 18.1220\n",
            "Epoch 33/50\n",
            "2/2 [==============================] - 0s 6ms/step - loss: 28.1882 - mae: 28.1882\n",
            "Epoch 34/50\n",
            "2/2 [==============================] - 0s 5ms/step - loss: 12.9686 - mae: 12.9686\n",
            "Epoch 35/50\n",
            "2/2 [==============================] - 0s 5ms/step - loss: 21.8859 - mae: 21.8859\n",
            "Epoch 36/50\n",
            "2/2 [==============================] - 0s 5ms/step - loss: 32.4826 - mae: 32.4826\n",
            "Epoch 37/50\n",
            "2/2 [==============================] - 0s 6ms/step - loss: 14.3332 - mae: 14.3332\n",
            "Epoch 38/50\n",
            "2/2 [==============================] - 0s 5ms/step - loss: 14.1496 - mae: 14.1496\n",
            "Epoch 39/50\n",
            "2/2 [==============================] - 0s 5ms/step - loss: 21.5933 - mae: 21.5933\n",
            "Epoch 40/50\n",
            "2/2 [==============================] - 0s 5ms/step - loss: 19.3556 - mae: 19.3556\n",
            "Epoch 41/50\n",
            "2/2 [==============================] - 0s 11ms/step - loss: 13.4360 - mae: 13.4360\n",
            "Epoch 42/50\n",
            "2/2 [==============================] - 0s 4ms/step - loss: 16.5767 - mae: 16.5767\n",
            "Epoch 43/50\n",
            "2/2 [==============================] - 0s 5ms/step - loss: 28.4937 - mae: 28.4937\n",
            "Epoch 44/50\n",
            "2/2 [==============================] - 0s 8ms/step - loss: 12.6062 - mae: 12.6062\n",
            "Epoch 45/50\n",
            "2/2 [==============================] - 0s 5ms/step - loss: 23.6467 - mae: 23.6467\n",
            "Epoch 46/50\n",
            "2/2 [==============================] - 0s 5ms/step - loss: 15.8236 - mae: 15.8236\n",
            "Epoch 47/50\n",
            "2/2 [==============================] - 0s 8ms/step - loss: 12.9913 - mae: 12.9913\n",
            "Epoch 48/50\n",
            "2/2 [==============================] - 0s 4ms/step - loss: 24.5450 - mae: 24.5450\n",
            "Epoch 49/50\n",
            "2/2 [==============================] - 0s 8ms/step - loss: 19.2223 - mae: 19.2223\n",
            "Epoch 50/50\n",
            "2/2 [==============================] - 0s 10ms/step - loss: 12.2124 - mae: 12.2124\n"
          ]
        },
        {
          "output_type": "execute_result",
          "data": {
            "text/plain": [
              "<keras.callbacks.History at 0x7f5e1465b610>"
            ]
          },
          "metadata": {},
          "execution_count": 56
        }
      ]
    },
    {
      "cell_type": "code",
      "source": [
        "model.summary()"
      ],
      "metadata": {
        "colab": {
          "base_uri": "https://localhost:8080/"
        },
        "id": "0VyjrkdUlhGQ",
        "outputId": "7b71c1ec-4010-4cf1-a291-ac1e206bb93d"
      },
      "execution_count": 57,
      "outputs": [
        {
          "output_type": "stream",
          "name": "stdout",
          "text": [
            "Model: \"My_Model_01\"\n",
            "_________________________________________________________________\n",
            " Layer (type)                Output Shape              Param #   \n",
            "=================================================================\n",
            " Input_Layer (Dense)         (None, 10)                20        \n",
            "                                                                 \n",
            " My_Output_Layer (Dense)     (None, 1)                 11        \n",
            "                                                                 \n",
            "=================================================================\n",
            "Total params: 31\n",
            "Trainable params: 31\n",
            "Non-trainable params: 0\n",
            "_________________________________________________________________\n"
          ]
        }
      ]
    },
    {
      "cell_type": "code",
      "source": [
        "plot_model(model = model, show_shapes=True)"
      ],
      "metadata": {
        "colab": {
          "base_uri": "https://localhost:8080/",
          "height": 312
        },
        "id": "PrJVavJgl9T0",
        "outputId": "ce606ee7-c23a-4106-8a70-3e9fb94243e6"
      },
      "execution_count": 58,
      "outputs": [
        {
          "output_type": "execute_result",
          "data": {
            "text/plain": [
              "<IPython.core.display.Image object>"
            ],
            "image/png": "[encoded data removed]"
          },
          "metadata": {},
          "execution_count": 58
        }
      ]
    },
    {
      "cell_type": "code",
      "source": [
        "# Making predictions\n",
        "y_pred = model.predict(X_test)\n",
        "y_pred"
      ],
      "metadata": {
        "colab": {
          "base_uri": "https://localhost:8080/"
        },
        "id": "AxD5qnmHmeom",
        "outputId": "7a5ff15d-a70b-4ee2-ab38-dc46f031844d"
      },
      "execution_count": 59,
      "outputs": [
        {
          "output_type": "stream",
          "name": "stderr",
          "text": [
            "WARNING:tensorflow:5 out of the last 6 calls to <function Model.make_predict_function.<locals>.predict_function at 0x7f5e0e979e60> triggered tf.function retracing. Tracing is expensive and the excessive number of tracings could be due to (1) creating @tf.function repeatedly in a loop, (2) passing tensors with different shapes, (3) passing Python objects instead of tensors. For (1), please define your @tf.function outside of the loop. For (2), @tf.function has experimental_relax_shapes=True option that relaxes argument shapes that can avoid unnecessary retracing. For (3), please refer to https://www.tensorflow.org/guide/function#controlling_retracing and https://www.tensorflow.org/api_docs/python/tf/function for  more details.\n"
          ]
        },
        {
          "output_type": "execute_result",
          "data": {
            "text/plain": [
              "array([[ 78.35598 ],\n",
              "       [ 83.49805 ],\n",
              "       [ 88.64011 ],\n",
              "       [ 93.782166],\n",
              "       [ 98.92423 ],\n",
              "       [104.066284],\n",
              "       [109.20834 ],\n",
              "       [114.35041 ],\n",
              "       [119.49247 ],\n",
              "       [124.63454 ]], dtype=float32)"
            ]
          },
          "metadata": {},
          "execution_count": 59
        }
      ]
    },
    {
      "cell_type": "code",
      "source": [
        "y_test"
      ],
      "metadata": {
        "colab": {
          "base_uri": "https://localhost:8080/"
        },
        "id": "gb2RLkBtnJbX",
        "outputId": "c2090e2e-f000-4f62-de2a-664af672f292"
      },
      "execution_count": 60,
      "outputs": [
        {
          "output_type": "execute_result",
          "data": {
            "text/plain": [
              "<tf.Tensor: shape=(10,), dtype=int32, numpy=array([ 77,  81,  85,  89,  93,  97, 101, 105, 109, 113], dtype=int32)>"
            ]
          },
          "metadata": {},
          "execution_count": 60
        }
      ]
    },
    {
      "cell_type": "code",
      "source": [
        "# Creating a plotting function\n",
        "\n",
        "  \n",
        "def plot_predictions(train_data=X_train, \n",
        "                     train_labels=y_train, \n",
        "                     test_data=X_test, \n",
        "                     test_labels=y_test, \n",
        "                     predictions=y_pred):\n",
        "    \n",
        "  \"\"\" \n",
        "  Plotting our training data, test data & comparing predicted data with actual values\n",
        "  \"\"\"\n",
        "\n",
        "  plt.figure(figsize = (10, 8))\n",
        "\n",
        "# Plot training data in blue\n",
        "  plt.scatter(train_data, train_labels, c = 'b', label = 'Training Data')\n",
        "\n",
        "# Plot testing data in green\n",
        "  plt.scatter(test_data, test_labels, c = 'g', label = 'Testing Data')\n",
        "\n",
        "# Plot prediction data in red\n",
        "  plt.scatter(test_data, y_pred, c = 'r', label = 'Predictions ')\n",
        "\n",
        "# show legend\n",
        "  plt.legend()"
      ],
      "metadata": {
        "id": "Oy6D5YJUnWGY"
      },
      "execution_count": 61,
      "outputs": []
    },
    {
      "cell_type": "code",
      "source": [
        "plot_predictions(train_data=X_train,\n",
        "                 train_labels=y_train,\n",
        "                 test_data=X_test,\n",
        "                 test_labels=y_test,\n",
        "                 predictions=y_pred)"
      ],
      "metadata": {
        "colab": {
          "base_uri": "https://localhost:8080/",
          "height": 483
        },
        "id": "wHGx9CdHpfLX",
        "outputId": "fb81bfcf-b78b-4a98-9a76-0ae66882d93d"
      },
      "execution_count": 62,
      "outputs": [
        {
          "output_type": "display_data",
          "data": {
            "text/plain": [
              "<Figure size 720x576 with 1 Axes>"
            ],
            "image/png": "[encoded data removed]"
          },
          "metadata": {
            "needs_background": "light"
          }
        }
      ]
    },
    {
      "cell_type": "markdown",
      "source": [
        "## Evaluating Model's predictions with Regression Evaluation Metrices"
      ],
      "metadata": {
        "id": "uEn5byzeqBU_"
      }
    },
    {
      "cell_type": "markdown",
      "source": [
        "**Mean absolute error (MAE)** - the mean difference between each of the predictions.\n",
        "\n",
        "**Mean squared error (MSE)** - the squared mean difference between of the predictions (use if larger errors are more detrimental than smaller errors)."
      ],
      "metadata": {
        "id": "WZpGeBt0tFic"
      }
    },
    {
      "cell_type": "code",
      "source": [
        "# Evaluation Metrices\n",
        "# Returns loss value & metrics value for the model in test mode\n",
        "model.evaluate(X_test, y_test)"
      ],
      "metadata": {
        "colab": {
          "base_uri": "https://localhost:8080/"
        },
        "id": "ew8RfaSswNm5",
        "outputId": "b220251f-86aa-4bec-e64f-c8a5fdf837b6"
      },
      "execution_count": 63,
      "outputs": [
        {
          "output_type": "stream",
          "name": "stdout",
          "text": [
            "1/1 [==============================] - 0s 217ms/step - loss: 6.4953 - mae: 6.4953\n"
          ]
        },
        {
          "output_type": "execute_result",
          "data": {
            "text/plain": [
              "[6.495258331298828, 6.495258331298828]"
            ]
          },
          "metadata": {},
          "execution_count": 63
        }
      ]
    },
    {
      "cell_type": "code",
      "source": [
        "y_test.shape, y_pred.shape"
      ],
      "metadata": {
        "colab": {
          "base_uri": "https://localhost:8080/"
        },
        "id": "d8IxaWFlwkZ0",
        "outputId": "3805a44c-d2d7-45dd-fbc6-34af19492e6b"
      },
      "execution_count": 64,
      "outputs": [
        {
          "output_type": "execute_result",
          "data": {
            "text/plain": [
              "(TensorShape([10]), (10, 1))"
            ]
          },
          "metadata": {},
          "execution_count": 64
        }
      ]
    },
    {
      "cell_type": "code",
      "source": [
        "# Creating funcitons for MAE & MSE\n",
        "\n",
        "def mae(y_true, y_pred):\n",
        "  return tf.metrics.mean_absolute_error(y_true = y_true,\n",
        "                                        y_pred = y_pred)\n",
        "  \n",
        "\n",
        "def mse(y_true, y_pred):\n",
        "  return tf.metrics.mean_square_error(y_true = y_true,\n",
        "                                        y_pred = y_pred)"
      ],
      "metadata": {
        "id": "hsTl5CU-yuyt"
      },
      "execution_count": 65,
      "outputs": []
    },
    {
      "cell_type": "markdown",
      "source": [
        "#  Saving Our Model\n",
        "Saving our model help us to deploy in web applicaitons or mobile applicaitons\n",
        "\n",
        "* There are two formats in which we can save our model:\n",
        "1. The SaveModel Format\n",
        "2. The HDF5 Format"
      ],
      "metadata": {
        "id": "5PE8vviijiNG"
      }
    },
    {
      "cell_type": "code",
      "source": [
        "# Saving model using the SaveModel format\n",
        "model_reg.save(\"My_Linear_Model_SaveModel\")"
      ],
      "metadata": {
        "id": "tkerfcdYIPiY"
      },
      "execution_count": 66,
      "outputs": []
    },
    {
      "cell_type": "code",
      "source": [
        "# Saving the model using the HDF5 Format\n",
        "model_reg.save(\"My_Linear_Model_HDF5.h5\")"
      ],
      "metadata": {
        "id": "dhimQqw1JtiM"
      },
      "execution_count": 70,
      "outputs": []
    },
    {
      "cell_type": "markdown",
      "source": [
        "# Loading The Model"
      ],
      "metadata": {
        "id": "WKLH1LaJKPf7"
      }
    },
    {
      "cell_type": "code",
      "source": [
        "loading_savemodel_format = tf.keras.models.load_model(\"/content/My_Linear_Model_SaveModel\")"
      ],
      "metadata": {
        "id": "B0USQhwwLdtm"
      },
      "execution_count": 71,
      "outputs": []
    },
    {
      "cell_type": "code",
      "source": [
        "loading_savemodel_format.summary()"
      ],
      "metadata": {
        "colab": {
          "base_uri": "https://localhost:8080/"
        },
        "id": "KM6gp-3FLxkT",
        "outputId": "a025b5b6-2d05-48e7-f6a6-21cbe1302316"
      },
      "execution_count": 72,
      "outputs": [
        {
          "output_type": "stream",
          "name": "stdout",
          "text": [
            "Model: \"sequential_4\"\n",
            "_________________________________________________________________\n",
            " Layer (type)                Output Shape              Param #   \n",
            "=================================================================\n",
            " dense_6 (Dense)             (None, 100)               200       \n",
            "                                                                 \n",
            " dense_7 (Dense)             (None, 100)               10100     \n",
            "                                                                 \n",
            " dense_8 (Dense)             (None, 100)               10100     \n",
            "                                                                 \n",
            " dense_9 (Dense)             (None, 1)                 101       \n",
            "                                                                 \n",
            "=================================================================\n",
            "Total params: 20,501\n",
            "Trainable params: 20,501\n",
            "Non-trainable params: 0\n",
            "_________________________________________________________________\n"
          ]
        }
      ]
    },
    {
      "cell_type": "code",
      "source": [
        "model_reg.summary()"
      ],
      "metadata": {
        "colab": {
          "base_uri": "https://localhost:8080/"
        },
        "id": "2t3roBMGL1HV",
        "outputId": "6421eab5-9cf2-4e09-fcee-3ab6ef6255b0"
      },
      "execution_count": 73,
      "outputs": [
        {
          "output_type": "stream",
          "name": "stdout",
          "text": [
            "Model: \"sequential_4\"\n",
            "_________________________________________________________________\n",
            " Layer (type)                Output Shape              Param #   \n",
            "=================================================================\n",
            " dense_6 (Dense)             (None, 100)               200       \n",
            "                                                                 \n",
            " dense_7 (Dense)             (None, 100)               10100     \n",
            "                                                                 \n",
            " dense_8 (Dense)             (None, 100)               10100     \n",
            "                                                                 \n",
            " dense_9 (Dense)             (None, 1)                 101       \n",
            "                                                                 \n",
            "=================================================================\n",
            "Total params: 20,501\n",
            "Trainable params: 20,501\n",
            "Non-trainable params: 0\n",
            "_________________________________________________________________\n"
          ]
        }
      ]
    },
    {
      "cell_type": "code",
      "source": [
        "# Comparing two models for evaluation purpose\n",
        "model_reg_pred = model_reg.predict(X_test)\n",
        "loaded_savedmodel_pred = loading_savemodel_format.predict(X_test)\n",
        "model_reg_pred == loaded_savedmodel_pred\n"
      ],
      "metadata": {
        "colab": {
          "base_uri": "https://localhost:8080/"
        },
        "id": "VtPCUM4RL9HQ",
        "outputId": "77d4e857-81c5-4439-87e0-b9dd9f015606"
      },
      "execution_count": 75,
      "outputs": [
        {
          "output_type": "execute_result",
          "data": {
            "text/plain": [
              "array([[ True],\n",
              "       [ True],\n",
              "       [ True],\n",
              "       [ True],\n",
              "       [ True],\n",
              "       [ True],\n",
              "       [ True],\n",
              "       [ True],\n",
              "       [ True],\n",
              "       [ True]])"
            ]
          },
          "metadata": {},
          "execution_count": 75
        }
      ]
    },
    {
      "cell_type": "code",
      "source": [
        "model_reg_pred , loaded_savedmodel_pred"
      ],
      "metadata": {
        "colab": {
          "base_uri": "https://localhost:8080/"
        },
        "id": "oto1jNeZMmHh",
        "outputId": "a9bd94c7-17b6-4298-8e51-d44d01038d9b"
      },
      "execution_count": 76,
      "outputs": [
        {
          "output_type": "execute_result",
          "data": {
            "text/plain": [
              "(array([[182.31042],\n",
              "        [189.93866],\n",
              "        [197.64629],\n",
              "        [205.42271],\n",
              "        [213.22437],\n",
              "        [221.08543],\n",
              "        [228.96104],\n",
              "        [236.83669],\n",
              "        [244.71233],\n",
              "        [252.588  ]], dtype=float32), array([[182.31042],\n",
              "        [189.93866],\n",
              "        [197.64629],\n",
              "        [205.42271],\n",
              "        [213.22437],\n",
              "        [221.08543],\n",
              "        [228.96104],\n",
              "        [236.83669],\n",
              "        [244.71233],\n",
              "        [252.588  ]], dtype=float32))"
            ]
          },
          "metadata": {},
          "execution_count": 76
        }
      ]
    },
    {
      "cell_type": "code",
      "source": [
        "# Loading HDF5 format Model\n",
        "loading_hdf5_format = tf.keras.models.load_model(\"/content/My_Linear_Model_HDF5.h5\")"
      ],
      "metadata": {
        "id": "knEu62dvNAcH"
      },
      "execution_count": 77,
      "outputs": []
    },
    {
      "cell_type": "code",
      "source": [
        "loading_hdf5_format.summary()"
      ],
      "metadata": {
        "colab": {
          "base_uri": "https://localhost:8080/"
        },
        "id": "oA_31SrHNuxZ",
        "outputId": "c69b4cd0-51a9-456a-d199-5fdd5098c6df"
      },
      "execution_count": 78,
      "outputs": [
        {
          "output_type": "stream",
          "name": "stdout",
          "text": [
            "Model: \"sequential_4\"\n",
            "_________________________________________________________________\n",
            " Layer (type)                Output Shape              Param #   \n",
            "=================================================================\n",
            " dense_6 (Dense)             (None, 100)               200       \n",
            "                                                                 \n",
            " dense_7 (Dense)             (None, 100)               10100     \n",
            "                                                                 \n",
            " dense_8 (Dense)             (None, 100)               10100     \n",
            "                                                                 \n",
            " dense_9 (Dense)             (None, 1)                 101       \n",
            "                                                                 \n",
            "=================================================================\n",
            "Total params: 20,501\n",
            "Trainable params: 20,501\n",
            "Non-trainable params: 0\n",
            "_________________________________________________________________\n"
          ]
        }
      ]
    },
    {
      "cell_type": "code",
      "source": [
        "# Comparing two models for evaluation purpose\n",
        "model_reg_pred = model_reg.predict(X_test)\n",
        "loaded_hdf5_pred = loading_hdf5_format.predict(X_test)\n",
        "model_reg_pred == loaded_hdf5_pred"
      ],
      "metadata": {
        "colab": {
          "base_uri": "https://localhost:8080/"
        },
        "id": "e7UH5PgjN0Pi",
        "outputId": "f38da284-d878-4186-bbdd-4ea1a33b5ca0"
      },
      "execution_count": 81,
      "outputs": [
        {
          "output_type": "execute_result",
          "data": {
            "text/plain": [
              "array([[ True],\n",
              "       [ True],\n",
              "       [ True],\n",
              "       [ True],\n",
              "       [ True],\n",
              "       [ True],\n",
              "       [ True],\n",
              "       [ True],\n",
              "       [ True],\n",
              "       [ True]])"
            ]
          },
          "metadata": {},
          "execution_count": 81
        }
      ]
    },
    {
      "cell_type": "code",
      "source": [
        "# Downloading a google colab file to local using code\n",
        "from google.colab import files\n",
        "files.download(\"/content/My_Linear_Model_HDF5.h5\")"
      ],
      "metadata": {
        "colab": {
          "base_uri": "https://localhost:8080/",
          "height": 17
        },
        "id": "DuydtV8lOIxM",
        "outputId": "bc0e4757-0d41-47d4-8e6a-3b17ab4dd26f"
      },
      "execution_count": 82,
      "outputs": [
        {
          "output_type": "display_data",
          "data": {
            "text/plain": [
              "<IPython.core.display.Javascript object>"
            ],
            "application/javascript": [
              "\n",
              "    async function download(id, filename, size) {\n",
              "      if (!google.colab.kernel.accessAllowed) {\n",
              "        return;\n",
              "      }\n",
              "      const div = document.createElement('div');\n",
              "      const label = document.createElement('label');\n",
              "      label.textContent = `Downloading \"${filename}\": `;\n",
              "      div.appendChild(label);\n",
              "      const progress = document.createElement('progress');\n",
              "      progress.max = size;\n",
              "      div.appendChild(progress);\n",
              "      document.body.appendChild(div);\n",
              "\n",
              "      const buffers = [];\n",
              "      let downloaded = 0;\n",
              "\n",
              "      const channel = await google.colab.kernel.comms.open(id);\n",
              "      // Send a message to notify the kernel that we're ready.\n",
              "      channel.send({})\n",
              "\n",
              "      for await (const message of channel.messages) {\n",
              "        // Send a message to notify the kernel that we're ready.\n",
              "        channel.send({})\n",
              "        if (message.buffers) {\n",
              "          for (const buffer of message.buffers) {\n",
              "            buffers.push(buffer);\n",
              "            downloaded += buffer.byteLength;\n",
              "            progress.value = downloaded;\n",
              "          }\n",
              "        }\n",
              "      }\n",
              "      const blob = new Blob(buffers, {type: 'application/binary'});\n",
              "      const a = document.createElement('a');\n",
              "      a.href = window.URL.createObjectURL(blob);\n",
              "      a.download = filename;\n",
              "      div.appendChild(a);\n",
              "      a.click();\n",
              "      div.remove();\n",
              "    }\n",
              "  "
            ]
          },
          "metadata": {}
        },
        {
          "output_type": "display_data",
          "data": {
            "text/plain": [
              "<IPython.core.display.Javascript object>"
            ],
            "application/javascript": [
              "download(\"download_caa706ed-f491-4994-80ff-0d15ead99a23\", \"My_Linear_Model_HDF5.h5\", 284648)"
            ]
          },
          "metadata": {}
        }
      ]
    },
    {
      "cell_type": "code",
      "source": [
        ""
      ],
      "metadata": {
        "id": "zfej2H9pPUHk"
      },
      "execution_count": null,
      "outputs": []
    }
  ]
}