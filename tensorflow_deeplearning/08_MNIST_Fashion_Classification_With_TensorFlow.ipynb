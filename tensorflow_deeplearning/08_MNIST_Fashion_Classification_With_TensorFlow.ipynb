{
  "cells": [
    {
      "cell_type": "markdown",
      "metadata": {
        "id": "L8XKdJVEGXSV"
      },
      "source": [
        "![image.png](data:image/png;base64,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)"
      ]
    },
    {
      "cell_type": "markdown",
      "metadata": {
        "id": "bNOWz1yBGn4q"
      },
      "source": [
        "# **FASHION-MNIST DATA**\n",
        "The ‘Fashion-MNIST’ data set contains 60K gray-scaled images of labeled fashion categories from Zalando articles. It is also used to benchmark machine learning algorithms for image classification."
      ]
    },
    {
      "cell_type": "code",
      "execution_count": 1,
      "metadata": {
        "id": "z0TlZt1E8GO9"
      },
      "outputs": [],
      "source": [
        "import tensorflow as tf\n",
        "from tensorflow.keras.datasets import fashion_mnist\n",
        "import tensorflow_datasets as tfds\n",
        "import numpy as np\n",
        "import matplotlib.pyplot as plt"
      ]
    },
    {
      "cell_type": "code",
      "execution_count": 2,
      "metadata": {
        "colab": {
          "base_uri": "https://localhost:8080/"
        },
        "id": "lN2ANa4o8qOI",
        "outputId": "3b1aed2d-77b3-4efe-865f-9a42294ea4a6"
      },
      "outputs": [
        {
          "output_type": "stream",
          "name": "stdout",
          "text": [
            "Downloading data from https://storage.googleapis.com/tensorflow/tf-keras-datasets/train-labels-idx1-ubyte.gz\n",
            "32768/29515 [=================================] - 0s 0us/step\n",
            "40960/29515 [=========================================] - 0s 0us/step\n",
            "Downloading data from https://storage.googleapis.com/tensorflow/tf-keras-datasets/train-images-idx3-ubyte.gz\n",
            "26427392/26421880 [==============================] - 0s 0us/step\n",
            "26435584/26421880 [==============================] - 0s 0us/step\n",
            "Downloading data from https://storage.googleapis.com/tensorflow/tf-keras-datasets/t10k-labels-idx1-ubyte.gz\n",
            "16384/5148 [===============================================================================================] - 0s 0us/step\n",
            "Downloading data from https://storage.googleapis.com/tensorflow/tf-keras-datasets/t10k-images-idx3-ubyte.gz\n",
            "4423680/4422102 [==============================] - 0s 0us/step\n",
            "4431872/4422102 [==============================] - 0s 0us/step\n"
          ]
        }
      ],
      "source": [
        "(train_data, train_labels), (test_data, test_labels) = fashion_mnist.load_data()"
      ]
    },
    {
      "cell_type": "code",
      "execution_count": 3,
      "metadata": {
        "colab": {
          "base_uri": "https://localhost:8080/"
        },
        "id": "DxXpoUGJAEgD",
        "outputId": "4aac50a5-7109-46f0-bfe9-30cd65511805"
      },
      "outputs": [
        {
          "output_type": "execute_result",
          "data": {
            "text/plain": [
              "tuple"
            ]
          },
          "metadata": {},
          "execution_count": 3
        }
      ],
      "source": [
        "type(fashion_mnist.load_data())"
      ]
    },
    {
      "cell_type": "code",
      "execution_count": 4,
      "metadata": {
        "colab": {
          "base_uri": "https://localhost:8080/"
        },
        "id": "_NUDx2XDAJNN",
        "outputId": "93e54311-cb68-4544-cb84-b85e279d911d"
      },
      "outputs": [
        {
          "output_type": "execute_result",
          "data": {
            "text/plain": [
              "2"
            ]
          },
          "metadata": {},
          "execution_count": 4
        }
      ],
      "source": [
        "len(fashion_mnist.load_data())"
      ]
    },
    {
      "cell_type": "code",
      "execution_count": 5,
      "metadata": {
        "colab": {
          "base_uri": "https://localhost:8080/"
        },
        "id": "NA2WC09rALpP",
        "outputId": "e8a23553-84ed-4754-db43-9c99fd094c6c"
      },
      "outputs": [
        {
          "output_type": "stream",
          "name": "stdout",
          "text": [
            "i tuple (60000, 28, 28)\n",
            "j tuple (60000,)\n",
            "i tuple (10000, 28, 28)\n",
            "j tuple (10000,)\n"
          ]
        }
      ],
      "source": [
        "for i,j in fashion_mnist.load_data():\n",
        "  print(\"i tuple\",i.shape)\n",
        "  print(\"j tuple\",j.shape)"
      ]
    },
    {
      "cell_type": "code",
      "execution_count": 6,
      "metadata": {
        "colab": {
          "base_uri": "https://localhost:8080/"
        },
        "id": "Z7FA4KslAVj3",
        "outputId": "d3e3d10a-b6a6-45ed-e561-b97a6a6befcc"
      },
      "outputs": [
        {
          "output_type": "stream",
          "name": "stdout",
          "text": [
            "2\n",
            "2\n"
          ]
        }
      ],
      "source": [
        "for i in fashion_mnist.load_data():\n",
        "  print(len(i))"
      ]
    },
    {
      "cell_type": "code",
      "execution_count": 7,
      "metadata": {
        "colab": {
          "base_uri": "https://localhost:8080/"
        },
        "id": "i_TeCFxEAryu",
        "outputId": "e516f707-806c-4ea4-eccb-403f5b5c1d3a"
      },
      "outputs": [
        {
          "output_type": "stream",
          "name": "stdout",
          "text": [
            "i tuple (60000, 28, 28) j tuple (60000,)\n",
            "i tuple (10000, 28, 28) j tuple (10000,)\n"
          ]
        }
      ],
      "source": [
        "for i,j, in fashion_mnist.load_data():\n",
        "  print(\"i tuple\",i.shape,\"j tuple\",j.shape)\n",
        "  # print(\"j tuple\",j.shape)\n"
      ]
    },
    {
      "cell_type": "code",
      "execution_count": 8,
      "metadata": {
        "colab": {
          "base_uri": "https://localhost:8080/"
        },
        "id": "970ratF1BSsp",
        "outputId": "13936cb5-9715-401c-95ec-f122f1ad9801"
      },
      "outputs": [
        {
          "output_type": "execute_result",
          "data": {
            "text/plain": [
              "2"
            ]
          },
          "metadata": {},
          "execution_count": 8
        }
      ],
      "source": [
        "len(fashion_mnist.load_data())"
      ]
    },
    {
      "cell_type": "code",
      "execution_count": 9,
      "metadata": {
        "colab": {
          "base_uri": "https://localhost:8080/"
        },
        "id": "QpPjwHIjBaTJ",
        "outputId": "ac917a41-f228-425a-b0bf-cf7e47077125"
      },
      "outputs": [
        {
          "output_type": "execute_result",
          "data": {
            "text/plain": [
              "(60000, 28, 28)"
            ]
          },
          "metadata": {},
          "execution_count": 9
        }
      ],
      "source": [
        "train_data.shape"
      ]
    },
    {
      "cell_type": "code",
      "execution_count": 10,
      "metadata": {
        "colab": {
          "base_uri": "https://localhost:8080/",
          "height": 282
        },
        "id": "6SKIyRa0EfYM",
        "outputId": "231ad2ac-e563-431a-b89d-f0a638b74f7b"
      },
      "outputs": [
        {
          "output_type": "display_data",
          "data": {
            "text/plain": [
              "<Figure size 432x288 with 1 Axes>"
            ],
            "image/png": "[encoded data removed]"
          },
          "metadata": {
            "needs_background": "light"
          }
        },
        {
          "output_type": "stream",
          "name": "stdout",
          "text": [
            "Label:  9\n"
          ]
        }
      ],
      "source": [
        "#Let’s display the first image and its label:\n",
        "\n",
        "plt.imshow(train_data[0])\n",
        "plt.show()\n",
        "print(\"Label: \", train_labels[0])"
      ]
    },
    {
      "cell_type": "code",
      "execution_count": 11,
      "metadata": {
        "colab": {
          "base_uri": "https://localhost:8080/",
          "height": 282
        },
        "id": "hl6nSzwkEjVZ",
        "outputId": "09e361ed-6a6c-4872-e73a-b63f97be6d0e"
      },
      "outputs": [
        {
          "output_type": "display_data",
          "data": {
            "text/plain": [
              "<Figure size 432x288 with 1 Axes>"
            ],
            "image/png": "[encoded data removed]"
          },
          "metadata": {
            "needs_background": "light"
          }
        },
        {
          "output_type": "stream",
          "name": "stdout",
          "text": [
            "Label:  9\n"
          ]
        }
      ],
      "source": [
        "plt.imshow(train_data[0], cmap = 'gray')\n",
        "plt.show()\n",
        "print(\"Label: \", train_labels[0])"
      ]
    },
    {
      "cell_type": "code",
      "execution_count": 12,
      "metadata": {
        "colab": {
          "base_uri": "https://localhost:8080/"
        },
        "id": "BOzeZuSCHNye",
        "outputId": "9b9569ee-17ae-4990-c9e9-c6efb914d630"
      },
      "outputs": [
        {
          "output_type": "execute_result",
          "data": {
            "text/plain": [
              "((28, 28), ())"
            ]
          },
          "metadata": {},
          "execution_count": 12
        }
      ],
      "source": [
        "# # Chekcing the shape of single example\n",
        "train_data[0].shape, train_labels[0].shape\n",
        "# data shape is image(array) of 28X28 & labels with no shape as it is scaler"
      ]
    },
    {
      "cell_type": "code",
      "execution_count": 13,
      "metadata": {
        "colab": {
          "base_uri": "https://localhost:8080/"
        },
        "id": "mtqtIN3vSk9c",
        "outputId": "0a0e2d04-4de6-4898-e852-36bc17cebf83"
      },
      "outputs": [
        {
          "output_type": "execute_result",
          "data": {
            "text/plain": [
              "array([[  0,   0,   0,   0,   0,   0,   0,   0,   0,   0,   0,   0,   0,\n",
              "          0,   0,   0,   0,   0,   0,   0,   0,   0,   0,   0,   0,   0,\n",
              "          0,   0],\n",
              "       [  0,   0,   0,   0,   0,   0,   0,   0,   0,   0,   0,   0,   0,\n",
              "          0,   0,   0,   0,   0,   0,   0,   0,   0,   0,   0,   0,   0,\n",
              "          0,   0],\n",
              "       [  0,   0,   0,   0,   0,   0,   0,   0,   0,   0,   0,   0,   0,\n",
              "          0,   0,   0,   0,   0,   0,   0,   0,   0,   0,   0,   0,   0,\n",
              "          0,   0],\n",
              "       [  0,   0,   0,   0,   0,   0,   0,   0,   0,   0,   0,   0,   1,\n",
              "          0,   0,  13,  73,   0,   0,   1,   4,   0,   0,   0,   0,   1,\n",
              "          1,   0],\n",
              "       [  0,   0,   0,   0,   0,   0,   0,   0,   0,   0,   0,   0,   3,\n",
              "          0,  36, 136, 127,  62,  54,   0,   0,   0,   1,   3,   4,   0,\n",
              "          0,   3],\n",
              "       [  0,   0,   0,   0,   0,   0,   0,   0,   0,   0,   0,   0,   6,\n",
              "          0, 102, 204, 176, 134, 144, 123,  23,   0,   0,   0,   0,  12,\n",
              "         10,   0],\n",
              "       [  0,   0,   0,   0,   0,   0,   0,   0,   0,   0,   0,   0,   0,\n",
              "          0, 155, 236, 207, 178, 107, 156, 161, 109,  64,  23,  77, 130,\n",
              "         72,  15],\n",
              "       [  0,   0,   0,   0,   0,   0,   0,   0,   0,   0,   0,   1,   0,\n",
              "         69, 207, 223, 218, 216, 216, 163, 127, 121, 122, 146, 141,  88,\n",
              "        172,  66],\n",
              "       [  0,   0,   0,   0,   0,   0,   0,   0,   0,   1,   1,   1,   0,\n",
              "        200, 232, 232, 233, 229, 223, 223, 215, 213, 164, 127, 123, 196,\n",
              "        229,   0],\n",
              "       [  0,   0,   0,   0,   0,   0,   0,   0,   0,   0,   0,   0,   0,\n",
              "        183, 225, 216, 223, 228, 235, 227, 224, 222, 224, 221, 223, 245,\n",
              "        173,   0],\n",
              "       [  0,   0,   0,   0,   0,   0,   0,   0,   0,   0,   0,   0,   0,\n",
              "        193, 228, 218, 213, 198, 180, 212, 210, 211, 213, 223, 220, 243,\n",
              "        202,   0],\n",
              "       [  0,   0,   0,   0,   0,   0,   0,   0,   0,   1,   3,   0,  12,\n",
              "        219, 220, 212, 218, 192, 169, 227, 208, 218, 224, 212, 226, 197,\n",
              "        209,  52],\n",
              "       [  0,   0,   0,   0,   0,   0,   0,   0,   0,   0,   6,   0,  99,\n",
              "        244, 222, 220, 218, 203, 198, 221, 215, 213, 222, 220, 245, 119,\n",
              "        167,  56],\n",
              "       [  0,   0,   0,   0,   0,   0,   0,   0,   0,   4,   0,   0,  55,\n",
              "        236, 228, 230, 228, 240, 232, 213, 218, 223, 234, 217, 217, 209,\n",
              "         92,   0],\n",
              "       [  0,   0,   1,   4,   6,   7,   2,   0,   0,   0,   0,   0, 237,\n",
              "        226, 217, 223, 222, 219, 222, 221, 216, 223, 229, 215, 218, 255,\n",
              "         77,   0],\n",
              "       [  0,   3,   0,   0,   0,   0,   0,   0,   0,  62, 145, 204, 228,\n",
              "        207, 213, 221, 218, 208, 211, 218, 224, 223, 219, 215, 224, 244,\n",
              "        159,   0],\n",
              "       [  0,   0,   0,   0,  18,  44,  82, 107, 189, 228, 220, 222, 217,\n",
              "        226, 200, 205, 211, 230, 224, 234, 176, 188, 250, 248, 233, 238,\n",
              "        215,   0],\n",
              "       [  0,  57, 187, 208, 224, 221, 224, 208, 204, 214, 208, 209, 200,\n",
              "        159, 245, 193, 206, 223, 255, 255, 221, 234, 221, 211, 220, 232,\n",
              "        246,   0],\n",
              "       [  3, 202, 228, 224, 221, 211, 211, 214, 205, 205, 205, 220, 240,\n",
              "         80, 150, 255, 229, 221, 188, 154, 191, 210, 204, 209, 222, 228,\n",
              "        225,   0],\n",
              "       [ 98, 233, 198, 210, 222, 229, 229, 234, 249, 220, 194, 215, 217,\n",
              "        241,  65,  73, 106, 117, 168, 219, 221, 215, 217, 223, 223, 224,\n",
              "        229,  29],\n",
              "       [ 75, 204, 212, 204, 193, 205, 211, 225, 216, 185, 197, 206, 198,\n",
              "        213, 240, 195, 227, 245, 239, 223, 218, 212, 209, 222, 220, 221,\n",
              "        230,  67],\n",
              "       [ 48, 203, 183, 194, 213, 197, 185, 190, 194, 192, 202, 214, 219,\n",
              "        221, 220, 236, 225, 216, 199, 206, 186, 181, 177, 172, 181, 205,\n",
              "        206, 115],\n",
              "       [  0, 122, 219, 193, 179, 171, 183, 196, 204, 210, 213, 207, 211,\n",
              "        210, 200, 196, 194, 191, 195, 191, 198, 192, 176, 156, 167, 177,\n",
              "        210,  92],\n",
              "       [  0,   0,  74, 189, 212, 191, 175, 172, 175, 181, 185, 188, 189,\n",
              "        188, 193, 198, 204, 209, 210, 210, 211, 188, 188, 194, 192, 216,\n",
              "        170,   0],\n",
              "       [  2,   0,   0,   0,  66, 200, 222, 237, 239, 242, 246, 243, 244,\n",
              "        221, 220, 193, 191, 179, 182, 182, 181, 176, 166, 168,  99,  58,\n",
              "          0,   0],\n",
              "       [  0,   0,   0,   0,   0,   0,   0,  40,  61,  44,  72,  41,  35,\n",
              "          0,   0,   0,   0,   0,   0,   0,   0,   0,   0,   0,   0,   0,\n",
              "          0,   0],\n",
              "       [  0,   0,   0,   0,   0,   0,   0,   0,   0,   0,   0,   0,   0,\n",
              "          0,   0,   0,   0,   0,   0,   0,   0,   0,   0,   0,   0,   0,\n",
              "          0,   0],\n",
              "       [  0,   0,   0,   0,   0,   0,   0,   0,   0,   0,   0,   0,   0,\n",
              "          0,   0,   0,   0,   0,   0,   0,   0,   0,   0,   0,   0,   0,\n",
              "          0,   0]], dtype=uint8)"
            ]
          },
          "metadata": {},
          "execution_count": 13
        }
      ],
      "source": [
        "train_data[0]"
      ]
    },
    {
      "cell_type": "code",
      "execution_count": 14,
      "metadata": {
        "colab": {
          "base_uri": "https://localhost:8080/"
        },
        "id": "W8F-wJYVS3af",
        "outputId": "183d1d0a-7d71-4da3-e406-eacbee2f7502"
      },
      "outputs": [
        {
          "output_type": "execute_result",
          "data": {
            "text/plain": [
              "9"
            ]
          },
          "metadata": {},
          "execution_count": 14
        }
      ],
      "source": [
        "train_labels[0]"
      ]
    },
    {
      "cell_type": "code",
      "execution_count": 15,
      "metadata": {
        "id": "ePh3CM_pS6c6"
      },
      "outputs": [],
      "source": [
        "class_names = [\"T-shirt/top\",\n",
        "\"Trouser\",\n",
        "\"Pullover\",\n",
        "\"Dress\",\n",
        "\"Coat\",\n",
        "\"Sandal\",\n",
        "\"Shirt\",\n",
        "\"Sneaker\",\n",
        "\"Bag\",\n",
        "\"Ankle boot\"]"
      ]
    },
    {
      "cell_type": "code",
      "execution_count": 16,
      "metadata": {
        "colab": {
          "base_uri": "https://localhost:8080/"
        },
        "id": "rgTrEramT9yD",
        "outputId": "58eb3b6b-528f-44b2-e57d-8a2adeab0adf"
      },
      "outputs": [
        {
          "output_type": "execute_result",
          "data": {
            "text/plain": [
              "10"
            ]
          },
          "metadata": {},
          "execution_count": 16
        }
      ],
      "source": [
        "len(class_names)"
      ]
    },
    {
      "cell_type": "code",
      "execution_count": 17,
      "metadata": {
        "colab": {
          "base_uri": "https://localhost:8080/",
          "height": 298
        },
        "id": "JTJBKPusT_hz",
        "outputId": "94cfb275-cb6b-4447-a0a1-2f34459d5676"
      },
      "outputs": [
        {
          "output_type": "execute_result",
          "data": {
            "text/plain": [
              "Text(0.5, 1.0, 'T-shirt/top')"
            ]
          },
          "metadata": {},
          "execution_count": 17
        },
        {
          "output_type": "display_data",
          "data": {
            "text/plain": [
              "<Figure size 432x288 with 1 Axes>"
            ],
            "image/png": "[encoded data removed]"
          },
          "metadata": {
            "needs_background": "light"
          }
        }
      ],
      "source": [
        "# Plotting example image with its label\n",
        "label_no = 10\n",
        "plt.imshow(train_data[label_no], cmap = 'gray')\n",
        "plt.title(class_names[train_labels[label_no]])"
      ]
    },
    {
      "cell_type": "code",
      "execution_count": 18,
      "metadata": {
        "id": "g1IeHwnLUgFg",
        "colab": {
          "base_uri": "https://localhost:8080/",
          "height": 298
        },
        "outputId": "71485fa3-2c30-46a9-f461-9265eba261e5"
      },
      "outputs": [
        {
          "output_type": "execute_result",
          "data": {
            "text/plain": [
              "Text(0.5, 1.0, 'T-shirt/top')"
            ]
          },
          "metadata": {},
          "execution_count": 18
        },
        {
          "output_type": "display_data",
          "data": {
            "text/plain": [
              "<Figure size 432x288 with 1 Axes>"
            ],
            "image/png": "[encoded data removed]"
          },
          "metadata": {
            "needs_background": "light"
          }
        }
      ],
      "source": [
        "label_no = 10\n",
        "plt.imshow(train_data[label_no], cmap = 'gray')\n",
        "plt.title(class_names[train_labels[label_no]])"
      ]
    },
    {
      "cell_type": "code",
      "execution_count": 19,
      "metadata": {
        "colab": {
          "base_uri": "https://localhost:8080/"
        },
        "id": "TzRRP6FFVURs",
        "outputId": "ff1bfe57-bcbc-419f-8e89-8fd9f928300e"
      },
      "outputs": [
        {
          "output_type": "execute_result",
          "data": {
            "text/plain": [
              "<tf.Tensor: shape=(3,), dtype=int32, numpy=array([53761, 55419, 20278], dtype=int32)>"
            ]
          },
          "metadata": {},
          "execution_count": 19
        }
      ],
      "source": [
        "g1 = tf.random.Generator.from_seed(1)\n",
        "mynum = g1.uniform(\n",
        "    (3,), minval=1, maxval=60000, dtype=tf.dtypes.int32)\n",
        "mynum"
      ]
    },
    {
      "cell_type": "code",
      "execution_count": 20,
      "metadata": {
        "colab": {
          "base_uri": "https://localhost:8080/"
        },
        "id": "iSDztOEZVXqo",
        "outputId": "38a47867-aa25-4793-91a4-de69f190946f"
      },
      "outputs": [
        {
          "output_type": "execute_result",
          "data": {
            "text/plain": [
              "numpy.ndarray"
            ]
          },
          "metadata": {},
          "execution_count": 20
        }
      ],
      "source": [
        "#mynum = tf.random.uniform(\n",
        "#    (10,), minval=1, maxval=60000, dtype=tf.dtypes.int32)\n",
        "type(mynum.numpy())"
      ]
    },
    {
      "cell_type": "code",
      "execution_count": 21,
      "metadata": {
        "colab": {
          "base_uri": "https://localhost:8080/",
          "height": 861
        },
        "id": "gRi-oqEkVu4_",
        "outputId": "2e3fc95c-ee3a-4df1-f47d-c53f7a321725"
      },
      "outputs": [
        {
          "output_type": "stream",
          "name": "stdout",
          "text": [
            "\n"
          ]
        },
        {
          "output_type": "display_data",
          "data": {
            "text/plain": [
              "<Figure size 432x288 with 1 Axes>"
            ],
            "image/png": "[encoded data removed]"
          },
          "metadata": {
            "needs_background": "light"
          }
        },
        {
          "output_type": "stream",
          "name": "stdout",
          "text": [
            "\n"
          ]
        },
        {
          "output_type": "display_data",
          "data": {
            "text/plain": [
              "<Figure size 432x288 with 1 Axes>"
            ],
            "image/png": "[encoded data removed]"
          },
          "metadata": {
            "needs_background": "light"
          }
        },
        {
          "output_type": "stream",
          "name": "stdout",
          "text": [
            "\n"
          ]
        },
        {
          "output_type": "display_data",
          "data": {
            "text/plain": [
              "<Figure size 432x288 with 1 Axes>"
            ],
            "image/png": "[encoded data removed]"
          },
          "metadata": {
            "needs_background": "light"
          }
        }
      ],
      "source": [
        "\n",
        "for i in mynum:\n",
        "  label_no = i\n",
        "  plt.imshow(train_data[label_no], cmap = plt.cm.binary)\n",
        "  plt.title(class_names[train_labels[label_no]])\n",
        "  print()\n",
        "  plt.show()\n",
        "  "
      ]
    },
    {
      "cell_type": "code",
      "execution_count": 22,
      "metadata": {
        "colab": {
          "base_uri": "https://localhost:8080/",
          "height": 373
        },
        "id": "c41Cuq4pX2Ik",
        "outputId": "a76917c2-da06-4bad-aab8-70aa8eeca711"
      },
      "outputs": [
        {
          "output_type": "display_data",
          "data": {
            "text/plain": [
              "<Figure size 432x432 with 4 Axes>"
            ],
            "image/png": "[encoded data removed]"
          },
          "metadata": {
            "needs_background": "light"
          }
        }
      ],
      "source": [
        "import random\n",
        "plt.figure(figsize= (6,6))\n",
        "for i in range(4):\n",
        "  ax = plt.subplot(2,2,i+1)\n",
        "  rand_index = random.choice(range(len(train_data)))\n",
        "  plt.imshow(train_data[rand_index], cmap = 'gray')\n",
        "  plt.title(class_names[train_labels[rand_index]])\n",
        "  plt.axis(False)\n",
        "\n"
      ]
    },
    {
      "cell_type": "markdown",
      "metadata": {
        "id": "3FpsPJdKqlFf"
      },
      "source": [
        "Since this is a multiclass classification problem, we'll need to make a few changes to our architecture (inline with Table 1 above):\n",
        "\n",
        "- The **input shape** will have to deal with 28x28 tensors (the height and width of our images).\n",
        "**We're going to flatten the input into a tensor (vector) of shape (784)**.\n",
        "- The **output shape** will have to be 10 because we need our model to predict for 10 different classes.\n",
        "- The activation parameter of our output layer will be \"softmax\"  \n",
        "- Our loss function should be a multiclass loss function.\n",
        "Since our labels are in integer form, we'll use **tf.keras.losses.SparseCategoricalCrossentropy()**, if our labels were one-hot encoded (e.g. they looked something like [0, 0, 1, 0, 0...]), we'd use **tf.keras.losses.CategoricalCrossentropy()**.\n",
        "- We'll use the validation_data parameter when calling the fit() function. This will give us an idea of how the model performs on the test set during training."
      ]
    },
    {
      "cell_type": "code",
      "execution_count": 23,
      "metadata": {
        "colab": {
          "base_uri": "https://localhost:8080/"
        },
        "id": "ZPcu3AWtz1rC",
        "outputId": "bdd025f2-95c1-432a-8723-7db50386e31d"
      },
      "outputs": [
        {
          "output_type": "execute_result",
          "data": {
            "text/plain": [
              "((60000, 28, 28), (10000, 28, 28), (60000,), (10000,))"
            ]
          },
          "metadata": {},
          "execution_count": 23
        }
      ],
      "source": [
        "train_data.shape, test_data.shape, train_labels.shape, test_labels.shape"
      ]
    },
    {
      "cell_type": "code",
      "execution_count": 24,
      "metadata": {
        "colab": {
          "base_uri": "https://localhost:8080/"
        },
        "id": "CG4VgXqEw8Pa",
        "outputId": "944b8d3b-ab84-41bd-b1df-7b779e56cd57"
      },
      "outputs": [
        {
          "output_type": "stream",
          "name": "stdout",
          "text": [
            "Epoch 1/10\n",
            "1200/1200 [==============================] - 5s 2ms/step - loss: 2.3690 - accuracy: 0.0985 - val_loss: 2.3075 - val_accuracy: 0.1000\n",
            "Epoch 2/10\n",
            "1200/1200 [==============================] - 3s 2ms/step - loss: 2.3028 - accuracy: 0.0968 - val_loss: 2.3075 - val_accuracy: 0.1000\n",
            "Epoch 3/10\n",
            "1200/1200 [==============================] - 3s 2ms/step - loss: 2.3027 - accuracy: 0.0995 - val_loss: 2.3075 - val_accuracy: 0.1000\n",
            "Epoch 4/10\n",
            "1200/1200 [==============================] - 3s 2ms/step - loss: 2.3027 - accuracy: 0.0981 - val_loss: 2.3075 - val_accuracy: 0.1000\n",
            "Epoch 5/10\n",
            "1200/1200 [==============================] - 3s 2ms/step - loss: 2.3028 - accuracy: 0.0970 - val_loss: 2.3075 - val_accuracy: 0.1000\n",
            "Epoch 6/10\n",
            "1200/1200 [==============================] - 3s 3ms/step - loss: 2.3027 - accuracy: 0.0972 - val_loss: 2.3075 - val_accuracy: 0.1000\n",
            "Epoch 7/10\n",
            "1200/1200 [==============================] - 3s 3ms/step - loss: 2.3027 - accuracy: 0.0985 - val_loss: 2.3075 - val_accuracy: 0.1000\n",
            "Epoch 8/10\n",
            "1200/1200 [==============================] - 3s 2ms/step - loss: 2.3027 - accuracy: 0.0991 - val_loss: 2.3075 - val_accuracy: 0.1000\n",
            "Epoch 9/10\n",
            "1200/1200 [==============================] - 3s 2ms/step - loss: 2.3028 - accuracy: 0.0987 - val_loss: 2.3075 - val_accuracy: 0.1000\n",
            "Epoch 10/10\n",
            "1200/1200 [==============================] - 3s 2ms/step - loss: 2.3028 - accuracy: 0.0977 - val_loss: 2.3075 - val_accuracy: 0.1000\n"
          ]
        }
      ],
      "source": [
        "# Creating a model\n",
        "model = tf.keras.Sequential([\n",
        "    tf.keras.layers.Flatten(input_shape = (28,28)), # input layer (we had to reshape 28x28 to 784, the Flatten layer does this for us)\n",
        "    tf.keras.layers.Dense(4, activation = 'relu'),\n",
        "    tf.keras.layers.Dense(4, activation = 'relu'),\n",
        "    #tf.keras.layers.Dense(100, activation = 'relu'),\n",
        "    tf.keras.layers.Dense(10, activation = 'softmax')# output shape is 10, activation is softmax\n",
        "\n",
        "])\n",
        "\n",
        "# Compiling the model\n",
        "model.compile(loss = tf.keras.losses.SparseCategoricalCrossentropy(),\n",
        "              optimizer = tf.keras.optimizers.Adam(),\n",
        "              metrics= ['accuracy'])\n",
        "\n",
        "model_history = model.fit(train_data, train_labels, \n",
        "                          epochs=10, batch_size = 50,\n",
        "                          validation_data=(test_data,test_labels))"
      ]
    },
    {
      "cell_type": "code",
      "execution_count": 25,
      "metadata": {
        "id": "SJOyrcFTyvXF",
        "colab": {
          "base_uri": "https://localhost:8080/"
        },
        "outputId": "12215327-08b4-4f0d-d7d6-b1431e8e1604"
      },
      "outputs": [
        {
          "output_type": "execute_result",
          "data": {
            "text/plain": [
              "(TensorShape([None, 28, 28]), TensorShape([None, 10]))"
            ]
          },
          "metadata": {},
          "execution_count": 25
        }
      ],
      "source": [
        "model.input.shape, model.output.shape"
      ]
    },
    {
      "cell_type": "code",
      "source": [
        "# With one-hot encoder & loss - CategoricalCrossEntropy()"
      ],
      "metadata": {
        "id": "ASAt-mzHGw6-"
      },
      "execution_count": 26,
      "outputs": []
    },
    {
      "cell_type": "code",
      "source": [
        "# Creating a model\n",
        "model_hot_encode = tf.keras.Sequential([\n",
        "    tf.keras.layers.Flatten(input_shape = (28,28)), # input layer (we had to reshape 28x28 to 784, the Flatten layer does this for us)\n",
        "    tf.keras.layers.Dense(4, activation = 'relu'),\n",
        "    #tf.keras.layers.Dense(4, activation = 'relu'),\n",
        "    tf.keras.layers.Dense(4, activation = 'relu'),\n",
        "    tf.keras.layers.Dense(10, activation = 'softmax')# output shape is 10, activation is softmax\n",
        "\n",
        "])\n",
        "\n",
        "# Compiling the model\n",
        "model_hot_encode.compile(loss = tf.keras.losses.CategoricalCrossentropy(),\n",
        "              optimizer = tf.keras.optimizers.Adam(),\n",
        "              metrics= ['accuracy'])\n",
        "\n",
        "model_history_hot_encode = model_hot_encode.fit(train_data, tf.one_hot(train_labels,depth = 10), \n",
        "                          epochs=10, batch_size = 50,\n",
        "                          validation_data=(test_data,tf.one_hot(test_labels, depth = 10)))"
      ],
      "metadata": {
        "colab": {
          "base_uri": "https://localhost:8080/"
        },
        "id": "bAeyme2lF_eO",
        "outputId": "5d8aa26e-0b0f-41fd-a773-b66296f0f45e"
      },
      "execution_count": 27,
      "outputs": [
        {
          "output_type": "stream",
          "name": "stdout",
          "text": [
            "Epoch 1/10\n",
            "1200/1200 [==============================] - 3s 3ms/step - loss: 2.3288 - accuracy: 0.1138 - val_loss: 2.3026 - val_accuracy: 0.0999\n",
            "Epoch 2/10\n",
            "1200/1200 [==============================] - 3s 2ms/step - loss: 2.3028 - accuracy: 0.0978 - val_loss: 2.3027 - val_accuracy: 0.1000\n",
            "Epoch 3/10\n",
            "1200/1200 [==============================] - 3s 2ms/step - loss: 2.3028 - accuracy: 0.0982 - val_loss: 2.3026 - val_accuracy: 0.1000\n",
            "Epoch 4/10\n",
            "1200/1200 [==============================] - 3s 3ms/step - loss: 2.3028 - accuracy: 0.0980 - val_loss: 2.3027 - val_accuracy: 0.1000\n",
            "Epoch 5/10\n",
            "1200/1200 [==============================] - 3s 3ms/step - loss: 2.3028 - accuracy: 0.0989 - val_loss: 2.3026 - val_accuracy: 0.1000\n",
            "Epoch 6/10\n",
            "1200/1200 [==============================] - 3s 2ms/step - loss: 2.3028 - accuracy: 0.0990 - val_loss: 2.3026 - val_accuracy: 0.1000\n",
            "Epoch 7/10\n",
            "1200/1200 [==============================] - 3s 3ms/step - loss: 2.3028 - accuracy: 0.0975 - val_loss: 2.3026 - val_accuracy: 0.1000\n",
            "Epoch 8/10\n",
            "1200/1200 [==============================] - 3s 3ms/step - loss: 2.3028 - accuracy: 0.0975 - val_loss: 2.3026 - val_accuracy: 0.1000\n",
            "Epoch 9/10\n",
            "1200/1200 [==============================] - 3s 3ms/step - loss: 2.3027 - accuracy: 0.1008 - val_loss: 2.3027 - val_accuracy: 0.1000\n",
            "Epoch 10/10\n",
            "1200/1200 [==============================] - 3s 3ms/step - loss: 2.3027 - accuracy: 0.1010 - val_loss: 2.3027 - val_accuracy: 0.1000\n"
          ]
        }
      ]
    },
    {
      "cell_type": "code",
      "source": [
        "# Looking at the model summary\n",
        "model_hot_encode.summary()"
      ],
      "metadata": {
        "colab": {
          "base_uri": "https://localhost:8080/"
        },
        "id": "Q8A97qItHVka",
        "outputId": "51dca23e-dae0-49be-c529-5bb570b12c13"
      },
      "execution_count": 28,
      "outputs": [
        {
          "output_type": "stream",
          "name": "stdout",
          "text": [
            "Model: \"sequential_1\"\n",
            "_________________________________________________________________\n",
            " Layer (type)                Output Shape              Param #   \n",
            "=================================================================\n",
            " flatten_1 (Flatten)         (None, 784)               0         \n",
            "                                                                 \n",
            " dense_3 (Dense)             (None, 4)                 3140      \n",
            "                                                                 \n",
            " dense_4 (Dense)             (None, 4)                 20        \n",
            "                                                                 \n",
            " dense_5 (Dense)             (None, 10)                50        \n",
            "                                                                 \n",
            "=================================================================\n",
            "Total params: 3,210\n",
            "Trainable params: 3,210\n",
            "Non-trainable params: 0\n",
            "_________________________________________________________________\n"
          ]
        }
      ]
    },
    {
      "cell_type": "code",
      "source": [
        "# Scaling or normalising the the data\n",
        "train_data.min(), train_data.max()"
      ],
      "metadata": {
        "colab": {
          "base_uri": "https://localhost:8080/"
        },
        "id": "O15CI0DhI_RB",
        "outputId": "a8906553-af5a-43ad-bddd-02ac8e35b729"
      },
      "execution_count": 29,
      "outputs": [
        {
          "output_type": "execute_result",
          "data": {
            "text/plain": [
              "(0, 255)"
            ]
          },
          "metadata": {},
          "execution_count": 29
        }
      ]
    },
    {
      "cell_type": "markdown",
      "source": [
        "# Building model after scaling input\n",
        "- Always Scale/ Normalise the data in neural network. Data should be between 0 & 1"
      ],
      "metadata": {
        "id": "RvTsollDJ_NA"
      }
    },
    {
      "cell_type": "code",
      "source": [
        "# Scaling our input data\n",
        "\n",
        "train_data_scaled = train_data/255.0\n",
        "test_data_scaled = test_data/255.0"
      ],
      "metadata": {
        "id": "z0RN8z6FKQhI"
      },
      "execution_count": 30,
      "outputs": []
    },
    {
      "cell_type": "code",
      "source": [
        "train_data_scaled.min(), train_data_scaled.max()"
      ],
      "metadata": {
        "colab": {
          "base_uri": "https://localhost:8080/"
        },
        "id": "YimIAi6nKxpz",
        "outputId": "ade0da3d-e97c-4e6f-964d-67d031a68214"
      },
      "execution_count": 31,
      "outputs": [
        {
          "output_type": "execute_result",
          "data": {
            "text/plain": [
              "(0.0, 1.0)"
            ]
          },
          "metadata": {},
          "execution_count": 31
        }
      ]
    },
    {
      "cell_type": "code",
      "source": [
        "# Creating a model\n",
        "model_scaled = tf.keras.Sequential([\n",
        "    tf.keras.layers.Flatten(input_shape = (28,28)), # input layer (we had to reshape 28x28 to 784, the Flatten layer does this for us)\n",
        "    tf.keras.layers.Dense(4, activation = 'relu'),\n",
        "    #tf.keras.layers.Dense(4, activation = 'relu'),\n",
        "    tf.keras.layers.Dense(4, activation = 'relu'),\n",
        "    tf.keras.layers.Dense(10, activation = 'softmax')# output shape is 10, activation is softmax\n",
        "\n",
        "])\n",
        "\n",
        "# Compiling the model\n",
        "model_scaled.compile(loss = tf.keras.losses.SparseCategoricalCrossentropy(),\n",
        "              optimizer = tf.keras.optimizers.Adam(),\n",
        "              metrics= ['accuracy'])\n",
        "\n",
        "model_history_scaled = model_scaled.fit(train_data_scaled, train_labels, \n",
        "                          epochs=10, batch_size = 50,\n",
        "                          validation_data=(test_data_scaled, test_labels))"
      ],
      "metadata": {
        "colab": {
          "base_uri": "https://localhost:8080/"
        },
        "id": "yKT69cNRK2i6",
        "outputId": "6062960a-131b-41ba-fd94-4e67b971a3da"
      },
      "execution_count": 32,
      "outputs": [
        {
          "output_type": "stream",
          "name": "stdout",
          "text": [
            "Epoch 1/10\n",
            "1200/1200 [==============================] - 3s 3ms/step - loss: 0.9978 - accuracy: 0.6414 - val_loss: 0.7256 - val_accuracy: 0.7419\n",
            "Epoch 2/10\n",
            "1200/1200 [==============================] - 3s 2ms/step - loss: 0.6744 - accuracy: 0.7582 - val_loss: 0.6493 - val_accuracy: 0.7707\n",
            "Epoch 3/10\n",
            "1200/1200 [==============================] - 3s 2ms/step - loss: 0.6281 - accuracy: 0.7762 - val_loss: 0.6222 - val_accuracy: 0.7801\n",
            "Epoch 4/10\n",
            "1200/1200 [==============================] - 3s 2ms/step - loss: 0.5997 - accuracy: 0.7885 - val_loss: 0.6271 - val_accuracy: 0.7748\n",
            "Epoch 5/10\n",
            "1200/1200 [==============================] - 3s 2ms/step - loss: 0.5815 - accuracy: 0.7961 - val_loss: 0.5998 - val_accuracy: 0.7899\n",
            "Epoch 6/10\n",
            "1200/1200 [==============================] - 3s 2ms/step - loss: 0.5629 - accuracy: 0.8007 - val_loss: 0.5762 - val_accuracy: 0.8024\n",
            "Epoch 7/10\n",
            "1200/1200 [==============================] - 3s 2ms/step - loss: 0.5474 - accuracy: 0.8075 - val_loss: 0.5787 - val_accuracy: 0.7982\n",
            "Epoch 8/10\n",
            "1200/1200 [==============================] - 3s 2ms/step - loss: 0.5347 - accuracy: 0.8119 - val_loss: 0.5588 - val_accuracy: 0.8050\n",
            "Epoch 9/10\n",
            "1200/1200 [==============================] - 3s 2ms/step - loss: 0.5189 - accuracy: 0.8202 - val_loss: 0.5449 - val_accuracy: 0.8117\n",
            "Epoch 10/10\n",
            "1200/1200 [==============================] - 3s 2ms/step - loss: 0.5100 - accuracy: 0.8226 - val_loss: 0.5481 - val_accuracy: 0.8079\n"
          ]
        }
      ]
    },
    {
      "cell_type": "code",
      "source": [
        "# Plotting history"
      ],
      "metadata": {
        "id": "10vVOiSEMpyy"
      },
      "execution_count": 33,
      "outputs": []
    },
    {
      "cell_type": "code",
      "source": [
        "import pandas as pd\n"
      ],
      "metadata": {
        "id": "JOm-S9KZhBAt"
      },
      "execution_count": 34,
      "outputs": []
    },
    {
      "cell_type": "code",
      "source": [
        "# Plot non-normalised data loss curve\n",
        "pd.DataFrame(model_history.history).plot(title = 'Non-Normalised Data')\n",
        "\n",
        "# Plot normalised data loss curve\n",
        "pd.DataFrame(model_history_scaled.history).plot(title = 'Normalised Data')"
      ],
      "metadata": {
        "colab": {
          "base_uri": "https://localhost:8080/",
          "height": 562
        },
        "id": "ROcVIml1hC9T",
        "outputId": "fe6c4809-e2bf-466c-b0f4-aeaff111fd26"
      },
      "execution_count": 35,
      "outputs": [
        {
          "output_type": "execute_result",
          "data": {
            "text/plain": [
              "<matplotlib.axes._subplots.AxesSubplot at 0x7fa75c097610>"
            ]
          },
          "metadata": {},
          "execution_count": 35
        },
        {
          "output_type": "display_data",
          "data": {
            "text/plain": [
              "<Figure size 432x288 with 1 Axes>"
            ],
            "image/png": "[encoded data removed]"
          },
          "metadata": {
            "needs_background": "light"
          }
        },
        {
          "output_type": "display_data",
          "data": {
            "text/plain": [
              "<Figure size 432x288 with 1 Axes>"
            ],
            "image/png": "[encoded data removed]"
          },
          "metadata": {
            "needs_background": "light"
          }
        }
      ]
    },
    {
      "cell_type": "markdown",
      "source": [
        "# Finding the ideal learning rate"
      ],
      "metadata": {
        "id": "1fkWNQOlhY3g"
      }
    },
    {
      "cell_type": "code",
      "source": [
        "# Creating a model\n",
        "model = tf.keras.Sequential([\n",
        "    tf.keras.layers.Flatten(input_shape = (28,28)), # input layer (we had to reshape 28x28 to 784, the Flatten layer does this for us)\n",
        "    tf.keras.layers.Dense(4, activation = 'relu'),\n",
        "    tf.keras.layers.Dense(4, activation = 'relu'),\n",
        "    #tf.keras.layers.Dense(100, activation = 'relu'),\n",
        "    tf.keras.layers.Dense(10, activation = 'softmax')# output shape is 10, activation is softmax\n",
        "\n",
        "])\n",
        "\n",
        "# Compiling the model\n",
        "model.compile(loss = tf.keras.losses.SparseCategoricalCrossentropy(),\n",
        "              optimizer = tf.keras.optimizers.Adam(),\n",
        "              metrics= ['accuracy'])\n",
        "\n",
        "# Creating the learning rate callback\n",
        "lr_scheduler = tf.keras.callbacks.LearningRateScheduler(lambda epoch: 1e-3 * 10**(epoch/20))\n",
        "\n",
        "model_history_scaled_lr = model.fit(train_data_scaled, train_labels, \n",
        "                          epochs=40, \n",
        "                          validation_data=(test_data_scaled,test_labels),\n",
        "                          callbacks = [lr_scheduler])"
      ],
      "metadata": {
        "colab": {
          "base_uri": "https://localhost:8080/"
        },
        "id": "5m0UpqX8kZCj",
        "outputId": "f2cd7454-a71d-435e-e00b-207448c09d3d"
      },
      "execution_count": 36,
      "outputs": [
        {
          "output_type": "stream",
          "name": "stdout",
          "text": [
            "Epoch 1/40\n",
            "1875/1875 [==============================] - 5s 2ms/step - loss: 1.2300 - accuracy: 0.5835 - val_loss: 0.7354 - val_accuracy: 0.7441 - lr: 0.0010\n",
            "Epoch 2/40\n",
            "1875/1875 [==============================] - 4s 2ms/step - loss: 0.6479 - accuracy: 0.7782 - val_loss: 0.6309 - val_accuracy: 0.7878 - lr: 0.0011\n",
            "Epoch 3/40\n",
            "1875/1875 [==============================] - 5s 2ms/step - loss: 0.5976 - accuracy: 0.7984 - val_loss: 0.6201 - val_accuracy: 0.7859 - lr: 0.0013\n",
            "Epoch 4/40\n",
            "1875/1875 [==============================] - 4s 2ms/step - loss: 0.5747 - accuracy: 0.8053 - val_loss: 0.6019 - val_accuracy: 0.7956 - lr: 0.0014\n",
            "Epoch 5/40\n",
            "1875/1875 [==============================] - 4s 2ms/step - loss: 0.5628 - accuracy: 0.8070 - val_loss: 0.5868 - val_accuracy: 0.8021 - lr: 0.0016\n",
            "Epoch 6/40\n",
            "1875/1875 [==============================] - 4s 2ms/step - loss: 0.5564 - accuracy: 0.8081 - val_loss: 0.5850 - val_accuracy: 0.8001 - lr: 0.0018\n",
            "Epoch 7/40\n",
            "1875/1875 [==============================] - 4s 2ms/step - loss: 0.5496 - accuracy: 0.8096 - val_loss: 0.5811 - val_accuracy: 0.8017 - lr: 0.0020\n",
            "Epoch 8/40\n",
            "1875/1875 [==============================] - 5s 2ms/step - loss: 0.5455 - accuracy: 0.8107 - val_loss: 0.5770 - val_accuracy: 0.8043 - lr: 0.0022\n",
            "Epoch 9/40\n",
            "1875/1875 [==============================] - 4s 2ms/step - loss: 0.5354 - accuracy: 0.8149 - val_loss: 0.5753 - val_accuracy: 0.7994 - lr: 0.0025\n",
            "Epoch 10/40\n",
            "1875/1875 [==============================] - 4s 2ms/step - loss: 0.5247 - accuracy: 0.8159 - val_loss: 0.5779 - val_accuracy: 0.7962 - lr: 0.0028\n",
            "Epoch 11/40\n",
            "1875/1875 [==============================] - 5s 2ms/step - loss: 0.5167 - accuracy: 0.8177 - val_loss: 0.5471 - val_accuracy: 0.8096 - lr: 0.0032\n",
            "Epoch 12/40\n",
            "1875/1875 [==============================] - 5s 2ms/step - loss: 0.5146 - accuracy: 0.8192 - val_loss: 0.5412 - val_accuracy: 0.8070 - lr: 0.0035\n",
            "Epoch 13/40\n",
            "1875/1875 [==============================] - 4s 2ms/step - loss: 0.5125 - accuracy: 0.8197 - val_loss: 0.5469 - val_accuracy: 0.8084 - lr: 0.0040\n",
            "Epoch 14/40\n",
            "1875/1875 [==============================] - 4s 2ms/step - loss: 0.5104 - accuracy: 0.8216 - val_loss: 0.5504 - val_accuracy: 0.8067 - lr: 0.0045\n",
            "Epoch 15/40\n",
            "1875/1875 [==============================] - 4s 2ms/step - loss: 0.5111 - accuracy: 0.8209 - val_loss: 0.5371 - val_accuracy: 0.8132 - lr: 0.0050\n",
            "Epoch 16/40\n",
            "1875/1875 [==============================] - 5s 2ms/step - loss: 0.5144 - accuracy: 0.8198 - val_loss: 0.5341 - val_accuracy: 0.8143 - lr: 0.0056\n",
            "Epoch 17/40\n",
            "1875/1875 [==============================] - 5s 2ms/step - loss: 0.5114 - accuracy: 0.8217 - val_loss: 0.5309 - val_accuracy: 0.8133 - lr: 0.0063\n",
            "Epoch 18/40\n",
            "1875/1875 [==============================] - 4s 2ms/step - loss: 0.5215 - accuracy: 0.8177 - val_loss: 0.5371 - val_accuracy: 0.8100 - lr: 0.0071\n",
            "Epoch 19/40\n",
            "1875/1875 [==============================] - 4s 2ms/step - loss: 0.5180 - accuracy: 0.8178 - val_loss: 0.5439 - val_accuracy: 0.8115 - lr: 0.0079\n",
            "Epoch 20/40\n",
            "1875/1875 [==============================] - 4s 2ms/step - loss: 0.5241 - accuracy: 0.8170 - val_loss: 0.6058 - val_accuracy: 0.7876 - lr: 0.0089\n",
            "Epoch 21/40\n",
            "1875/1875 [==============================] - 4s 2ms/step - loss: 0.5248 - accuracy: 0.8169 - val_loss: 0.6290 - val_accuracy: 0.7863 - lr: 0.0100\n",
            "Epoch 22/40\n",
            "1875/1875 [==============================] - 4s 2ms/step - loss: 0.5353 - accuracy: 0.8122 - val_loss: 0.5517 - val_accuracy: 0.8059 - lr: 0.0112\n",
            "Epoch 23/40\n",
            "1875/1875 [==============================] - 5s 2ms/step - loss: 0.5435 - accuracy: 0.8104 - val_loss: 0.5664 - val_accuracy: 0.7953 - lr: 0.0126\n",
            "Epoch 24/40\n",
            "1875/1875 [==============================] - 5s 2ms/step - loss: 0.5435 - accuracy: 0.8116 - val_loss: 0.5731 - val_accuracy: 0.8125 - lr: 0.0141\n",
            "Epoch 25/40\n",
            "1875/1875 [==============================] - 4s 2ms/step - loss: 0.5539 - accuracy: 0.8083 - val_loss: 0.6109 - val_accuracy: 0.7856 - lr: 0.0158\n",
            "Epoch 26/40\n",
            "1875/1875 [==============================] - 4s 2ms/step - loss: 0.5593 - accuracy: 0.8061 - val_loss: 0.6829 - val_accuracy: 0.7475 - lr: 0.0178\n",
            "Epoch 27/40\n",
            "1875/1875 [==============================] - 4s 2ms/step - loss: 0.5737 - accuracy: 0.8035 - val_loss: 0.7886 - val_accuracy: 0.7551 - lr: 0.0200\n",
            "Epoch 28/40\n",
            "1875/1875 [==============================] - 4s 2ms/step - loss: 0.5922 - accuracy: 0.7968 - val_loss: 0.6757 - val_accuracy: 0.7845 - lr: 0.0224\n",
            "Epoch 29/40\n",
            "1875/1875 [==============================] - 4s 2ms/step - loss: 0.6132 - accuracy: 0.7938 - val_loss: 0.7047 - val_accuracy: 0.7529 - lr: 0.0251\n",
            "Epoch 30/40\n",
            "1875/1875 [==============================] - 4s 2ms/step - loss: 0.6288 - accuracy: 0.7897 - val_loss: 0.6465 - val_accuracy: 0.7873 - lr: 0.0282\n",
            "Epoch 31/40\n",
            "1875/1875 [==============================] - 5s 2ms/step - loss: 0.6654 - accuracy: 0.7808 - val_loss: 0.6388 - val_accuracy: 0.7893 - lr: 0.0316\n",
            "Epoch 32/40\n",
            "1875/1875 [==============================] - 4s 2ms/step - loss: 0.6774 - accuracy: 0.7765 - val_loss: 0.7576 - val_accuracy: 0.7549 - lr: 0.0355\n",
            "Epoch 33/40\n",
            "1875/1875 [==============================] - 5s 2ms/step - loss: 0.7595 - accuracy: 0.7491 - val_loss: 0.8515 - val_accuracy: 0.7629 - lr: 0.0398\n",
            "Epoch 34/40\n",
            "1875/1875 [==============================] - 4s 2ms/step - loss: 0.7955 - accuracy: 0.7214 - val_loss: 0.7991 - val_accuracy: 0.7342 - lr: 0.0447\n",
            "Epoch 35/40\n",
            "1875/1875 [==============================] - 4s 2ms/step - loss: 0.8784 - accuracy: 0.6920 - val_loss: 1.0151 - val_accuracy: 0.5857 - lr: 0.0501\n",
            "Epoch 36/40\n",
            "1875/1875 [==============================] - 4s 2ms/step - loss: 0.9819 - accuracy: 0.6270 - val_loss: 1.1336 - val_accuracy: 0.5784 - lr: 0.0562\n",
            "Epoch 37/40\n",
            "1875/1875 [==============================] - 4s 2ms/step - loss: 1.1281 - accuracy: 0.5452 - val_loss: 1.3912 - val_accuracy: 0.3812 - lr: 0.0631\n",
            "Epoch 38/40\n",
            "1875/1875 [==============================] - 4s 2ms/step - loss: 1.3694 - accuracy: 0.4137 - val_loss: 2.1615 - val_accuracy: 0.1832 - lr: 0.0708\n",
            "Epoch 39/40\n",
            "1875/1875 [==============================] - 4s 2ms/step - loss: 1.7462 - accuracy: 0.2742 - val_loss: 1.5483 - val_accuracy: 0.3528 - lr: 0.0794\n",
            "Epoch 40/40\n",
            "1875/1875 [==============================] - 4s 2ms/step - loss: 1.8347 - accuracy: 0.2600 - val_loss: 1.8325 - val_accuracy: 0.2621 - lr: 0.0891\n"
          ]
        }
      ]
    },
    {
      "cell_type": "code",
      "source": [
        "pd.DataFrame([range(4)]).apply(lambda epoch: 1e-3 * 10**(epoch/20))"
      ],
      "metadata": {
        "colab": {
          "base_uri": "https://localhost:8080/",
          "height": 81
        },
        "id": "-GejGdF_loD4",
        "outputId": "54b7bddb-624a-4815-9102-7e285ab3cb8c"
      },
      "execution_count": 37,
      "outputs": [
        {
          "output_type": "execute_result",
          "data": {
            "text/plain": [
              "       0         1         2         3\n",
              "0  0.001  0.001122  0.001259  0.001413"
            ],
            "text/html": [
              "\n",
              "  <div id=\"df-f4999d9c-8beb-4e3d-89ed-47551a453708\">\n",
              "    <div class=\"colab-df-container\">\n",
              "      <div>\n",
              "<style scoped>\n",
              "    .dataframe tbody tr th:only-of-type {\n",
              "        vertical-align: middle;\n",
              "    }\n",
              "\n",
              "    .dataframe tbody tr th {\n",
              "        vertical-align: top;\n",
              "    }\n",
              "\n",
              "    .dataframe thead th {\n",
              "        text-align: right;\n",
              "    }\n",
              "</style>\n",
              "<table border=\"1\" class=\"dataframe\">\n",
              "  <thead>\n",
              "    <tr style=\"text-align: right;\">\n",
              "      <th></th>\n",
              "      <th>0</th>\n",
              "      <th>1</th>\n",
              "      <th>2</th>\n",
              "      <th>3</th>\n",
              "    </tr>\n",
              "  </thead>\n",
              "  <tbody>\n",
              "    <tr>\n",
              "      <th>0</th>\n",
              "      <td>0.001</td>\n",
              "      <td>0.001122</td>\n",
              "      <td>0.001259</td>\n",
              "      <td>0.001413</td>\n",
              "    </tr>\n",
              "  </tbody>\n",
              "</table>\n",
              "</div>\n",
              "      <button class=\"colab-df-convert\" onclick=\"convertToInteractive('df-f4999d9c-8beb-4e3d-89ed-47551a453708')\"\n",
              "              title=\"Convert this dataframe to an interactive table.\"\n",
              "              style=\"display:none;\">\n",
              "        \n",
              "  <svg xmlns=\"http://www.w3.org/2000/svg\" height=\"24px\"viewBox=\"0 0 24 24\"\n",
              "       width=\"24px\">\n",
              "    <path d=\"M0 0h24v24H0V0z\" fill=\"none\"/>\n",
              "    <path d=\"M18.56 5.44l.94 2.06.94-2.06 2.06-.94-2.06-.94-.94-2.06-.94 2.06-2.06.94zm-11 1L8.5 8.5l.94-2.06 2.06-.94-2.06-.94L8.5 2.5l-.94 2.06-2.06.94zm10 10l.94 2.06.94-2.06 2.06-.94-2.06-.94-.94-2.06-.94 2.06-2.06.94z\"/><path d=\"M17.41 7.96l-1.37-1.37c-.4-.4-.92-.59-1.43-.59-.52 0-1.04.2-1.43.59L10.3 9.45l-7.72 7.72c-.78.78-.78 2.05 0 2.83L4 21.41c.39.39.9.59 1.41.59.51 0 1.02-.2 1.41-.59l7.78-7.78 2.81-2.81c.8-.78.8-2.07 0-2.86zM5.41 20L4 18.59l7.72-7.72 1.47 1.35L5.41 20z\"/>\n",
              "  </svg>\n",
              "      </button>\n",
              "      \n",
              "  <style>\n",
              "    .colab-df-container {\n",
              "      display:flex;\n",
              "      flex-wrap:wrap;\n",
              "      gap: 12px;\n",
              "    }\n",
              "\n",
              "    .colab-df-convert {\n",
              "      background-color: #E8F0FE;\n",
              "      border: none;\n",
              "      border-radius: 50%;\n",
              "      cursor: pointer;\n",
              "      display: none;\n",
              "      fill: #1967D2;\n",
              "      height: 32px;\n",
              "      padding: 0 0 0 0;\n",
              "      width: 32px;\n",
              "    }\n",
              "\n",
              "    .colab-df-convert:hover {\n",
              "      background-color: #E2EBFA;\n",
              "      box-shadow: 0px 1px 2px rgba(60, 64, 67, 0.3), 0px 1px 3px 1px rgba(60, 64, 67, 0.15);\n",
              "      fill: #174EA6;\n",
              "    }\n",
              "\n",
              "    [theme=dark] .colab-df-convert {\n",
              "      background-color: #3B4455;\n",
              "      fill: #D2E3FC;\n",
              "    }\n",
              "\n",
              "    [theme=dark] .colab-df-convert:hover {\n",
              "      background-color: #434B5C;\n",
              "      box-shadow: 0px 1px 3px 1px rgba(0, 0, 0, 0.15);\n",
              "      filter: drop-shadow(0px 1px 2px rgba(0, 0, 0, 0.3));\n",
              "      fill: #FFFFFF;\n",
              "    }\n",
              "  </style>\n",
              "\n",
              "      <script>\n",
              "        const buttonEl =\n",
              "          document.querySelector('#df-f4999d9c-8beb-4e3d-89ed-47551a453708 button.colab-df-convert');\n",
              "        buttonEl.style.display =\n",
              "          google.colab.kernel.accessAllowed ? 'block' : 'none';\n",
              "\n",
              "        async function convertToInteractive(key) {\n",
              "          const element = document.querySelector('#df-f4999d9c-8beb-4e3d-89ed-47551a453708');\n",
              "          const dataTable =\n",
              "            await google.colab.kernel.invokeFunction('convertToInteractive',\n",
              "                                                     [key], {});\n",
              "          if (!dataTable) return;\n",
              "\n",
              "          const docLinkHtml = 'Like what you see? Visit the ' +\n",
              "            '<a target=\"_blank\" href=https://colab.research.google.com/notebooks/data_table.ipynb>data table notebook</a>'\n",
              "            + ' to learn more about interactive tables.';\n",
              "          element.innerHTML = '';\n",
              "          dataTable['output_type'] = 'display_data';\n",
              "          await google.colab.output.renderOutput(dataTable, element);\n",
              "          const docLink = document.createElement('div');\n",
              "          docLink.innerHTML = docLinkHtml;\n",
              "          element.appendChild(docLink);\n",
              "        }\n",
              "      </script>\n",
              "    </div>\n",
              "  </div>\n",
              "  "
            ]
          },
          "metadata": {},
          "execution_count": 37
        }
      ]
    },
    {
      "cell_type": "code",
      "source": [
        "[np.arange(4)]"
      ],
      "metadata": {
        "colab": {
          "base_uri": "https://localhost:8080/"
        },
        "id": "Cse_61fIlzCu",
        "outputId": "bde46b97-ea9e-482c-cff5-89912dc38084"
      },
      "execution_count": 38,
      "outputs": [
        {
          "output_type": "execute_result",
          "data": {
            "text/plain": [
              "[array([0, 1, 2, 3])]"
            ]
          },
          "metadata": {},
          "execution_count": 38
        }
      ]
    },
    {
      "cell_type": "code",
      "source": [
        "pd.DataFrame([range(4)]).apply(lambda epoch: 0.001 * 10**(epoch/20))"
      ],
      "metadata": {
        "colab": {
          "base_uri": "https://localhost:8080/",
          "height": 81
        },
        "id": "2Ub5c159l6lX",
        "outputId": "d890d3ae-2ea1-4773-85f9-3268f4759319"
      },
      "execution_count": 39,
      "outputs": [
        {
          "output_type": "execute_result",
          "data": {
            "text/plain": [
              "       0         1         2         3\n",
              "0  0.001  0.001122  0.001259  0.001413"
            ],
            "text/html": [
              "\n",
              "  <div id=\"df-01c8f055-2ac6-43b9-9460-c2c9cb8148d7\">\n",
              "    <div class=\"colab-df-container\">\n",
              "      <div>\n",
              "<style scoped>\n",
              "    .dataframe tbody tr th:only-of-type {\n",
              "        vertical-align: middle;\n",
              "    }\n",
              "\n",
              "    .dataframe tbody tr th {\n",
              "        vertical-align: top;\n",
              "    }\n",
              "\n",
              "    .dataframe thead th {\n",
              "        text-align: right;\n",
              "    }\n",
              "</style>\n",
              "<table border=\"1\" class=\"dataframe\">\n",
              "  <thead>\n",
              "    <tr style=\"text-align: right;\">\n",
              "      <th></th>\n",
              "      <th>0</th>\n",
              "      <th>1</th>\n",
              "      <th>2</th>\n",
              "      <th>3</th>\n",
              "    </tr>\n",
              "  </thead>\n",
              "  <tbody>\n",
              "    <tr>\n",
              "      <th>0</th>\n",
              "      <td>0.001</td>\n",
              "      <td>0.001122</td>\n",
              "      <td>0.001259</td>\n",
              "      <td>0.001413</td>\n",
              "    </tr>\n",
              "  </tbody>\n",
              "</table>\n",
              "</div>\n",
              "      <button class=\"colab-df-convert\" onclick=\"convertToInteractive('df-01c8f055-2ac6-43b9-9460-c2c9cb8148d7')\"\n",
              "              title=\"Convert this dataframe to an interactive table.\"\n",
              "              style=\"display:none;\">\n",
              "        \n",
              "  <svg xmlns=\"http://www.w3.org/2000/svg\" height=\"24px\"viewBox=\"0 0 24 24\"\n",
              "       width=\"24px\">\n",
              "    <path d=\"M0 0h24v24H0V0z\" fill=\"none\"/>\n",
              "    <path d=\"M18.56 5.44l.94 2.06.94-2.06 2.06-.94-2.06-.94-.94-2.06-.94 2.06-2.06.94zm-11 1L8.5 8.5l.94-2.06 2.06-.94-2.06-.94L8.5 2.5l-.94 2.06-2.06.94zm10 10l.94 2.06.94-2.06 2.06-.94-2.06-.94-.94-2.06-.94 2.06-2.06.94z\"/><path d=\"M17.41 7.96l-1.37-1.37c-.4-.4-.92-.59-1.43-.59-.52 0-1.04.2-1.43.59L10.3 9.45l-7.72 7.72c-.78.78-.78 2.05 0 2.83L4 21.41c.39.39.9.59 1.41.59.51 0 1.02-.2 1.41-.59l7.78-7.78 2.81-2.81c.8-.78.8-2.07 0-2.86zM5.41 20L4 18.59l7.72-7.72 1.47 1.35L5.41 20z\"/>\n",
              "  </svg>\n",
              "      </button>\n",
              "      \n",
              "  <style>\n",
              "    .colab-df-container {\n",
              "      display:flex;\n",
              "      flex-wrap:wrap;\n",
              "      gap: 12px;\n",
              "    }\n",
              "\n",
              "    .colab-df-convert {\n",
              "      background-color: #E8F0FE;\n",
              "      border: none;\n",
              "      border-radius: 50%;\n",
              "      cursor: pointer;\n",
              "      display: none;\n",
              "      fill: #1967D2;\n",
              "      height: 32px;\n",
              "      padding: 0 0 0 0;\n",
              "      width: 32px;\n",
              "    }\n",
              "\n",
              "    .colab-df-convert:hover {\n",
              "      background-color: #E2EBFA;\n",
              "      box-shadow: 0px 1px 2px rgba(60, 64, 67, 0.3), 0px 1px 3px 1px rgba(60, 64, 67, 0.15);\n",
              "      fill: #174EA6;\n",
              "    }\n",
              "\n",
              "    [theme=dark] .colab-df-convert {\n",
              "      background-color: #3B4455;\n",
              "      fill: #D2E3FC;\n",
              "    }\n",
              "\n",
              "    [theme=dark] .colab-df-convert:hover {\n",
              "      background-color: #434B5C;\n",
              "      box-shadow: 0px 1px 3px 1px rgba(0, 0, 0, 0.15);\n",
              "      filter: drop-shadow(0px 1px 2px rgba(0, 0, 0, 0.3));\n",
              "      fill: #FFFFFF;\n",
              "    }\n",
              "  </style>\n",
              "\n",
              "      <script>\n",
              "        const buttonEl =\n",
              "          document.querySelector('#df-01c8f055-2ac6-43b9-9460-c2c9cb8148d7 button.colab-df-convert');\n",
              "        buttonEl.style.display =\n",
              "          google.colab.kernel.accessAllowed ? 'block' : 'none';\n",
              "\n",
              "        async function convertToInteractive(key) {\n",
              "          const element = document.querySelector('#df-01c8f055-2ac6-43b9-9460-c2c9cb8148d7');\n",
              "          const dataTable =\n",
              "            await google.colab.kernel.invokeFunction('convertToInteractive',\n",
              "                                                     [key], {});\n",
              "          if (!dataTable) return;\n",
              "\n",
              "          const docLinkHtml = 'Like what you see? Visit the ' +\n",
              "            '<a target=\"_blank\" href=https://colab.research.google.com/notebooks/data_table.ipynb>data table notebook</a>'\n",
              "            + ' to learn more about interactive tables.';\n",
              "          element.innerHTML = '';\n",
              "          dataTable['output_type'] = 'display_data';\n",
              "          await google.colab.output.renderOutput(dataTable, element);\n",
              "          const docLink = document.createElement('div');\n",
              "          docLink.innerHTML = docLinkHtml;\n",
              "          element.appendChild(docLink);\n",
              "        }\n",
              "      </script>\n",
              "    </div>\n",
              "  </div>\n",
              "  "
            ]
          },
          "metadata": {},
          "execution_count": 39
        }
      ]
    },
    {
      "cell_type": "code",
      "source": [
        "10**(-3), 1e-3"
      ],
      "metadata": {
        "colab": {
          "base_uri": "https://localhost:8080/"
        },
        "id": "3ygF3UvvmxBQ",
        "outputId": "29c3bd12-f7e8-4cb8-b322-64d535733dd5"
      },
      "execution_count": 40,
      "outputs": [
        {
          "output_type": "execute_result",
          "data": {
            "text/plain": [
              "(0.001, 0.001)"
            ]
          },
          "metadata": {},
          "execution_count": 40
        }
      ]
    },
    {
      "cell_type": "code",
      "source": [
        "10**(0.05)"
      ],
      "metadata": {
        "colab": {
          "base_uri": "https://localhost:8080/"
        },
        "id": "Tfq2yuICm0zP",
        "outputId": "f0b0dc3b-5200-42d7-8e76-6f2426af0858"
      },
      "execution_count": 41,
      "outputs": [
        {
          "output_type": "execute_result",
          "data": {
            "text/plain": [
              "1.1220184543019633"
            ]
          },
          "metadata": {},
          "execution_count": 41
        }
      ]
    },
    {
      "cell_type": "code",
      "source": [
        "0.001 *10**(0.05)"
      ],
      "metadata": {
        "colab": {
          "base_uri": "https://localhost:8080/"
        },
        "id": "iULrua5inKNq",
        "outputId": "b99f021f-6403-4ab6-dbab-9c4ae20b91a4"
      },
      "execution_count": 42,
      "outputs": [
        {
          "output_type": "execute_result",
          "data": {
            "text/plain": [
              "0.0011220184543019635"
            ]
          },
          "metadata": {},
          "execution_count": 42
        }
      ]
    },
    {
      "cell_type": "code",
      "source": [
        "lrs = 1e-3 * (10**(tf.range(40)/20))\n",
        "plt.semilogx(lrs, model_history_scaled_lr.history['loss'])\n",
        "plt.xlabel('Learning Rate')\n",
        "plt.ylabel('Loss')\n",
        "plt.title('Finding the Ideal Learning Rate')"
      ],
      "metadata": {
        "colab": {
          "base_uri": "https://localhost:8080/",
          "height": 316
        },
        "id": "1UE0n_1HnMn4",
        "outputId": "d51f7939-7b30-41c7-a9f5-e02f550feacc"
      },
      "execution_count": 43,
      "outputs": [
        {
          "output_type": "execute_result",
          "data": {
            "text/plain": [
              "Text(0.5, 1.0, 'Finding the Ideal Learning Rate')"
            ]
          },
          "metadata": {},
          "execution_count": 43
        },
        {
          "output_type": "display_data",
          "data": {
            "text/plain": [
              "<Figure size 432x288 with 1 Axes>"
            ],
            "image/png": "[encoded data removed]"
          },
          "metadata": {
            "needs_background": "light"
          }
        }
      ]
    },
    {
      "cell_type": "code",
      "source": [
        "lrs = 1e-3 * (10**(tf.range(40)/20))\n",
        "plt.plot(range(40), model_history_scaled_lr.history['loss'])\n",
        "#plt.plot(range(40))\n",
        "plt.xlabel('Epoch')\n",
        "plt.ylabel('Loss')\n",
        "plt.title('Finding the Ideal Learning Rate')\n",
        "plt.legend()"
      ],
      "metadata": {
        "colab": {
          "base_uri": "https://localhost:8080/",
          "height": 330
        },
        "id": "hLbEScQBpWgv",
        "outputId": "dc853b0f-b949-44e6-ac6d-6cf38409696a"
      },
      "execution_count": 44,
      "outputs": [
        {
          "output_type": "stream",
          "name": "stderr",
          "text": [
            "No handles with labels found to put in legend.\n"
          ]
        },
        {
          "output_type": "execute_result",
          "data": {
            "text/plain": [
              "<matplotlib.legend.Legend at 0x7fa7460d84d0>"
            ]
          },
          "metadata": {},
          "execution_count": 44
        },
        {
          "output_type": "display_data",
          "data": {
            "text/plain": [
              "<Figure size 432x288 with 1 Axes>"
            ],
            "image/png": "[encoded data removed]"
          },
          "metadata": {
            "needs_background": "light"
          }
        }
      ]
    },
    {
      "cell_type": "markdown",
      "source": [
        "# Normalised model with updated learning rate & ephocs"
      ],
      "metadata": {
        "id": "FzQE9zpvweEC"
      }
    },
    {
      "cell_type": "code",
      "source": [
        "# By looking at the above two plots\n",
        "# Lets have learning rate of 0.001\n",
        "# & have epochs = 14\n",
        "\n"
      ],
      "metadata": {
        "id": "Ny0McADgruSN"
      },
      "execution_count": 45,
      "outputs": []
    },
    {
      "cell_type": "code",
      "source": [
        "# Creating a model\n",
        "model_scaled_lr_updated = tf.keras.Sequential([\n",
        "    tf.keras.layers.Flatten(input_shape = (28,28)), # input layer (we had to reshape 28x28 to 784, the Flatten layer does this for us)\n",
        "    tf.keras.layers.Dense(4, activation = 'relu'),\n",
        "    tf.keras.layers.Dense(4, activation = 'relu'),\n",
        "    #tf.keras.layers.Dense(100, activation = 'relu'),\n",
        "    tf.keras.layers.Dense(10, activation = 'softmax')# output shape is 10, activation is softmax\n",
        "\n",
        "])\n",
        "\n",
        "# Compiling the model\n",
        "model_scaled_lr_updated.compile(loss = tf.keras.losses.SparseCategoricalCrossentropy(),\n",
        "              optimizer = tf.keras.optimizers.Adam(learning_rate = 0.001),\n",
        "              metrics= ['accuracy'])\n",
        "\n",
        "# Creating the learning rate callback\n",
        "\n",
        "\n",
        "model_history_scaled_lr_updated = model_scaled_lr_updated.fit(train_data_scaled, train_labels, \n",
        "                          epochs=14, \n",
        "                          validation_data=(test_data_scaled,test_labels)\n",
        "                          )"
      ],
      "metadata": {
        "colab": {
          "base_uri": "https://localhost:8080/"
        },
        "id": "fDLKvUuGwcRy",
        "outputId": "b78e1bfb-e059-4abe-cc6a-464b8d62343f"
      },
      "execution_count": 46,
      "outputs": [
        {
          "output_type": "stream",
          "name": "stdout",
          "text": [
            "Epoch 1/14\n",
            "1875/1875 [==============================] - 5s 2ms/step - loss: 1.1252 - accuracy: 0.6037 - val_loss: 0.7303 - val_accuracy: 0.7333\n",
            "Epoch 2/14\n",
            "1875/1875 [==============================] - 4s 2ms/step - loss: 0.6828 - accuracy: 0.7533 - val_loss: 0.6710 - val_accuracy: 0.7573\n",
            "Epoch 3/14\n",
            "1875/1875 [==============================] - 4s 2ms/step - loss: 0.6428 - accuracy: 0.7675 - val_loss: 0.6570 - val_accuracy: 0.7652\n",
            "Epoch 4/14\n",
            "1875/1875 [==============================] - 4s 2ms/step - loss: 0.6212 - accuracy: 0.7740 - val_loss: 0.6376 - val_accuracy: 0.7695\n",
            "Epoch 5/14\n",
            "1875/1875 [==============================] - 4s 2ms/step - loss: 0.6064 - accuracy: 0.7789 - val_loss: 0.6485 - val_accuracy: 0.7655\n",
            "Epoch 6/14\n",
            "1875/1875 [==============================] - 4s 2ms/step - loss: 0.5946 - accuracy: 0.7822 - val_loss: 0.6181 - val_accuracy: 0.7750\n",
            "Epoch 7/14\n",
            "1875/1875 [==============================] - 4s 2ms/step - loss: 0.5833 - accuracy: 0.7861 - val_loss: 0.6159 - val_accuracy: 0.7746\n",
            "Epoch 8/14\n",
            "1875/1875 [==============================] - 4s 2ms/step - loss: 0.5763 - accuracy: 0.7916 - val_loss: 0.6216 - val_accuracy: 0.7741\n",
            "Epoch 9/14\n",
            "1875/1875 [==============================] - 4s 2ms/step - loss: 0.5671 - accuracy: 0.7964 - val_loss: 0.5977 - val_accuracy: 0.7908\n",
            "Epoch 10/14\n",
            "1875/1875 [==============================] - 4s 2ms/step - loss: 0.5601 - accuracy: 0.8018 - val_loss: 0.5950 - val_accuracy: 0.7895\n",
            "Epoch 11/14\n",
            "1875/1875 [==============================] - 4s 2ms/step - loss: 0.5546 - accuracy: 0.8066 - val_loss: 0.6181 - val_accuracy: 0.7827\n",
            "Epoch 12/14\n",
            "1875/1875 [==============================] - 4s 2ms/step - loss: 0.5485 - accuracy: 0.8092 - val_loss: 0.5775 - val_accuracy: 0.8005\n",
            "Epoch 13/14\n",
            "1875/1875 [==============================] - 4s 2ms/step - loss: 0.5419 - accuracy: 0.8117 - val_loss: 0.5759 - val_accuracy: 0.8050\n",
            "Epoch 14/14\n",
            "1875/1875 [==============================] - 4s 2ms/step - loss: 0.5358 - accuracy: 0.8154 - val_loss: 0.5693 - val_accuracy: 0.8046\n"
          ]
        }
      ]
    },
    {
      "cell_type": "markdown",
      "source": [
        "# Evaluating Our Multiclass Classification Model"
      ],
      "metadata": {
        "id": "Buds4lqmw5d3"
      }
    },
    {
      "cell_type": "code",
      "source": [
        "lrs = 1e-3 * (10**(tf.range(14)/20))\n",
        "plt.semilogx(lrs, model_history_scaled_lr_updated.history['loss'])\n",
        "plt.xlabel('Learning Rate')\n",
        "plt.ylabel('Loss')\n",
        "plt.title('Finding the Ideal Learning Rate')"
      ],
      "metadata": {
        "colab": {
          "base_uri": "https://localhost:8080/",
          "height": 316
        },
        "id": "ZJh8m7VMxlaf",
        "outputId": "490a0237-a2cc-45b0-9b8b-48091272c1cd"
      },
      "execution_count": 47,
      "outputs": [
        {
          "output_type": "execute_result",
          "data": {
            "text/plain": [
              "Text(0.5, 1.0, 'Finding the Ideal Learning Rate')"
            ]
          },
          "metadata": {},
          "execution_count": 47
        },
        {
          "output_type": "display_data",
          "data": {
            "text/plain": [
              "<Figure size 432x288 with 1 Axes>"
            ],
            "image/png": "[encoded data removed]"
          },
          "metadata": {
            "needs_background": "light"
          }
        }
      ]
    },
    {
      "cell_type": "code",
      "source": [
        "lrs = 1e-3 * (10**(tf.range(40)/20))\n",
        "plt.plot(range(14), model_history_scaled_lr_updated.history['loss'])\n",
        "#plt.plot(range(40))\n",
        "plt.xlabel('Epoch')\n",
        "plt.ylabel('Loss')\n",
        "plt.title('Finding the Ideal Learning Rate')\n",
        "plt.legend()"
      ],
      "metadata": {
        "colab": {
          "base_uri": "https://localhost:8080/",
          "height": 330
        },
        "id": "BETiSm7tyhzO",
        "outputId": "40bc6110-6b44-4d9d-aba1-dd0b4880d461"
      },
      "execution_count": 48,
      "outputs": [
        {
          "output_type": "stream",
          "name": "stderr",
          "text": [
            "No handles with labels found to put in legend.\n"
          ]
        },
        {
          "output_type": "execute_result",
          "data": {
            "text/plain": [
              "<matplotlib.legend.Legend at 0x7fa740505190>"
            ]
          },
          "metadata": {},
          "execution_count": 48
        },
        {
          "output_type": "display_data",
          "data": {
            "text/plain": [
              "<Figure size 432x288 with 1 Axes>"
            ],
            "image/png": "[encoded data removed]"
          },
          "metadata": {
            "needs_background": "light"
          }
        }
      ]
    },
    {
      "cell_type": "code",
      "source": [
        "# Looking at the Confusion Matrix"
      ],
      "metadata": {
        "id": "z_XW-ZhIzsWL"
      },
      "execution_count": 49,
      "outputs": []
    },
    {
      "cell_type": "code",
      "source": [
        "# Creating Confusion Matrix\n",
        "from sklearn.metrics import confusion_matrix"
      ],
      "metadata": {
        "id": "As3LkJeSzgV1"
      },
      "execution_count": 50,
      "outputs": []
    },
    {
      "cell_type": "code",
      "source": [
        "# Making Predicitons\n",
        "y_preds = model_scaled_lr_updated.predict(test_data_scaled)"
      ],
      "metadata": {
        "id": "4iNNdgwvzlDk"
      },
      "execution_count": 51,
      "outputs": []
    },
    {
      "cell_type": "code",
      "source": [
        "type(y_preds)"
      ],
      "metadata": {
        "colab": {
          "base_uri": "https://localhost:8080/"
        },
        "id": "3YbPtj0W232Z",
        "outputId": "90494df1-7201-4e46-96a5-8401d2de2830"
      },
      "execution_count": 52,
      "outputs": [
        {
          "output_type": "execute_result",
          "data": {
            "text/plain": [
              "numpy.ndarray"
            ]
          },
          "metadata": {},
          "execution_count": 52
        }
      ]
    },
    {
      "cell_type": "code",
      "source": [
        "# Convert all of the predictions probabilities into integers\n",
        "y_preds = y_preds.argmax(axis = 1)"
      ],
      "metadata": {
        "id": "LIcpWQUI1fka"
      },
      "execution_count": 53,
      "outputs": []
    },
    {
      "cell_type": "code",
      "source": [
        "# Viewing the first 10 prediction labels\n",
        "y_preds[:10]"
      ],
      "metadata": {
        "colab": {
          "base_uri": "https://localhost:8080/"
        },
        "id": "L1mgXKMm1-Z5",
        "outputId": "e67ee416-aa7d-4c7c-a267-dbc662fc0765"
      },
      "execution_count": 54,
      "outputs": [
        {
          "output_type": "execute_result",
          "data": {
            "text/plain": [
              "array([9, 2, 1, 1, 6, 1, 4, 6, 5, 7])"
            ]
          },
          "metadata": {},
          "execution_count": 54
        }
      ]
    },
    {
      "cell_type": "code",
      "source": [
        "test_labels.shape, y_preds.shape"
      ],
      "metadata": {
        "colab": {
          "base_uri": "https://localhost:8080/"
        },
        "id": "IPB394Zk3S0y",
        "outputId": "24ebeb09-4350-4a23-b289-8272c5197548"
      },
      "execution_count": 55,
      "outputs": [
        {
          "output_type": "execute_result",
          "data": {
            "text/plain": [
              "((10000,), (10000,))"
            ]
          },
          "metadata": {},
          "execution_count": 55
        }
      ]
    },
    {
      "cell_type": "code",
      "source": [
        "# Creating Confusion Matrix\n",
        "cm = confusion_matrix(test_labels, y_preds)\n",
        "cm"
      ],
      "metadata": {
        "colab": {
          "base_uri": "https://localhost:8080/"
        },
        "id": "216TpUTfzp0U",
        "outputId": "bf9490ef-cfd8-4adf-ce42-be3827bc046f"
      },
      "execution_count": 56,
      "outputs": [
        {
          "output_type": "execute_result",
          "data": {
            "text/plain": [
              "array([[718,  22,  12, 103,   4,   1, 126,   0,  14,   0],\n",
              "       [  1, 958,  11,  25,   3,   0,   2,   0,   0,   0],\n",
              "       [ 21,   5, 698,   7, 160,   0, 107,   0,   2,   0],\n",
              "       [ 42,  20,  12, 797,  14,   3, 103,   0,   8,   1],\n",
              "       [  1,   8, 146,  11, 696,   1, 128,   0,   9,   0],\n",
              "       [  0,   0,   1,   4,   0, 914,   0,  46,  11,  24],\n",
              "       [143,   5, 119,  56, 157,   0, 503,   0,  17,   0],\n",
              "       [  0,   0,   0,   0,   0,  31,   0, 932,   0,  37],\n",
              "       [  0,   0,   6,  12,  10,  12,  59,   3, 896,   2],\n",
              "       [  0,   0,   1,   1,   0,  10,   0,  45,   9, 934]])"
            ]
          },
          "metadata": {},
          "execution_count": 56
        }
      ]
    },
    {
      "cell_type": "code",
      "source": [
        "import seaborn as sns\n",
        "sns.set(font_scale=1.4)\n",
        "plt.figure(figsize = (20,18))\n",
        "ax = sns.heatmap(cm, annot=True, cmap='Blues', fmt='g')\n",
        "n_classes = cm.shape[0]\n",
        "if class_names:\n",
        "  labels = class_names\n",
        "else:\n",
        "  labels = np.arange(cm.shape[0])\n",
        "ax.set(\n",
        "    title = 'Confusion Matrix',\n",
        "    xlabel = 'Predicted Label',\n",
        "    ylabel = 'True Label',\n",
        "    xticks = np.arange(n_classes),\n",
        "    yticks = np.arange(n_classes),\n",
        "    xticklabels = labels,\n",
        "    yticklabels = labels\n",
        "\n",
        ")\n",
        "\n",
        "ax.yaxis.label.set_size(10)\n",
        "ax.xaxis.label.set_size(10)\n",
        "ax.title.set_size(20)"
      ],
      "metadata": {
        "colab": {
          "base_uri": "https://localhost:8080/",
          "height": 1000
        },
        "id": "fpJ3LlATy8Eo",
        "outputId": "2ef27aef-8adc-4354-9184-227117edb8d0"
      },
      "execution_count": 57,
      "outputs": [
        {
          "output_type": "display_data",
          "data": {
            "text/plain": [
              "<Figure size 1440x1296 with 2 Axes>"
            ],
            "image/png": "[encoded data removed]"
          },
          "metadata": {}
        }
      ]
    },
    {
      "cell_type": "code",
      "source": [
        " cm.shape[0], np.arange(4)"
      ],
      "metadata": {
        "colab": {
          "base_uri": "https://localhost:8080/"
        },
        "id": "ym7-yxST6Hf-",
        "outputId": "7c504207-8a5f-4cd3-f030-83a99021564e"
      },
      "execution_count": 58,
      "outputs": [
        {
          "output_type": "execute_result",
          "data": {
            "text/plain": [
              "(10, array([0, 1, 2, 3]))"
            ]
          },
          "metadata": {},
          "execution_count": 58
        }
      ]
    },
    {
      "cell_type": "code",
      "source": [
        "class_names"
      ],
      "metadata": {
        "colab": {
          "base_uri": "https://localhost:8080/"
        },
        "id": "35rPtX-lLjbg",
        "outputId": "325a55c6-d300-4e73-964a-933d25f7894a"
      },
      "execution_count": 59,
      "outputs": [
        {
          "output_type": "execute_result",
          "data": {
            "text/plain": [
              "['T-shirt/top',\n",
              " 'Trouser',\n",
              " 'Pullover',\n",
              " 'Dress',\n",
              " 'Coat',\n",
              " 'Sandal',\n",
              " 'Shirt',\n",
              " 'Sneaker',\n",
              " 'Bag',\n",
              " 'Ankle boot']"
            ]
          },
          "metadata": {},
          "execution_count": 59
        }
      ]
    },
    {
      "cell_type": "code",
      "source": [
        "mynum = 0"
      ],
      "metadata": {
        "id": "ES_Wk8u2CQpf"
      },
      "execution_count": 79,
      "outputs": []
    },
    {
      "cell_type": "code",
      "source": [
        "if mynum:\n",
        "  \n",
        "  print(1)\n",
        "  \n",
        "  print(2)\n",
        "else:\n",
        "  \n",
        "  print(3)"
      ],
      "metadata": {
        "colab": {
          "base_uri": "https://localhost:8080/"
        },
        "id": "sewUTDBcJ7pE",
        "outputId": "80347bf5-2569-4889-be55-26eb6d239bea"
      },
      "execution_count": 80,
      "outputs": [
        {
          "output_type": "stream",
          "name": "stdout",
          "text": [
            "3\n"
          ]
        }
      ]
    },
    {
      "cell_type": "code",
      "source": [
        "test_labels.shape, y_preds.shape"
      ],
      "metadata": {
        "colab": {
          "base_uri": "https://localhost:8080/"
        },
        "id": "hLXxRMpyE7as",
        "outputId": "52766da6-869e-428f-b37c-a268d457a232"
      },
      "execution_count": 83,
      "outputs": [
        {
          "output_type": "execute_result",
          "data": {
            "text/plain": [
              "((10000,), (10000,))"
            ]
          },
          "metadata": {},
          "execution_count": 83
        }
      ]
    },
    {
      "cell_type": "code",
      "source": [
        "test_labels"
      ],
      "metadata": {
        "colab": {
          "base_uri": "https://localhost:8080/"
        },
        "id": "mgmjCuISGpsP",
        "outputId": "1a7f22cd-981c-4d4d-b155-219094273439"
      },
      "execution_count": 85,
      "outputs": [
        {
          "output_type": "execute_result",
          "data": {
            "text/plain": [
              "array([9, 2, 1, ..., 8, 1, 5], dtype=uint8)"
            ]
          },
          "metadata": {},
          "execution_count": 85
        }
      ]
    },
    {
      "cell_type": "code",
      "source": [
        "y_preds"
      ],
      "metadata": {
        "colab": {
          "base_uri": "https://localhost:8080/"
        },
        "id": "Twav5gSyGuJ7",
        "outputId": "3e740c17-0549-4774-cf9b-cefc2ef734d2"
      },
      "execution_count": 86,
      "outputs": [
        {
          "output_type": "execute_result",
          "data": {
            "text/plain": [
              "array([9, 2, 1, ..., 8, 1, 5])"
            ]
          },
          "metadata": {},
          "execution_count": 86
        }
      ]
    },
    {
      "cell_type": "code",
      "source": [
        "# Evaluating Our Model\n",
        "model_scaled_lr_updated.evaluate(test_data_scaled, y_preds)"
      ],
      "metadata": {
        "colab": {
          "base_uri": "https://localhost:8080/"
        },
        "id": "RfJWiRm43gX1",
        "outputId": "a74071a3-4a28-433e-c25a-32f754f42b4d"
      },
      "execution_count": 88,
      "outputs": [
        {
          "output_type": "stream",
          "name": "stdout",
          "text": [
            "313/313 [==============================] - 1s 4ms/step - loss: 0.2828 - accuracy: 1.0000\n"
          ]
        },
        {
          "output_type": "execute_result",
          "data": {
            "text/plain": [
              "[0.2828497886657715, 1.0]"
            ]
          },
          "metadata": {},
          "execution_count": 88
        }
      ]
    },
    {
      "cell_type": "markdown",
      "source": [
        "# Visualising data & Images\n",
        "- Plot a random image\n",
        "- Make a prediciton on the image\n",
        "- Label the image with true label & predicted label"
      ],
      "metadata": {
        "id": "WOM_vMuf30yA"
      }
    },
    {
      "cell_type": "code",
      "source": [
        "model_scaled_lr_updated.evaluate(test_data, y_preds)"
      ],
      "metadata": {
        "colab": {
          "base_uri": "https://localhost:8080/"
        },
        "id": "IzE76kizI49X",
        "outputId": "7d3cef4b-05f8-45f0-8169-3d0a9ec7fdd8"
      },
      "execution_count": 89,
      "outputs": [
        {
          "output_type": "stream",
          "name": "stdout",
          "text": [
            "313/313 [==============================] - 1s 4ms/step - loss: 50.4739 - accuracy: 0.8010\n"
          ]
        },
        {
          "output_type": "execute_result",
          "data": {
            "text/plain": [
              "[50.47389221191406, 0.8009999990463257]"
            ]
          },
          "metadata": {},
          "execution_count": 89
        }
      ]
    },
    {
      "cell_type": "code",
      "source": [
        "test_data.shape, y_preds.shape"
      ],
      "metadata": {
        "colab": {
          "base_uri": "https://localhost:8080/"
        },
        "id": "zjZ33SBbK6XI",
        "outputId": "fd1903de-8c61-4c18-d6ef-228a7178654d"
      },
      "execution_count": 94,
      "outputs": [
        {
          "output_type": "execute_result",
          "data": {
            "text/plain": [
              "((10000, 28, 28), (10000,))"
            ]
          },
          "metadata": {},
          "execution_count": 94
        }
      ]
    },
    {
      "cell_type": "code",
      "source": [
        "len(test_data)"
      ],
      "metadata": {
        "colab": {
          "base_uri": "https://localhost:8080/"
        },
        "id": "mu7uPSxZLAGt",
        "outputId": "14cd47ca-8420-480b-8744-44796de598bb"
      },
      "execution_count": 96,
      "outputs": [
        {
          "output_type": "execute_result",
          "data": {
            "text/plain": [
              "10000"
            ]
          },
          "metadata": {},
          "execution_count": 96
        }
      ]
    },
    {
      "cell_type": "code",
      "source": [
        "test_data[777].shape"
      ],
      "metadata": {
        "colab": {
          "base_uri": "https://localhost:8080/"
        },
        "id": "pgXKoJ4xL1nG",
        "outputId": "9c5d408b-da2c-48c0-9779-8d86e5bee60e"
      },
      "execution_count": 100,
      "outputs": [
        {
          "output_type": "execute_result",
          "data": {
            "text/plain": [
              "(28, 28)"
            ]
          },
          "metadata": {},
          "execution_count": 100
        }
      ]
    },
    {
      "cell_type": "code",
      "source": [
        "class_names[model_scaled_lr_updated.predict(test_data[777].reshape(1,28,28)).argmax()]"
      ],
      "metadata": {
        "colab": {
          "base_uri": "https://localhost:8080/",
          "height": 35
        },
        "id": "LsNwg7X6La0t",
        "outputId": "df57da5a-0ade-4bc9-cde3-bf5eadd11d8f"
      },
      "execution_count": 104,
      "outputs": [
        {
          "output_type": "execute_result",
          "data": {
            "text/plain": [
              "'Trouser'"
            ],
            "application/vnd.google.colaboratory.intrinsic+json": {
              "type": "string"
            }
          },
          "metadata": {},
          "execution_count": 104
        }
      ]
    },
    {
      "cell_type": "code",
      "source": [
        "class_names[test_labels[777]]"
      ],
      "metadata": {
        "colab": {
          "base_uri": "https://localhost:8080/",
          "height": 35
        },
        "id": "7uRfSVvBLqRS",
        "outputId": "362c46c1-a88d-4017-c9ea-e33e227f0e0b"
      },
      "execution_count": 106,
      "outputs": [
        {
          "output_type": "execute_result",
          "data": {
            "text/plain": [
              "'Trouser'"
            ],
            "application/vnd.google.colaboratory.intrinsic+json": {
              "type": "string"
            }
          },
          "metadata": {},
          "execution_count": 106
        }
      ]
    },
    {
      "cell_type": "code",
      "source": [
        "import random\n",
        "\n",
        "# Create a function for plotting a random image along with its prediction\n",
        "def plot_random_image(model, images, true_labels, classes):\n",
        "  \"\"\"Picks a random image, plots it and labels it with a predicted and truth label.\n",
        "\n",
        "  Args:\n",
        "    model: a trained model (trained on data similar to what's in images).\n",
        "    images: a set of random images (in tensor form).\n",
        "    true_labels: array of ground truth labels for images.\n",
        "    classes: array of class names for images.\n",
        "  \n",
        "  Returns:\n",
        "    A plot of a random image from `images` with a predicted class label from `model`\n",
        "    as well as the truth class label from `true_labels`.\n",
        "  \"\"\" \n",
        "  # Setup random integer\n",
        "  i = random.randint(0, len(images))\n",
        "  \n",
        "  # Create predictions and targets\n",
        "  target_image = images[i]\n",
        "  pred_probs = model.predict(target_image.reshape(1, 28, 28)) # have to reshape to get into right size for model\n",
        "  pred_label = classes[pred_probs.argmax()]\n",
        "  true_label = classes[true_labels[i]]\n",
        "\n",
        "  # Plot the target image\n",
        "  plt.imshow(target_image, cmap=plt.cm.binary)\n",
        "\n",
        "  # Change the color of the titles depending on if the prediction is right or wrong\n",
        "  if pred_label == true_label:\n",
        "    color = \"green\"\n",
        "  else:\n",
        "    color = \"red\"\n",
        "\n",
        "  # Add xlabel information (prediction/true label)\n",
        "  plt.xlabel(\"Pred: {} {:2.0f}% (True: {})\".format(pred_label,\n",
        "                                                   100*tf.reduce_max(pred_probs),\n",
        "                                                   true_label),\n",
        "             color=color) # set the color to green or red"
      ],
      "metadata": {
        "id": "eYO--WB9MgK-"
      },
      "execution_count": 203,
      "outputs": []
    },
    {
      "cell_type": "code",
      "source": [
        "# Check out a random image as well as its prediction\n",
        "plot_random_image(model=model_scaled_lr_updated, \n",
        "                  images=test_data, \n",
        "                  true_labels=test_labels, \n",
        "                  classes=class_names)"
      ],
      "metadata": {
        "colab": {
          "base_uri": "https://localhost:8080/",
          "height": 297
        },
        "id": "6uBBdgzCM7eS",
        "outputId": "1128328c-638e-487c-c622-f525a0fdf53d"
      },
      "execution_count": 204,
      "outputs": [
        {
          "output_type": "display_data",
          "data": {
            "text/plain": [
              "<Figure size 432x288 with 1 Axes>"
            ],
            "image/png": "[encoded data removed]"
          },
          "metadata": {}
        }
      ]
    },
    {
      "cell_type": "code",
      "source": [
        "import cv2"
      ],
      "metadata": {
        "id": "uMKctKFdNEZj"
      },
      "execution_count": 115,
      "outputs": []
    },
    {
      "cell_type": "code",
      "source": [
        "img = cv2.imread('/content/tshirt_28.jpg',0)"
      ],
      "metadata": {
        "id": "bMKhJ776S33o"
      },
      "execution_count": 169,
      "outputs": []
    },
    {
      "cell_type": "code",
      "source": [
        "plt.imshow(img)"
      ],
      "metadata": {
        "colab": {
          "base_uri": "https://localhost:8080/",
          "height": 292
        },
        "id": "dh1t81WfTUsz",
        "outputId": "78aced2a-ce54-421d-d630-7cc93c8ad4b1"
      },
      "execution_count": 170,
      "outputs": [
        {
          "output_type": "execute_result",
          "data": {
            "text/plain": [
              "<matplotlib.image.AxesImage at 0x7fa712f40790>"
            ]
          },
          "metadata": {},
          "execution_count": 170
        },
        {
          "output_type": "display_data",
          "data": {
            "text/plain": [
              "<Figure size 432x288 with 1 Axes>"
            ],
            "image/png": "[encoded data removed]"
          },
          "metadata": {}
        }
      ]
    },
    {
      "cell_type": "code",
      "source": [
        "img.shape"
      ],
      "metadata": {
        "colab": {
          "base_uri": "https://localhost:8080/"
        },
        "id": "nDnasAaaTY7e",
        "outputId": "6fa92eab-7817-4c92-eb40-c4f6f10382dd"
      },
      "execution_count": 160,
      "outputs": [
        {
          "output_type": "execute_result",
          "data": {
            "text/plain": [
              "(28, 28)"
            ]
          },
          "metadata": {},
          "execution_count": 160
        }
      ]
    },
    {
      "cell_type": "code",
      "source": [
        "myimg = img.reshape(1,28,28)"
      ],
      "metadata": {
        "id": "FNlve02rTxwE"
      },
      "execution_count": 162,
      "outputs": []
    },
    {
      "cell_type": "code",
      "source": [
        "  target_image = img\n",
        "  pred_probs = model_scaled_lr_updated.predict(target_image.reshape(1, 28, 28)) # have to reshape to get into right size for model\n",
        "  pred_label = class_names[pred_probs.argmax()]\n",
        "  true_label = class_names[0]\n",
        "\n",
        "  # Plot the target image\n",
        "  plt.imshow(target_image, cmap=plt.cm.binary)"
      ],
      "metadata": {
        "colab": {
          "base_uri": "https://localhost:8080/",
          "height": 292
        },
        "id": "rMKLkYn3Uv-m",
        "outputId": "385d299d-dea4-409c-d59f-c5e500404b93"
      },
      "execution_count": 205,
      "outputs": [
        {
          "output_type": "execute_result",
          "data": {
            "text/plain": [
              "<matplotlib.image.AxesImage at 0x7fa6dd73a550>"
            ]
          },
          "metadata": {},
          "execution_count": 205
        },
        {
          "output_type": "display_data",
          "data": {
            "text/plain": [
              "<Figure size 432x288 with 1 Axes>"
            ],
            "image/png": "[encoded data removed]"
          },
          "metadata": {}
        }
      ]
    },
    {
      "cell_type": "code",
      "source": [
        "import random\n",
        "\n",
        "# Create a function for plotting a random image along with its prediction\n",
        "def plot_random_image_myimg(model, images, true_labels, classes):\n",
        "  \"\"\"Picks a random image, plots it and labels it with a predicted and truth label.\n",
        "\n",
        "  Args:\n",
        "    model: a trained model (trained on data similar to what's in images).\n",
        "    images: a set of random images (in tensor form).\n",
        "    true_labels: array of ground truth labels for images.\n",
        "    classes: array of class names for images.\n",
        "  \n",
        "  Returns:\n",
        "    A plot of a random image from `images` with a predicted class label from `model`\n",
        "    as well as the truth class label from `true_labels`.\n",
        "  \"\"\" \n",
        "\n",
        "  \n",
        "  # Create predictions and targets\n",
        "  target_image = images\n",
        "  pred_probs = model.predict(target_image.reshape(1, 28, 28)) # have to reshape to get into right size for model\n",
        "  pred_label = classes[pred_probs.argmax()]\n",
        "  true_label = classes[true_labels]\n",
        "\n",
        "  # Plot the target image\n",
        "  plt.imshow(target_image, cmap=plt.cm.binary)\n",
        "\n",
        "  # Change the color of the titles depending on if the prediction is right or wrong\n",
        "  if pred_label == true_label:\n",
        "    color = \"green\"\n",
        "  else:\n",
        "    color = \"red\"\n",
        "\n",
        "  # Add xlabel information (prediction/true label)\n",
        "  plt.xlabel(\"Pred: {} {:2.0f}% (True: {})\".format(pred_label,\n",
        "                                                   100*tf.reduce_max(pred_probs),\n",
        "                                                   true_label),\n",
        "             color=color) # set the color to green or red"
      ],
      "metadata": {
        "id": "4rbQa7mhZ8Rh"
      },
      "execution_count": 206,
      "outputs": []
    },
    {
      "cell_type": "code",
      "source": [
        "plot_random_image_myimg(model=model_scaled_lr_updated, \n",
        "                  images=img, \n",
        "                  true_labels=0, \n",
        "                  classes=class_names)"
      ],
      "metadata": {
        "colab": {
          "base_uri": "https://localhost:8080/",
          "height": 297
        },
        "id": "1QVABdscX40k",
        "outputId": "4b9bc744-b5d9-43c6-d657-a1ea98af018d"
      },
      "execution_count": 207,
      "outputs": [
        {
          "output_type": "display_data",
          "data": {
            "text/plain": [
              "<Figure size 432x288 with 1 Axes>"
            ],
            "image/png": "[encoded data removed]"
          },
          "metadata": {}
        }
      ]
    },
    {
      "cell_type": "code",
      "source": [
        "img = cv2.imread('/content/pants_28.jpg',cv2.IMREAD_GRAYSCALE)"
      ],
      "metadata": {
        "id": "Aa8RaOeGX6zD"
      },
      "execution_count": 220,
      "outputs": []
    },
    {
      "cell_type": "code",
      "source": [
        "plt.imshow(img, cmap = 'gray')"
      ],
      "metadata": {
        "colab": {
          "base_uri": "https://localhost:8080/",
          "height": 292
        },
        "id": "5d0V9-cvbvym",
        "outputId": "ea6bfcc1-1b0c-4573-8881-037446be13c4"
      },
      "execution_count": 222,
      "outputs": [
        {
          "output_type": "execute_result",
          "data": {
            "text/plain": [
              "<matplotlib.image.AxesImage at 0x7fa7d03b6590>"
            ]
          },
          "metadata": {},
          "execution_count": 222
        },
        {
          "output_type": "display_data",
          "data": {
            "text/plain": [
              "<Figure size 432x288 with 1 Axes>"
            ],
            "image/png": "[encoded data removed]"
          },
          "metadata": {}
        }
      ]
    },
    {
      "cell_type": "code",
      "source": [
        "img.shape"
      ],
      "metadata": {
        "colab": {
          "base_uri": "https://localhost:8080/"
        },
        "id": "HFHiUfYRbxqN",
        "outputId": "6d2ad9da-3dab-4413-8e0c-09c18d4c3ef8"
      },
      "execution_count": 210,
      "outputs": [
        {
          "output_type": "execute_result",
          "data": {
            "text/plain": [
              "(28, 28)"
            ]
          },
          "metadata": {},
          "execution_count": 210
        }
      ]
    },
    {
      "cell_type": "code",
      "source": [
        "img = cv2.imread('/content/pants01.jpg',cv2.IMREAD_GRAYSCALE)\n",
        "resize_img = cv2.resize(img,(28,28),interpolation = cv2.INTER_LINEAR)\n",
        "myimg = cv2.bitwise_not(resize_img)\n",
        "plot_random_image_myimg(model=model_scaled_lr_updated, \n",
        "                  images=myimg, \n",
        "                  true_labels=1, \n",
        "                  classes=class_names)"
      ],
      "metadata": {
        "colab": {
          "base_uri": "https://localhost:8080/",
          "height": 297
        },
        "id": "s1-FbXcub4Zh",
        "outputId": "dd6fd940-50a9-4b5b-accb-84f15deacfbd"
      },
      "execution_count": 238,
      "outputs": [
        {
          "output_type": "display_data",
          "data": {
            "text/plain": [
              "<Figure size 432x288 with 1 Axes>"
            ],
            "image/png": "[encoded data removed]"
          },
          "metadata": {}
        }
      ]
    },
    {
      "cell_type": "code",
      "source": [
        "\n",
        "img = cv2.imread('/content/tshirt_28.jpg',cv2.IMREAD_GRAYSCALE)\n"
      ],
      "metadata": {
        "id": "5j2JzSwFcDg5"
      },
      "execution_count": 230,
      "outputs": []
    },
    {
      "cell_type": "code",
      "source": [
        "plt.imshow(img, cmap = 'gray')"
      ],
      "metadata": {
        "colab": {
          "base_uri": "https://localhost:8080/",
          "height": 292
        },
        "id": "cstRj_Yudxpy",
        "outputId": "a63be41f-6e60-48ce-9de1-f5f4ab660e15"
      },
      "execution_count": 231,
      "outputs": [
        {
          "output_type": "execute_result",
          "data": {
            "text/plain": [
              "<matplotlib.image.AxesImage at 0x7fa712aacc50>"
            ]
          },
          "metadata": {},
          "execution_count": 231
        },
        {
          "output_type": "display_data",
          "data": {
            "text/plain": [
              "<Figure size 432x288 with 1 Axes>"
            ],
            "image/png": "[encoded data removed]"
          },
          "metadata": {}
        }
      ]
    },
    {
      "cell_type": "code",
      "source": [
        "img.shape"
      ],
      "metadata": {
        "colab": {
          "base_uri": "https://localhost:8080/"
        },
        "id": "nM73mPHVd0-k",
        "outputId": "c9ba941f-87c3-403f-f22b-8ce6b45874f8"
      },
      "execution_count": 227,
      "outputs": [
        {
          "output_type": "execute_result",
          "data": {
            "text/plain": [
              "(28, 28)"
            ]
          },
          "metadata": {},
          "execution_count": 227
        }
      ]
    },
    {
      "cell_type": "code",
      "source": [
        "class_names"
      ],
      "metadata": {
        "colab": {
          "base_uri": "https://localhost:8080/"
        },
        "id": "auOfpCI6d-5i",
        "outputId": "c9e54439-b1af-42f8-9528-77493c876769"
      },
      "execution_count": 228,
      "outputs": [
        {
          "output_type": "execute_result",
          "data": {
            "text/plain": [
              "['T-shirt/top',\n",
              " 'Trouser',\n",
              " 'Pullover',\n",
              " 'Dress',\n",
              " 'Coat',\n",
              " 'Sandal',\n",
              " 'Shirt',\n",
              " 'Sneaker',\n",
              " 'Bag',\n",
              " 'Ankle boot']"
            ]
          },
          "metadata": {},
          "execution_count": 228
        }
      ]
    },
    {
      "cell_type": "code",
      "source": [
        "plot_random_image_myimg(model=model_scaled_lr_updated, \n",
        "                  images=img, \n",
        "                  true_labels=0, \n",
        "                  classes=class_names)"
      ],
      "metadata": {
        "colab": {
          "base_uri": "https://localhost:8080/",
          "height": 297
        },
        "id": "7CZRPqA9eDFJ",
        "outputId": "78684ae3-5feb-4fa9-a4ae-44788bc834a5"
      },
      "execution_count": 232,
      "outputs": [
        {
          "output_type": "display_data",
          "data": {
            "text/plain": [
              "<Figure size 432x288 with 1 Axes>"
            ],
            "image/png": "[encoded data removed]"
          },
          "metadata": {}
        }
      ]
    },
    {
      "cell_type": "code",
      "source": [
        ""
      ],
      "metadata": {
        "id": "ALhg_O2EeKwX"
      },
      "execution_count": 232,
      "outputs": []
    },
    {
      "cell_type": "code",
      "source": [
        "bw_img.shape"
      ],
      "metadata": {
        "colab": {
          "base_uri": "https://localhost:8080/"
        },
        "id": "8iV4VkrWf_gA",
        "outputId": "9436b9d0-7d2a-4805-9c18-fadfa810c377"
      },
      "execution_count": 217,
      "outputs": [
        {
          "output_type": "execute_result",
          "data": {
            "text/plain": [
              "(28, 28)"
            ]
          },
          "metadata": {},
          "execution_count": 217
        }
      ]
    },
    {
      "cell_type": "code",
      "source": [
        "\n",
        "def my_fashion_img_pred(path, image, img_label):\n",
        "  img = cv2.imread(path+'/'+image,cv2.IMREAD_GRAYSCALE)\n",
        "  resize_img = cv2.resize(img,(28,28),interpolation = cv2.INTER_LINEAR)\n",
        "  myimg = cv2.bitwise_not(resize_img)\n",
        "  plot_random_image_myimg(model=model_scaled_lr_updated, \n",
        "                  images=myimg, \n",
        "                  true_labels=img_label, \n",
        "                  classes=class_names)\n",
        "\n",
        "\n"
      ],
      "metadata": {
        "id": "rlAbLx4NgDUg"
      },
      "execution_count": 260,
      "outputs": []
    },
    {
      "cell_type": "code",
      "source": [
        "my_fashion_img_pred('/content','pants01.jpg',1)"
      ],
      "metadata": {
        "colab": {
          "base_uri": "https://localhost:8080/",
          "height": 297
        },
        "id": "3Z8pVff_lLQj",
        "outputId": "d8b095ad-866e-4d71-b094-b0b67191121e"
      },
      "execution_count": 261,
      "outputs": [
        {
          "output_type": "display_data",
          "data": {
            "text/plain": [
              "<Figure size 432x288 with 1 Axes>"
            ],
            "image/png": "[encoded data removed]"
          },
          "metadata": {}
        }
      ]
    },
    {
      "cell_type": "code",
      "source": [
        "my_fashion_img_pred('/content','shoes1.jpg',7)"
      ],
      "metadata": {
        "colab": {
          "base_uri": "https://localhost:8080/",
          "height": 297
        },
        "id": "ikBdep-Dlypi",
        "outputId": "e20b313a-f9ff-46eb-e246-db1fb06edcbf"
      },
      "execution_count": 262,
      "outputs": [
        {
          "output_type": "display_data",
          "data": {
            "text/plain": [
              "<Figure size 432x288 with 1 Axes>"
            ],
            "image/png": "[encoded data removed]"
          },
          "metadata": {}
        }
      ]
    },
    {
      "cell_type": "code",
      "source": [
        "my_fashion_img_pred('/content','tshirt.jpg',0)"
      ],
      "metadata": {
        "colab": {
          "base_uri": "https://localhost:8080/",
          "height": 297
        },
        "id": "WsGGBfGEnYVN",
        "outputId": "519bbba3-2df9-4ac9-f08d-ca017938b383"
      },
      "execution_count": 263,
      "outputs": [
        {
          "output_type": "display_data",
          "data": {
            "text/plain": [
              "<Figure size 432x288 with 1 Axes>"
            ],
            "image/png": "[encoded data removed]"
          },
          "metadata": {}
        }
      ]
    },
    {
      "cell_type": "code",
      "source": [
        ""
      ],
      "metadata": {
        "id": "FmEvYDDnnkoo"
      },
      "execution_count": null,
      "outputs": []
    }
  ],
  "metadata": {
    "colab": {
      "collapsed_sections": [],
      "name": "08_MNIST_Fashion_Classification_With_TensorFlow.ipynb",
      "provenance": []
    },
    "kernelspec": {
      "display_name": "Python 3",
      "name": "python3"
    },
    "language_info": {
      "name": "python"
    },
    "accelerator": "GPU",
    "gpuClass": "standard"
  },
  "nbformat": 4,
  "nbformat_minor": 0
}