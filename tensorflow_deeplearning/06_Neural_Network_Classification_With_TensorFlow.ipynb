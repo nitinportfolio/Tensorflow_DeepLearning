{
  "nbformat": 4,
  "nbformat_minor": 0,
  "metadata": {
    "colab": {
      "name": "06_Neural_Network_Classification_With_TensorFlow.ipynb",
      "provenance": [],
      "collapsed_sections": []
    },
    "kernelspec": {
      "name": "python3",
      "display_name": "Python 3"
    },
    "language_info": {
      "name": "python"
    }
  },
  "cells": [
    {
      "cell_type": "code",
      "execution_count": 2,
      "metadata": {
        "colab": {
          "base_uri": "https://localhost:8080/"
        },
        "id": "y7MCyxT0ky3M",
        "outputId": "cd15970c-4676-43e6-dc11-e558e33daa61"
      },
      "outputs": [
        {
          "output_type": "stream",
          "name": "stdout",
          "text": [
            "Mounted at /content/drive\n"
          ]
        }
      ],
      "source": [
        "from google.colab import drive\n",
        "drive.mount('/content/drive')"
      ]
    },
    {
      "cell_type": "code",
      "source": [
        "import tensorflow as tf\n",
        "import numpy as np"
      ],
      "metadata": {
        "id": "5layGrky5JVC"
      },
      "execution_count": 2,
      "outputs": []
    },
    {
      "cell_type": "markdown",
      "source": [
        "# Creating data to view & fit"
      ],
      "metadata": {
        "id": "n2PeKRnVk_5r"
      }
    },
    {
      "cell_type": "code",
      "source": [
        "from sklearn.datasets import make_circles\n",
        "\n",
        "# Making 1000 Examples\n",
        "\n",
        "n_samples = 1000\n",
        "\n",
        "# Create Circles\n",
        "\n",
        "X,y = make_circles(n_samples, \n",
        "                   noise = 0.03, \n",
        "                   random_state = 101)"
      ],
      "metadata": {
        "id": "APj4Y-JqoYpg"
      },
      "execution_count": 3,
      "outputs": []
    },
    {
      "cell_type": "code",
      "source": [
        "type(make_circles)"
      ],
      "metadata": {
        "colab": {
          "base_uri": "https://localhost:8080/"
        },
        "id": "ir6ogvfPsTOX",
        "outputId": "899bfad4-dd74-4f77-8a32-fe10e12d535f"
      },
      "execution_count": 4,
      "outputs": [
        {
          "output_type": "execute_result",
          "data": {
            "text/plain": [
              "function"
            ]
          },
          "metadata": {},
          "execution_count": 4
        }
      ]
    },
    {
      "cell_type": "code",
      "source": [
        "help(make_circles)"
      ],
      "metadata": {
        "colab": {
          "base_uri": "https://localhost:8080/"
        },
        "id": "nrL7AC97slLC",
        "outputId": "d77500b5-ca8c-4824-a26a-c658c2a09b82"
      },
      "execution_count": 5,
      "outputs": [
        {
          "output_type": "stream",
          "name": "stdout",
          "text": [
            "Help on function make_circles in module sklearn.datasets._samples_generator:\n",
            "\n",
            "make_circles(n_samples=100, *, shuffle=True, noise=None, random_state=None, factor=0.8)\n",
            "    Make a large circle containing a smaller circle in 2d.\n",
            "    \n",
            "    A simple toy dataset to visualize clustering and classification\n",
            "    algorithms.\n",
            "    \n",
            "    Read more in the :ref:`User Guide <sample_generators>`.\n",
            "    \n",
            "    Parameters\n",
            "    ----------\n",
            "    n_samples : int or tuple of shape (2,), dtype=int, default=100\n",
            "        If int, it is the total number of points generated.\n",
            "        For odd numbers, the inner circle will have one point more than the\n",
            "        outer circle.\n",
            "        If two-element tuple, number of points in outer circle and inner\n",
            "        circle.\n",
            "    \n",
            "        .. versionchanged:: 0.23\n",
            "           Added two-element tuple.\n",
            "    \n",
            "    shuffle : bool, default=True\n",
            "        Whether to shuffle the samples.\n",
            "    \n",
            "    noise : float, default=None\n",
            "        Standard deviation of Gaussian noise added to the data.\n",
            "    \n",
            "    random_state : int, RandomState instance or None, default=None\n",
            "        Determines random number generation for dataset shuffling and noise.\n",
            "        Pass an int for reproducible output across multiple function calls.\n",
            "        See :term:`Glossary <random_state>`.\n",
            "    \n",
            "    factor : float, default=.8\n",
            "        Scale factor between inner and outer circle in the range `(0, 1)`.\n",
            "    \n",
            "    Returns\n",
            "    -------\n",
            "    X : ndarray of shape (n_samples, 2)\n",
            "        The generated samples.\n",
            "    \n",
            "    y : ndarray of shape (n_samples,)\n",
            "        The integer labels (0 or 1) for class membership of each sample.\n",
            "\n"
          ]
        }
      ]
    },
    {
      "cell_type": "code",
      "source": [
        "#from sklearn.datasets import load_boston\n",
        "#dir(load_boston)\n",
        "# data = load_boston()\n",
        "# https://towardsdatascience.com/how-to-use-scikit-learn-datasets-for-machine-learning-d6493b38eca3\n",
        "#print(data.keys())\n",
        "#print(data.DESCR)"
      ],
      "metadata": {
        "id": "kX3xqI1to-JG"
      },
      "execution_count": 6,
      "outputs": []
    },
    {
      "cell_type": "code",
      "source": [
        "# Checking the features\n",
        "X"
      ],
      "metadata": {
        "colab": {
          "base_uri": "https://localhost:8080/"
        },
        "id": "p0GITWiApHtz",
        "outputId": "d84e03d4-a467-43c1-aadf-b512f503845f"
      },
      "execution_count": 7,
      "outputs": [
        {
          "output_type": "execute_result",
          "data": {
            "text/plain": [
              "array([[ 0.67621763,  0.49758361],\n",
              "       [-0.81272345, -0.54300962],\n",
              "       [ 0.19260493,  1.0200862 ],\n",
              "       ...,\n",
              "       [-0.46351461, -0.8701022 ],\n",
              "       [ 0.74035651,  0.2232333 ],\n",
              "       [-0.11747325, -0.80989476]])"
            ]
          },
          "metadata": {},
          "execution_count": 7
        }
      ]
    },
    {
      "cell_type": "code",
      "source": [
        "# Checking the target\n",
        "y[:20]"
      ],
      "metadata": {
        "colab": {
          "base_uri": "https://localhost:8080/"
        },
        "id": "XZ944Ol1pKwL",
        "outputId": "64d0081d-f9f2-43bd-cce4-3a8cc9583c2c"
      },
      "execution_count": 8,
      "outputs": [
        {
          "output_type": "execute_result",
          "data": {
            "text/plain": [
              "array([1, 0, 0, 1, 0, 1, 0, 1, 1, 0, 1, 1, 1, 0, 1, 0, 0, 0, 0, 0])"
            ]
          },
          "metadata": {},
          "execution_count": 8
        }
      ]
    },
    {
      "cell_type": "code",
      "source": [
        "# Import pandas\n",
        "import pandas as pd\n",
        "# Read the DataFrame, first using the feature data\n",
        "circles = pd.DataFrame({\"X0\":X[:,0], \"X1\":X[:,1], \"lable\":y})\n",
        "circles"
      ],
      "metadata": {
        "colab": {
          "base_uri": "https://localhost:8080/",
          "height": 424
        },
        "id": "8b7jzTs2plq3",
        "outputId": "a876c8ca-f087-4e3e-b8f5-11f9a92eee38"
      },
      "execution_count": 9,
      "outputs": [
        {
          "output_type": "execute_result",
          "data": {
            "text/plain": [
              "           X0        X1  lable\n",
              "0    0.676218  0.497584      1\n",
              "1   -0.812723 -0.543010      0\n",
              "2    0.192605  1.020086      0\n",
              "3   -0.320621 -0.691720      1\n",
              "4   -0.779619  0.645467      0\n",
              "..        ...       ...    ...\n",
              "995  0.423747  0.586634      1\n",
              "996 -0.347300 -0.692031      1\n",
              "997 -0.463515 -0.870102      0\n",
              "998  0.740357  0.223233      1\n",
              "999 -0.117473 -0.809895      1\n",
              "\n",
              "[1000 rows x 3 columns]"
            ],
            "text/html": [
              "\n",
              "  <div id=\"df-136190a0-a847-449e-b381-348a4c0a798e\">\n",
              "    <div class=\"colab-df-container\">\n",
              "      <div>\n",
              "<style scoped>\n",
              "    .dataframe tbody tr th:only-of-type {\n",
              "        vertical-align: middle;\n",
              "    }\n",
              "\n",
              "    .dataframe tbody tr th {\n",
              "        vertical-align: top;\n",
              "    }\n",
              "\n",
              "    .dataframe thead th {\n",
              "        text-align: right;\n",
              "    }\n",
              "</style>\n",
              "<table border=\"1\" class=\"dataframe\">\n",
              "  <thead>\n",
              "    <tr style=\"text-align: right;\">\n",
              "      <th></th>\n",
              "      <th>X0</th>\n",
              "      <th>X1</th>\n",
              "      <th>lable</th>\n",
              "    </tr>\n",
              "  </thead>\n",
              "  <tbody>\n",
              "    <tr>\n",
              "      <th>0</th>\n",
              "      <td>0.676218</td>\n",
              "      <td>0.497584</td>\n",
              "      <td>1</td>\n",
              "    </tr>\n",
              "    <tr>\n",
              "      <th>1</th>\n",
              "      <td>-0.812723</td>\n",
              "      <td>-0.543010</td>\n",
              "      <td>0</td>\n",
              "    </tr>\n",
              "    <tr>\n",
              "      <th>2</th>\n",
              "      <td>0.192605</td>\n",
              "      <td>1.020086</td>\n",
              "      <td>0</td>\n",
              "    </tr>\n",
              "    <tr>\n",
              "      <th>3</th>\n",
              "      <td>-0.320621</td>\n",
              "      <td>-0.691720</td>\n",
              "      <td>1</td>\n",
              "    </tr>\n",
              "    <tr>\n",
              "      <th>4</th>\n",
              "      <td>-0.779619</td>\n",
              "      <td>0.645467</td>\n",
              "      <td>0</td>\n",
              "    </tr>\n",
              "    <tr>\n",
              "      <th>...</th>\n",
              "      <td>...</td>\n",
              "      <td>...</td>\n",
              "      <td>...</td>\n",
              "    </tr>\n",
              "    <tr>\n",
              "      <th>995</th>\n",
              "      <td>0.423747</td>\n",
              "      <td>0.586634</td>\n",
              "      <td>1</td>\n",
              "    </tr>\n",
              "    <tr>\n",
              "      <th>996</th>\n",
              "      <td>-0.347300</td>\n",
              "      <td>-0.692031</td>\n",
              "      <td>1</td>\n",
              "    </tr>\n",
              "    <tr>\n",
              "      <th>997</th>\n",
              "      <td>-0.463515</td>\n",
              "      <td>-0.870102</td>\n",
              "      <td>0</td>\n",
              "    </tr>\n",
              "    <tr>\n",
              "      <th>998</th>\n",
              "      <td>0.740357</td>\n",
              "      <td>0.223233</td>\n",
              "      <td>1</td>\n",
              "    </tr>\n",
              "    <tr>\n",
              "      <th>999</th>\n",
              "      <td>-0.117473</td>\n",
              "      <td>-0.809895</td>\n",
              "      <td>1</td>\n",
              "    </tr>\n",
              "  </tbody>\n",
              "</table>\n",
              "<p>1000 rows × 3 columns</p>\n",
              "</div>\n",
              "      <button class=\"colab-df-convert\" onclick=\"convertToInteractive('df-136190a0-a847-449e-b381-348a4c0a798e')\"\n",
              "              title=\"Convert this dataframe to an interactive table.\"\n",
              "              style=\"display:none;\">\n",
              "        \n",
              "  <svg xmlns=\"http://www.w3.org/2000/svg\" height=\"24px\"viewBox=\"0 0 24 24\"\n",
              "       width=\"24px\">\n",
              "    <path d=\"M0 0h24v24H0V0z\" fill=\"none\"/>\n",
              "    <path d=\"M18.56 5.44l.94 2.06.94-2.06 2.06-.94-2.06-.94-.94-2.06-.94 2.06-2.06.94zm-11 1L8.5 8.5l.94-2.06 2.06-.94-2.06-.94L8.5 2.5l-.94 2.06-2.06.94zm10 10l.94 2.06.94-2.06 2.06-.94-2.06-.94-.94-2.06-.94 2.06-2.06.94z\"/><path d=\"M17.41 7.96l-1.37-1.37c-.4-.4-.92-.59-1.43-.59-.52 0-1.04.2-1.43.59L10.3 9.45l-7.72 7.72c-.78.78-.78 2.05 0 2.83L4 21.41c.39.39.9.59 1.41.59.51 0 1.02-.2 1.41-.59l7.78-7.78 2.81-2.81c.8-.78.8-2.07 0-2.86zM5.41 20L4 18.59l7.72-7.72 1.47 1.35L5.41 20z\"/>\n",
              "  </svg>\n",
              "      </button>\n",
              "      \n",
              "  <style>\n",
              "    .colab-df-container {\n",
              "      display:flex;\n",
              "      flex-wrap:wrap;\n",
              "      gap: 12px;\n",
              "    }\n",
              "\n",
              "    .colab-df-convert {\n",
              "      background-color: #E8F0FE;\n",
              "      border: none;\n",
              "      border-radius: 50%;\n",
              "      cursor: pointer;\n",
              "      display: none;\n",
              "      fill: #1967D2;\n",
              "      height: 32px;\n",
              "      padding: 0 0 0 0;\n",
              "      width: 32px;\n",
              "    }\n",
              "\n",
              "    .colab-df-convert:hover {\n",
              "      background-color: #E2EBFA;\n",
              "      box-shadow: 0px 1px 2px rgba(60, 64, 67, 0.3), 0px 1px 3px 1px rgba(60, 64, 67, 0.15);\n",
              "      fill: #174EA6;\n",
              "    }\n",
              "\n",
              "    [theme=dark] .colab-df-convert {\n",
              "      background-color: #3B4455;\n",
              "      fill: #D2E3FC;\n",
              "    }\n",
              "\n",
              "    [theme=dark] .colab-df-convert:hover {\n",
              "      background-color: #434B5C;\n",
              "      box-shadow: 0px 1px 3px 1px rgba(0, 0, 0, 0.15);\n",
              "      filter: drop-shadow(0px 1px 2px rgba(0, 0, 0, 0.3));\n",
              "      fill: #FFFFFF;\n",
              "    }\n",
              "  </style>\n",
              "\n",
              "      <script>\n",
              "        const buttonEl =\n",
              "          document.querySelector('#df-136190a0-a847-449e-b381-348a4c0a798e button.colab-df-convert');\n",
              "        buttonEl.style.display =\n",
              "          google.colab.kernel.accessAllowed ? 'block' : 'none';\n",
              "\n",
              "        async function convertToInteractive(key) {\n",
              "          const element = document.querySelector('#df-136190a0-a847-449e-b381-348a4c0a798e');\n",
              "          const dataTable =\n",
              "            await google.colab.kernel.invokeFunction('convertToInteractive',\n",
              "                                                     [key], {});\n",
              "          if (!dataTable) return;\n",
              "\n",
              "          const docLinkHtml = 'Like what you see? Visit the ' +\n",
              "            '<a target=\"_blank\" href=https://colab.research.google.com/notebooks/data_table.ipynb>data table notebook</a>'\n",
              "            + ' to learn more about interactive tables.';\n",
              "          element.innerHTML = '';\n",
              "          dataTable['output_type'] = 'display_data';\n",
              "          await google.colab.output.renderOutput(dataTable, element);\n",
              "          const docLink = document.createElement('div');\n",
              "          docLink.innerHTML = docLinkHtml;\n",
              "          element.appendChild(docLink);\n",
              "        }\n",
              "      </script>\n",
              "    </div>\n",
              "  </div>\n",
              "  "
            ]
          },
          "metadata": {},
          "execution_count": 9
        }
      ]
    },
    {
      "cell_type": "code",
      "source": [
        "# Visualising the data\n",
        "import matplotlib.pyplot as plt\n",
        "plt.figure(figsize = (8,8))\n",
        "plt.scatter(X[:,0], X[:, 1], c = y, cmap = plt.cm.RdYlBu)"
      ],
      "metadata": {
        "colab": {
          "base_uri": "https://localhost:8080/",
          "height": 500
        },
        "id": "s8p0t8ujp2YE",
        "outputId": "0309f294-cd5d-47b2-ed53-d9677b9960f0"
      },
      "execution_count": 10,
      "outputs": [
        {
          "output_type": "execute_result",
          "data": {
            "text/plain": [
              "<matplotlib.collections.PathCollection at 0x7f56c4aa5150>"
            ]
          },
          "metadata": {},
          "execution_count": 10
        },
        {
          "output_type": "display_data",
          "data": {
            "text/plain": [
              "<Figure size 576x576 with 1 Axes>"
            ],
            "image/png": "[encoded data removed]"
          },
          "metadata": {
            "needs_background": "light"
          }
        }
      ]
    },
    {
      "cell_type": "code",
      "source": [
        "plt.scatter(X[:5,0], X[:5, 1])"
      ],
      "metadata": {
        "colab": {
          "base_uri": "https://localhost:8080/",
          "height": 282
        },
        "id": "Ut9L252rqK-y",
        "outputId": "6088cd06-71e3-4016-9b0c-7f885c169553"
      },
      "execution_count": 11,
      "outputs": [
        {
          "output_type": "execute_result",
          "data": {
            "text/plain": [
              "<matplotlib.collections.PathCollection at 0x7f56c4a92f50>"
            ]
          },
          "metadata": {},
          "execution_count": 11
        },
        {
          "output_type": "display_data",
          "data": {
            "text/plain": [
              "<Figure size 432x288 with 1 Axes>"
            ],
            "image/png": "[encoded data removed]"
          },
          "metadata": {
            "needs_background": "light"
          }
        }
      ]
    },
    {
      "cell_type": "markdown",
      "source": [
        "# Input & Output Shapes"
      ],
      "metadata": {
        "id": "cFFY4z7tuUq9"
      }
    },
    {
      "cell_type": "code",
      "source": [
        "# Checking the shapes of features & labels\n",
        "X.shape, y.shape"
      ],
      "metadata": {
        "colab": {
          "base_uri": "https://localhost:8080/"
        },
        "id": "il6DHZ3N4DTs",
        "outputId": "ad86bd4a-5434-44da-b499-0a4f666a4dcd"
      },
      "execution_count": 12,
      "outputs": [
        {
          "output_type": "execute_result",
          "data": {
            "text/plain": [
              "((1000, 2), (1000,))"
            ]
          },
          "metadata": {},
          "execution_count": 12
        }
      ]
    },
    {
      "cell_type": "code",
      "source": [
        "# Sample size\n",
        "len(X), len(y)"
      ],
      "metadata": {
        "colab": {
          "base_uri": "https://localhost:8080/"
        },
        "id": "wQQpRm5e4Kyh",
        "outputId": "2f763332-4460-4cad-f107-c1feac988ab8"
      },
      "execution_count": 13,
      "outputs": [
        {
          "output_type": "execute_result",
          "data": {
            "text/plain": [
              "(1000, 1000)"
            ]
          },
          "metadata": {},
          "execution_count": 13
        }
      ]
    },
    {
      "cell_type": "code",
      "source": [
        "# Looking at the examples\n",
        "X[5], y[5]"
      ],
      "metadata": {
        "colab": {
          "base_uri": "https://localhost:8080/"
        },
        "id": "ecBax0Vb4R_G",
        "outputId": "c9685aa2-e8e6-42b2-c200-684570a439c6"
      },
      "execution_count": 14,
      "outputs": [
        {
          "output_type": "execute_result",
          "data": {
            "text/plain": [
              "(array([0.22219438, 0.78129927]), 1)"
            ]
          },
          "metadata": {},
          "execution_count": 14
        }
      ]
    },
    {
      "cell_type": "code",
      "source": [
        "X.shape, y.shape"
      ],
      "metadata": {
        "colab": {
          "base_uri": "https://localhost:8080/"
        },
        "id": "oppvUyYJ6uwI",
        "outputId": "3f28c44d-5459-428f-cb81-07d6af35cc05"
      },
      "execution_count": 15,
      "outputs": [
        {
          "output_type": "execute_result",
          "data": {
            "text/plain": [
              "((1000, 2), (1000,))"
            ]
          },
          "metadata": {},
          "execution_count": 15
        }
      ]
    },
    {
      "cell_type": "code",
      "source": [
        "from sklearn.model_selection import train_test_split\n",
        "X_train, X_test, y_train, y_test = train_test_split(X,y, test_size=0.2)"
      ],
      "metadata": {
        "id": "YWUbp98X5-yH"
      },
      "execution_count": 16,
      "outputs": []
    },
    {
      "cell_type": "code",
      "source": [
        "X_train.shape, X_test.shape, y_train.shape, y_test.shape"
      ],
      "metadata": {
        "colab": {
          "base_uri": "https://localhost:8080/"
        },
        "id": "dXHfXZyt6WYK",
        "outputId": "6176fc95-821a-4c6c-cbbe-6b85375fcfdd"
      },
      "execution_count": 17,
      "outputs": [
        {
          "output_type": "execute_result",
          "data": {
            "text/plain": [
              "((800, 2), (200, 2), (800,), (200,))"
            ]
          },
          "metadata": {},
          "execution_count": 17
        }
      ]
    },
    {
      "cell_type": "code",
      "source": [
        "# Building the model\n",
        "model = tf.keras.Sequential([\n",
        "   # tf.keras.Input(shape=(None, 1000,2)),\n",
        "    tf.keras.layers.Dense(10, activation = 'relu'),\n",
        "    tf.keras.layers.Dense(10, activation = 'relu'),\n",
        "    tf.keras.layers.Dense(1,activation = 'sigmoid')\n",
        "])"
      ],
      "metadata": {
        "id": "VDrvQ9Uq4fvC"
      },
      "execution_count": 29,
      "outputs": []
    },
    {
      "cell_type": "code",
      "source": [
        "model.compile(loss = tf.keras.losses.BinaryCrossentropy(),\n",
        "              optimizer =tf.keras.optimizers.Adam(learning_rate = 0.005),\n",
        "              metrics = ['accuracy'])"
      ],
      "metadata": {
        "id": "N4hB1hAH5m70"
      },
      "execution_count": 30,
      "outputs": []
    },
    {
      "cell_type": "code",
      "source": [
        "# Create a learning rate call back\n",
        "lr_scheduler = tf.keras.callbacks.LearningRateScheduler(lambda epoch: 1e-4 * 10**(epoch/20))"
      ],
      "metadata": {
        "id": "P6fju0iX1WAF"
      },
      "execution_count": 31,
      "outputs": []
    },
    {
      "cell_type": "code",
      "source": [
        "# history = model.fit(X_train, y_train, epochs = 50, callbacks = [lr_scheduler])\n",
        "\n",
        "history = model.fit(X_train, y_train, epochs = 50)"
      ],
      "metadata": {
        "colab": {
          "base_uri": "https://localhost:8080/"
        },
        "id": "CbykU1TY54Yt",
        "outputId": "0a0536ab-d17f-4e30-c8da-aacd97377418"
      },
      "execution_count": 32,
      "outputs": [
        {
          "output_type": "stream",
          "name": "stdout",
          "text": [
            "Epoch 1/50\n",
            "25/25 [==============================] - 0s 2ms/step - loss: 0.6842 - accuracy: 0.5288\n",
            "Epoch 2/50\n",
            "25/25 [==============================] - 0s 2ms/step - loss: 0.6743 - accuracy: 0.5925\n",
            "Epoch 3/50\n",
            "25/25 [==============================] - 0s 2ms/step - loss: 0.6633 - accuracy: 0.6463\n",
            "Epoch 4/50\n",
            "25/25 [==============================] - 0s 2ms/step - loss: 0.6482 - accuracy: 0.7713\n",
            "Epoch 5/50\n",
            "25/25 [==============================] - 0s 2ms/step - loss: 0.6321 - accuracy: 0.7875\n",
            "Epoch 6/50\n",
            "25/25 [==============================] - 0s 2ms/step - loss: 0.6064 - accuracy: 0.8562\n",
            "Epoch 7/50\n",
            "25/25 [==============================] - 0s 2ms/step - loss: 0.5605 - accuracy: 0.8913\n",
            "Epoch 8/50\n",
            "25/25 [==============================] - 0s 2ms/step - loss: 0.5135 - accuracy: 0.9000\n",
            "Epoch 9/50\n",
            "25/25 [==============================] - 0s 2ms/step - loss: 0.4464 - accuracy: 0.9650\n",
            "Epoch 10/50\n",
            "25/25 [==============================] - 0s 2ms/step - loss: 0.3844 - accuracy: 0.9762\n",
            "Epoch 11/50\n",
            "25/25 [==============================] - 0s 2ms/step - loss: 0.3189 - accuracy: 0.9962\n",
            "Epoch 12/50\n",
            "25/25 [==============================] - 0s 2ms/step - loss: 0.2570 - accuracy: 0.9962\n",
            "Epoch 13/50\n",
            "25/25 [==============================] - 0s 2ms/step - loss: 0.2081 - accuracy: 1.0000\n",
            "Epoch 14/50\n",
            "25/25 [==============================] - 0s 2ms/step - loss: 0.1682 - accuracy: 0.9962\n",
            "Epoch 15/50\n",
            "25/25 [==============================] - 0s 2ms/step - loss: 0.1363 - accuracy: 0.9987\n",
            "Epoch 16/50\n",
            "25/25 [==============================] - 0s 2ms/step - loss: 0.1087 - accuracy: 1.0000\n",
            "Epoch 17/50\n",
            "25/25 [==============================] - 0s 2ms/step - loss: 0.0919 - accuracy: 0.9987\n",
            "Epoch 18/50\n",
            "25/25 [==============================] - 0s 2ms/step - loss: 0.0815 - accuracy: 0.9987\n",
            "Epoch 19/50\n",
            "25/25 [==============================] - 0s 2ms/step - loss: 0.0688 - accuracy: 1.0000\n",
            "Epoch 20/50\n",
            "25/25 [==============================] - 0s 2ms/step - loss: 0.0617 - accuracy: 1.0000\n",
            "Epoch 21/50\n",
            "25/25 [==============================] - 0s 2ms/step - loss: 0.0524 - accuracy: 1.0000\n",
            "Epoch 22/50\n",
            "25/25 [==============================] - 0s 2ms/step - loss: 0.0456 - accuracy: 1.0000\n",
            "Epoch 23/50\n",
            "25/25 [==============================] - 0s 2ms/step - loss: 0.0419 - accuracy: 0.9987\n",
            "Epoch 24/50\n",
            "25/25 [==============================] - 0s 2ms/step - loss: 0.0372 - accuracy: 1.0000\n",
            "Epoch 25/50\n",
            "25/25 [==============================] - 0s 2ms/step - loss: 0.0338 - accuracy: 1.0000\n",
            "Epoch 26/50\n",
            "25/25 [==============================] - 0s 2ms/step - loss: 0.0298 - accuracy: 1.0000\n",
            "Epoch 27/50\n",
            "25/25 [==============================] - 0s 2ms/step - loss: 0.0289 - accuracy: 1.0000\n",
            "Epoch 28/50\n",
            "25/25 [==============================] - 0s 2ms/step - loss: 0.0252 - accuracy: 1.0000\n",
            "Epoch 29/50\n",
            "25/25 [==============================] - 0s 2ms/step - loss: 0.0233 - accuracy: 1.0000\n",
            "Epoch 30/50\n",
            "25/25 [==============================] - 0s 2ms/step - loss: 0.0216 - accuracy: 1.0000\n",
            "Epoch 31/50\n",
            "25/25 [==============================] - 0s 2ms/step - loss: 0.0195 - accuracy: 1.0000\n",
            "Epoch 32/50\n",
            "25/25 [==============================] - 0s 2ms/step - loss: 0.0182 - accuracy: 1.0000\n",
            "Epoch 33/50\n",
            "25/25 [==============================] - 0s 2ms/step - loss: 0.0177 - accuracy: 1.0000\n",
            "Epoch 34/50\n",
            "25/25 [==============================] - 0s 2ms/step - loss: 0.0165 - accuracy: 1.0000\n",
            "Epoch 35/50\n",
            "25/25 [==============================] - 0s 3ms/step - loss: 0.0159 - accuracy: 1.0000\n",
            "Epoch 36/50\n",
            "25/25 [==============================] - 0s 2ms/step - loss: 0.0149 - accuracy: 1.0000\n",
            "Epoch 37/50\n",
            "25/25 [==============================] - 0s 2ms/step - loss: 0.0145 - accuracy: 1.0000\n",
            "Epoch 38/50\n",
            "25/25 [==============================] - 0s 2ms/step - loss: 0.0140 - accuracy: 1.0000\n",
            "Epoch 39/50\n",
            "25/25 [==============================] - 0s 2ms/step - loss: 0.0126 - accuracy: 1.0000\n",
            "Epoch 40/50\n",
            "25/25 [==============================] - 0s 3ms/step - loss: 0.0120 - accuracy: 1.0000\n",
            "Epoch 41/50\n",
            "25/25 [==============================] - 0s 2ms/step - loss: 0.0115 - accuracy: 1.0000\n",
            "Epoch 42/50\n",
            "25/25 [==============================] - 0s 2ms/step - loss: 0.0104 - accuracy: 1.0000\n",
            "Epoch 43/50\n",
            "25/25 [==============================] - 0s 2ms/step - loss: 0.0111 - accuracy: 0.9987\n",
            "Epoch 44/50\n",
            "25/25 [==============================] - 0s 2ms/step - loss: 0.0107 - accuracy: 1.0000\n",
            "Epoch 45/50\n",
            "25/25 [==============================] - 0s 2ms/step - loss: 0.0096 - accuracy: 1.0000\n",
            "Epoch 46/50\n",
            "25/25 [==============================] - 0s 2ms/step - loss: 0.0089 - accuracy: 1.0000\n",
            "Epoch 47/50\n",
            "25/25 [==============================] - 0s 2ms/step - loss: 0.0103 - accuracy: 1.0000\n",
            "Epoch 48/50\n",
            "25/25 [==============================] - 0s 2ms/step - loss: 0.0091 - accuracy: 1.0000\n",
            "Epoch 49/50\n",
            "25/25 [==============================] - 0s 2ms/step - loss: 0.0105 - accuracy: 1.0000\n",
            "Epoch 50/50\n",
            "25/25 [==============================] - 0s 2ms/step - loss: 0.0078 - accuracy: 1.0000\n"
          ]
        }
      ]
    },
    {
      "cell_type": "code",
      "source": [
        "model.evaluate(X_test, y_test)"
      ],
      "metadata": {
        "colab": {
          "base_uri": "https://localhost:8080/"
        },
        "id": "9BP3S7S96jPV",
        "outputId": "be111281-757b-42d0-8b55-4a31cd2740e4"
      },
      "execution_count": 33,
      "outputs": [
        {
          "output_type": "stream",
          "name": "stdout",
          "text": [
            "7/7 [==============================] - 0s 2ms/step - loss: 0.0092 - accuracy: 1.0000\n"
          ]
        },
        {
          "output_type": "execute_result",
          "data": {
            "text/plain": [
              "[0.009182979352772236, 1.0]"
            ]
          },
          "metadata": {},
          "execution_count": 33
        }
      ]
    },
    {
      "cell_type": "code",
      "source": [
        "\n",
        "pd.DataFrame(history.history).plot(figsize = (10,7), xlabel = 'epoch')"
      ],
      "metadata": {
        "colab": {
          "base_uri": "https://localhost:8080/",
          "height": 459
        },
        "id": "bSPlRYRU4u06",
        "outputId": "bb6f0648-1030-4614-f043-422c84b4f894"
      },
      "execution_count": 34,
      "outputs": [
        {
          "output_type": "execute_result",
          "data": {
            "text/plain": [
              "<matplotlib.axes._subplots.AxesSubplot at 0x7f56be87a4d0>"
            ]
          },
          "metadata": {},
          "execution_count": 34
        },
        {
          "output_type": "display_data",
          "data": {
            "text/plain": [
              "<Figure size 720x504 with 1 Axes>"
            ],
            "image/png": "[encoded data removed]"
          },
          "metadata": {
            "needs_background": "light"
          }
        }
      ]
    },
    {
      "cell_type": "code",
      "source": [
        "# Learning rate versus loss\n",
        "# Below are the different values of learning rates\n",
        "lrs = 1e-4 * (10**(tf.range(50)/20))\n",
        "lrs"
      ],
      "metadata": {
        "colab": {
          "base_uri": "https://localhost:8080/"
        },
        "id": "HR9PNyo455De",
        "outputId": "b5a1d012-779a-49db-aa28-20c5a65a4027"
      },
      "execution_count": 35,
      "outputs": [
        {
          "output_type": "execute_result",
          "data": {
            "text/plain": [
              "<tf.Tensor: shape=(50,), dtype=float64, numpy=\n",
              "array([0.0001    , 0.0001122 , 0.00012589, 0.00014125, 0.00015849,\n",
              "       0.00017783, 0.00019953, 0.00022387, 0.00025119, 0.00028184,\n",
              "       0.00031623, 0.00035481, 0.00039811, 0.00044668, 0.00050119,\n",
              "       0.00056234, 0.00063096, 0.00070795, 0.00079433, 0.00089125,\n",
              "       0.001     , 0.00112202, 0.00125893, 0.00141254, 0.00158489,\n",
              "       0.00177828, 0.00199526, 0.00223872, 0.00251189, 0.00281838,\n",
              "       0.00316228, 0.00354813, 0.00398107, 0.00446684, 0.00501187,\n",
              "       0.00562341, 0.00630957, 0.00707946, 0.00794328, 0.00891251,\n",
              "       0.01      , 0.01122018, 0.01258925, 0.01412538, 0.01584893,\n",
              "       0.01778279, 0.01995262, 0.02238721, 0.02511886, 0.02818383])>"
            ]
          },
          "metadata": {},
          "execution_count": 35
        }
      ]
    },
    {
      "cell_type": "code",
      "source": [
        "lrs = 1e-4 * (10**(tf.range(50)/20))\n",
        "plt.figure(figsize=(10,6))\n",
        "plt.semilogx(lrs, history.history['loss'])\n",
        "plt.xlabel(\"Learning Rate\")\n",
        "plt.ylabel(\"Loss\")\n",
        "plt.title(\"Learning rate vs. loss\")"
      ],
      "metadata": {
        "colab": {
          "base_uri": "https://localhost:8080/",
          "height": 425
        },
        "id": "UOnrDcUx60qI",
        "outputId": "8e3a98e2-4256-42d1-af21-7707fee61043"
      },
      "execution_count": 36,
      "outputs": [
        {
          "output_type": "execute_result",
          "data": {
            "text/plain": [
              "Text(0.5, 1.0, 'Learning rate vs. loss')"
            ]
          },
          "metadata": {},
          "execution_count": 36
        },
        {
          "output_type": "display_data",
          "data": {
            "text/plain": [
              "<Figure size 720x432 with 1 Axes>"
            ],
            "image/png": "[encoded data removed]"
          },
          "metadata": {
            "needs_background": "light"
          }
        }
      ]
    },
    {
      "cell_type": "code",
      "source": [
        "# model.get_weights()"
      ],
      "metadata": {
        "id": "9r5M4qVc9QhK"
      },
      "execution_count": 37,
      "outputs": []
    },
    {
      "cell_type": "code",
      "source": [
        "model.summary()"
      ],
      "metadata": {
        "colab": {
          "base_uri": "https://localhost:8080/"
        },
        "id": "YRlX76Iz_6eu",
        "outputId": "8f2141cf-f276-4b1a-aa35-115ce535583c"
      },
      "execution_count": 38,
      "outputs": [
        {
          "output_type": "stream",
          "name": "stdout",
          "text": [
            "Model: \"sequential_1\"\n",
            "_________________________________________________________________\n",
            " Layer (type)                Output Shape              Param #   \n",
            "=================================================================\n",
            " dense_3 (Dense)             (None, 10)                30        \n",
            "                                                                 \n",
            " dense_4 (Dense)             (None, 10)                110       \n",
            "                                                                 \n",
            " dense_5 (Dense)             (None, 1)                 11        \n",
            "                                                                 \n",
            "=================================================================\n",
            "Total params: 151\n",
            "Trainable params: 151\n",
            "Non-trainable params: 0\n",
            "_________________________________________________________________\n"
          ]
        }
      ]
    },
    {
      "cell_type": "code",
      "source": [
        "X_train.shape"
      ],
      "metadata": {
        "colab": {
          "base_uri": "https://localhost:8080/"
        },
        "id": "SP1zD2R_AAzX",
        "outputId": "643cddc3-64cd-4272-d757-fa47e3c8c554"
      },
      "execution_count": 39,
      "outputs": [
        {
          "output_type": "execute_result",
          "data": {
            "text/plain": [
              "(800, 2)"
            ]
          },
          "metadata": {},
          "execution_count": 39
        }
      ]
    },
    {
      "cell_type": "code",
      "source": [
        "\n",
        "\n",
        "def plot_decision_boundary(model, X, y):\n",
        "  \"\"\"\n",
        "  Plots the decision boundary created by a model predicting on X.\n",
        "  This function has been adapted from two phenomenal resources:\n",
        "   1. CS231n - https://cs231n.github.io/neural-networks-case-study/\n",
        "   2. Made with ML basics - https://github.com/GokuMohandas/MadeWithML/blob/main/notebooks/08_Neural_Networks.ipynb\n",
        "  \"\"\"\n",
        "  # Define the axis boundaries of the plot and create a meshgrid\n",
        "  x_min, x_max = X[:, 0].min() - 0.1, X[:, 0].max() + 0.1\n",
        "  y_min, y_max = X[:, 1].min() - 0.1, X[:, 1].max() + 0.1\n",
        "  xx, yy = np.meshgrid(np.linspace(x_min, x_max, 100),\n",
        "                       np.linspace(y_min, y_max, 100))\n",
        "  \n",
        "  # Create X values (we're going to predict on all of these)\n",
        "  x_in = np.c_[xx.ravel(), yy.ravel()] # stack 2D arrays together: https://numpy.org/devdocs/reference/generated/numpy.c_.html\n",
        "  \n",
        "  # Make predictions using the trained model\n",
        "  y_pred = model.predict(x_in)\n",
        "\n",
        "  # Check for multi-class\n",
        "  if model.output_shape[-1] > 1: # checks the final dimension of the model's output shape, if this is > (greater than) 1, it's multi-class \n",
        "    print(\"doing multiclass classification...\")\n",
        "    # We have to reshape our predictions to get them ready for plotting\n",
        "    y_pred = np.argmax(y_pred, axis=1).reshape(xx.shape)\n",
        "  else:\n",
        "    print(\"doing binary classifcation...\")\n",
        "    y_pred = np.round(np.max(y_pred, axis=1)).reshape(xx.shape)\n",
        "  \n",
        "  # Plot decision boundary\n",
        "  plt.contourf(xx, yy, y_pred, cmap=plt.cm.RdYlBu, alpha=0.7)\n",
        "  plt.scatter(X[:, 0], X[:, 1], c=y, s=40, cmap=plt.cm.RdYlBu)\n",
        "  plt.xlim(xx.min(), xx.max())\n",
        "  plt.ylim(yy.min(), yy.max())"
      ],
      "metadata": {
        "id": "WTO5Lbu_AM96"
      },
      "execution_count": 40,
      "outputs": []
    },
    {
      "cell_type": "code",
      "source": [
        "# Check out the predictions our model is making\n",
        "plot_decision_boundary(model, X_train, y_train)"
      ],
      "metadata": {
        "colab": {
          "base_uri": "https://localhost:8080/",
          "height": 282
        },
        "id": "v9R6tIknDAj7",
        "outputId": "3101cbbb-3edc-4e00-d932-89502b530911"
      },
      "execution_count": 41,
      "outputs": [
        {
          "output_type": "stream",
          "name": "stdout",
          "text": [
            "doing binary classifcation...\n"
          ]
        },
        {
          "output_type": "display_data",
          "data": {
            "text/plain": [
              "<Figure size 432x288 with 1 Axes>"
            ],
            "image/png": "[encoded data removed]"
          },
          "metadata": {
            "needs_background": "light"
          }
        }
      ]
    },
    {
      "cell_type": "code",
      "source": [
        "# Check out the predictions our model is making\n",
        "plot_decision_boundary(model, X_test, y_test)"
      ],
      "metadata": {
        "colab": {
          "base_uri": "https://localhost:8080/",
          "height": 282
        },
        "id": "n3yFq0aqDHw6",
        "outputId": "b1553770-d273-4a66-fdeb-9c51a7a08749"
      },
      "execution_count": 42,
      "outputs": [
        {
          "output_type": "stream",
          "name": "stdout",
          "text": [
            "doing binary classifcation...\n"
          ]
        },
        {
          "output_type": "display_data",
          "data": {
            "text/plain": [
              "<Figure size 432x288 with 1 Axes>"
            ],
            "image/png": "[encoded data removed]"
          },
          "metadata": {
            "needs_background": "light"
          }
        }
      ]
    },
    {
      "cell_type": "code",
      "source": [
        "# COnverting history object to DataFrame\n",
        "# history.history\n",
        "df = pd.DataFrame(history.history)\n",
        "df"
      ],
      "metadata": {
        "colab": {
          "base_uri": "https://localhost:8080/",
          "height": 1000
        },
        "id": "XVnmakpxDND3",
        "outputId": "474949fe-1b2e-4c47-dc96-0db3234d8971"
      },
      "execution_count": 43,
      "outputs": [
        {
          "output_type": "execute_result",
          "data": {
            "text/plain": [
              "        loss  accuracy\n",
              "0   0.684199   0.52875\n",
              "1   0.674311   0.59250\n",
              "2   0.663294   0.64625\n",
              "3   0.648150   0.77125\n",
              "4   0.632082   0.78750\n",
              "5   0.606379   0.85625\n",
              "6   0.560480   0.89125\n",
              "7   0.513465   0.90000\n",
              "8   0.446406   0.96500\n",
              "9   0.384364   0.97625\n",
              "10  0.318867   0.99625\n",
              "11  0.256982   0.99625\n",
              "12  0.208121   1.00000\n",
              "13  0.168152   0.99625\n",
              "14  0.136334   0.99875\n",
              "15  0.108657   1.00000\n",
              "16  0.091903   0.99875\n",
              "17  0.081467   0.99875\n",
              "18  0.068762   1.00000\n",
              "19  0.061720   1.00000\n",
              "20  0.052385   1.00000\n",
              "21  0.045567   1.00000\n",
              "22  0.041870   0.99875\n",
              "23  0.037200   1.00000\n",
              "24  0.033803   1.00000\n",
              "25  0.029848   1.00000\n",
              "26  0.028934   1.00000\n",
              "27  0.025157   1.00000\n",
              "28  0.023314   1.00000\n",
              "29  0.021640   1.00000\n",
              "30  0.019512   1.00000\n",
              "31  0.018198   1.00000\n",
              "32  0.017660   1.00000\n",
              "33  0.016534   1.00000\n",
              "34  0.015948   1.00000\n",
              "35  0.014886   1.00000\n",
              "36  0.014486   1.00000\n",
              "37  0.014028   1.00000\n",
              "38  0.012620   1.00000\n",
              "39  0.012017   1.00000\n",
              "40  0.011540   1.00000\n",
              "41  0.010413   1.00000\n",
              "42  0.011102   0.99875\n",
              "43  0.010699   1.00000\n",
              "44  0.009601   1.00000\n",
              "45  0.008915   1.00000\n",
              "46  0.010275   1.00000\n",
              "47  0.009052   1.00000\n",
              "48  0.010550   1.00000\n",
              "49  0.007839   1.00000"
            ],
            "text/html": [
              "\n",
              "  <div id=\"df-6afab7c4-b7c2-4d8c-87c2-03e94cc83cf5\">\n",
              "    <div class=\"colab-df-container\">\n",
              "      <div>\n",
              "<style scoped>\n",
              "    .dataframe tbody tr th:only-of-type {\n",
              "        vertical-align: middle;\n",
              "    }\n",
              "\n",
              "    .dataframe tbody tr th {\n",
              "        vertical-align: top;\n",
              "    }\n",
              "\n",
              "    .dataframe thead th {\n",
              "        text-align: right;\n",
              "    }\n",
              "</style>\n",
              "<table border=\"1\" class=\"dataframe\">\n",
              "  <thead>\n",
              "    <tr style=\"text-align: right;\">\n",
              "      <th></th>\n",
              "      <th>loss</th>\n",
              "      <th>accuracy</th>\n",
              "    </tr>\n",
              "  </thead>\n",
              "  <tbody>\n",
              "    <tr>\n",
              "      <th>0</th>\n",
              "      <td>0.684199</td>\n",
              "      <td>0.52875</td>\n",
              "    </tr>\n",
              "    <tr>\n",
              "      <th>1</th>\n",
              "      <td>0.674311</td>\n",
              "      <td>0.59250</td>\n",
              "    </tr>\n",
              "    <tr>\n",
              "      <th>2</th>\n",
              "      <td>0.663294</td>\n",
              "      <td>0.64625</td>\n",
              "    </tr>\n",
              "    <tr>\n",
              "      <th>3</th>\n",
              "      <td>0.648150</td>\n",
              "      <td>0.77125</td>\n",
              "    </tr>\n",
              "    <tr>\n",
              "      <th>4</th>\n",
              "      <td>0.632082</td>\n",
              "      <td>0.78750</td>\n",
              "    </tr>\n",
              "    <tr>\n",
              "      <th>5</th>\n",
              "      <td>0.606379</td>\n",
              "      <td>0.85625</td>\n",
              "    </tr>\n",
              "    <tr>\n",
              "      <th>6</th>\n",
              "      <td>0.560480</td>\n",
              "      <td>0.89125</td>\n",
              "    </tr>\n",
              "    <tr>\n",
              "      <th>7</th>\n",
              "      <td>0.513465</td>\n",
              "      <td>0.90000</td>\n",
              "    </tr>\n",
              "    <tr>\n",
              "      <th>8</th>\n",
              "      <td>0.446406</td>\n",
              "      <td>0.96500</td>\n",
              "    </tr>\n",
              "    <tr>\n",
              "      <th>9</th>\n",
              "      <td>0.384364</td>\n",
              "      <td>0.97625</td>\n",
              "    </tr>\n",
              "    <tr>\n",
              "      <th>10</th>\n",
              "      <td>0.318867</td>\n",
              "      <td>0.99625</td>\n",
              "    </tr>\n",
              "    <tr>\n",
              "      <th>11</th>\n",
              "      <td>0.256982</td>\n",
              "      <td>0.99625</td>\n",
              "    </tr>\n",
              "    <tr>\n",
              "      <th>12</th>\n",
              "      <td>0.208121</td>\n",
              "      <td>1.00000</td>\n",
              "    </tr>\n",
              "    <tr>\n",
              "      <th>13</th>\n",
              "      <td>0.168152</td>\n",
              "      <td>0.99625</td>\n",
              "    </tr>\n",
              "    <tr>\n",
              "      <th>14</th>\n",
              "      <td>0.136334</td>\n",
              "      <td>0.99875</td>\n",
              "    </tr>\n",
              "    <tr>\n",
              "      <th>15</th>\n",
              "      <td>0.108657</td>\n",
              "      <td>1.00000</td>\n",
              "    </tr>\n",
              "    <tr>\n",
              "      <th>16</th>\n",
              "      <td>0.091903</td>\n",
              "      <td>0.99875</td>\n",
              "    </tr>\n",
              "    <tr>\n",
              "      <th>17</th>\n",
              "      <td>0.081467</td>\n",
              "      <td>0.99875</td>\n",
              "    </tr>\n",
              "    <tr>\n",
              "      <th>18</th>\n",
              "      <td>0.068762</td>\n",
              "      <td>1.00000</td>\n",
              "    </tr>\n",
              "    <tr>\n",
              "      <th>19</th>\n",
              "      <td>0.061720</td>\n",
              "      <td>1.00000</td>\n",
              "    </tr>\n",
              "    <tr>\n",
              "      <th>20</th>\n",
              "      <td>0.052385</td>\n",
              "      <td>1.00000</td>\n",
              "    </tr>\n",
              "    <tr>\n",
              "      <th>21</th>\n",
              "      <td>0.045567</td>\n",
              "      <td>1.00000</td>\n",
              "    </tr>\n",
              "    <tr>\n",
              "      <th>22</th>\n",
              "      <td>0.041870</td>\n",
              "      <td>0.99875</td>\n",
              "    </tr>\n",
              "    <tr>\n",
              "      <th>23</th>\n",
              "      <td>0.037200</td>\n",
              "      <td>1.00000</td>\n",
              "    </tr>\n",
              "    <tr>\n",
              "      <th>24</th>\n",
              "      <td>0.033803</td>\n",
              "      <td>1.00000</td>\n",
              "    </tr>\n",
              "    <tr>\n",
              "      <th>25</th>\n",
              "      <td>0.029848</td>\n",
              "      <td>1.00000</td>\n",
              "    </tr>\n",
              "    <tr>\n",
              "      <th>26</th>\n",
              "      <td>0.028934</td>\n",
              "      <td>1.00000</td>\n",
              "    </tr>\n",
              "    <tr>\n",
              "      <th>27</th>\n",
              "      <td>0.025157</td>\n",
              "      <td>1.00000</td>\n",
              "    </tr>\n",
              "    <tr>\n",
              "      <th>28</th>\n",
              "      <td>0.023314</td>\n",
              "      <td>1.00000</td>\n",
              "    </tr>\n",
              "    <tr>\n",
              "      <th>29</th>\n",
              "      <td>0.021640</td>\n",
              "      <td>1.00000</td>\n",
              "    </tr>\n",
              "    <tr>\n",
              "      <th>30</th>\n",
              "      <td>0.019512</td>\n",
              "      <td>1.00000</td>\n",
              "    </tr>\n",
              "    <tr>\n",
              "      <th>31</th>\n",
              "      <td>0.018198</td>\n",
              "      <td>1.00000</td>\n",
              "    </tr>\n",
              "    <tr>\n",
              "      <th>32</th>\n",
              "      <td>0.017660</td>\n",
              "      <td>1.00000</td>\n",
              "    </tr>\n",
              "    <tr>\n",
              "      <th>33</th>\n",
              "      <td>0.016534</td>\n",
              "      <td>1.00000</td>\n",
              "    </tr>\n",
              "    <tr>\n",
              "      <th>34</th>\n",
              "      <td>0.015948</td>\n",
              "      <td>1.00000</td>\n",
              "    </tr>\n",
              "    <tr>\n",
              "      <th>35</th>\n",
              "      <td>0.014886</td>\n",
              "      <td>1.00000</td>\n",
              "    </tr>\n",
              "    <tr>\n",
              "      <th>36</th>\n",
              "      <td>0.014486</td>\n",
              "      <td>1.00000</td>\n",
              "    </tr>\n",
              "    <tr>\n",
              "      <th>37</th>\n",
              "      <td>0.014028</td>\n",
              "      <td>1.00000</td>\n",
              "    </tr>\n",
              "    <tr>\n",
              "      <th>38</th>\n",
              "      <td>0.012620</td>\n",
              "      <td>1.00000</td>\n",
              "    </tr>\n",
              "    <tr>\n",
              "      <th>39</th>\n",
              "      <td>0.012017</td>\n",
              "      <td>1.00000</td>\n",
              "    </tr>\n",
              "    <tr>\n",
              "      <th>40</th>\n",
              "      <td>0.011540</td>\n",
              "      <td>1.00000</td>\n",
              "    </tr>\n",
              "    <tr>\n",
              "      <th>41</th>\n",
              "      <td>0.010413</td>\n",
              "      <td>1.00000</td>\n",
              "    </tr>\n",
              "    <tr>\n",
              "      <th>42</th>\n",
              "      <td>0.011102</td>\n",
              "      <td>0.99875</td>\n",
              "    </tr>\n",
              "    <tr>\n",
              "      <th>43</th>\n",
              "      <td>0.010699</td>\n",
              "      <td>1.00000</td>\n",
              "    </tr>\n",
              "    <tr>\n",
              "      <th>44</th>\n",
              "      <td>0.009601</td>\n",
              "      <td>1.00000</td>\n",
              "    </tr>\n",
              "    <tr>\n",
              "      <th>45</th>\n",
              "      <td>0.008915</td>\n",
              "      <td>1.00000</td>\n",
              "    </tr>\n",
              "    <tr>\n",
              "      <th>46</th>\n",
              "      <td>0.010275</td>\n",
              "      <td>1.00000</td>\n",
              "    </tr>\n",
              "    <tr>\n",
              "      <th>47</th>\n",
              "      <td>0.009052</td>\n",
              "      <td>1.00000</td>\n",
              "    </tr>\n",
              "    <tr>\n",
              "      <th>48</th>\n",
              "      <td>0.010550</td>\n",
              "      <td>1.00000</td>\n",
              "    </tr>\n",
              "    <tr>\n",
              "      <th>49</th>\n",
              "      <td>0.007839</td>\n",
              "      <td>1.00000</td>\n",
              "    </tr>\n",
              "  </tbody>\n",
              "</table>\n",
              "</div>\n",
              "      <button class=\"colab-df-convert\" onclick=\"convertToInteractive('df-6afab7c4-b7c2-4d8c-87c2-03e94cc83cf5')\"\n",
              "              title=\"Convert this dataframe to an interactive table.\"\n",
              "              style=\"display:none;\">\n",
              "        \n",
              "  <svg xmlns=\"http://www.w3.org/2000/svg\" height=\"24px\"viewBox=\"0 0 24 24\"\n",
              "       width=\"24px\">\n",
              "    <path d=\"M0 0h24v24H0V0z\" fill=\"none\"/>\n",
              "    <path d=\"M18.56 5.44l.94 2.06.94-2.06 2.06-.94-2.06-.94-.94-2.06-.94 2.06-2.06.94zm-11 1L8.5 8.5l.94-2.06 2.06-.94-2.06-.94L8.5 2.5l-.94 2.06-2.06.94zm10 10l.94 2.06.94-2.06 2.06-.94-2.06-.94-.94-2.06-.94 2.06-2.06.94z\"/><path d=\"M17.41 7.96l-1.37-1.37c-.4-.4-.92-.59-1.43-.59-.52 0-1.04.2-1.43.59L10.3 9.45l-7.72 7.72c-.78.78-.78 2.05 0 2.83L4 21.41c.39.39.9.59 1.41.59.51 0 1.02-.2 1.41-.59l7.78-7.78 2.81-2.81c.8-.78.8-2.07 0-2.86zM5.41 20L4 18.59l7.72-7.72 1.47 1.35L5.41 20z\"/>\n",
              "  </svg>\n",
              "      </button>\n",
              "      \n",
              "  <style>\n",
              "    .colab-df-container {\n",
              "      display:flex;\n",
              "      flex-wrap:wrap;\n",
              "      gap: 12px;\n",
              "    }\n",
              "\n",
              "    .colab-df-convert {\n",
              "      background-color: #E8F0FE;\n",
              "      border: none;\n",
              "      border-radius: 50%;\n",
              "      cursor: pointer;\n",
              "      display: none;\n",
              "      fill: #1967D2;\n",
              "      height: 32px;\n",
              "      padding: 0 0 0 0;\n",
              "      width: 32px;\n",
              "    }\n",
              "\n",
              "    .colab-df-convert:hover {\n",
              "      background-color: #E2EBFA;\n",
              "      box-shadow: 0px 1px 2px rgba(60, 64, 67, 0.3), 0px 1px 3px 1px rgba(60, 64, 67, 0.15);\n",
              "      fill: #174EA6;\n",
              "    }\n",
              "\n",
              "    [theme=dark] .colab-df-convert {\n",
              "      background-color: #3B4455;\n",
              "      fill: #D2E3FC;\n",
              "    }\n",
              "\n",
              "    [theme=dark] .colab-df-convert:hover {\n",
              "      background-color: #434B5C;\n",
              "      box-shadow: 0px 1px 3px 1px rgba(0, 0, 0, 0.15);\n",
              "      filter: drop-shadow(0px 1px 2px rgba(0, 0, 0, 0.3));\n",
              "      fill: #FFFFFF;\n",
              "    }\n",
              "  </style>\n",
              "\n",
              "      <script>\n",
              "        const buttonEl =\n",
              "          document.querySelector('#df-6afab7c4-b7c2-4d8c-87c2-03e94cc83cf5 button.colab-df-convert');\n",
              "        buttonEl.style.display =\n",
              "          google.colab.kernel.accessAllowed ? 'block' : 'none';\n",
              "\n",
              "        async function convertToInteractive(key) {\n",
              "          const element = document.querySelector('#df-6afab7c4-b7c2-4d8c-87c2-03e94cc83cf5');\n",
              "          const dataTable =\n",
              "            await google.colab.kernel.invokeFunction('convertToInteractive',\n",
              "                                                     [key], {});\n",
              "          if (!dataTable) return;\n",
              "\n",
              "          const docLinkHtml = 'Like what you see? Visit the ' +\n",
              "            '<a target=\"_blank\" href=https://colab.research.google.com/notebooks/data_table.ipynb>data table notebook</a>'\n",
              "            + ' to learn more about interactive tables.';\n",
              "          element.innerHTML = '';\n",
              "          dataTable['output_type'] = 'display_data';\n",
              "          await google.colab.output.renderOutput(dataTable, element);\n",
              "          const docLink = document.createElement('div');\n",
              "          docLink.innerHTML = docLinkHtml;\n",
              "          element.appendChild(docLink);\n",
              "        }\n",
              "      </script>\n",
              "    </div>\n",
              "  </div>\n",
              "  "
            ]
          },
          "metadata": {},
          "execution_count": 43
        }
      ]
    },
    {
      "cell_type": "code",
      "source": [
        "# Plooting the loss curve\n",
        "df.plot()\n",
        "plt.title(\"Model Loss Curve\")"
      ],
      "metadata": {
        "colab": {
          "base_uri": "https://localhost:8080/",
          "height": 298
        },
        "id": "JmUJ7gV575Ee",
        "outputId": "29d46246-a5a0-41f9-8710-2c68e87d1adc"
      },
      "execution_count": 44,
      "outputs": [
        {
          "output_type": "execute_result",
          "data": {
            "text/plain": [
              "Text(0.5, 1.0, 'Model Loss Curve')"
            ]
          },
          "metadata": {},
          "execution_count": 44
        },
        {
          "output_type": "display_data",
          "data": {
            "text/plain": [
              "<Figure size 432x288 with 1 Axes>"
            ],
            "image/png": "[encoded data removed]"
          },
          "metadata": {
            "needs_background": "light"
          }
        }
      ]
    },
    {
      "cell_type": "markdown",
      "source": [
        "# Confusion Matrix "
      ],
      "metadata": {
        "id": "1W8YguG98iRk"
      }
    },
    {
      "cell_type": "code",
      "source": [
        "# Creating Confusion Matrix\n",
        "from sklearn.metrics import confusion_matrix"
      ],
      "metadata": {
        "id": "ppPvj5bg9e0B"
      },
      "execution_count": 45,
      "outputs": []
    },
    {
      "cell_type": "code",
      "source": [
        "# Making Predicitons\n",
        "y_preds = model.predict(X_test)"
      ],
      "metadata": {
        "id": "uVuksTEH9nNu"
      },
      "execution_count": 46,
      "outputs": []
    },
    {
      "cell_type": "code",
      "source": [
        "# Converting our probabilities into binary\n",
        "y_preds = tf.round(y_preds)"
      ],
      "metadata": {
        "id": "EBfFkaRW-qSB"
      },
      "execution_count": 50,
      "outputs": []
    },
    {
      "cell_type": "code",
      "source": [
        "# Creating Confusion Matrix\n",
        "cm = confusion_matrix(y_test, y_preds)\n",
        "cm"
      ],
      "metadata": {
        "colab": {
          "base_uri": "https://localhost:8080/"
        },
        "id": "MimecaF59tyy",
        "outputId": "a0e0213a-bb46-436c-a394-41266dcdb96d"
      },
      "execution_count": 53,
      "outputs": [
        {
          "output_type": "execute_result",
          "data": {
            "text/plain": [
              "array([[104,   0],\n",
              "       [  0,  96]])"
            ]
          },
          "metadata": {},
          "execution_count": 53
        }
      ]
    },
    {
      "cell_type": "code",
      "source": [
        "# y_preds"
      ],
      "metadata": {
        "id": "i6I-xOls96m-"
      },
      "execution_count": 52,
      "outputs": []
    },
    {
      "cell_type": "code",
      "source": [
        "import seaborn as sns\n",
        "sns.set(font_scale=1.4)\n",
        "plt.figure(figsize = (10,8))\n",
        "ax = sns.heatmap(cm, annot=True, cmap='Blues', fmt='g')\n",
        "ax.set(\n",
        "    title = 'Confusion Matrix',\n",
        "    xlabel = 'Predicted Label',\n",
        "    ylabel = 'True Label'\n",
        ")\n",
        "\n",
        "ax.yaxis.label.set_size(20)\n",
        "ax.xaxis.label.set_size(20)\n",
        "ax.title.set_size(20)"
      ],
      "metadata": {
        "colab": {
          "base_uri": "https://localhost:8080/",
          "height": 534
        },
        "id": "SPweovc1-BxM",
        "outputId": "6f397715-771c-49cd-939b-a45260166d88"
      },
      "execution_count": 67,
      "outputs": [
        {
          "output_type": "display_data",
          "data": {
            "text/plain": [
              "<Figure size 720x576 with 2 Axes>"
            ],
            "image/png": "[encoded data removed]"
          },
          "metadata": {}
        }
      ]
    },
    {
      "cell_type": "code",
      "source": [
        ""
      ],
      "metadata": {
        "id": "1Wc4yeWfAdX1"
      },
      "execution_count": null,
      "outputs": []
    }
  ]
}